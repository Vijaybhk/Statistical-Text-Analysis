{
 "cells": [
  {
   "cell_type": "markdown",
   "id": "2963e41d-42b6-46ee-8848-06b964400045",
   "metadata": {},
   "source": [
    "# LAB 6: Text classification with linear models\n",
    "\n",
    "Objectives:\n",
    "- Train and evaluate linear text classifiers using SGDClassifier\n",
    "- Experiment with different feature extraction and training methods\n",
    "- Some things to try:\n",
    "  - [SGDClassifier](https://scikit-learn.org/stable/modules/generated/sklearn.linear_model.SGDClassifier.html#sklearn-linear-model-sgdclassifier)\n",
    "  - [TFIDFVectorizer](https://scikit-learn.org/stable/modules/generated/sklearn.feature_extraction.text.TfidfVectorizer.html#sklearn-feature-extraction-text-tfidfvectorizer)\n",
    "  - [TruncatedSVD](https://scikit-learn.org/stable/modules/generated/sklearn.decomposition.TruncatedSVD.html#sklearn-decomposition-truncatedsvd)"
   ]
  },
  {
   "cell_type": "code",
   "execution_count": 1,
   "id": "9faa346c-b787-489c-bff1-39cafec5491c",
   "metadata": {},
   "outputs": [],
   "source": [
    "import nltk\n",
    "import numpy as np\n",
    "import pandas as pd\n",
    "from cytoolz import *\n",
    "from tqdm.auto import tqdm\n",
    "\n",
    "tqdm.pandas()"
   ]
  },
  {
   "cell_type": "markdown",
   "id": "b9aa064c-59b0-495c-8dcb-465666eb0a7d",
   "metadata": {},
   "source": [
    "## Load and pre-process data"
   ]
  },
  {
   "cell_type": "markdown",
   "id": "e958a1c8-8101-4906-8871-3ec9f26744a2",
   "metadata": {},
   "source": [
    "CCAT : CORPORATE/INDUSTRIAL  \n",
    "ECAT : ECONOMICS  \n",
    "GCAT : GOVERNMENT/SOCIAL  \n",
    "MCAT : MARKETS "
   ]
  },
  {
   "cell_type": "code",
   "execution_count": 2,
   "id": "c5db7754-3b01-4eec-affc-fae42c6fdc4b",
   "metadata": {},
   "outputs": [],
   "source": [
    "train = pd.read_pickle(\"/data/rcv1-topics-train.pkl\")\n",
    "test = pd.read_pickle(\"/data/rcv1-topics-test.pkl\")"
   ]
  },
  {
   "cell_type": "code",
   "execution_count": 3,
   "id": "6cc372b3-8fd4-41f4-8c49-5947e6132fc7",
   "metadata": {},
   "outputs": [
    {
     "data": {
      "text/plain": [
       "CCAT    5896\n",
       "MCAT    3281\n",
       "GCAT    3225\n",
       "ECAT    1073\n",
       "Name: topics, dtype: int64"
      ]
     },
     "execution_count": 3,
     "metadata": {},
     "output_type": "execute_result"
    }
   ],
   "source": [
    "train[\"topics\"].value_counts()"
   ]
  },
  {
   "cell_type": "code",
   "execution_count": 4,
   "id": "4cb91cb8-3633-4a08-841f-c700bbb167e9",
   "metadata": {},
   "outputs": [],
   "source": [
    "import spacy\n",
    "\n",
    "nlp = spacy.load(\n",
    "    \"en_core_web_sm\",\n",
    "    exclude=[\"tagger\", \"parser\", \"ner\", \"lemmatizer\", \"attribute_ruler\"],\n",
    ")\n",
    "\n",
    "\n",
    "def tokenize(text):\n",
    "    doc = nlp.tokenizer(text)\n",
    "    return \" \".join(t.norm_ for t in doc if t.is_alpha)"
   ]
  },
  {
   "cell_type": "code",
   "execution_count": 5,
   "id": "81453292-e89a-459a-a96e-489a981c5120",
   "metadata": {},
   "outputs": [
    {
     "data": {
      "application/vnd.jupyter.widget-view+json": {
       "model_id": "afb6bd1ed6444dcd9baa99ef890ebfac",
       "version_major": 2,
       "version_minor": 0
      },
      "text/plain": [
       "  0%|          | 0/13475 [00:00<?, ?it/s]"
      ]
     },
     "metadata": {},
     "output_type": "display_data"
    },
    {
     "data": {
      "application/vnd.jupyter.widget-view+json": {
       "model_id": "1982dee2e8334b4b9689198d533ae07a",
       "version_major": 2,
       "version_minor": 0
      },
      "text/plain": [
       "  0%|          | 0/3369 [00:00<?, ?it/s]"
      ]
     },
     "metadata": {},
     "output_type": "display_data"
    }
   ],
   "source": [
    "train[\"tokens\"] = train[\"text\"].progress_apply(tokenize)\n",
    "test[\"tokens\"] = test[\"text\"].progress_apply(tokenize)"
   ]
  },
  {
   "cell_type": "code",
   "execution_count": 6,
   "id": "c12c8882-0afc-41a3-b760-56302f9b7099",
   "metadata": {},
   "outputs": [
    {
     "data": {
      "text/html": [
       "<div>\n",
       "<style scoped>\n",
       "    .dataframe tbody tr th:only-of-type {\n",
       "        vertical-align: middle;\n",
       "    }\n",
       "\n",
       "    .dataframe tbody tr th {\n",
       "        vertical-align: top;\n",
       "    }\n",
       "\n",
       "    .dataframe thead th {\n",
       "        text-align: right;\n",
       "    }\n",
       "</style>\n",
       "<table border=\"1\" class=\"dataframe\">\n",
       "  <thead>\n",
       "    <tr style=\"text-align: right;\">\n",
       "      <th></th>\n",
       "      <th>text</th>\n",
       "      <th>topics</th>\n",
       "      <th>tokens</th>\n",
       "    </tr>\n",
       "  </thead>\n",
       "  <tbody>\n",
       "    <tr>\n",
       "      <th>0</th>\n",
       "      <td>NZ bonds close well bid ahead of key U.S. data...</td>\n",
       "      <td>MCAT</td>\n",
       "      <td>nz bonds close well bid ahead of key data at f...</td>\n",
       "    </tr>\n",
       "    <tr>\n",
       "      <th>1</th>\n",
       "      <td>Asia Product Swaps - Jet/gas oil regrade at di...</td>\n",
       "      <td>MCAT</td>\n",
       "      <td>asia product swaps jet gas oil regrade at disc...</td>\n",
       "    </tr>\n",
       "    <tr>\n",
       "      <th>2</th>\n",
       "      <td>U.S. public schools get a C report card in qua...</td>\n",
       "      <td>GCAT</td>\n",
       "      <td>public schools get a c report card in quality ...</td>\n",
       "    </tr>\n",
       "  </tbody>\n",
       "</table>\n",
       "</div>"
      ],
      "text/plain": [
       "                                                text topics  \\\n",
       "0  NZ bonds close well bid ahead of key U.S. data...   MCAT   \n",
       "1  Asia Product Swaps - Jet/gas oil regrade at di...   MCAT   \n",
       "2  U.S. public schools get a C report card in qua...   GCAT   \n",
       "\n",
       "                                              tokens  \n",
       "0  nz bonds close well bid ahead of key data at f...  \n",
       "1  asia product swaps jet gas oil regrade at disc...  \n",
       "2  public schools get a c report card in quality ...  "
      ]
     },
     "execution_count": 6,
     "metadata": {},
     "output_type": "execute_result"
    }
   ],
   "source": [
    "train.head(3)"
   ]
  },
  {
   "cell_type": "markdown",
   "id": "14572349-8079-4005-ad17-190302c7b1c2",
   "metadata": {},
   "source": [
    "-------\n",
    "\n",
    "## MultinomialNB"
   ]
  },
  {
   "cell_type": "code",
   "execution_count": 7,
   "id": "1e175349-0617-4ce8-91db-6b0f98a963ff",
   "metadata": {},
   "outputs": [],
   "source": [
    "from sklearn.feature_extraction.text import CountVectorizer\n",
    "from sklearn.metrics import classification_report\n",
    "from sklearn.naive_bayes import MultinomialNB\n",
    "from sklearn.pipeline import make_pipeline"
   ]
  },
  {
   "cell_type": "code",
   "execution_count": 8,
   "id": "00250a65-cee4-494d-bda2-eccf45744420",
   "metadata": {},
   "outputs": [
    {
     "name": "stdout",
     "output_type": "stream",
     "text": [
      "              precision    recall  f1-score   support\n",
      "\n",
      "        CCAT       0.96      0.94      0.95      1475\n",
      "        ECAT       0.92      0.65      0.76       268\n",
      "        GCAT       0.93      0.98      0.95       806\n",
      "        MCAT       0.90      0.97      0.94       820\n",
      "\n",
      "    accuracy                           0.93      3369\n",
      "   macro avg       0.93      0.88      0.90      3369\n",
      "weighted avg       0.94      0.93      0.93      3369\n",
      "\n"
     ]
    }
   ],
   "source": [
    "mnb = make_pipeline(CountVectorizer(token_pattern=r\"\\S+\"), MultinomialNB())\n",
    "mnb.fit(train[\"tokens\"], train[\"topics\"])\n",
    "predicted = mnb.predict(test[\"tokens\"])\n",
    "print(classification_report(test[\"topics\"], predicted))"
   ]
  },
  {
   "cell_type": "code",
   "execution_count": 9,
   "id": "6116955a-8b10-4f3a-8720-faccad06a8a1",
   "metadata": {},
   "outputs": [],
   "source": [
    "from scipy.stats.distributions import loguniform, randint, uniform\n",
    "from sklearn.model_selection import RandomizedSearchCV"
   ]
  },
  {
   "cell_type": "code",
   "execution_count": 10,
   "id": "8679857e-e355-4dc3-b384-f958a7561c49",
   "metadata": {},
   "outputs": [
    {
     "data": {
      "text/html": [
       "<style>#sk-container-id-1 {color: black;background-color: white;}#sk-container-id-1 pre{padding: 0;}#sk-container-id-1 div.sk-toggleable {background-color: white;}#sk-container-id-1 label.sk-toggleable__label {cursor: pointer;display: block;width: 100%;margin-bottom: 0;padding: 0.3em;box-sizing: border-box;text-align: center;}#sk-container-id-1 label.sk-toggleable__label-arrow:before {content: \"▸\";float: left;margin-right: 0.25em;color: #696969;}#sk-container-id-1 label.sk-toggleable__label-arrow:hover:before {color: black;}#sk-container-id-1 div.sk-estimator:hover label.sk-toggleable__label-arrow:before {color: black;}#sk-container-id-1 div.sk-toggleable__content {max-height: 0;max-width: 0;overflow: hidden;text-align: left;background-color: #f0f8ff;}#sk-container-id-1 div.sk-toggleable__content pre {margin: 0.2em;color: black;border-radius: 0.25em;background-color: #f0f8ff;}#sk-container-id-1 input.sk-toggleable__control:checked~div.sk-toggleable__content {max-height: 200px;max-width: 100%;overflow: auto;}#sk-container-id-1 input.sk-toggleable__control:checked~label.sk-toggleable__label-arrow:before {content: \"▾\";}#sk-container-id-1 div.sk-estimator input.sk-toggleable__control:checked~label.sk-toggleable__label {background-color: #d4ebff;}#sk-container-id-1 div.sk-label input.sk-toggleable__control:checked~label.sk-toggleable__label {background-color: #d4ebff;}#sk-container-id-1 input.sk-hidden--visually {border: 0;clip: rect(1px 1px 1px 1px);clip: rect(1px, 1px, 1px, 1px);height: 1px;margin: -1px;overflow: hidden;padding: 0;position: absolute;width: 1px;}#sk-container-id-1 div.sk-estimator {font-family: monospace;background-color: #f0f8ff;border: 1px dotted black;border-radius: 0.25em;box-sizing: border-box;margin-bottom: 0.5em;}#sk-container-id-1 div.sk-estimator:hover {background-color: #d4ebff;}#sk-container-id-1 div.sk-parallel-item::after {content: \"\";width: 100%;border-bottom: 1px solid gray;flex-grow: 1;}#sk-container-id-1 div.sk-label:hover label.sk-toggleable__label {background-color: #d4ebff;}#sk-container-id-1 div.sk-serial::before {content: \"\";position: absolute;border-left: 1px solid gray;box-sizing: border-box;top: 0;bottom: 0;left: 50%;z-index: 0;}#sk-container-id-1 div.sk-serial {display: flex;flex-direction: column;align-items: center;background-color: white;padding-right: 0.2em;padding-left: 0.2em;position: relative;}#sk-container-id-1 div.sk-item {position: relative;z-index: 1;}#sk-container-id-1 div.sk-parallel {display: flex;align-items: stretch;justify-content: center;background-color: white;position: relative;}#sk-container-id-1 div.sk-item::before, #sk-container-id-1 div.sk-parallel-item::before {content: \"\";position: absolute;border-left: 1px solid gray;box-sizing: border-box;top: 0;bottom: 0;left: 50%;z-index: -1;}#sk-container-id-1 div.sk-parallel-item {display: flex;flex-direction: column;z-index: 1;position: relative;background-color: white;}#sk-container-id-1 div.sk-parallel-item:first-child::after {align-self: flex-end;width: 50%;}#sk-container-id-1 div.sk-parallel-item:last-child::after {align-self: flex-start;width: 50%;}#sk-container-id-1 div.sk-parallel-item:only-child::after {width: 0;}#sk-container-id-1 div.sk-dashed-wrapped {border: 1px dashed gray;margin: 0 0.4em 0.5em 0.4em;box-sizing: border-box;padding-bottom: 0.4em;background-color: white;}#sk-container-id-1 div.sk-label label {font-family: monospace;font-weight: bold;display: inline-block;line-height: 1.2em;}#sk-container-id-1 div.sk-label-container {text-align: center;}#sk-container-id-1 div.sk-container {/* jupyter's `normalize.less` sets `[hidden] { display: none; }` but bootstrap.min.css set `[hidden] { display: none !important; }` so we also need the `!important` here to be able to override the default hidden behavior on the sphinx rendered scikit-learn.org. See: https://github.com/scikit-learn/scikit-learn/issues/21755 */display: inline-block !important;position: relative;}#sk-container-id-1 div.sk-text-repr-fallback {display: none;}</style><div id=\"sk-container-id-1\" class=\"sk-top-container\"><div class=\"sk-text-repr-fallback\"><pre>RandomizedSearchCV(estimator=Pipeline(steps=[(&#x27;countvectorizer&#x27;,\n",
       "                                              CountVectorizer(token_pattern=&#x27;\\\\S+&#x27;)),\n",
       "                                             (&#x27;multinomialnb&#x27;,\n",
       "                                              MultinomialNB())]),\n",
       "                   n_jobs=-1,\n",
       "                   param_distributions={&#x27;countvectorizer__max_df&#x27;: &lt;scipy.stats._distn_infrastructure.rv_continuous_frozen object at 0x2ad63582e380&gt;,\n",
       "                                        &#x27;countvectorizer__min_df&#x27;: &lt;scipy.stats._distn_infrastructure.rv_discrete_frozen object at 0x2ad63582e920&gt;,\n",
       "                                        &#x27;multinomialnb__alpha&#x27;: &lt;scipy.stats._distn_infrastructure.rv_continuous_frozen object at 0x2ad63582fbe0&gt;},\n",
       "                   scoring=&#x27;f1_macro&#x27;)</pre><b>In a Jupyter environment, please rerun this cell to show the HTML representation or trust the notebook. <br />On GitHub, the HTML representation is unable to render, please try loading this page with nbviewer.org.</b></div><div class=\"sk-container\" hidden><div class=\"sk-item sk-dashed-wrapped\"><div class=\"sk-label-container\"><div class=\"sk-label sk-toggleable\"><input class=\"sk-toggleable__control sk-hidden--visually\" id=\"sk-estimator-id-1\" type=\"checkbox\" ><label for=\"sk-estimator-id-1\" class=\"sk-toggleable__label sk-toggleable__label-arrow\">RandomizedSearchCV</label><div class=\"sk-toggleable__content\"><pre>RandomizedSearchCV(estimator=Pipeline(steps=[(&#x27;countvectorizer&#x27;,\n",
       "                                              CountVectorizer(token_pattern=&#x27;\\\\S+&#x27;)),\n",
       "                                             (&#x27;multinomialnb&#x27;,\n",
       "                                              MultinomialNB())]),\n",
       "                   n_jobs=-1,\n",
       "                   param_distributions={&#x27;countvectorizer__max_df&#x27;: &lt;scipy.stats._distn_infrastructure.rv_continuous_frozen object at 0x2ad63582e380&gt;,\n",
       "                                        &#x27;countvectorizer__min_df&#x27;: &lt;scipy.stats._distn_infrastructure.rv_discrete_frozen object at 0x2ad63582e920&gt;,\n",
       "                                        &#x27;multinomialnb__alpha&#x27;: &lt;scipy.stats._distn_infrastructure.rv_continuous_frozen object at 0x2ad63582fbe0&gt;},\n",
       "                   scoring=&#x27;f1_macro&#x27;)</pre></div></div></div><div class=\"sk-parallel\"><div class=\"sk-parallel-item\"><div class=\"sk-item\"><div class=\"sk-label-container\"><div class=\"sk-label sk-toggleable\"><input class=\"sk-toggleable__control sk-hidden--visually\" id=\"sk-estimator-id-2\" type=\"checkbox\" ><label for=\"sk-estimator-id-2\" class=\"sk-toggleable__label sk-toggleable__label-arrow\">estimator: Pipeline</label><div class=\"sk-toggleable__content\"><pre>Pipeline(steps=[(&#x27;countvectorizer&#x27;, CountVectorizer(token_pattern=&#x27;\\\\S+&#x27;)),\n",
       "                (&#x27;multinomialnb&#x27;, MultinomialNB())])</pre></div></div></div><div class=\"sk-serial\"><div class=\"sk-item\"><div class=\"sk-serial\"><div class=\"sk-item\"><div class=\"sk-estimator sk-toggleable\"><input class=\"sk-toggleable__control sk-hidden--visually\" id=\"sk-estimator-id-3\" type=\"checkbox\" ><label for=\"sk-estimator-id-3\" class=\"sk-toggleable__label sk-toggleable__label-arrow\">CountVectorizer</label><div class=\"sk-toggleable__content\"><pre>CountVectorizer(token_pattern=&#x27;\\\\S+&#x27;)</pre></div></div></div><div class=\"sk-item\"><div class=\"sk-estimator sk-toggleable\"><input class=\"sk-toggleable__control sk-hidden--visually\" id=\"sk-estimator-id-4\" type=\"checkbox\" ><label for=\"sk-estimator-id-4\" class=\"sk-toggleable__label sk-toggleable__label-arrow\">MultinomialNB</label><div class=\"sk-toggleable__content\"><pre>MultinomialNB()</pre></div></div></div></div></div></div></div></div></div></div></div></div>"
      ],
      "text/plain": [
       "RandomizedSearchCV(estimator=Pipeline(steps=[('countvectorizer',\n",
       "                                              CountVectorizer(token_pattern='\\\\S+')),\n",
       "                                             ('multinomialnb',\n",
       "                                              MultinomialNB())]),\n",
       "                   n_jobs=-1,\n",
       "                   param_distributions={'countvectorizer__max_df': <scipy.stats._distn_infrastructure.rv_continuous_frozen object at 0x2ad63582e380>,\n",
       "                                        'countvectorizer__min_df': <scipy.stats._distn_infrastructure.rv_discrete_frozen object at 0x2ad63582e920>,\n",
       "                                        'multinomialnb__alpha': <scipy.stats._distn_infrastructure.rv_continuous_frozen object at 0x2ad63582fbe0>},\n",
       "                   scoring='f1_macro')"
      ]
     },
     "execution_count": 10,
     "metadata": {},
     "output_type": "execute_result"
    }
   ],
   "source": [
    "search = RandomizedSearchCV(\n",
    "    mnb,\n",
    "    {\n",
    "        \"countvectorizer__min_df\": randint(1, 10),\n",
    "        \"countvectorizer__max_df\": uniform(0.5, 0.5),\n",
    "        \"multinomialnb__alpha\": loguniform(1e-8, 1.0),\n",
    "    },\n",
    "    n_iter=10,\n",
    "    n_jobs=-1,\n",
    "    scoring=\"f1_macro\",\n",
    ")\n",
    "\n",
    "search.fit(train[\"tokens\"], train[\"topics\"])"
   ]
  },
  {
   "cell_type": "code",
   "execution_count": 11,
   "id": "050df3b7-5881-49ed-b26c-cff536816ab1",
   "metadata": {},
   "outputs": [
    {
     "name": "stdout",
     "output_type": "stream",
     "text": [
      "              precision    recall  f1-score   support\n",
      "\n",
      "        CCAT       0.97      0.95      0.96      1475\n",
      "        ECAT       0.92      0.76      0.83       268\n",
      "        GCAT       0.93      0.98      0.95       806\n",
      "        MCAT       0.92      0.97      0.94       820\n",
      "\n",
      "    accuracy                           0.94      3369\n",
      "   macro avg       0.94      0.91      0.92      3369\n",
      "weighted avg       0.95      0.94      0.94      3369\n",
      "\n"
     ]
    }
   ],
   "source": [
    "mnb.set_params(**search.best_params_)\n",
    "mnb.fit(train[\"tokens\"], train[\"topics\"])\n",
    "predicted = mnb.predict(test[\"tokens\"])\n",
    "print(classification_report(test[\"topics\"], predicted))"
   ]
  },
  {
   "cell_type": "markdown",
   "id": "c414de9b-79f4-469c-a91b-5c179b8046cf",
   "metadata": {},
   "source": [
    "-------\n",
    "\n",
    "## SGDClassifier"
   ]
  },
  {
   "cell_type": "code",
   "execution_count": 12,
   "id": "835a24b3-8150-430e-ab73-1d3e0c82c825",
   "metadata": {},
   "outputs": [],
   "source": [
    "from sklearn.linear_model import SGDClassifier"
   ]
  },
  {
   "cell_type": "code",
   "execution_count": 13,
   "id": "b47b163a-3d37-440f-a266-ca908615623a",
   "metadata": {},
   "outputs": [
    {
     "name": "stdout",
     "output_type": "stream",
     "text": [
      "              precision    recall  f1-score   support\n",
      "\n",
      "        CCAT       0.97      0.96      0.96      1475\n",
      "        ECAT       0.89      0.87      0.88       268\n",
      "        GCAT       0.96      0.98      0.97       806\n",
      "        MCAT       0.96      0.96      0.96       820\n",
      "\n",
      "    accuracy                           0.96      3369\n",
      "   macro avg       0.94      0.94      0.94      3369\n",
      "weighted avg       0.96      0.96      0.96      3369\n",
      "\n"
     ]
    }
   ],
   "source": [
    "sgd = make_pipeline(CountVectorizer(token_pattern=r\"\\S+\"), SGDClassifier())\n",
    "sgd.fit(train[\"tokens\"], train[\"topics\"])\n",
    "sgd_predicted = sgd.predict(test[\"tokens\"])\n",
    "print(classification_report(test[\"topics\"], sgd_predicted))"
   ]
  },
  {
   "cell_type": "markdown",
   "id": "a1263d48-c253-42a7-be43-1bd7526db878",
   "metadata": {},
   "source": [
    "### Hyperparameter search"
   ]
  },
  {
   "cell_type": "code",
   "execution_count": 14,
   "id": "6211006f-1541-4bc8-bd9b-106519d37070",
   "metadata": {},
   "outputs": [
    {
     "data": {
      "text/html": [
       "<style>#sk-container-id-2 {color: black;background-color: white;}#sk-container-id-2 pre{padding: 0;}#sk-container-id-2 div.sk-toggleable {background-color: white;}#sk-container-id-2 label.sk-toggleable__label {cursor: pointer;display: block;width: 100%;margin-bottom: 0;padding: 0.3em;box-sizing: border-box;text-align: center;}#sk-container-id-2 label.sk-toggleable__label-arrow:before {content: \"▸\";float: left;margin-right: 0.25em;color: #696969;}#sk-container-id-2 label.sk-toggleable__label-arrow:hover:before {color: black;}#sk-container-id-2 div.sk-estimator:hover label.sk-toggleable__label-arrow:before {color: black;}#sk-container-id-2 div.sk-toggleable__content {max-height: 0;max-width: 0;overflow: hidden;text-align: left;background-color: #f0f8ff;}#sk-container-id-2 div.sk-toggleable__content pre {margin: 0.2em;color: black;border-radius: 0.25em;background-color: #f0f8ff;}#sk-container-id-2 input.sk-toggleable__control:checked~div.sk-toggleable__content {max-height: 200px;max-width: 100%;overflow: auto;}#sk-container-id-2 input.sk-toggleable__control:checked~label.sk-toggleable__label-arrow:before {content: \"▾\";}#sk-container-id-2 div.sk-estimator input.sk-toggleable__control:checked~label.sk-toggleable__label {background-color: #d4ebff;}#sk-container-id-2 div.sk-label input.sk-toggleable__control:checked~label.sk-toggleable__label {background-color: #d4ebff;}#sk-container-id-2 input.sk-hidden--visually {border: 0;clip: rect(1px 1px 1px 1px);clip: rect(1px, 1px, 1px, 1px);height: 1px;margin: -1px;overflow: hidden;padding: 0;position: absolute;width: 1px;}#sk-container-id-2 div.sk-estimator {font-family: monospace;background-color: #f0f8ff;border: 1px dotted black;border-radius: 0.25em;box-sizing: border-box;margin-bottom: 0.5em;}#sk-container-id-2 div.sk-estimator:hover {background-color: #d4ebff;}#sk-container-id-2 div.sk-parallel-item::after {content: \"\";width: 100%;border-bottom: 1px solid gray;flex-grow: 1;}#sk-container-id-2 div.sk-label:hover label.sk-toggleable__label {background-color: #d4ebff;}#sk-container-id-2 div.sk-serial::before {content: \"\";position: absolute;border-left: 1px solid gray;box-sizing: border-box;top: 0;bottom: 0;left: 50%;z-index: 0;}#sk-container-id-2 div.sk-serial {display: flex;flex-direction: column;align-items: center;background-color: white;padding-right: 0.2em;padding-left: 0.2em;position: relative;}#sk-container-id-2 div.sk-item {position: relative;z-index: 1;}#sk-container-id-2 div.sk-parallel {display: flex;align-items: stretch;justify-content: center;background-color: white;position: relative;}#sk-container-id-2 div.sk-item::before, #sk-container-id-2 div.sk-parallel-item::before {content: \"\";position: absolute;border-left: 1px solid gray;box-sizing: border-box;top: 0;bottom: 0;left: 50%;z-index: -1;}#sk-container-id-2 div.sk-parallel-item {display: flex;flex-direction: column;z-index: 1;position: relative;background-color: white;}#sk-container-id-2 div.sk-parallel-item:first-child::after {align-self: flex-end;width: 50%;}#sk-container-id-2 div.sk-parallel-item:last-child::after {align-self: flex-start;width: 50%;}#sk-container-id-2 div.sk-parallel-item:only-child::after {width: 0;}#sk-container-id-2 div.sk-dashed-wrapped {border: 1px dashed gray;margin: 0 0.4em 0.5em 0.4em;box-sizing: border-box;padding-bottom: 0.4em;background-color: white;}#sk-container-id-2 div.sk-label label {font-family: monospace;font-weight: bold;display: inline-block;line-height: 1.2em;}#sk-container-id-2 div.sk-label-container {text-align: center;}#sk-container-id-2 div.sk-container {/* jupyter's `normalize.less` sets `[hidden] { display: none; }` but bootstrap.min.css set `[hidden] { display: none !important; }` so we also need the `!important` here to be able to override the default hidden behavior on the sphinx rendered scikit-learn.org. See: https://github.com/scikit-learn/scikit-learn/issues/21755 */display: inline-block !important;position: relative;}#sk-container-id-2 div.sk-text-repr-fallback {display: none;}</style><div id=\"sk-container-id-2\" class=\"sk-top-container\"><div class=\"sk-text-repr-fallback\"><pre>RandomizedSearchCV(estimator=Pipeline(steps=[(&#x27;countvectorizer&#x27;,\n",
       "                                              CountVectorizer(token_pattern=&#x27;\\\\S+&#x27;)),\n",
       "                                             (&#x27;sgdclassifier&#x27;,\n",
       "                                              SGDClassifier())]),\n",
       "                   n_iter=5, n_jobs=-1,\n",
       "                   param_distributions={&#x27;sgdclassifier__alpha&#x27;: &lt;scipy.stats._distn_infrastructure.rv_continuous_frozen object at 0x2ad635fdb5e0&gt;},\n",
       "                   scoring=&#x27;f1_macro&#x27;)</pre><b>In a Jupyter environment, please rerun this cell to show the HTML representation or trust the notebook. <br />On GitHub, the HTML representation is unable to render, please try loading this page with nbviewer.org.</b></div><div class=\"sk-container\" hidden><div class=\"sk-item sk-dashed-wrapped\"><div class=\"sk-label-container\"><div class=\"sk-label sk-toggleable\"><input class=\"sk-toggleable__control sk-hidden--visually\" id=\"sk-estimator-id-5\" type=\"checkbox\" ><label for=\"sk-estimator-id-5\" class=\"sk-toggleable__label sk-toggleable__label-arrow\">RandomizedSearchCV</label><div class=\"sk-toggleable__content\"><pre>RandomizedSearchCV(estimator=Pipeline(steps=[(&#x27;countvectorizer&#x27;,\n",
       "                                              CountVectorizer(token_pattern=&#x27;\\\\S+&#x27;)),\n",
       "                                             (&#x27;sgdclassifier&#x27;,\n",
       "                                              SGDClassifier())]),\n",
       "                   n_iter=5, n_jobs=-1,\n",
       "                   param_distributions={&#x27;sgdclassifier__alpha&#x27;: &lt;scipy.stats._distn_infrastructure.rv_continuous_frozen object at 0x2ad635fdb5e0&gt;},\n",
       "                   scoring=&#x27;f1_macro&#x27;)</pre></div></div></div><div class=\"sk-parallel\"><div class=\"sk-parallel-item\"><div class=\"sk-item\"><div class=\"sk-label-container\"><div class=\"sk-label sk-toggleable\"><input class=\"sk-toggleable__control sk-hidden--visually\" id=\"sk-estimator-id-6\" type=\"checkbox\" ><label for=\"sk-estimator-id-6\" class=\"sk-toggleable__label sk-toggleable__label-arrow\">estimator: Pipeline</label><div class=\"sk-toggleable__content\"><pre>Pipeline(steps=[(&#x27;countvectorizer&#x27;, CountVectorizer(token_pattern=&#x27;\\\\S+&#x27;)),\n",
       "                (&#x27;sgdclassifier&#x27;, SGDClassifier())])</pre></div></div></div><div class=\"sk-serial\"><div class=\"sk-item\"><div class=\"sk-serial\"><div class=\"sk-item\"><div class=\"sk-estimator sk-toggleable\"><input class=\"sk-toggleable__control sk-hidden--visually\" id=\"sk-estimator-id-7\" type=\"checkbox\" ><label for=\"sk-estimator-id-7\" class=\"sk-toggleable__label sk-toggleable__label-arrow\">CountVectorizer</label><div class=\"sk-toggleable__content\"><pre>CountVectorizer(token_pattern=&#x27;\\\\S+&#x27;)</pre></div></div></div><div class=\"sk-item\"><div class=\"sk-estimator sk-toggleable\"><input class=\"sk-toggleable__control sk-hidden--visually\" id=\"sk-estimator-id-8\" type=\"checkbox\" ><label for=\"sk-estimator-id-8\" class=\"sk-toggleable__label sk-toggleable__label-arrow\">SGDClassifier</label><div class=\"sk-toggleable__content\"><pre>SGDClassifier()</pre></div></div></div></div></div></div></div></div></div></div></div></div>"
      ],
      "text/plain": [
       "RandomizedSearchCV(estimator=Pipeline(steps=[('countvectorizer',\n",
       "                                              CountVectorizer(token_pattern='\\\\S+')),\n",
       "                                             ('sgdclassifier',\n",
       "                                              SGDClassifier())]),\n",
       "                   n_iter=5, n_jobs=-1,\n",
       "                   param_distributions={'sgdclassifier__alpha': <scipy.stats._distn_infrastructure.rv_continuous_frozen object at 0x2ad635fdb5e0>},\n",
       "                   scoring='f1_macro')"
      ]
     },
     "execution_count": 14,
     "metadata": {},
     "output_type": "execute_result"
    }
   ],
   "source": [
    "sgd_search = RandomizedSearchCV(\n",
    "    sgd,\n",
    "    {\n",
    "        \"sgdclassifier__alpha\": loguniform(1e-8, 1.0),\n",
    "    },\n",
    "    n_iter=5,\n",
    "    n_jobs=-1,\n",
    "    scoring=\"f1_macro\",\n",
    ")\n",
    "\n",
    "sgd_search.fit(train[\"tokens\"], train[\"topics\"])"
   ]
  },
  {
   "cell_type": "code",
   "execution_count": 15,
   "id": "df29db7e-157b-4e5f-9e91-76202ed2a5e8",
   "metadata": {},
   "outputs": [
    {
     "data": {
      "text/plain": [
       "<Axes: xlabel='param_sgdclassifier__alpha', ylabel='mean_test_score'>"
      ]
     },
     "execution_count": 15,
     "metadata": {},
     "output_type": "execute_result"
    },
    {
     "data": {
      "image/png": "[encoded data removed]",
      "text/plain": [
       "<Figure size 640x480 with 1 Axes>"
      ]
     },
     "metadata": {},
     "output_type": "display_data"
    }
   ],
   "source": [
    "sgd_cv_results = pd.DataFrame(sgd_search.cv_results_)\n",
    "sgd_cv_results.plot(\n",
    "    \"param_sgdclassifier__alpha\", \"mean_test_score\", kind=\"scatter\", logx=True\n",
    ")"
   ]
  },
  {
   "cell_type": "code",
   "execution_count": 16,
   "id": "2e6b0a01-ca37-4916-84b1-c4926843fb8c",
   "metadata": {},
   "outputs": [
    {
     "data": {
      "text/html": [
       "<div>\n",
       "<style scoped>\n",
       "    .dataframe tbody tr th:only-of-type {\n",
       "        vertical-align: middle;\n",
       "    }\n",
       "\n",
       "    .dataframe tbody tr th {\n",
       "        vertical-align: top;\n",
       "    }\n",
       "\n",
       "    .dataframe thead th {\n",
       "        text-align: right;\n",
       "    }\n",
       "</style>\n",
       "<table border=\"1\" class=\"dataframe\">\n",
       "  <thead>\n",
       "    <tr style=\"text-align: right;\">\n",
       "      <th></th>\n",
       "      <th>mean_fit_time</th>\n",
       "      <th>std_fit_time</th>\n",
       "      <th>mean_score_time</th>\n",
       "      <th>std_score_time</th>\n",
       "      <th>param_sgdclassifier__alpha</th>\n",
       "      <th>params</th>\n",
       "      <th>split0_test_score</th>\n",
       "      <th>split1_test_score</th>\n",
       "      <th>split2_test_score</th>\n",
       "      <th>split3_test_score</th>\n",
       "      <th>split4_test_score</th>\n",
       "      <th>mean_test_score</th>\n",
       "      <th>std_test_score</th>\n",
       "      <th>rank_test_score</th>\n",
       "    </tr>\n",
       "  </thead>\n",
       "  <tbody>\n",
       "    <tr>\n",
       "      <th>0</th>\n",
       "      <td>1.776829</td>\n",
       "      <td>0.096030</td>\n",
       "      <td>0.340609</td>\n",
       "      <td>0.038272</td>\n",
       "      <td>0.001811</td>\n",
       "      <td>{'sgdclassifier__alpha': 0.0018110612221404086}</td>\n",
       "      <td>0.951402</td>\n",
       "      <td>0.938436</td>\n",
       "      <td>0.946690</td>\n",
       "      <td>0.938701</td>\n",
       "      <td>0.943965</td>\n",
       "      <td>0.943839</td>\n",
       "      <td>0.004918</td>\n",
       "      <td>3</td>\n",
       "    </tr>\n",
       "    <tr>\n",
       "      <th>1</th>\n",
       "      <td>1.781960</td>\n",
       "      <td>0.100691</td>\n",
       "      <td>0.334847</td>\n",
       "      <td>0.041969</td>\n",
       "      <td>0.001079</td>\n",
       "      <td>{'sgdclassifier__alpha': 0.0010791525200861223}</td>\n",
       "      <td>0.942022</td>\n",
       "      <td>0.943798</td>\n",
       "      <td>0.952131</td>\n",
       "      <td>0.946225</td>\n",
       "      <td>0.943750</td>\n",
       "      <td>0.945585</td>\n",
       "      <td>0.003536</td>\n",
       "      <td>1</td>\n",
       "    </tr>\n",
       "    <tr>\n",
       "      <th>2</th>\n",
       "      <td>1.936861</td>\n",
       "      <td>0.118145</td>\n",
       "      <td>0.302273</td>\n",
       "      <td>0.013669</td>\n",
       "      <td>0.0</td>\n",
       "      <td>{'sgdclassifier__alpha': 1.4382422568097675e-08}</td>\n",
       "      <td>0.936052</td>\n",
       "      <td>0.941539</td>\n",
       "      <td>0.943627</td>\n",
       "      <td>0.939595</td>\n",
       "      <td>0.930373</td>\n",
       "      <td>0.938237</td>\n",
       "      <td>0.004657</td>\n",
       "      <td>5</td>\n",
       "    </tr>\n",
       "    <tr>\n",
       "      <th>3</th>\n",
       "      <td>1.776818</td>\n",
       "      <td>0.147050</td>\n",
       "      <td>0.338610</td>\n",
       "      <td>0.077028</td>\n",
       "      <td>0.016642</td>\n",
       "      <td>{'sgdclassifier__alpha': 0.01664158534672483}</td>\n",
       "      <td>0.942684</td>\n",
       "      <td>0.946738</td>\n",
       "      <td>0.948408</td>\n",
       "      <td>0.946146</td>\n",
       "      <td>0.936713</td>\n",
       "      <td>0.944138</td>\n",
       "      <td>0.004154</td>\n",
       "      <td>2</td>\n",
       "    </tr>\n",
       "    <tr>\n",
       "      <th>4</th>\n",
       "      <td>1.874076</td>\n",
       "      <td>0.162121</td>\n",
       "      <td>0.288143</td>\n",
       "      <td>0.021402</td>\n",
       "      <td>0.000001</td>\n",
       "      <td>{'sgdclassifier__alpha': 1.357367011512013e-06}</td>\n",
       "      <td>0.938075</td>\n",
       "      <td>0.941033</td>\n",
       "      <td>0.943686</td>\n",
       "      <td>0.939627</td>\n",
       "      <td>0.936225</td>\n",
       "      <td>0.939729</td>\n",
       "      <td>0.002545</td>\n",
       "      <td>4</td>\n",
       "    </tr>\n",
       "  </tbody>\n",
       "</table>\n",
       "</div>"
      ],
      "text/plain": [
       "   mean_fit_time  std_fit_time  mean_score_time  std_score_time  \\\n",
       "0       1.776829      0.096030         0.340609        0.038272   \n",
       "1       1.781960      0.100691         0.334847        0.041969   \n",
       "2       1.936861      0.118145         0.302273        0.013669   \n",
       "3       1.776818      0.147050         0.338610        0.077028   \n",
       "4       1.874076      0.162121         0.288143        0.021402   \n",
       "\n",
       "  param_sgdclassifier__alpha  \\\n",
       "0                   0.001811   \n",
       "1                   0.001079   \n",
       "2                        0.0   \n",
       "3                   0.016642   \n",
       "4                   0.000001   \n",
       "\n",
       "                                             params  split0_test_score  \\\n",
       "0   {'sgdclassifier__alpha': 0.0018110612221404086}           0.951402   \n",
       "1   {'sgdclassifier__alpha': 0.0010791525200861223}           0.942022   \n",
       "2  {'sgdclassifier__alpha': 1.4382422568097675e-08}           0.936052   \n",
       "3     {'sgdclassifier__alpha': 0.01664158534672483}           0.942684   \n",
       "4   {'sgdclassifier__alpha': 1.357367011512013e-06}           0.938075   \n",
       "\n",
       "   split1_test_score  split2_test_score  split3_test_score  split4_test_score  \\\n",
       "0           0.938436           0.946690           0.938701           0.943965   \n",
       "1           0.943798           0.952131           0.946225           0.943750   \n",
       "2           0.941539           0.943627           0.939595           0.930373   \n",
       "3           0.946738           0.948408           0.946146           0.936713   \n",
       "4           0.941033           0.943686           0.939627           0.936225   \n",
       "\n",
       "   mean_test_score  std_test_score  rank_test_score  \n",
       "0         0.943839        0.004918                3  \n",
       "1         0.945585        0.003536                1  \n",
       "2         0.938237        0.004657                5  \n",
       "3         0.944138        0.004154                2  \n",
       "4         0.939729        0.002545                4  "
      ]
     },
     "execution_count": 16,
     "metadata": {},
     "output_type": "execute_result"
    }
   ],
   "source": [
    "sgd_cv_results"
   ]
  },
  {
   "cell_type": "code",
   "execution_count": 17,
   "id": "57a81df2-b6f1-4a77-9de6-2c6c76ea25bf",
   "metadata": {},
   "outputs": [
    {
     "data": {
      "text/html": [
       "<style>#sk-container-id-3 {color: black;background-color: white;}#sk-container-id-3 pre{padding: 0;}#sk-container-id-3 div.sk-toggleable {background-color: white;}#sk-container-id-3 label.sk-toggleable__label {cursor: pointer;display: block;width: 100%;margin-bottom: 0;padding: 0.3em;box-sizing: border-box;text-align: center;}#sk-container-id-3 label.sk-toggleable__label-arrow:before {content: \"▸\";float: left;margin-right: 0.25em;color: #696969;}#sk-container-id-3 label.sk-toggleable__label-arrow:hover:before {color: black;}#sk-container-id-3 div.sk-estimator:hover label.sk-toggleable__label-arrow:before {color: black;}#sk-container-id-3 div.sk-toggleable__content {max-height: 0;max-width: 0;overflow: hidden;text-align: left;background-color: #f0f8ff;}#sk-container-id-3 div.sk-toggleable__content pre {margin: 0.2em;color: black;border-radius: 0.25em;background-color: #f0f8ff;}#sk-container-id-3 input.sk-toggleable__control:checked~div.sk-toggleable__content {max-height: 200px;max-width: 100%;overflow: auto;}#sk-container-id-3 input.sk-toggleable__control:checked~label.sk-toggleable__label-arrow:before {content: \"▾\";}#sk-container-id-3 div.sk-estimator input.sk-toggleable__control:checked~label.sk-toggleable__label {background-color: #d4ebff;}#sk-container-id-3 div.sk-label input.sk-toggleable__control:checked~label.sk-toggleable__label {background-color: #d4ebff;}#sk-container-id-3 input.sk-hidden--visually {border: 0;clip: rect(1px 1px 1px 1px);clip: rect(1px, 1px, 1px, 1px);height: 1px;margin: -1px;overflow: hidden;padding: 0;position: absolute;width: 1px;}#sk-container-id-3 div.sk-estimator {font-family: monospace;background-color: #f0f8ff;border: 1px dotted black;border-radius: 0.25em;box-sizing: border-box;margin-bottom: 0.5em;}#sk-container-id-3 div.sk-estimator:hover {background-color: #d4ebff;}#sk-container-id-3 div.sk-parallel-item::after {content: \"\";width: 100%;border-bottom: 1px solid gray;flex-grow: 1;}#sk-container-id-3 div.sk-label:hover label.sk-toggleable__label {background-color: #d4ebff;}#sk-container-id-3 div.sk-serial::before {content: \"\";position: absolute;border-left: 1px solid gray;box-sizing: border-box;top: 0;bottom: 0;left: 50%;z-index: 0;}#sk-container-id-3 div.sk-serial {display: flex;flex-direction: column;align-items: center;background-color: white;padding-right: 0.2em;padding-left: 0.2em;position: relative;}#sk-container-id-3 div.sk-item {position: relative;z-index: 1;}#sk-container-id-3 div.sk-parallel {display: flex;align-items: stretch;justify-content: center;background-color: white;position: relative;}#sk-container-id-3 div.sk-item::before, #sk-container-id-3 div.sk-parallel-item::before {content: \"\";position: absolute;border-left: 1px solid gray;box-sizing: border-box;top: 0;bottom: 0;left: 50%;z-index: -1;}#sk-container-id-3 div.sk-parallel-item {display: flex;flex-direction: column;z-index: 1;position: relative;background-color: white;}#sk-container-id-3 div.sk-parallel-item:first-child::after {align-self: flex-end;width: 50%;}#sk-container-id-3 div.sk-parallel-item:last-child::after {align-self: flex-start;width: 50%;}#sk-container-id-3 div.sk-parallel-item:only-child::after {width: 0;}#sk-container-id-3 div.sk-dashed-wrapped {border: 1px dashed gray;margin: 0 0.4em 0.5em 0.4em;box-sizing: border-box;padding-bottom: 0.4em;background-color: white;}#sk-container-id-3 div.sk-label label {font-family: monospace;font-weight: bold;display: inline-block;line-height: 1.2em;}#sk-container-id-3 div.sk-label-container {text-align: center;}#sk-container-id-3 div.sk-container {/* jupyter's `normalize.less` sets `[hidden] { display: none; }` but bootstrap.min.css set `[hidden] { display: none !important; }` so we also need the `!important` here to be able to override the default hidden behavior on the sphinx rendered scikit-learn.org. See: https://github.com/scikit-learn/scikit-learn/issues/21755 */display: inline-block !important;position: relative;}#sk-container-id-3 div.sk-text-repr-fallback {display: none;}</style><div id=\"sk-container-id-3\" class=\"sk-top-container\"><div class=\"sk-text-repr-fallback\"><pre>RandomizedSearchCV(estimator=Pipeline(steps=[(&#x27;countvectorizer&#x27;,\n",
       "                                              CountVectorizer(token_pattern=&#x27;\\\\S+&#x27;)),\n",
       "                                             (&#x27;sgdclassifier&#x27;,\n",
       "                                              SGDClassifier())]),\n",
       "                   n_iter=5, n_jobs=-1,\n",
       "                   param_distributions={&#x27;countvectorizer__ngram_range&#x27;: [(1,\n",
       "                                                                          2)],\n",
       "                                        &#x27;sgdclassifier__alpha&#x27;: &lt;scipy.stats._distn_infrastructure.rv_continuous_frozen object at 0x2ad6486f6050&gt;},\n",
       "                   scoring=&#x27;f1_macro&#x27;)</pre><b>In a Jupyter environment, please rerun this cell to show the HTML representation or trust the notebook. <br />On GitHub, the HTML representation is unable to render, please try loading this page with nbviewer.org.</b></div><div class=\"sk-container\" hidden><div class=\"sk-item sk-dashed-wrapped\"><div class=\"sk-label-container\"><div class=\"sk-label sk-toggleable\"><input class=\"sk-toggleable__control sk-hidden--visually\" id=\"sk-estimator-id-9\" type=\"checkbox\" ><label for=\"sk-estimator-id-9\" class=\"sk-toggleable__label sk-toggleable__label-arrow\">RandomizedSearchCV</label><div class=\"sk-toggleable__content\"><pre>RandomizedSearchCV(estimator=Pipeline(steps=[(&#x27;countvectorizer&#x27;,\n",
       "                                              CountVectorizer(token_pattern=&#x27;\\\\S+&#x27;)),\n",
       "                                             (&#x27;sgdclassifier&#x27;,\n",
       "                                              SGDClassifier())]),\n",
       "                   n_iter=5, n_jobs=-1,\n",
       "                   param_distributions={&#x27;countvectorizer__ngram_range&#x27;: [(1,\n",
       "                                                                          2)],\n",
       "                                        &#x27;sgdclassifier__alpha&#x27;: &lt;scipy.stats._distn_infrastructure.rv_continuous_frozen object at 0x2ad6486f6050&gt;},\n",
       "                   scoring=&#x27;f1_macro&#x27;)</pre></div></div></div><div class=\"sk-parallel\"><div class=\"sk-parallel-item\"><div class=\"sk-item\"><div class=\"sk-label-container\"><div class=\"sk-label sk-toggleable\"><input class=\"sk-toggleable__control sk-hidden--visually\" id=\"sk-estimator-id-10\" type=\"checkbox\" ><label for=\"sk-estimator-id-10\" class=\"sk-toggleable__label sk-toggleable__label-arrow\">estimator: Pipeline</label><div class=\"sk-toggleable__content\"><pre>Pipeline(steps=[(&#x27;countvectorizer&#x27;, CountVectorizer(token_pattern=&#x27;\\\\S+&#x27;)),\n",
       "                (&#x27;sgdclassifier&#x27;, SGDClassifier())])</pre></div></div></div><div class=\"sk-serial\"><div class=\"sk-item\"><div class=\"sk-serial\"><div class=\"sk-item\"><div class=\"sk-estimator sk-toggleable\"><input class=\"sk-toggleable__control sk-hidden--visually\" id=\"sk-estimator-id-11\" type=\"checkbox\" ><label for=\"sk-estimator-id-11\" class=\"sk-toggleable__label sk-toggleable__label-arrow\">CountVectorizer</label><div class=\"sk-toggleable__content\"><pre>CountVectorizer(token_pattern=&#x27;\\\\S+&#x27;)</pre></div></div></div><div class=\"sk-item\"><div class=\"sk-estimator sk-toggleable\"><input class=\"sk-toggleable__control sk-hidden--visually\" id=\"sk-estimator-id-12\" type=\"checkbox\" ><label for=\"sk-estimator-id-12\" class=\"sk-toggleable__label sk-toggleable__label-arrow\">SGDClassifier</label><div class=\"sk-toggleable__content\"><pre>SGDClassifier()</pre></div></div></div></div></div></div></div></div></div></div></div></div>"
      ],
      "text/plain": [
       "RandomizedSearchCV(estimator=Pipeline(steps=[('countvectorizer',\n",
       "                                              CountVectorizer(token_pattern='\\\\S+')),\n",
       "                                             ('sgdclassifier',\n",
       "                                              SGDClassifier())]),\n",
       "                   n_iter=5, n_jobs=-1,\n",
       "                   param_distributions={'countvectorizer__ngram_range': [(1,\n",
       "                                                                          2)],\n",
       "                                        'sgdclassifier__alpha': <scipy.stats._distn_infrastructure.rv_continuous_frozen object at 0x2ad6486f6050>},\n",
       "                   scoring='f1_macro')"
      ]
     },
     "execution_count": 17,
     "metadata": {},
     "output_type": "execute_result"
    }
   ],
   "source": [
    "sgd_rsearch = RandomizedSearchCV(\n",
    "    sgd,\n",
    "    {\n",
    "        \"countvectorizer__ngram_range\": [(1, 2)],\n",
    "        \"sgdclassifier__alpha\": loguniform(1e-8, 1.0),\n",
    "    },\n",
    "    n_iter=5,\n",
    "    n_jobs=-1,\n",
    "    scoring=\"f1_macro\",\n",
    ")\n",
    "\n",
    "sgd_rsearch.fit(train[\"tokens\"], train[\"topics\"])"
   ]
  },
  {
   "cell_type": "code",
   "execution_count": 18,
   "id": "c6a21982-96ff-4c03-8cbe-f1c238d29cda",
   "metadata": {},
   "outputs": [
    {
     "data": {
      "text/plain": [
       "({'countvectorizer__ngram_range': (1, 2),\n",
       "  'sgdclassifier__alpha': 0.010780254556756371},\n",
       " 0.9493310122820724)"
      ]
     },
     "execution_count": 18,
     "metadata": {},
     "output_type": "execute_result"
    }
   ],
   "source": [
    "sgd_rsearch.best_params_, sgd_rsearch.best_score_"
   ]
  },
  {
   "cell_type": "code",
   "execution_count": 19,
   "id": "a6a5e77a-2a9e-45f2-a4be-4771113498ce",
   "metadata": {},
   "outputs": [
    {
     "data": {
      "text/plain": [
       "<Axes: xlabel='param_sgdclassifier__alpha', ylabel='mean_test_score'>"
      ]
     },
     "execution_count": 19,
     "metadata": {},
     "output_type": "execute_result"
    },
    {
     "data": {
      "image/png": "[encoded data removed]",
      "text/plain": [
       "<Figure size 640x480 with 1 Axes>"
      ]
     },
     "metadata": {},
     "output_type": "display_data"
    }
   ],
   "source": [
    "sgd_rcv_results = pd.DataFrame(sgd_rsearch.cv_results_)\n",
    "sgd_rcv_results.plot(\n",
    "    \"param_sgdclassifier__alpha\", \"mean_test_score\", kind=\"scatter\", logx=True\n",
    ")"
   ]
  },
  {
   "cell_type": "markdown",
   "id": "9268a98d-ab37-46bc-87f5-98505b8db7c4",
   "metadata": {},
   "source": [
    "### Optimized model"
   ]
  },
  {
   "cell_type": "code",
   "execution_count": 20,
   "id": "92486ceb-7fda-4eaf-800a-dce466c0d94d",
   "metadata": {},
   "outputs": [
    {
     "name": "stdout",
     "output_type": "stream",
     "text": [
      "              precision    recall  f1-score   support\n",
      "\n",
      "        CCAT       0.97      0.97      0.97      1475\n",
      "        ECAT       0.93      0.85      0.89       268\n",
      "        GCAT       0.96      0.98      0.97       806\n",
      "        MCAT       0.96      0.97      0.96       820\n",
      "\n",
      "    accuracy                           0.96      3369\n",
      "   macro avg       0.96      0.94      0.95      3369\n",
      "weighted avg       0.96      0.96      0.96      3369\n",
      "\n"
     ]
    }
   ],
   "source": [
    "sgd.set_params(countvectorizer__ngram_range=(1, 2), sgdclassifier__alpha=(1e-2))\n",
    "sgd.fit(train[\"tokens\"], train[\"topics\"])\n",
    "sgd_rpredicted = sgd.predict(test[\"tokens\"])\n",
    "print(classification_report(test[\"topics\"], sgd_rpredicted))"
   ]
  },
  {
   "cell_type": "markdown",
   "id": "d5d9755b-8274-4d83-b6b3-315940bcbeea",
   "metadata": {},
   "source": [
    "## SGD Classifier using Tfidf Vectorizer and Truncated SVD"
   ]
  },
  {
   "cell_type": "code",
   "execution_count": 21,
   "id": "fdde5f1a-8526-4f30-803c-a8848159020a",
   "metadata": {},
   "outputs": [],
   "source": [
    "from sklearn.decomposition import TruncatedSVD\n",
    "from sklearn.feature_extraction.text import TfidfVectorizer"
   ]
  },
  {
   "cell_type": "markdown",
   "id": "1ede4474-b96e-4976-a493-cc821d7e9eb2",
   "metadata": {},
   "source": [
    "**Tfidf Vecorizer:** Similar to Count Vectorizer followed by Tfidf Transformer.\n",
    "defaults are norm l2 and use_idf True"
   ]
  },
  {
   "cell_type": "code",
   "execution_count": 22,
   "id": "faee9bd1-cdc4-4ceb-b097-1a5fde990f9c",
   "metadata": {},
   "outputs": [],
   "source": [
    "sgd_tfidf_vector = make_pipeline(\n",
    "    TfidfVectorizer(token_pattern=r\"\\S+\"),\n",
    "    TruncatedSVD(300, n_iter=25),\n",
    "    SGDClassifier()\n",
    ")"
   ]
  },
  {
   "cell_type": "code",
   "execution_count": 23,
   "id": "5410fc6d-886e-46b8-a41f-61df2ca9d1ad",
   "metadata": {},
   "outputs": [
    {
     "name": "stdout",
     "output_type": "stream",
     "text": [
      "              precision    recall  f1-score   support\n",
      "\n",
      "        CCAT       0.96      0.96      0.96      1475\n",
      "        ECAT       0.93      0.78      0.85       268\n",
      "        GCAT       0.94      0.98      0.96       806\n",
      "        MCAT       0.95      0.95      0.95       820\n",
      "\n",
      "    accuracy                           0.95      3369\n",
      "   macro avg       0.94      0.92      0.93      3369\n",
      "weighted avg       0.95      0.95      0.95      3369\n",
      "\n"
     ]
    }
   ],
   "source": [
    "sgd_tfidf_vector.fit(train[\"tokens\"], train[\"topics\"])\n",
    "sgd_tfidf_predicted = sgd_tfidf_vector.predict(test[\"tokens\"])\n",
    "print(classification_report(test[\"topics\"], sgd_tfidf_predicted))"
   ]
  },
  {
   "cell_type": "markdown",
   "id": "e775c073-eef9-457b-b994-64f7ffe10935",
   "metadata": {},
   "source": [
    "**Hyper Parameter Search**"
   ]
  },
  {
   "cell_type": "code",
   "execution_count": 24,
   "id": "5398dfd0-363e-4232-9ad7-08973ad93e0b",
   "metadata": {},
   "outputs": [
    {
     "data": {
      "text/html": [
       "<style>#sk-container-id-4 {color: black;background-color: white;}#sk-container-id-4 pre{padding: 0;}#sk-container-id-4 div.sk-toggleable {background-color: white;}#sk-container-id-4 label.sk-toggleable__label {cursor: pointer;display: block;width: 100%;margin-bottom: 0;padding: 0.3em;box-sizing: border-box;text-align: center;}#sk-container-id-4 label.sk-toggleable__label-arrow:before {content: \"▸\";float: left;margin-right: 0.25em;color: #696969;}#sk-container-id-4 label.sk-toggleable__label-arrow:hover:before {color: black;}#sk-container-id-4 div.sk-estimator:hover label.sk-toggleable__label-arrow:before {color: black;}#sk-container-id-4 div.sk-toggleable__content {max-height: 0;max-width: 0;overflow: hidden;text-align: left;background-color: #f0f8ff;}#sk-container-id-4 div.sk-toggleable__content pre {margin: 0.2em;color: black;border-radius: 0.25em;background-color: #f0f8ff;}#sk-container-id-4 input.sk-toggleable__control:checked~div.sk-toggleable__content {max-height: 200px;max-width: 100%;overflow: auto;}#sk-container-id-4 input.sk-toggleable__control:checked~label.sk-toggleable__label-arrow:before {content: \"▾\";}#sk-container-id-4 div.sk-estimator input.sk-toggleable__control:checked~label.sk-toggleable__label {background-color: #d4ebff;}#sk-container-id-4 div.sk-label input.sk-toggleable__control:checked~label.sk-toggleable__label {background-color: #d4ebff;}#sk-container-id-4 input.sk-hidden--visually {border: 0;clip: rect(1px 1px 1px 1px);clip: rect(1px, 1px, 1px, 1px);height: 1px;margin: -1px;overflow: hidden;padding: 0;position: absolute;width: 1px;}#sk-container-id-4 div.sk-estimator {font-family: monospace;background-color: #f0f8ff;border: 1px dotted black;border-radius: 0.25em;box-sizing: border-box;margin-bottom: 0.5em;}#sk-container-id-4 div.sk-estimator:hover {background-color: #d4ebff;}#sk-container-id-4 div.sk-parallel-item::after {content: \"\";width: 100%;border-bottom: 1px solid gray;flex-grow: 1;}#sk-container-id-4 div.sk-label:hover label.sk-toggleable__label {background-color: #d4ebff;}#sk-container-id-4 div.sk-serial::before {content: \"\";position: absolute;border-left: 1px solid gray;box-sizing: border-box;top: 0;bottom: 0;left: 50%;z-index: 0;}#sk-container-id-4 div.sk-serial {display: flex;flex-direction: column;align-items: center;background-color: white;padding-right: 0.2em;padding-left: 0.2em;position: relative;}#sk-container-id-4 div.sk-item {position: relative;z-index: 1;}#sk-container-id-4 div.sk-parallel {display: flex;align-items: stretch;justify-content: center;background-color: white;position: relative;}#sk-container-id-4 div.sk-item::before, #sk-container-id-4 div.sk-parallel-item::before {content: \"\";position: absolute;border-left: 1px solid gray;box-sizing: border-box;top: 0;bottom: 0;left: 50%;z-index: -1;}#sk-container-id-4 div.sk-parallel-item {display: flex;flex-direction: column;z-index: 1;position: relative;background-color: white;}#sk-container-id-4 div.sk-parallel-item:first-child::after {align-self: flex-end;width: 50%;}#sk-container-id-4 div.sk-parallel-item:last-child::after {align-self: flex-start;width: 50%;}#sk-container-id-4 div.sk-parallel-item:only-child::after {width: 0;}#sk-container-id-4 div.sk-dashed-wrapped {border: 1px dashed gray;margin: 0 0.4em 0.5em 0.4em;box-sizing: border-box;padding-bottom: 0.4em;background-color: white;}#sk-container-id-4 div.sk-label label {font-family: monospace;font-weight: bold;display: inline-block;line-height: 1.2em;}#sk-container-id-4 div.sk-label-container {text-align: center;}#sk-container-id-4 div.sk-container {/* jupyter's `normalize.less` sets `[hidden] { display: none; }` but bootstrap.min.css set `[hidden] { display: none !important; }` so we also need the `!important` here to be able to override the default hidden behavior on the sphinx rendered scikit-learn.org. See: https://github.com/scikit-learn/scikit-learn/issues/21755 */display: inline-block !important;position: relative;}#sk-container-id-4 div.sk-text-repr-fallback {display: none;}</style><div id=\"sk-container-id-4\" class=\"sk-top-container\"><div class=\"sk-text-repr-fallback\"><pre>RandomizedSearchCV(estimator=Pipeline(steps=[(&#x27;tfidfvectorizer&#x27;,\n",
       "                                              TfidfVectorizer(token_pattern=&#x27;\\\\S+&#x27;)),\n",
       "                                             (&#x27;truncatedsvd&#x27;,\n",
       "                                              TruncatedSVD(n_components=300,\n",
       "                                                           n_iter=25)),\n",
       "                                             (&#x27;sgdclassifier&#x27;,\n",
       "                                              SGDClassifier())]),\n",
       "                   n_iter=5, n_jobs=-1,\n",
       "                   param_distributions={&#x27;sgdclassifier__alpha&#x27;: &lt;scipy.stats._distn_infrastructure.rv_continuous_frozen object at 0x2ad6515a0910&gt;},\n",
       "                   scoring=&#x27;f1_macro&#x27;)</pre><b>In a Jupyter environment, please rerun this cell to show the HTML representation or trust the notebook. <br />On GitHub, the HTML representation is unable to render, please try loading this page with nbviewer.org.</b></div><div class=\"sk-container\" hidden><div class=\"sk-item sk-dashed-wrapped\"><div class=\"sk-label-container\"><div class=\"sk-label sk-toggleable\"><input class=\"sk-toggleable__control sk-hidden--visually\" id=\"sk-estimator-id-13\" type=\"checkbox\" ><label for=\"sk-estimator-id-13\" class=\"sk-toggleable__label sk-toggleable__label-arrow\">RandomizedSearchCV</label><div class=\"sk-toggleable__content\"><pre>RandomizedSearchCV(estimator=Pipeline(steps=[(&#x27;tfidfvectorizer&#x27;,\n",
       "                                              TfidfVectorizer(token_pattern=&#x27;\\\\S+&#x27;)),\n",
       "                                             (&#x27;truncatedsvd&#x27;,\n",
       "                                              TruncatedSVD(n_components=300,\n",
       "                                                           n_iter=25)),\n",
       "                                             (&#x27;sgdclassifier&#x27;,\n",
       "                                              SGDClassifier())]),\n",
       "                   n_iter=5, n_jobs=-1,\n",
       "                   param_distributions={&#x27;sgdclassifier__alpha&#x27;: &lt;scipy.stats._distn_infrastructure.rv_continuous_frozen object at 0x2ad6515a0910&gt;},\n",
       "                   scoring=&#x27;f1_macro&#x27;)</pre></div></div></div><div class=\"sk-parallel\"><div class=\"sk-parallel-item\"><div class=\"sk-item\"><div class=\"sk-label-container\"><div class=\"sk-label sk-toggleable\"><input class=\"sk-toggleable__control sk-hidden--visually\" id=\"sk-estimator-id-14\" type=\"checkbox\" ><label for=\"sk-estimator-id-14\" class=\"sk-toggleable__label sk-toggleable__label-arrow\">estimator: Pipeline</label><div class=\"sk-toggleable__content\"><pre>Pipeline(steps=[(&#x27;tfidfvectorizer&#x27;, TfidfVectorizer(token_pattern=&#x27;\\\\S+&#x27;)),\n",
       "                (&#x27;truncatedsvd&#x27;, TruncatedSVD(n_components=300, n_iter=25)),\n",
       "                (&#x27;sgdclassifier&#x27;, SGDClassifier())])</pre></div></div></div><div class=\"sk-serial\"><div class=\"sk-item\"><div class=\"sk-serial\"><div class=\"sk-item\"><div class=\"sk-estimator sk-toggleable\"><input class=\"sk-toggleable__control sk-hidden--visually\" id=\"sk-estimator-id-15\" type=\"checkbox\" ><label for=\"sk-estimator-id-15\" class=\"sk-toggleable__label sk-toggleable__label-arrow\">TfidfVectorizer</label><div class=\"sk-toggleable__content\"><pre>TfidfVectorizer(token_pattern=&#x27;\\\\S+&#x27;)</pre></div></div></div><div class=\"sk-item\"><div class=\"sk-estimator sk-toggleable\"><input class=\"sk-toggleable__control sk-hidden--visually\" id=\"sk-estimator-id-16\" type=\"checkbox\" ><label for=\"sk-estimator-id-16\" class=\"sk-toggleable__label sk-toggleable__label-arrow\">TruncatedSVD</label><div class=\"sk-toggleable__content\"><pre>TruncatedSVD(n_components=300, n_iter=25)</pre></div></div></div><div class=\"sk-item\"><div class=\"sk-estimator sk-toggleable\"><input class=\"sk-toggleable__control sk-hidden--visually\" id=\"sk-estimator-id-17\" type=\"checkbox\" ><label for=\"sk-estimator-id-17\" class=\"sk-toggleable__label sk-toggleable__label-arrow\">SGDClassifier</label><div class=\"sk-toggleable__content\"><pre>SGDClassifier()</pre></div></div></div></div></div></div></div></div></div></div></div></div>"
      ],
      "text/plain": [
       "RandomizedSearchCV(estimator=Pipeline(steps=[('tfidfvectorizer',\n",
       "                                              TfidfVectorizer(token_pattern='\\\\S+')),\n",
       "                                             ('truncatedsvd',\n",
       "                                              TruncatedSVD(n_components=300,\n",
       "                                                           n_iter=25)),\n",
       "                                             ('sgdclassifier',\n",
       "                                              SGDClassifier())]),\n",
       "                   n_iter=5, n_jobs=-1,\n",
       "                   param_distributions={'sgdclassifier__alpha': <scipy.stats._distn_infrastructure.rv_continuous_frozen object at 0x2ad6515a0910>},\n",
       "                   scoring='f1_macro')"
      ]
     },
     "execution_count": 24,
     "metadata": {},
     "output_type": "execute_result"
    }
   ],
   "source": [
    "sgd_tfidf_search = RandomizedSearchCV(\n",
    "    sgd_tfidf_vector,\n",
    "    {\n",
    "        \"sgdclassifier__alpha\": loguniform(1e-8, 1.0),\n",
    "    },\n",
    "    n_iter=5,\n",
    "    n_jobs=-1,\n",
    "    scoring=\"f1_macro\",\n",
    ")\n",
    "\n",
    "sgd_tfidf_search.fit(train[\"tokens\"], train[\"topics\"])"
   ]
  },
  {
   "cell_type": "code",
   "execution_count": 25,
   "id": "723260d1-b378-4c9a-882f-02ca77f1a3d6",
   "metadata": {},
   "outputs": [
    {
     "data": {
      "text/plain": [
       "<Axes: xlabel='param_sgdclassifier__alpha', ylabel='mean_test_score'>"
      ]
     },
     "execution_count": 25,
     "metadata": {},
     "output_type": "execute_result"
    },
    {
     "data": {
      "image/png": "[encoded data removed]",
      "text/plain": [
       "<Figure size 640x480 with 1 Axes>"
      ]
     },
     "metadata": {},
     "output_type": "display_data"
    }
   ],
   "source": [
    "sgd_tfidf_cv_results = pd.DataFrame(sgd_tfidf_search.cv_results_)\n",
    "sgd_tfidf_cv_results.plot(\n",
    "    \"param_sgdclassifier__alpha\", \"mean_test_score\", kind=\"scatter\", logx=True\n",
    ")"
   ]
  },
  {
   "cell_type": "code",
   "execution_count": 26,
   "id": "a752d6a4-ae12-4534-9add-41fcdec19b8f",
   "metadata": {},
   "outputs": [
    {
     "data": {
      "text/html": [
       "<div>\n",
       "<style scoped>\n",
       "    .dataframe tbody tr th:only-of-type {\n",
       "        vertical-align: middle;\n",
       "    }\n",
       "\n",
       "    .dataframe tbody tr th {\n",
       "        vertical-align: top;\n",
       "    }\n",
       "\n",
       "    .dataframe thead th {\n",
       "        text-align: right;\n",
       "    }\n",
       "</style>\n",
       "<table border=\"1\" class=\"dataframe\">\n",
       "  <thead>\n",
       "    <tr style=\"text-align: right;\">\n",
       "      <th></th>\n",
       "      <th>mean_fit_time</th>\n",
       "      <th>std_fit_time</th>\n",
       "      <th>mean_score_time</th>\n",
       "      <th>std_score_time</th>\n",
       "      <th>param_sgdclassifier__alpha</th>\n",
       "      <th>params</th>\n",
       "      <th>split0_test_score</th>\n",
       "      <th>split1_test_score</th>\n",
       "      <th>split2_test_score</th>\n",
       "      <th>split3_test_score</th>\n",
       "      <th>split4_test_score</th>\n",
       "      <th>mean_test_score</th>\n",
       "      <th>std_test_score</th>\n",
       "      <th>rank_test_score</th>\n",
       "    </tr>\n",
       "  </thead>\n",
       "  <tbody>\n",
       "    <tr>\n",
       "      <th>0</th>\n",
       "      <td>91.732498</td>\n",
       "      <td>0.489244</td>\n",
       "      <td>0.512715</td>\n",
       "      <td>0.086564</td>\n",
       "      <td>0.000222</td>\n",
       "      <td>{'sgdclassifier__alpha': 0.0002224169319409769}</td>\n",
       "      <td>0.925389</td>\n",
       "      <td>0.928116</td>\n",
       "      <td>0.915659</td>\n",
       "      <td>0.931333</td>\n",
       "      <td>0.930574</td>\n",
       "      <td>0.926214</td>\n",
       "      <td>0.005673</td>\n",
       "      <td>3</td>\n",
       "    </tr>\n",
       "    <tr>\n",
       "      <th>1</th>\n",
       "      <td>91.106152</td>\n",
       "      <td>0.520407</td>\n",
       "      <td>0.592932</td>\n",
       "      <td>0.166254</td>\n",
       "      <td>0.248249</td>\n",
       "      <td>{'sgdclassifier__alpha': 0.24824911244745435}</td>\n",
       "      <td>0.659036</td>\n",
       "      <td>0.669010</td>\n",
       "      <td>0.710399</td>\n",
       "      <td>0.686331</td>\n",
       "      <td>0.692625</td>\n",
       "      <td>0.683480</td>\n",
       "      <td>0.018018</td>\n",
       "      <td>4</td>\n",
       "    </tr>\n",
       "    <tr>\n",
       "      <th>2</th>\n",
       "      <td>90.413562</td>\n",
       "      <td>0.432914</td>\n",
       "      <td>0.545148</td>\n",
       "      <td>0.150999</td>\n",
       "      <td>0.00024</td>\n",
       "      <td>{'sgdclassifier__alpha': 0.00023958568890003338}</td>\n",
       "      <td>0.931943</td>\n",
       "      <td>0.935016</td>\n",
       "      <td>0.919151</td>\n",
       "      <td>0.931176</td>\n",
       "      <td>0.929435</td>\n",
       "      <td>0.929344</td>\n",
       "      <td>0.005407</td>\n",
       "      <td>1</td>\n",
       "    </tr>\n",
       "    <tr>\n",
       "      <th>3</th>\n",
       "      <td>90.475252</td>\n",
       "      <td>0.849506</td>\n",
       "      <td>0.551418</td>\n",
       "      <td>0.179285</td>\n",
       "      <td>0.0</td>\n",
       "      <td>{'sgdclassifier__alpha': 1.0008718613279746e-08}</td>\n",
       "      <td>0.933669</td>\n",
       "      <td>0.928595</td>\n",
       "      <td>0.907174</td>\n",
       "      <td>0.935036</td>\n",
       "      <td>0.932279</td>\n",
       "      <td>0.927350</td>\n",
       "      <td>0.010314</td>\n",
       "      <td>2</td>\n",
       "    </tr>\n",
       "    <tr>\n",
       "      <th>4</th>\n",
       "      <td>78.342033</td>\n",
       "      <td>23.593489</td>\n",
       "      <td>0.552558</td>\n",
       "      <td>0.163658</td>\n",
       "      <td>0.038975</td>\n",
       "      <td>{'sgdclassifier__alpha': 0.038975128579681}</td>\n",
       "      <td>0.672469</td>\n",
       "      <td>0.658439</td>\n",
       "      <td>0.674632</td>\n",
       "      <td>0.669523</td>\n",
       "      <td>0.705274</td>\n",
       "      <td>0.676067</td>\n",
       "      <td>0.015631</td>\n",
       "      <td>5</td>\n",
       "    </tr>\n",
       "  </tbody>\n",
       "</table>\n",
       "</div>"
      ],
      "text/plain": [
       "   mean_fit_time  std_fit_time  mean_score_time  std_score_time  \\\n",
       "0      91.732498      0.489244         0.512715        0.086564   \n",
       "1      91.106152      0.520407         0.592932        0.166254   \n",
       "2      90.413562      0.432914         0.545148        0.150999   \n",
       "3      90.475252      0.849506         0.551418        0.179285   \n",
       "4      78.342033     23.593489         0.552558        0.163658   \n",
       "\n",
       "  param_sgdclassifier__alpha  \\\n",
       "0                   0.000222   \n",
       "1                   0.248249   \n",
       "2                    0.00024   \n",
       "3                        0.0   \n",
       "4                   0.038975   \n",
       "\n",
       "                                             params  split0_test_score  \\\n",
       "0   {'sgdclassifier__alpha': 0.0002224169319409769}           0.925389   \n",
       "1     {'sgdclassifier__alpha': 0.24824911244745435}           0.659036   \n",
       "2  {'sgdclassifier__alpha': 0.00023958568890003338}           0.931943   \n",
       "3  {'sgdclassifier__alpha': 1.0008718613279746e-08}           0.933669   \n",
       "4       {'sgdclassifier__alpha': 0.038975128579681}           0.672469   \n",
       "\n",
       "   split1_test_score  split2_test_score  split3_test_score  split4_test_score  \\\n",
       "0           0.928116           0.915659           0.931333           0.930574   \n",
       "1           0.669010           0.710399           0.686331           0.692625   \n",
       "2           0.935016           0.919151           0.931176           0.929435   \n",
       "3           0.928595           0.907174           0.935036           0.932279   \n",
       "4           0.658439           0.674632           0.669523           0.705274   \n",
       "\n",
       "   mean_test_score  std_test_score  rank_test_score  \n",
       "0         0.926214        0.005673                3  \n",
       "1         0.683480        0.018018                4  \n",
       "2         0.929344        0.005407                1  \n",
       "3         0.927350        0.010314                2  \n",
       "4         0.676067        0.015631                5  "
      ]
     },
     "execution_count": 26,
     "metadata": {},
     "output_type": "execute_result"
    }
   ],
   "source": [
    "sgd_tfidf_cv_results"
   ]
  },
  {
   "cell_type": "code",
   "execution_count": 27,
   "id": "49d8cc1d-1072-4b96-940d-d91f52b9bfbb",
   "metadata": {},
   "outputs": [
    {
     "data": {
      "text/plain": [
       "({'sgdclassifier__alpha': 0.00023958568890003338}, 0.9293442371810349)"
      ]
     },
     "execution_count": 27,
     "metadata": {},
     "output_type": "execute_result"
    }
   ],
   "source": [
    "sgd_tfidf_search.best_params_, sgd_tfidf_search.best_score_"
   ]
  },
  {
   "cell_type": "markdown",
   "id": "b8ffb0e3-7d56-4d4a-a831-c4c64b3ada46",
   "metadata": {},
   "source": [
    "param_sgdclassifier__alpha is best at 1e-6 and is good in range of 1e-8 to 1e-3. Hence changing the range to (1e-8, 1e-4).\n",
    "Further searching the hyperparameters in tfidf vectorizer and truncatedsvd."
   ]
  },
  {
   "cell_type": "code",
   "execution_count": null,
   "id": "25f45c54-5845-45de-93fc-d7d3242d843a",
   "metadata": {},
   "outputs": [],
   "source": [
    "sgd_tfidf_rsearch = RandomizedSearchCV(\n",
    "    sgd_tfidf_vector,\n",
    "    {\n",
    "        \"sgdclassifier__alpha\": loguniform(1e-8, 1e-3),\n",
    "        \"tfidfvectorizer__min_df\": randint(0, 10),\n",
    "        \"tfidfvectorizer__max_df\": uniform(0.5, 0.5),\n",
    "        \"tfidfvectorizer__ngram_range\": [(1, 1), (1, 2), (2, 2)],\n",
    "        \"truncatedsvd__n_components\": [1, 10, 50, 100, 200, 300]\n",
    "    },\n",
    "    n_iter=25,\n",
    "    n_jobs=-1,\n",
    "    scoring=\"f1_macro\",\n",
    ")\n",
    "\n",
    "sgd_tfidf_rsearch.fit(train[\"tokens\"], train[\"topics\"])"
   ]
  },
  {
   "cell_type": "code",
   "execution_count": 29,
   "id": "0f3c6ec1-9e21-4845-884a-b590d5194624",
   "metadata": {},
   "outputs": [
    {
     "data": {
      "text/plain": [
       "({'sgdclassifier__alpha': 3.3418296666242275e-06,\n",
       "  'tfidfvectorizer__max_df': 0.814758083364463,\n",
       "  'tfidfvectorizer__min_df': 4,\n",
       "  'tfidfvectorizer__ngram_range': (1, 2),\n",
       "  'truncatedsvd__n_components': 300},\n",
       " 0.9433295017008841)"
      ]
     },
     "execution_count": 29,
     "metadata": {},
     "output_type": "execute_result"
    }
   ],
   "source": [
    "sgd_tfidf_rsearch.best_params_, sgd_tfidf_rsearch.best_score_"
   ]
  },
  {
   "cell_type": "code",
   "execution_count": 30,
   "id": "237e9556-6d16-46c3-8864-fcb8fcc7e2ee",
   "metadata": {},
   "outputs": [
    {
     "data": {
      "text/plain": [
       "<Axes: xlabel='param_sgdclassifier__alpha', ylabel='mean_test_score'>"
      ]
     },
     "execution_count": 30,
     "metadata": {},
     "output_type": "execute_result"
    },
    {
     "data": {
      "image/png": "[encoded data removed]",
      "text/plain": [
       "<Figure size 640x480 with 1 Axes>"
      ]
     },
     "metadata": {},
     "output_type": "display_data"
    }
   ],
   "source": [
    "sgd_tfidf_rcv_results = pd.DataFrame(sgd_tfidf_rsearch.cv_results_)\n",
    "sgd_tfidf_rcv_results.plot(\n",
    "    \"param_sgdclassifier__alpha\", \"mean_test_score\", kind=\"scatter\", logx=True\n",
    ")"
   ]
  },
  {
   "cell_type": "code",
   "execution_count": 31,
   "id": "86f984bd-a276-4a03-ad15-68bff3263e84",
   "metadata": {},
   "outputs": [
    {
     "data": {
      "text/html": [
       "<div>\n",
       "<style scoped>\n",
       "    .dataframe tbody tr th:only-of-type {\n",
       "        vertical-align: middle;\n",
       "    }\n",
       "\n",
       "    .dataframe tbody tr th {\n",
       "        vertical-align: top;\n",
       "    }\n",
       "\n",
       "    .dataframe thead th {\n",
       "        text-align: right;\n",
       "    }\n",
       "</style>\n",
       "<table border=\"1\" class=\"dataframe\">\n",
       "  <thead>\n",
       "    <tr style=\"text-align: right;\">\n",
       "      <th></th>\n",
       "      <th>mean_fit_time</th>\n",
       "      <th>std_fit_time</th>\n",
       "      <th>mean_score_time</th>\n",
       "      <th>std_score_time</th>\n",
       "      <th>param_sgdclassifier__alpha</th>\n",
       "      <th>param_tfidfvectorizer__max_df</th>\n",
       "      <th>param_tfidfvectorizer__min_df</th>\n",
       "      <th>param_tfidfvectorizer__ngram_range</th>\n",
       "      <th>param_truncatedsvd__n_components</th>\n",
       "      <th>params</th>\n",
       "      <th>split0_test_score</th>\n",
       "      <th>split1_test_score</th>\n",
       "      <th>split2_test_score</th>\n",
       "      <th>split3_test_score</th>\n",
       "      <th>split4_test_score</th>\n",
       "      <th>mean_test_score</th>\n",
       "      <th>std_test_score</th>\n",
       "      <th>rank_test_score</th>\n",
       "    </tr>\n",
       "  </thead>\n",
       "  <tbody>\n",
       "    <tr>\n",
       "      <th>0</th>\n",
       "      <td>2.541527</td>\n",
       "      <td>0.343296</td>\n",
       "      <td>0.322463</td>\n",
       "      <td>0.029794</td>\n",
       "      <td>0.000091</td>\n",
       "      <td>0.586994</td>\n",
       "      <td>3</td>\n",
       "      <td>(1, 1)</td>\n",
       "      <td>1</td>\n",
       "      <td>{'sgdclassifier__alpha': 9.139475769782791e-05...</td>\n",
       "      <td>0.207299</td>\n",
       "      <td>0.152258</td>\n",
       "      <td>0.097881</td>\n",
       "      <td>0.274537</td>\n",
       "      <td>0.152168</td>\n",
       "      <td>0.176829</td>\n",
       "      <td>0.059866</td>\n",
       "      <td>21</td>\n",
       "    </tr>\n",
       "    <tr>\n",
       "      <th>1</th>\n",
       "      <td>20.307879</td>\n",
       "      <td>0.816071</td>\n",
       "      <td>0.715182</td>\n",
       "      <td>0.155062</td>\n",
       "      <td>0.0</td>\n",
       "      <td>0.96015</td>\n",
       "      <td>5</td>\n",
       "      <td>(2, 2)</td>\n",
       "      <td>50</td>\n",
       "      <td>{'sgdclassifier__alpha': 1.4088716193590868e-0...</td>\n",
       "      <td>0.868080</td>\n",
       "      <td>0.862262</td>\n",
       "      <td>0.816840</td>\n",
       "      <td>0.816054</td>\n",
       "      <td>0.817676</td>\n",
       "      <td>0.836183</td>\n",
       "      <td>0.023746</td>\n",
       "      <td>15</td>\n",
       "    </tr>\n",
       "    <tr>\n",
       "      <th>2</th>\n",
       "      <td>50.865041</td>\n",
       "      <td>2.212960</td>\n",
       "      <td>0.685835</td>\n",
       "      <td>0.111977</td>\n",
       "      <td>0.000005</td>\n",
       "      <td>0.74809</td>\n",
       "      <td>5</td>\n",
       "      <td>(1, 1)</td>\n",
       "      <td>300</td>\n",
       "      <td>{'sgdclassifier__alpha': 5.203765938775164e-06...</td>\n",
       "      <td>0.936239</td>\n",
       "      <td>0.939184</td>\n",
       "      <td>0.941614</td>\n",
       "      <td>0.945272</td>\n",
       "      <td>0.940267</td>\n",
       "      <td>0.940515</td>\n",
       "      <td>0.002965</td>\n",
       "      <td>2</td>\n",
       "    </tr>\n",
       "    <tr>\n",
       "      <th>3</th>\n",
       "      <td>98.760243</td>\n",
       "      <td>2.688073</td>\n",
       "      <td>1.683720</td>\n",
       "      <td>0.236641</td>\n",
       "      <td>0.000011</td>\n",
       "      <td>0.831556</td>\n",
       "      <td>2</td>\n",
       "      <td>(1, 2)</td>\n",
       "      <td>100</td>\n",
       "      <td>{'sgdclassifier__alpha': 1.0708701948361573e-0...</td>\n",
       "      <td>0.914796</td>\n",
       "      <td>0.923939</td>\n",
       "      <td>0.921199</td>\n",
       "      <td>0.926299</td>\n",
       "      <td>0.927728</td>\n",
       "      <td>0.922792</td>\n",
       "      <td>0.004571</td>\n",
       "      <td>5</td>\n",
       "    </tr>\n",
       "    <tr>\n",
       "      <th>4</th>\n",
       "      <td>128.367810</td>\n",
       "      <td>5.756223</td>\n",
       "      <td>6.661780</td>\n",
       "      <td>6.119353</td>\n",
       "      <td>0.0</td>\n",
       "      <td>0.935556</td>\n",
       "      <td>1</td>\n",
       "      <td>(1, 2)</td>\n",
       "      <td>50</td>\n",
       "      <td>{'sgdclassifier__alpha': 1.287203213018298e-07...</td>\n",
       "      <td>0.875004</td>\n",
       "      <td>0.891100</td>\n",
       "      <td>0.912473</td>\n",
       "      <td>0.895451</td>\n",
       "      <td>0.883891</td>\n",
       "      <td>0.891584</td>\n",
       "      <td>0.012535</td>\n",
       "      <td>11</td>\n",
       "    </tr>\n",
       "  </tbody>\n",
       "</table>\n",
       "</div>"
      ],
      "text/plain": [
       "   mean_fit_time  std_fit_time  mean_score_time  std_score_time  \\\n",
       "0       2.541527      0.343296         0.322463        0.029794   \n",
       "1      20.307879      0.816071         0.715182        0.155062   \n",
       "2      50.865041      2.212960         0.685835        0.111977   \n",
       "3      98.760243      2.688073         1.683720        0.236641   \n",
       "4     128.367810      5.756223         6.661780        6.119353   \n",
       "\n",
       "  param_sgdclassifier__alpha param_tfidfvectorizer__max_df  \\\n",
       "0                   0.000091                      0.586994   \n",
       "1                        0.0                       0.96015   \n",
       "2                   0.000005                       0.74809   \n",
       "3                   0.000011                      0.831556   \n",
       "4                        0.0                      0.935556   \n",
       "\n",
       "  param_tfidfvectorizer__min_df param_tfidfvectorizer__ngram_range  \\\n",
       "0                             3                             (1, 1)   \n",
       "1                             5                             (2, 2)   \n",
       "2                             5                             (1, 1)   \n",
       "3                             2                             (1, 2)   \n",
       "4                             1                             (1, 2)   \n",
       "\n",
       "  param_truncatedsvd__n_components  \\\n",
       "0                                1   \n",
       "1                               50   \n",
       "2                              300   \n",
       "3                              100   \n",
       "4                               50   \n",
       "\n",
       "                                              params  split0_test_score  \\\n",
       "0  {'sgdclassifier__alpha': 9.139475769782791e-05...           0.207299   \n",
       "1  {'sgdclassifier__alpha': 1.4088716193590868e-0...           0.868080   \n",
       "2  {'sgdclassifier__alpha': 5.203765938775164e-06...           0.936239   \n",
       "3  {'sgdclassifier__alpha': 1.0708701948361573e-0...           0.914796   \n",
       "4  {'sgdclassifier__alpha': 1.287203213018298e-07...           0.875004   \n",
       "\n",
       "   split1_test_score  split2_test_score  split3_test_score  split4_test_score  \\\n",
       "0           0.152258           0.097881           0.274537           0.152168   \n",
       "1           0.862262           0.816840           0.816054           0.817676   \n",
       "2           0.939184           0.941614           0.945272           0.940267   \n",
       "3           0.923939           0.921199           0.926299           0.927728   \n",
       "4           0.891100           0.912473           0.895451           0.883891   \n",
       "\n",
       "   mean_test_score  std_test_score  rank_test_score  \n",
       "0         0.176829        0.059866               21  \n",
       "1         0.836183        0.023746               15  \n",
       "2         0.940515        0.002965                2  \n",
       "3         0.922792        0.004571                5  \n",
       "4         0.891584        0.012535               11  "
      ]
     },
     "execution_count": 31,
     "metadata": {},
     "output_type": "execute_result"
    }
   ],
   "source": [
    "sgd_tfidf_rcv_results.head(5)"
   ]
  },
  {
   "cell_type": "markdown",
   "id": "bd0f36df-d0a5-43a1-bf6f-e555e70c6292",
   "metadata": {},
   "source": [
    "**Optimized model**"
   ]
  },
  {
   "cell_type": "code",
   "execution_count": 33,
   "id": "bd7d315c-057a-432a-b52e-e0567ab10bc8",
   "metadata": {},
   "outputs": [
    {
     "name": "stdout",
     "output_type": "stream",
     "text": [
      "              precision    recall  f1-score   support\n",
      "\n",
      "        CCAT       0.97      0.96      0.96      1475\n",
      "        ECAT       0.94      0.81      0.87       268\n",
      "        GCAT       0.93      0.99      0.96       806\n",
      "        MCAT       0.96      0.95      0.95       820\n",
      "\n",
      "    accuracy                           0.95      3369\n",
      "   macro avg       0.95      0.93      0.94      3369\n",
      "weighted avg       0.95      0.95      0.95      3369\n",
      "\n"
     ]
    }
   ],
   "source": [
    "sgd_tfidf_vector.set_params(**sgd_tfidf_rsearch.best_params_)\n",
    "sgd_tfidf_vector.fit(train[\"tokens\"], train[\"topics\"])\n",
    "sgd_tfidf_rpredicted = sgd_tfidf_vector.predict(test[\"tokens\"])\n",
    "print(classification_report(test[\"topics\"], sgd_tfidf_rpredicted))"
   ]
  },
  {
   "cell_type": "markdown",
   "id": "655c4eda-c832-4fcd-b734-176b7c6fe097",
   "metadata": {},
   "source": [
    "**Observations:**\n",
    "\n",
    "SFD Classifier performed better when using CountVectorizer, rather than TfidfVectorizer and TruncatedSVD, both before and after optimizing the model with the hyperparameters.\n",
    "\n",
    "There was only s difference after tuning hyperparameters, "
   ]
  },
  {
   "cell_type": "code",
   "execution_count": null,
   "id": "38f3faf3-1452-4b16-8d07-2b6039d82e19",
   "metadata": {},
   "outputs": [],
   "source": []
  }
 ],
 "metadata": {
  "kernelspec": {
   "display_name": "Python 3 (ipykernel)",
   "language": "python",
   "name": "python3"
  },
  "language_info": {
   "codemirror_mode": {
    "name": "ipython",
    "version": 3
   },
   "file_extension": ".py",
   "mimetype": "text/x-python",
   "name": "python",
   "nbconvert_exporter": "python",
   "pygments_lexer": "ipython3",
   "version": "3.10.8"
  }
 },
 "nbformat": 4,
 "nbformat_minor": 5
}
