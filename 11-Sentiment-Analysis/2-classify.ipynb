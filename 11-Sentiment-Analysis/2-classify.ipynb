{
 "cells": [
  {
   "cell_type": "markdown",
   "id": "convinced-namibia",
   "metadata": {
    "id": "convinced-namibia"
   },
   "source": [
    "# Lab 11: Sentiment analysis\n",
    "\n",
    "- Apply VADER to hotel reviews\n",
    "- Use text classification to sentiment analysis\n",
    "- Add syntactic features for classification\n",
    "\n",
    "At the end of each notebook, write a brief error analysis and  a statement of what you've learned / ideas about improvement."
   ]
  },
  {
   "cell_type": "code",
   "execution_count": null,
   "id": "great-information",
   "metadata": {
    "ExecuteTime": {
     "end_time": "2023-04-24T10:50:09.771032Z",
     "start_time": "2023-04-24T10:50:09.506883Z"
    },
    "id": "great-information"
   },
   "outputs": [],
   "source": [
    "import numpy as np\n",
    "import pandas as pd\n",
    "from cytoolz import *\n",
    "from tqdm.auto import tqdm\n",
    "\n",
    "tqdm.pandas()"
   ]
  },
  {
   "cell_type": "code",
   "execution_count": null,
   "id": "radio-communications",
   "metadata": {
    "ExecuteTime": {
     "end_time": "2023-04-24T10:50:09.821923Z",
     "start_time": "2023-04-24T10:50:09.771922Z"
    },
    "id": "radio-communications"
   },
   "outputs": [],
   "source": [
    "df = pd.read_parquet(\"/data/sentiment.parquet\")"
   ]
  },
  {
   "cell_type": "code",
   "execution_count": null,
   "id": "medical-force",
   "metadata": {
    "ExecuteTime": {
     "end_time": "2023-04-24T10:50:10.170075Z",
     "start_time": "2023-04-24T10:50:09.822385Z"
    },
    "id": "medical-force"
   },
   "outputs": [],
   "source": [
    "from sklearn.model_selection import train_test_split"
   ]
  },
  {
   "cell_type": "code",
   "execution_count": null,
   "id": "heavy-transparency",
   "metadata": {
    "ExecuteTime": {
     "end_time": "2023-04-24T10:50:10.178904Z",
     "start_time": "2023-04-24T10:50:10.171014Z"
    },
    "id": "heavy-transparency"
   },
   "outputs": [],
   "source": [
    "train, test = train_test_split(\n",
    "    df, test_size=0.1, stratify=df[\"sentiment\"], random_state=619\n",
    ")"
   ]
  },
  {
   "cell_type": "code",
   "execution_count": null,
   "id": "9b28da84-b88e-4eb8-a57d-ba8b4217878f",
   "metadata": {
    "ExecuteTime": {
     "end_time": "2023-04-24T10:50:11.711847Z",
     "start_time": "2023-04-24T10:50:10.180489Z"
    },
    "id": "9b28da84-b88e-4eb8-a57d-ba8b4217878f"
   },
   "outputs": [],
   "source": [
    "import spacy\n",
    "\n",
    "nlp = spacy.load(\n",
    "    \"en_core_web_sm\",\n",
    "    exclude=[\"tagger\", \"parser\", \"ner\", \"lemmatizer\", \"attribute_ruler\"],\n",
    ")\n",
    "\n",
    "\n",
    "def tokenize(text):\n",
    "    doc = nlp.tokenizer(text)\n",
    "    return [t.norm_ for t in doc if not (t.is_space or t.is_punct or t.like_num)]"
   ]
  },
  {
   "cell_type": "code",
   "execution_count": null,
   "id": "efe23f51-347e-4824-85fe-9f71a690745b",
   "metadata": {
    "ExecuteTime": {
     "end_time": "2023-04-24T10:50:14.243932Z",
     "start_time": "2023-04-24T10:50:11.712358Z"
    },
    "colab": {
     "referenced_widgets": [
      "7f59072875104dc18f23296b661a513b",
      "d349704a90574b189bf0a913f380b3ff"
     ]
    },
    "id": "efe23f51-347e-4824-85fe-9f71a690745b",
    "outputId": "f9ef8534-be0e-4fad-f760-72cbeb5be27e"
   },
   "outputs": [
    {
     "data": {
      "application/vnd.jupyter.widget-view+json": {
       "model_id": "7f59072875104dc18f23296b661a513b",
       "version_major": 2,
       "version_minor": 0
      },
      "text/plain": [
       "  0%|          | 0/9000 [00:00<?, ?it/s]"
      ]
     },
     "metadata": {},
     "output_type": "display_data"
    },
    {
     "data": {
      "application/vnd.jupyter.widget-view+json": {
       "model_id": "d349704a90574b189bf0a913f380b3ff",
       "version_major": 2,
       "version_minor": 0
      },
      "text/plain": [
       "  0%|          | 0/1000 [00:00<?, ?it/s]"
      ]
     },
     "metadata": {},
     "output_type": "display_data"
    }
   ],
   "source": [
    "train[\"tokens\"] = train[\"text\"].progress_apply(tokenize)\n",
    "test[\"tokens\"] = test[\"text\"].progress_apply(tokenize)"
   ]
  },
  {
   "cell_type": "markdown",
   "id": "silver-bachelor",
   "metadata": {
    "id": "silver-bachelor"
   },
   "source": [
    "-----\n",
    "\n",
    "## SGDClassifier baseline"
   ]
  },
  {
   "cell_type": "code",
   "execution_count": null,
   "id": "5be42d55-b622-42bb-b5a6-e7b4f8017e9d",
   "metadata": {
    "ExecuteTime": {
     "end_time": "2023-04-24T10:50:14.285875Z",
     "start_time": "2023-04-24T10:50:14.244046Z"
    },
    "id": "5be42d55-b622-42bb-b5a6-e7b4f8017e9d"
   },
   "outputs": [],
   "source": [
    "from sklearn.feature_extraction.text import CountVectorizer, TfidfTransformer\n",
    "from sklearn.linear_model import SGDClassifier\n",
    "from sklearn.metrics import accuracy_score, classification_report\n",
    "from sklearn.pipeline import make_pipeline"
   ]
  },
  {
   "cell_type": "code",
   "execution_count": null,
   "id": "a7239453-5eae-4ffb-bfbe-917009a6f1ae",
   "metadata": {
    "ExecuteTime": {
     "end_time": "2023-04-24T10:50:54.464566Z",
     "start_time": "2023-04-24T10:50:54.460206Z"
    },
    "id": "a7239453-5eae-4ffb-bfbe-917009a6f1ae"
   },
   "outputs": [],
   "source": [
    "baseline = make_pipeline(\n",
    "    CountVectorizer(analyzer=identity), TfidfTransformer(), SGDClassifier()\n",
    ")"
   ]
  },
  {
   "cell_type": "code",
   "execution_count": null,
   "id": "2e333799-28ee-444e-9e2e-a69a9339c0d2",
   "metadata": {
    "ExecuteTime": {
     "end_time": "2023-04-24T10:50:55.494539Z",
     "start_time": "2023-04-24T10:50:55.158996Z"
    },
    "id": "2e333799-28ee-444e-9e2e-a69a9339c0d2",
    "outputId": "b4ace596-3ecd-4fd8-ec8b-6de12597d52d"
   },
   "outputs": [
    {
     "data": {
      "text/plain": [
       "0.897"
      ]
     },
     "execution_count": 9,
     "metadata": {},
     "output_type": "execute_result"
    }
   ],
   "source": [
    "baseline.fit(train[\"tokens\"], train[\"sentiment\"])\n",
    "baseline.score(test[\"tokens\"], test[\"sentiment\"])"
   ]
  },
  {
   "cell_type": "markdown",
   "id": "7d2e3d24-5021-4286-b709-edccd165988b",
   "metadata": {
    "id": "7d2e3d24-5021-4286-b709-edccd165988b"
   },
   "source": [
    "-----\n",
    "\n",
    "Errors"
   ]
  },
  {
   "cell_type": "code",
   "execution_count": null,
   "id": "1a76c39e-14d2-4543-873e-61659a61876b",
   "metadata": {
    "ExecuteTime": {
     "end_time": "2023-04-24T10:50:58.308580Z",
     "start_time": "2023-04-24T10:50:58.301378Z"
    },
    "id": "1a76c39e-14d2-4543-873e-61659a61876b"
   },
   "outputs": [],
   "source": [
    "predicted = baseline.predict(test[\"tokens\"])"
   ]
  },
  {
   "cell_type": "code",
   "execution_count": null,
   "id": "0d340724-66dc-4a2e-a5f8-48d540ef661a",
   "metadata": {
    "ExecuteTime": {
     "end_time": "2023-04-24T10:50:58.657287Z",
     "start_time": "2023-04-24T10:50:58.652301Z"
    },
    "id": "0d340724-66dc-4a2e-a5f8-48d540ef661a"
   },
   "outputs": [],
   "source": [
    "error = test[predicted != test[\"sentiment\"]]"
   ]
  },
  {
   "cell_type": "code",
   "execution_count": null,
   "id": "752b03d5-72fc-4214-b01e-6e4173a4b9d3",
   "metadata": {
    "ExecuteTime": {
     "end_time": "2023-04-24T10:50:59.507519Z",
     "start_time": "2023-04-24T10:50:59.502990Z"
    },
    "id": "752b03d5-72fc-4214-b01e-6e4173a4b9d3",
    "outputId": "920147e9-cbb5-4f40-9399-5bd4e93b67b6"
   },
   "outputs": [
    {
     "data": {
      "text/plain": [
       "\"“Needs an update” This hotel has a beautiful lobby and beautiful conference rooms plus a great location. The service is also very good and the beds are quite comfortable. However, the restaurant food is expensive and sub par, the elevator needs work and the guest rooms need updated - the bathrooms in particular. The bathrooms are small with no space for toiletries and the closets are also very small. The cost of the hotel vs what a guest receives- the guest loses.\\nWhen I visit Boston again (and I LOVED the city) I would stay at a less expensive hotel near the airport, I would find a hotel with a kitchenette and use Boston's great transit system to explore the city. .\""
      ]
     },
     "execution_count": 16,
     "metadata": {},
     "output_type": "execute_result"
    }
   ],
   "source": [
    "error[error[\"sentiment\"] == \"bad\"][\"text\"].iloc[0]"
   ]
  },
  {
   "cell_type": "code",
   "execution_count": null,
   "id": "47a12b41-6950-400d-b020-abbfadd47886",
   "metadata": {
    "ExecuteTime": {
     "end_time": "2023-04-24T10:51:00.492374Z",
     "start_time": "2023-04-24T10:51:00.487794Z"
    },
    "id": "47a12b41-6950-400d-b020-abbfadd47886",
    "outputId": "53a9715c-195d-45fc-f64a-4332471f297b"
   },
   "outputs": [
    {
     "data": {
      "text/plain": [
       "'“Watch Out for Parking Fees” The only incident that made this trip not as pleasant as it could have been were the parking fees. When I booked the hotel I was not notified that parking fees are $18 a day for self parking! When I checked in I was not notified of the parking fees. So when I checked out and was finally notified of the $36 charge to my credit card for parking for 2 days I was shocked. Inform your guests, we hate surprise charges.'"
      ]
     },
     "execution_count": 17,
     "metadata": {},
     "output_type": "execute_result"
    }
   ],
   "source": [
    "error[error[\"sentiment\"] == \"good\"][\"text\"].iloc[0]"
   ]
  },
  {
   "cell_type": "code",
   "execution_count": null,
   "id": "5e79998b-9be0-4905-a1c3-9f72a7dcf126",
   "metadata": {
    "id": "5e79998b-9be0-4905-a1c3-9f72a7dcf126"
   },
   "outputs": [],
   "source": []
  },
  {
   "cell_type": "markdown",
   "source": [
    "**Observations:**\n",
    "1. A Simple SGD Classifier performed better than the VADER in predicting the sentiments of the reviews.\n",
    "2. But we need the training data to get better results on our future dataset. But VADER did not need any training to be done.\n",
    "3. In the first error analyzed above, the review started with what they liked. It later emphasized what they expected in their stay, which the model could not catch as there are more positive words that the model could match from the good sentiments used in the training data."
   ],
   "metadata": {
    "id": "QLZ5pX5q6b4Z"
   },
   "id": "QLZ5pX5q6b4Z"
  }
 ],
 "metadata": {
  "kernelspec": {
   "display_name": "Python 3 (ipykernel)",
   "language": "python",
   "name": "python3"
  },
  "language_info": {
   "codemirror_mode": {
    "name": "ipython",
    "version": 3
   },
   "file_extension": ".py",
   "mimetype": "text/x-python",
   "name": "python",
   "nbconvert_exporter": "python",
   "pygments_lexer": "ipython3",
   "version": "3.10.8"
  },
  "colab": {
   "provenance": []
  }
 },
 "nbformat": 4,
 "nbformat_minor": 5
}
