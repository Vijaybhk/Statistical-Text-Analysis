{
 "cells": [
  {
   "cell_type": "markdown",
   "id": "allied-history",
   "metadata": {
    "id": "allied-history"
   },
   "source": [
    "# Lab 11: Sentiment analysis\n",
    "\n",
    "- Apply VADER to hotel reviews\n",
    "- Use text classification to sentiment analysis \n",
    "- Add syntactic features for classification\n",
    "\n",
    "At the end of each notebook, write a brief error analysis and  a statement of what you've learned / ideas about improvement."
   ]
  },
  {
   "cell_type": "code",
   "execution_count": null,
   "id": "miniature-memphis",
   "metadata": {
    "ExecuteTime": {
     "end_time": "2023-04-24T10:52:06.833642Z",
     "start_time": "2023-04-24T10:52:06.822064Z"
    },
    "id": "miniature-memphis"
   },
   "outputs": [],
   "source": [
    "import numpy as np\n",
    "import pandas as pd\n",
    "from cytoolz import *\n",
    "from sklearn.feature_extraction.text import CountVectorizer, TfidfTransformer\n",
    "from sklearn.model_selection import train_test_split\n",
    "from sklearn.linear_model import SGDClassifier\n",
    "from sklearn.metrics import classification_report, f1_score\n",
    "from sklearn.pipeline import make_pipeline\n",
    "from tqdm.auto import tqdm\n",
    "\n",
    "tqdm.pandas()"
   ]
  },
  {
   "cell_type": "markdown",
   "id": "e4170d96-bc5f-463d-a080-1ce82f570ff2",
   "metadata": {
    "id": "e4170d96-bc5f-463d-a080-1ce82f570ff2"
   },
   "source": [
    "## Parsing the input"
   ]
  },
  {
   "cell_type": "code",
   "execution_count": null,
   "id": "muslim-shopping",
   "metadata": {
    "ExecuteTime": {
     "end_time": "2023-04-24T10:52:08.153757Z",
     "start_time": "2023-04-24T10:52:06.993559Z"
    },
    "id": "muslim-shopping"
   },
   "outputs": [],
   "source": [
    "import spacy\n",
    "from spacy import displacy\n",
    "from spacy.tokens import DocBin\n",
    "\n",
    "nlp = spacy.load(\"en_core_web_lg\", exclude=[\"ner\"])"
   ]
  },
  {
   "cell_type": "code",
   "execution_count": null,
   "id": "composite-consolidation",
   "metadata": {
    "ExecuteTime": {
     "end_time": "2023-04-24T10:52:10.646553Z",
     "start_time": "2023-04-24T10:52:10.568781Z"
    },
    "id": "composite-consolidation"
   },
   "outputs": [],
   "source": [
    "df = pd.read_parquet(\"/data/sentiment.parquet\")"
   ]
  },
  {
   "cell_type": "code",
   "execution_count": null,
   "id": "d181bd4e-ed68-4901-b845-cc7099743791",
   "metadata": {
    "id": "d181bd4e-ed68-4901-b845-cc7099743791",
    "outputId": "74aa5710-9f0d-47b9-fc45-c0f74241ff90"
   },
   "outputs": [
    {
     "data": {
      "text/html": [
       "<span class=\"tex2jax_ignore\"><svg xmlns=\"http://www.w3.org/2000/svg\" xmlns:xlink=\"http://www.w3.org/1999/xlink\" xml:lang=\"en\" id=\"620d8b002bbf4a8599d6eaabb5298d21-0\" class=\"displacy\" width=\"1275\" height=\"399.5\" direction=\"ltr\" style=\"max-width: none; height: 399.5px; color: #000000; background: #ffffff; font-family: Arial; direction: ltr\">\n",
       "<text class=\"displacy-token\" fill=\"currentColor\" text-anchor=\"middle\" y=\"309.5\">\n",
       "    <tspan class=\"displacy-word\" fill=\"currentColor\" x=\"50\">They</tspan>\n",
       "    <tspan class=\"displacy-tag\" dy=\"2em\" fill=\"currentColor\" x=\"50\">PRON</tspan>\n",
       "</text>\n",
       "\n",
       "<text class=\"displacy-token\" fill=\"currentColor\" text-anchor=\"middle\" y=\"309.5\">\n",
       "    <tspan class=\"displacy-word\" fill=\"currentColor\" x=\"225\">did</tspan>\n",
       "    <tspan class=\"displacy-tag\" dy=\"2em\" fill=\"currentColor\" x=\"225\">AUX</tspan>\n",
       "</text>\n",
       "\n",
       "<text class=\"displacy-token\" fill=\"currentColor\" text-anchor=\"middle\" y=\"309.5\">\n",
       "    <tspan class=\"displacy-word\" fill=\"currentColor\" x=\"400\">n't</tspan>\n",
       "    <tspan class=\"displacy-tag\" dy=\"2em\" fill=\"currentColor\" x=\"400\">PART</tspan>\n",
       "</text>\n",
       "\n",
       "<text class=\"displacy-token\" fill=\"currentColor\" text-anchor=\"middle\" y=\"309.5\">\n",
       "    <tspan class=\"displacy-word\" fill=\"currentColor\" x=\"575\">have</tspan>\n",
       "    <tspan class=\"displacy-tag\" dy=\"2em\" fill=\"currentColor\" x=\"575\">VERB</tspan>\n",
       "</text>\n",
       "\n",
       "<text class=\"displacy-token\" fill=\"currentColor\" text-anchor=\"middle\" y=\"309.5\">\n",
       "    <tspan class=\"displacy-word\" fill=\"currentColor\" x=\"750\">any</tspan>\n",
       "    <tspan class=\"displacy-tag\" dy=\"2em\" fill=\"currentColor\" x=\"750\">DET</tspan>\n",
       "</text>\n",
       "\n",
       "<text class=\"displacy-token\" fill=\"currentColor\" text-anchor=\"middle\" y=\"309.5\">\n",
       "    <tspan class=\"displacy-word\" fill=\"currentColor\" x=\"925\">clean</tspan>\n",
       "    <tspan class=\"displacy-tag\" dy=\"2em\" fill=\"currentColor\" x=\"925\">ADJ</tspan>\n",
       "</text>\n",
       "\n",
       "<text class=\"displacy-token\" fill=\"currentColor\" text-anchor=\"middle\" y=\"309.5\">\n",
       "    <tspan class=\"displacy-word\" fill=\"currentColor\" x=\"1100\">towels.</tspan>\n",
       "    <tspan class=\"displacy-tag\" dy=\"2em\" fill=\"currentColor\" x=\"1100\">NOUN</tspan>\n",
       "</text>\n",
       "\n",
       "<g class=\"displacy-arrow\">\n",
       "    <path class=\"displacy-arc\" id=\"arrow-620d8b002bbf4a8599d6eaabb5298d21-0-0\" stroke-width=\"2px\" d=\"M70,264.5 C70,2.0 575.0,2.0 575.0,264.5\" fill=\"none\" stroke=\"currentColor\"/>\n",
       "    <text dy=\"1.25em\" style=\"font-size: 0.8em; letter-spacing: 1px\">\n",
       "        <textPath xlink:href=\"#arrow-620d8b002bbf4a8599d6eaabb5298d21-0-0\" class=\"displacy-label\" startOffset=\"50%\" side=\"left\" fill=\"currentColor\" text-anchor=\"middle\">nsubj</textPath>\n",
       "    </text>\n",
       "    <path class=\"displacy-arrowhead\" d=\"M70,266.5 L62,254.5 78,254.5\" fill=\"currentColor\"/>\n",
       "</g>\n",
       "\n",
       "<g class=\"displacy-arrow\">\n",
       "    <path class=\"displacy-arc\" id=\"arrow-620d8b002bbf4a8599d6eaabb5298d21-0-1\" stroke-width=\"2px\" d=\"M245,264.5 C245,89.5 570.0,89.5 570.0,264.5\" fill=\"none\" stroke=\"currentColor\"/>\n",
       "    <text dy=\"1.25em\" style=\"font-size: 0.8em; letter-spacing: 1px\">\n",
       "        <textPath xlink:href=\"#arrow-620d8b002bbf4a8599d6eaabb5298d21-0-1\" class=\"displacy-label\" startOffset=\"50%\" side=\"left\" fill=\"currentColor\" text-anchor=\"middle\">aux</textPath>\n",
       "    </text>\n",
       "    <path class=\"displacy-arrowhead\" d=\"M245,266.5 L237,254.5 253,254.5\" fill=\"currentColor\"/>\n",
       "</g>\n",
       "\n",
       "<g class=\"displacy-arrow\">\n",
       "    <path class=\"displacy-arc\" id=\"arrow-620d8b002bbf4a8599d6eaabb5298d21-0-2\" stroke-width=\"2px\" d=\"M420,264.5 C420,177.0 565.0,177.0 565.0,264.5\" fill=\"none\" stroke=\"currentColor\"/>\n",
       "    <text dy=\"1.25em\" style=\"font-size: 0.8em; letter-spacing: 1px\">\n",
       "        <textPath xlink:href=\"#arrow-620d8b002bbf4a8599d6eaabb5298d21-0-2\" class=\"displacy-label\" startOffset=\"50%\" side=\"left\" fill=\"currentColor\" text-anchor=\"middle\">neg</textPath>\n",
       "    </text>\n",
       "    <path class=\"displacy-arrowhead\" d=\"M420,266.5 L412,254.5 428,254.5\" fill=\"currentColor\"/>\n",
       "</g>\n",
       "\n",
       "<g class=\"displacy-arrow\">\n",
       "    <path class=\"displacy-arc\" id=\"arrow-620d8b002bbf4a8599d6eaabb5298d21-0-3\" stroke-width=\"2px\" d=\"M770,264.5 C770,89.5 1095.0,89.5 1095.0,264.5\" fill=\"none\" stroke=\"currentColor\"/>\n",
       "    <text dy=\"1.25em\" style=\"font-size: 0.8em; letter-spacing: 1px\">\n",
       "        <textPath xlink:href=\"#arrow-620d8b002bbf4a8599d6eaabb5298d21-0-3\" class=\"displacy-label\" startOffset=\"50%\" side=\"left\" fill=\"currentColor\" text-anchor=\"middle\">det</textPath>\n",
       "    </text>\n",
       "    <path class=\"displacy-arrowhead\" d=\"M770,266.5 L762,254.5 778,254.5\" fill=\"currentColor\"/>\n",
       "</g>\n",
       "\n",
       "<g class=\"displacy-arrow\">\n",
       "    <path class=\"displacy-arc\" id=\"arrow-620d8b002bbf4a8599d6eaabb5298d21-0-4\" stroke-width=\"2px\" d=\"M945,264.5 C945,177.0 1090.0,177.0 1090.0,264.5\" fill=\"none\" stroke=\"currentColor\"/>\n",
       "    <text dy=\"1.25em\" style=\"font-size: 0.8em; letter-spacing: 1px\">\n",
       "        <textPath xlink:href=\"#arrow-620d8b002bbf4a8599d6eaabb5298d21-0-4\" class=\"displacy-label\" startOffset=\"50%\" side=\"left\" fill=\"currentColor\" text-anchor=\"middle\">amod</textPath>\n",
       "    </text>\n",
       "    <path class=\"displacy-arrowhead\" d=\"M945,266.5 L937,254.5 953,254.5\" fill=\"currentColor\"/>\n",
       "</g>\n",
       "\n",
       "<g class=\"displacy-arrow\">\n",
       "    <path class=\"displacy-arc\" id=\"arrow-620d8b002bbf4a8599d6eaabb5298d21-0-5\" stroke-width=\"2px\" d=\"M595,264.5 C595,2.0 1100.0,2.0 1100.0,264.5\" fill=\"none\" stroke=\"currentColor\"/>\n",
       "    <text dy=\"1.25em\" style=\"font-size: 0.8em; letter-spacing: 1px\">\n",
       "        <textPath xlink:href=\"#arrow-620d8b002bbf4a8599d6eaabb5298d21-0-5\" class=\"displacy-label\" startOffset=\"50%\" side=\"left\" fill=\"currentColor\" text-anchor=\"middle\">dobj</textPath>\n",
       "    </text>\n",
       "    <path class=\"displacy-arrowhead\" d=\"M1100.0,266.5 L1108.0,254.5 1092.0,254.5\" fill=\"currentColor\"/>\n",
       "</g>\n",
       "</svg></span>"
      ],
      "text/plain": [
       "<IPython.core.display.HTML object>"
      ]
     },
     "metadata": {},
     "output_type": "display_data"
    }
   ],
   "source": [
    "displacy.render(nlp(\"They didn't have any clean towels.\"))"
   ]
  },
  {
   "cell_type": "code",
   "execution_count": null,
   "id": "351862f6-401e-4a65-ac44-46d7f94f81de",
   "metadata": {
    "colab": {
     "referenced_widgets": [
      "f785bb3c75dd43069e9c88265ef055ec"
     ]
    },
    "id": "351862f6-401e-4a65-ac44-46d7f94f81de",
    "outputId": "2420e456-b958-4602-a73c-51f7b4332a6d"
   },
   "outputs": [
    {
     "data": {
      "application/vnd.jupyter.widget-view+json": {
       "model_id": "f785bb3c75dd43069e9c88265ef055ec",
       "version_major": 2,
       "version_minor": 0
      },
      "text/plain": [
       "  0%|          | 0/10000 [00:00<?, ?it/s]"
      ]
     },
     "metadata": {},
     "output_type": "display_data"
    }
   ],
   "source": [
    "docs = DocBin(docs=nlp.pipe(tqdm(df['text']), n_process=4))\n",
    "docs.to_disk('parsed.docbin')"
   ]
  },
  {
   "cell_type": "code",
   "execution_count": null,
   "id": "abroad-priest",
   "metadata": {
    "ExecuteTime": {
     "end_time": "2023-04-24T10:52:14.164465Z",
     "start_time": "2023-04-24T10:52:12.168019Z"
    },
    "id": "abroad-priest"
   },
   "outputs": [],
   "source": [
    "docs = DocBin().from_disk(\"parsed.docbin\")\n",
    "df[\"doc\"] = list(docs.get_docs(nlp.vocab))"
   ]
  },
  {
   "cell_type": "code",
   "execution_count": null,
   "id": "complex-young",
   "metadata": {
    "ExecuteTime": {
     "end_time": "2023-04-24T10:52:15.613099Z",
     "start_time": "2023-04-24T10:52:15.366729Z"
    },
    "id": "complex-young"
   },
   "outputs": [],
   "source": [
    "train, test = train_test_split(\n",
    "    df, test_size=0.1, stratify=df[\"sentiment\"], random_state=619\n",
    ")"
   ]
  },
  {
   "cell_type": "markdown",
   "id": "subtle-worker",
   "metadata": {
    "id": "subtle-worker"
   },
   "source": [
    "----\n",
    "\n",
    "## Syntactically augmented classification\n",
    "\n",
    "The easiest way to add syntactic information to SGDClassifier is by augmenting the words in the text. That is, if we want to indicate that word is in the scope of negation we'll prefix the word with `NOT:`"
   ]
  },
  {
   "cell_type": "code",
   "execution_count": null,
   "id": "identified-hacker",
   "metadata": {
    "ExecuteTime": {
     "end_time": "2023-04-24T10:52:17.726219Z",
     "start_time": "2023-04-24T10:52:17.721133Z"
    },
    "id": "identified-hacker"
   },
   "outputs": [],
   "source": [
    "from spacy.tokens import Token\n",
    "\n",
    "Token.set_extension(\"neg\", default=False, force=True)"
   ]
  },
  {
   "cell_type": "code",
   "execution_count": null,
   "id": "435995c2",
   "metadata": {
    "ExecuteTime": {
     "end_time": "2023-04-24T10:52:18.284640Z",
     "start_time": "2023-04-24T10:52:18.279505Z"
    },
    "jupyter": {
     "outputs_hidden": false
    },
    "id": "435995c2"
   },
   "outputs": [],
   "source": [
    "def simple_negation(doc):\n",
    "    for tok in doc:\n",
    "        tok._.neg = False\n",
    "    for tok in doc:\n",
    "        if tok.dep_ == \"neg\":\n",
    "            tok.head._.neg = True\n",
    "    return doc\n",
    "\n",
    "\n",
    "def add_not(tok):\n",
    "    if tok._.neg:\n",
    "        return \"NOT:\" + tok.norm_\n",
    "    else:\n",
    "        return tok.norm_\n",
    "\n",
    "\n",
    "def tokenize_not(negator):\n",
    "    def tokenize(doc):\n",
    "        return [add_not(t) for t in negator(doc)]\n",
    "\n",
    "    return tokenize"
   ]
  },
  {
   "cell_type": "code",
   "execution_count": null,
   "id": "a6b5b055",
   "metadata": {
    "ExecuteTime": {
     "end_time": "2023-04-24T10:53:52.706213Z",
     "start_time": "2023-04-24T10:53:52.699071Z"
    },
    "jupyter": {
     "outputs_hidden": false
    },
    "id": "a6b5b055"
   },
   "outputs": [],
   "source": [
    "test_doc = nlp(\"They didn't have any clean towels and they didn't care.\")"
   ]
  },
  {
   "cell_type": "code",
   "execution_count": null,
   "id": "ff0da877-1867-4fd6-9bf7-3c5ad86d0bb7",
   "metadata": {
    "ExecuteTime": {
     "end_time": "2023-04-24T10:53:55.423834Z",
     "start_time": "2023-04-24T10:53:55.417850Z"
    },
    "id": "ff0da877-1867-4fd6-9bf7-3c5ad86d0bb7",
    "outputId": "4376045d-7409-4ed3-8ee6-510e2273545a"
   },
   "outputs": [
    {
     "data": {
      "text/plain": [
       "['they',\n",
       " 'do',\n",
       " 'not',\n",
       " 'NOT:have',\n",
       " 'any',\n",
       " 'clean',\n",
       " 'towels',\n",
       " 'and',\n",
       " 'they',\n",
       " 'do',\n",
       " 'not',\n",
       " 'NOT:care',\n",
       " '.']"
      ]
     },
     "execution_count": 11,
     "metadata": {},
     "output_type": "execute_result"
    }
   ],
   "source": [
    "tokenizer = tokenize_not(simple_negation)\n",
    "tokenizer(test_doc)"
   ]
  },
  {
   "cell_type": "code",
   "execution_count": null,
   "id": "interpreted-interface",
   "metadata": {
    "ExecuteTime": {
     "end_time": "2023-04-24T10:52:56.407592Z",
     "start_time": "2023-04-24T10:52:51.522404Z"
    },
    "id": "interpreted-interface",
    "outputId": "ccb51335-cf0f-45d0-8141-4faf7363ff94"
   },
   "outputs": [
    {
     "data": {
      "text/plain": [
       "0.904"
      ]
     },
     "execution_count": 12,
     "metadata": {},
     "output_type": "execute_result"
    }
   ],
   "source": [
    "m1 = make_pipeline(\n",
    "    CountVectorizer(\n",
    "        preprocessor=identity,\n",
    "        tokenizer=tokenize_not(simple_negation),\n",
    "        token_pattern=None,\n",
    "    ),\n",
    "    TfidfTransformer(),\n",
    "    SGDClassifier(random_state=1),\n",
    ")\n",
    "m1.fit(train[\"doc\"], train[\"sentiment\"])\n",
    "m1.score(test[\"doc\"], test[\"sentiment\"])"
   ]
  },
  {
   "cell_type": "code",
   "execution_count": null,
   "id": "charged-aurora",
   "metadata": {
    "ExecuteTime": {
     "end_time": "2023-04-24T10:53:04.812217Z",
     "start_time": "2023-04-24T10:53:04.806522Z"
    },
    "id": "charged-aurora"
   },
   "outputs": [],
   "source": [
    "def print_top_feats(M, k=0):\n",
    "    V = M.named_steps[\"countvectorizer\"].get_feature_names_out()\n",
    "    coef = M.named_steps[\"sgdclassifier\"].coef_[0]\n",
    "    order = coef.argsort()\n",
    "    for w1, w2 in zip(order[-k:][::-1], order[:k]):\n",
    "        print(f\"{V[w1]:20s} {coef[w1]:7.3f} | {V[w2]:20s} {coef[w2]:7.3f}\")"
   ]
  },
  {
   "cell_type": "code",
   "execution_count": null,
   "id": "eight-revelation",
   "metadata": {
    "ExecuteTime": {
     "end_time": "2023-04-24T10:53:06.445659Z",
     "start_time": "2023-04-24T10:53:06.442994Z"
    },
    "id": "eight-revelation",
    "outputId": "913a7f45-b70e-4d05-b484-ccf17e42c5d0"
   },
   "outputs": [
    {
     "name": "stdout",
     "output_type": "stream",
     "text": [
      "great                  4.772 | ok                    -4.510\n",
      "comfortable            3.299 | average               -3.683\n",
      "excellent              2.923 | poor                  -3.446\n",
      "perfect                2.923 | NOT:stay              -3.173\n",
      "amazing                2.772 | okay                  -3.138\n",
      "quiet                  2.621 | dirty                 -3.120\n",
      "loved                  2.442 | dated                 -3.014\n",
      "clean                  2.401 | not                   -2.968\n",
      "definitely             2.395 | bad                   -2.703\n",
      "nice                   2.304 | tiny                  -2.603\n",
      "best                   2.247 | disappointed          -2.520\n",
      "wonderful              2.110 | outdated              -2.380\n",
      "recommend              2.103 | worst                 -2.306\n",
      "fantastic              2.074 | unless                -2.305\n",
      "helpful                2.052 | no                    -2.168\n",
      "beautiful              1.935 | terrible              -2.088\n",
      "everything             1.904 | renovation            -2.005\n",
      "NOT:beat               1.900 | nothing               -1.997\n",
      "superb                 1.834 | horrible              -1.942\n",
      "large                  1.704 | old                   -1.872\n",
      "complaint              1.698 | bugs                  -1.872\n",
      "always                 1.686 | uncomfortable         -1.862\n",
      "lovely                 1.670 | loud                  -1.836\n",
      "well                   1.670 | disappointing         -1.804\n",
      "enjoyed                1.663 | carpet                -1.791\n",
      "than                   1.662 | when                  -1.777\n",
      "bigger                 1.631 | awful                 -1.773\n",
      "fabulous               1.627 | broken                -1.745\n",
      "spotless               1.583 | told                  -1.709\n",
      "spacious               1.567 | sleep                 -1.660\n",
      "complaints             1.562 | smell                 -1.655\n",
      "complimentary          1.559 | overpriced            -1.644\n",
      "free                   1.554 | limited               -1.614\n",
      "able                   1.538 | rude                  -1.593\n",
      "NOT:hear               1.507 | NOT:recommend         -1.576\n",
      "highly                 1.502 | unfriendly            -1.531\n",
      "staff                  1.496 | however               -1.529\n",
      "plenty                 1.496 | conditioning          -1.517\n",
      "value                  1.467 | looked                -1.477\n",
      "lots                   1.442 | someone               -1.470\n",
      "easy                   1.433 | filthy                -1.465\n",
      "except                 1.419 | should                -1.464\n",
      "downside               1.418 | down                  -1.457\n",
      "thank                  1.413 | receptionist          -1.449\n",
      "makes                  1.404 | stains                -1.437\n",
      "above                  1.397 | need                  -1.426\n",
      "pleased                1.396 | poorly                -1.413\n",
      "pleasantly             1.394 | ruined                -1.402\n",
      "love                   1.392 | noisy                 -1.392\n",
      "university             1.388 | smelled               -1.381\n"
     ]
    }
   ],
   "source": [
    "print_top_feats(m1, 50)"
   ]
  },
  {
   "cell_type": "markdown",
   "id": "e981a7c5-55ec-4802-86ff-3518552d899e",
   "metadata": {
    "id": "e981a7c5-55ec-4802-86ff-3518552d899e"
   },
   "source": [
    "Next step: once we've identified negated words, we'll spread the negative marker onto dependent words that come to the right of the negate word. Not all words to the right, though. Just ones that are dependents of the negated word."
   ]
  },
  {
   "cell_type": "code",
   "execution_count": null,
   "id": "through-savannah",
   "metadata": {
    "ExecuteTime": {
     "end_time": "2023-04-24T10:56:40.334992Z",
     "start_time": "2023-04-24T10:56:40.326135Z"
    },
    "id": "through-savannah"
   },
   "outputs": [],
   "source": [
    "def negify(tok):\n",
    "    tok._.neg = True\n",
    "    for child in tok.children:\n",
    "        negify(child)\n",
    "\n",
    "\n",
    "def negate_comps(doc):\n",
    "    for tok in doc:\n",
    "        tok._.neg = False\n",
    "    for tok in doc:\n",
    "        if tok.dep_ == \"neg\":\n",
    "            tok.head._.neg = True\n",
    "            for right_tok in tok.head.rights:\n",
    "                if right_tok.dep_ in [\"acomp\", \"advmod\", \"dobj\", \"prep\", \"xcomp\"]:\n",
    "                    negify(right_tok)\n",
    "    return doc"
   ]
  },
  {
   "cell_type": "code",
   "execution_count": null,
   "id": "9ff69339-e714-4e6f-b93d-5adc512e78a4",
   "metadata": {
    "ExecuteTime": {
     "end_time": "2023-04-24T10:56:40.805211Z",
     "start_time": "2023-04-24T10:56:40.803727Z"
    },
    "id": "9ff69339-e714-4e6f-b93d-5adc512e78a4",
    "outputId": "417966cb-f608-4895-efee-8aba5c21f187"
   },
   "outputs": [
    {
     "data": {
      "text/plain": [
       "['they',\n",
       " 'do',\n",
       " 'not',\n",
       " 'NOT:have',\n",
       " 'NOT:any',\n",
       " 'NOT:clean',\n",
       " 'NOT:towels',\n",
       " 'and',\n",
       " 'they',\n",
       " 'do',\n",
       " 'not',\n",
       " 'NOT:care',\n",
       " '.']"
      ]
     },
     "execution_count": 16,
     "metadata": {},
     "output_type": "execute_result"
    }
   ],
   "source": [
    "tokenizer = tokenize_not(negate_comps)\n",
    "tokenizer(test_doc)"
   ]
  },
  {
   "cell_type": "code",
   "execution_count": null,
   "id": "sitting-collins",
   "metadata": {
    "ExecuteTime": {
     "end_time": "2023-04-24T10:56:51.966387Z",
     "start_time": "2023-04-24T10:56:46.916246Z"
    },
    "id": "sitting-collins",
    "outputId": "467f38ce-38ee-44a0-a003-c3e77232bac3"
   },
   "outputs": [
    {
     "data": {
      "text/plain": [
       "0.903"
      ]
     },
     "execution_count": 17,
     "metadata": {},
     "output_type": "execute_result"
    }
   ],
   "source": [
    "m2 = make_pipeline(\n",
    "    CountVectorizer(\n",
    "        preprocessor=identity, tokenizer=tokenize_not(negate_comps), token_pattern=None\n",
    "    ),\n",
    "    TfidfTransformer(),\n",
    "    SGDClassifier(alpha=1e-4, random_state=1),\n",
    ")\n",
    "m2.fit(train[\"doc\"], train[\"sentiment\"])\n",
    "m2.score(test[\"doc\"], test[\"sentiment\"])"
   ]
  },
  {
   "cell_type": "code",
   "execution_count": null,
   "id": "ordinary-situation",
   "metadata": {
    "ExecuteTime": {
     "end_time": "2023-04-24T10:56:57.636767Z",
     "start_time": "2023-04-24T10:56:57.618399Z"
    },
    "id": "ordinary-situation",
    "outputId": "c95e0a25-fb6e-4c2b-c9b8-3e05b5742329"
   },
   "outputs": [
    {
     "name": "stdout",
     "output_type": "stream",
     "text": [
      "great                  4.796 | ok                    -4.587\n",
      "comfortable            3.131 | average               -3.566\n",
      "excellent              3.011 | poor                  -3.384\n",
      "perfect                2.963 | dated                 -2.989\n",
      "amazing                2.640 | okay                  -2.980\n",
      "quiet                  2.605 | disappointed          -2.962\n",
      "clean                  2.591 | not                   -2.958\n",
      "nice                   2.461 | dirty                 -2.890\n",
      "definitely             2.422 | bad                   -2.745\n",
      "loved                  2.344 | tiny                  -2.694\n",
      "best                   2.151 | worst                 -2.378\n",
      "wonderful              2.146 | NOT:again             -2.270\n",
      "again                  2.132 | unless                -2.167\n",
      "helpful                2.083 | outdated              -2.090\n",
      "everything             1.995 | no                    -1.994\n",
      "fantastic              1.957 | horrible              -1.987\n",
      "beautiful              1.867 | when                  -1.929\n",
      "well                   1.854 | terrible              -1.921\n",
      "recommend              1.850 | nothing               -1.907\n",
      "superb                 1.838 | renovation            -1.884\n",
      "large                  1.746 | bugs                  -1.877\n",
      "than                   1.741 | old                   -1.850\n",
      "NOT:beat               1.737 | better                -1.844\n",
      "spacious               1.695 | uncomfortable         -1.832\n",
      "complaints             1.690 | loud                  -1.813\n",
      "lovely                 1.662 | told                  -1.780\n",
      "fabulous               1.635 | disappointing         -1.733\n",
      "enjoyed                1.633 | broken                -1.713\n",
      "always                 1.593 | carpet                -1.707\n",
      "happy                  1.559 | overpriced            -1.695\n",
      "thank                  1.553 | smell                 -1.685\n",
      "bigger                 1.544 | NOT:stay              -1.611\n",
      "complaint              1.540 | unfriendly            -1.597\n",
      "love                   1.531 | or                    -1.579\n",
      "spotless               1.530 | awful                 -1.544\n",
      "pleased                1.523 | NOT:clean             -1.532\n",
      "staff                  1.522 | rude                  -1.503\n",
      "free                   1.499 | someone               -1.498\n",
      "NOT:hesitate           1.452 | least                 -1.498\n",
      "attentive              1.451 | NOT:sleep             -1.482\n",
      "value                  1.438 | noisy                 -1.480\n",
      "easy                   1.437 | should                -1.458\n",
      "except                 1.437 | poorly                -1.445\n",
      "visit                  1.425 | closed                -1.425\n",
      "blocks                 1.407 | ruined                -1.425\n",
      "fresh                  1.398 | explore               -1.418\n",
      "plenty                 1.386 | looked                -1.407\n",
      "pleasantly             1.361 | receptionist          -1.404\n",
      "downside               1.360 | 20                    -1.402\n",
      "highly                 1.306 | conditioning          -1.402\n"
     ]
    }
   ],
   "source": [
    "print_top_feats(m2, 50)"
   ]
  },
  {
   "cell_type": "markdown",
   "id": "8a8486ac-1674-4f8f-9ed2-76f62b2c3427",
   "metadata": {
    "id": "8a8486ac-1674-4f8f-9ed2-76f62b2c3427"
   },
   "source": [
    "Next, we'll combine heads with their modifiers"
   ]
  },
  {
   "cell_type": "code",
   "execution_count": null,
   "id": "roman-battle",
   "metadata": {
    "ExecuteTime": {
     "end_time": "2023-04-24T10:58:01.325428Z",
     "start_time": "2023-04-24T10:58:01.315246Z"
    },
    "id": "roman-battle"
   },
   "outputs": [],
   "source": [
    "def mod_tokenizer(doc):\n",
    "    doc = negate_comps(doc)\n",
    "    toks = [add_not(tok) for tok in doc]\n",
    "    toks = toks + [\n",
    "        add_not(t.head) + \"_\" + add_not(t) for t in doc if t.dep_ in [\"amod\", \"advmod\"]\n",
    "    ]\n",
    "    return toks"
   ]
  },
  {
   "cell_type": "code",
   "execution_count": null,
   "id": "angry-creek",
   "metadata": {
    "ExecuteTime": {
     "end_time": "2023-04-24T10:58:07.790251Z",
     "start_time": "2023-04-24T10:58:07.787607Z"
    },
    "id": "angry-creek",
    "outputId": "80a17d55-45e9-4513-ae5d-5c7fdff982c0"
   },
   "outputs": [
    {
     "data": {
      "text/plain": [
       "['they',\n",
       " 'do',\n",
       " 'not',\n",
       " 'NOT:have',\n",
       " 'NOT:any',\n",
       " 'NOT:clean',\n",
       " 'NOT:towels',\n",
       " 'and',\n",
       " 'they',\n",
       " 'do',\n",
       " 'not',\n",
       " 'NOT:care',\n",
       " '.',\n",
       " 'NOT:towels_NOT:clean']"
      ]
     },
     "execution_count": 20,
     "metadata": {},
     "output_type": "execute_result"
    }
   ],
   "source": [
    "mod_tokenizer(test_doc)"
   ]
  },
  {
   "cell_type": "code",
   "execution_count": null,
   "id": "9b6cb1f5",
   "metadata": {
    "ExecuteTime": {
     "end_time": "2023-04-24T10:58:33.080781Z",
     "start_time": "2023-04-24T10:58:27.021800Z"
    },
    "jupyter": {
     "outputs_hidden": false
    },
    "id": "9b6cb1f5",
    "outputId": "c128b92b-d81c-432e-9563-e666e26d685e"
   },
   "outputs": [
    {
     "data": {
      "text/plain": [
       "0.909"
      ]
     },
     "execution_count": 21,
     "metadata": {},
     "output_type": "execute_result"
    }
   ],
   "source": [
    "m3 = make_pipeline(\n",
    "    CountVectorizer(preprocessor=identity, tokenizer=mod_tokenizer, token_pattern=None),\n",
    "    TfidfTransformer(),\n",
    "    SGDClassifier(),\n",
    ")\n",
    "m3.fit(train[\"doc\"], train[\"sentiment\"])\n",
    "m3.score(test[\"doc\"], test[\"sentiment\"])"
   ]
  },
  {
   "cell_type": "code",
   "execution_count": null,
   "id": "hawaiian-budapest",
   "metadata": {
    "ExecuteTime": {
     "end_time": "2023-04-24T10:58:39.801574Z",
     "start_time": "2023-04-24T10:58:39.792340Z"
    },
    "id": "hawaiian-budapest",
    "outputId": "929b3b28-fd55-4088-f677-aca1fb7cd6ed"
   },
   "outputs": [
    {
     "name": "stdout",
     "output_type": "stream",
     "text": [
      "great                  4.372 | ok                    -4.499\n",
      "excellent              2.826 | average               -3.086\n",
      "comfortable            2.758 | poor                  -2.990\n",
      "perfect                2.738 | not                   -2.930\n",
      "amazing                2.626 | dated                 -2.723\n",
      "quiet                  2.466 | okay                  -2.695\n",
      "loved                  2.374 | dirty                 -2.659\n",
      "nice                   2.190 | disappointed          -2.624\n",
      "wonderful              2.135 | bad                   -2.569\n",
      "best                   2.114 | tiny                  -2.508\n",
      "stay_again             2.110 | worst                 -2.143\n",
      "helpful                2.059 | no                    -2.088\n",
      "good_very              2.055 | unless                -2.000\n",
      "clean                  2.001 | outdated              -1.912\n",
      "definitely             1.962 | terrible              -1.844\n",
      "well                   1.845 | horrible              -1.843\n",
      "everything             1.803 | NOT:stay_NOT:again    -1.816\n",
      "recommend              1.765 | nothing               -1.790\n",
      "beautiful              1.702 | renovation            -1.779\n",
      "fantastic              1.696 | told                  -1.774\n",
      "spacious               1.693 | bugs                  -1.773\n",
      "hotel_great            1.643 | better                -1.738\n",
      "than                   1.580 | NOT:again             -1.734\n",
      "staff                  1.567 | loud                  -1.692\n",
      "again                  1.566 | smell                 -1.655\n",
      "superb                 1.558 | when                  -1.645\n",
      "enjoyed                1.544 | carpet                -1.600\n",
      "always                 1.536 | old                   -1.596\n",
      "love                   1.529 | broken                -1.594\n",
      "NOT:beat               1.522 | overpriced            -1.563\n",
      "fabulous               1.514 | disappointing         -1.539\n",
      "large                  1.499 | uncomfortable         -1.530\n",
      "complaint_only         1.496 | or                    -1.502\n",
      "lovely                 1.483 | NOT:clean             -1.416\n",
      "bigger                 1.435 | probably              -1.404\n",
      "complaints             1.397 | awful                 -1.399\n",
      "easy                   1.397 | someone               -1.369\n",
      "free                   1.394 | should                -1.348\n",
      "fresh                  1.374 | dated_very            -1.348\n",
      "and                    1.351 | noisy                 -1.348\n",
      "every                  1.343 | stay_else             -1.347\n",
      "pleased                1.340 | but                   -1.334\n",
      "plenty                 1.327 | looked                -1.323\n",
      "spotless               1.322 | smelled               -1.321\n",
      "visit                  1.285 | closed                -1.319\n",
      "attentive              1.271 | however               -1.319\n",
      "clean_very             1.265 | old_very              -1.315\n",
      "able                   1.260 | paid                  -1.311\n",
      "awesome                1.249 | rude                  -1.294\n",
      "happy                  1.228 | poorly                -1.285\n"
     ]
    }
   ],
   "source": [
    "print_top_feats(m3, 50)"
   ]
  },
  {
   "cell_type": "markdown",
   "id": "7b9c06cb-90cc-41c3-bd33-4538c9fb7ef2",
   "metadata": {
    "id": "7b9c06cb-90cc-41c3-bd33-4538c9fb7ef2"
   },
   "source": [
    "----"
   ]
  },
  {
   "cell_type": "code",
   "execution_count": null,
   "id": "dcb3f101-a1d3-4952-b460-33c7600a9465",
   "metadata": {
    "id": "dcb3f101-a1d3-4952-b460-33c7600a9465"
   },
   "outputs": [],
   "source": [
    "predicted = m3.predict(test[\"doc\"])\n",
    "error = test[predicted != test[\"sentiment\"]]"
   ]
  },
  {
   "cell_type": "code",
   "execution_count": null,
   "id": "9e9540fe-2a92-4936-9ef7-5b06305931db",
   "metadata": {
    "id": "9e9540fe-2a92-4936-9ef7-5b06305931db",
    "outputId": "ec28d7ec-37da-43c5-c3f8-cd56421aab84"
   },
   "outputs": [
    {
     "data": {
      "text/plain": [
       "\"“Needs an update” This hotel has a beautiful lobby and beautiful conference rooms plus a great location. The service is also very good and the beds are quite comfortable. However, the restaurant food is expensive and sub par, the elevator needs work and the guest rooms need updated - the bathrooms in particular. The bathrooms are small with no space for toiletries and the closets are also very small. The cost of the hotel vs what a guest receives- the guest loses.\\nWhen I visit Boston again (and I LOVED the city) I would stay at a less expensive hotel near the airport, I would find a hotel with a kitchenette and use Boston's great transit system to explore the city. .\""
      ]
     },
     "execution_count": 24,
     "metadata": {},
     "output_type": "execute_result"
    }
   ],
   "source": [
    "error[error[\"sentiment\"] == \"bad\"][\"text\"].iloc[0]"
   ]
  },
  {
   "cell_type": "code",
   "execution_count": null,
   "id": "f000f5d0-94e1-45e5-8cf8-cef35ac2061a",
   "metadata": {
    "id": "f000f5d0-94e1-45e5-8cf8-cef35ac2061a",
    "outputId": "46fd1815-61a3-4dbe-f3d3-bebe1b92812c"
   },
   "outputs": [
    {
     "data": {
      "text/plain": [
       "'“Watch Out for Parking Fees” The only incident that made this trip not as pleasant as it could have been were the parking fees. When I booked the hotel I was not notified that parking fees are $18 a day for self parking! When I checked in I was not notified of the parking fees. So when I checked out and was finally notified of the $36 charge to my credit card for parking for 2 days I was shocked. Inform your guests, we hate surprise charges.'"
      ]
     },
     "execution_count": 25,
     "metadata": {},
     "output_type": "execute_result"
    }
   ],
   "source": [
    "error[error[\"sentiment\"] == \"good\"][\"text\"].iloc[0]"
   ]
  },
  {
   "cell_type": "code",
   "execution_count": null,
   "id": "c8115f1e-097e-4016-b66b-d7ec2274b834",
   "metadata": {
    "id": "c8115f1e-097e-4016-b66b-d7ec2274b834"
   },
   "outputs": [],
   "source": []
  },
  {
   "cell_type": "markdown",
   "source": [
    "**Observations:**\n",
    "\n",
    "1. Providing the context to the words has produced good results in identifying the sentiment of hotel reviews.\n",
    "2. This is a good improvement compared to previous methods, but the second attempt in the same is not that great of a change.\n",
    "3. What I would do to check is, if we see words like not and no, after we add it to the next word, I would drop the original one just to check if that is a better call or not. Although, we do not know what is the significance of the words with and without not for all the texts, just something that can be tried."
   ],
   "metadata": {
    "id": "I3H-JauOFfbw"
   },
   "id": "I3H-JauOFfbw"
  }
 ],
 "metadata": {
  "kernelspec": {
   "display_name": "Python 3 (ipykernel)",
   "language": "python",
   "name": "python3"
  },
  "language_info": {
   "codemirror_mode": {
    "name": "ipython",
    "version": 3
   },
   "file_extension": ".py",
   "mimetype": "text/x-python",
   "name": "python",
   "nbconvert_exporter": "python",
   "pygments_lexer": "ipython3",
   "version": "3.10.8"
  },
  "colab": {
   "provenance": []
  }
 },
 "nbformat": 4,
 "nbformat_minor": 5
}
