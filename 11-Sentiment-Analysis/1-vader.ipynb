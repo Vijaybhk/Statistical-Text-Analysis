{
 "cells": [
  {
   "cell_type": "markdown",
   "id": "theoretical-fairy",
   "metadata": {
    "id": "theoretical-fairy"
   },
   "source": [
    "# Lab 11: Sentiment analysis\n",
    "\n",
    "- Apply VADER to hotel reviews\n",
    "- Use text classification to sentiment analysis\n",
    "- Add syntactic features for classification\n",
    "\n",
    "At the end of each notebook, write a brief error analysis and  a statement of what you've learned / ideas about improvement."
   ]
  },
  {
   "cell_type": "code",
   "execution_count": null,
   "id": "spectacular-stopping",
   "metadata": {
    "ExecuteTime": {
     "end_time": "2023-04-24T10:48:20.592045Z",
     "start_time": "2023-04-24T10:48:20.340316Z"
    },
    "id": "spectacular-stopping"
   },
   "outputs": [],
   "source": [
    "import numpy as np\n",
    "import pandas as pd\n",
    "from tqdm.auto import tqdm\n",
    "\n",
    "tqdm.pandas()"
   ]
  },
  {
   "cell_type": "markdown",
   "id": "d0f4ab92-2c6c-4b27-a847-04110c1ee583",
   "metadata": {
    "id": "d0f4ab92-2c6c-4b27-a847-04110c1ee583"
   },
   "source": [
    "## Read data"
   ]
  },
  {
   "cell_type": "code",
   "execution_count": null,
   "id": "million-ability",
   "metadata": {
    "ExecuteTime": {
     "end_time": "2023-04-24T10:48:21.409931Z",
     "start_time": "2023-04-24T10:48:21.356718Z"
    },
    "id": "million-ability",
    "outputId": "6e0c53dc-722c-4a63-d053-85a3ee689e85"
   },
   "outputs": [
    {
     "data": {
      "text/plain": [
       "10000"
      ]
     },
     "execution_count": 4,
     "metadata": {},
     "output_type": "execute_result"
    }
   ],
   "source": [
    "df = pd.read_parquet(\"/data/sentiment.parquet\")\n",
    "len(df)"
   ]
  },
  {
   "cell_type": "code",
   "execution_count": null,
   "id": "0d803137-0dcb-43cf-ba2d-ef58828a7f73",
   "metadata": {
    "ExecuteTime": {
     "end_time": "2023-04-24T10:48:22.607307Z",
     "start_time": "2023-04-24T10:48:22.597891Z"
    },
    "id": "0d803137-0dcb-43cf-ba2d-ef58828a7f73",
    "outputId": "ee42a283-45dc-462a-b3ac-9d1a82e00d7e"
   },
   "outputs": [
    {
     "data": {
      "text/html": [
       "<div>\n",
       "<style scoped>\n",
       "    .dataframe tbody tr th:only-of-type {\n",
       "        vertical-align: middle;\n",
       "    }\n",
       "\n",
       "    .dataframe tbody tr th {\n",
       "        vertical-align: top;\n",
       "    }\n",
       "\n",
       "    .dataframe thead th {\n",
       "        text-align: right;\n",
       "    }\n",
       "</style>\n",
       "<table border=\"1\" class=\"dataframe\">\n",
       "  <thead>\n",
       "    <tr style=\"text-align: right;\">\n",
       "      <th></th>\n",
       "      <th>title</th>\n",
       "      <th>review</th>\n",
       "      <th>date_stayed</th>\n",
       "      <th>date</th>\n",
       "      <th>service</th>\n",
       "      <th>cleanliness</th>\n",
       "      <th>overall</th>\n",
       "      <th>value</th>\n",
       "      <th>location</th>\n",
       "      <th>sleep_quality</th>\n",
       "      <th>rooms</th>\n",
       "      <th>locality</th>\n",
       "      <th>name</th>\n",
       "      <th>sentiment</th>\n",
       "      <th>text</th>\n",
       "    </tr>\n",
       "  </thead>\n",
       "  <tbody>\n",
       "    <tr>\n",
       "      <th>4253</th>\n",
       "      <td>“Priceline Deal”</td>\n",
       "      <td>Got the Hilton for $100.00 / night on Pricelin...</td>\n",
       "      <td>October 2008</td>\n",
       "      <td>2009-08-01</td>\n",
       "      <td>4.0</td>\n",
       "      <td>4.0</td>\n",
       "      <td>4.0</td>\n",
       "      <td>4.0</td>\n",
       "      <td>4.0</td>\n",
       "      <td>NaN</td>\n",
       "      <td>4.0</td>\n",
       "      <td>San Francisco</td>\n",
       "      <td>Hilton San Francisco Fisherman's Wharf</td>\n",
       "      <td>good</td>\n",
       "      <td>“Priceline Deal” Got the Hilton for $100.00 / ...</td>\n",
       "    </tr>\n",
       "    <tr>\n",
       "      <th>30076</th>\n",
       "      <td>“Who could ask for anything more?”</td>\n",
       "      <td>If you are looking for a reasonable, comfortab...</td>\n",
       "      <td>December 2007</td>\n",
       "      <td>2008-01-03</td>\n",
       "      <td>5.0</td>\n",
       "      <td>4.0</td>\n",
       "      <td>5.0</td>\n",
       "      <td>4.0</td>\n",
       "      <td>5.0</td>\n",
       "      <td>NaN</td>\n",
       "      <td>5.0</td>\n",
       "      <td>New York City</td>\n",
       "      <td>The Hampton Inn Times Square North</td>\n",
       "      <td>good</td>\n",
       "      <td>“Who could ask for anything more?” If you are ...</td>\n",
       "    </tr>\n",
       "    <tr>\n",
       "      <th>48047</th>\n",
       "      <td>“Lovely &amp; sassy - a total home away from home!”</td>\n",
       "      <td>I love this hotel. Whenever I have to travel t...</td>\n",
       "      <td>August 2011</td>\n",
       "      <td>2011-09-01</td>\n",
       "      <td>5.0</td>\n",
       "      <td>5.0</td>\n",
       "      <td>5.0</td>\n",
       "      <td>4.0</td>\n",
       "      <td>NaN</td>\n",
       "      <td>5.0</td>\n",
       "      <td>NaN</td>\n",
       "      <td>Los Angeles</td>\n",
       "      <td>W Los Angeles - Westwood</td>\n",
       "      <td>good</td>\n",
       "      <td>“Lovely &amp; sassy - a total home away from home!...</td>\n",
       "    </tr>\n",
       "    <tr>\n",
       "      <th>1666</th>\n",
       "      <td>“Nice Hotel”</td>\n",
       "      <td>Stayed here for 2 nights on a shopping weekend...</td>\n",
       "      <td>November 2011</td>\n",
       "      <td>2011-12-17</td>\n",
       "      <td>4.0</td>\n",
       "      <td>4.0</td>\n",
       "      <td>4.0</td>\n",
       "      <td>4.0</td>\n",
       "      <td>4.0</td>\n",
       "      <td>4.0</td>\n",
       "      <td>4.0</td>\n",
       "      <td>Seattle</td>\n",
       "      <td>Residence Inn Seattle Downtown/Lake Union</td>\n",
       "      <td>good</td>\n",
       "      <td>“Nice Hotel” Stayed here for 2 nights on a sho...</td>\n",
       "    </tr>\n",
       "    <tr>\n",
       "      <th>30740</th>\n",
       "      <td>“Wonderful Stay”</td>\n",
       "      <td>We stayed at the Hyatt for our anniversary. It...</td>\n",
       "      <td>August 2009</td>\n",
       "      <td>2009-10-08</td>\n",
       "      <td>3.0</td>\n",
       "      <td>4.0</td>\n",
       "      <td>4.0</td>\n",
       "      <td>4.0</td>\n",
       "      <td>2.0</td>\n",
       "      <td>NaN</td>\n",
       "      <td>4.0</td>\n",
       "      <td>Charlotte</td>\n",
       "      <td>Renaissance Charlotte SouthPark Hotel</td>\n",
       "      <td>good</td>\n",
       "      <td>“Wonderful Stay” We stayed at the Hyatt for ou...</td>\n",
       "    </tr>\n",
       "  </tbody>\n",
       "</table>\n",
       "</div>"
      ],
      "text/plain": [
       "                                                 title  \\\n",
       "4253                                  “Priceline Deal”   \n",
       "30076               “Who could ask for anything more?”   \n",
       "48047  “Lovely & sassy - a total home away from home!”   \n",
       "1666                                      “Nice Hotel”   \n",
       "30740                                 “Wonderful Stay”   \n",
       "\n",
       "                                                  review    date_stayed  \\\n",
       "4253   Got the Hilton for $100.00 / night on Pricelin...   October 2008   \n",
       "30076  If you are looking for a reasonable, comfortab...  December 2007   \n",
       "48047  I love this hotel. Whenever I have to travel t...    August 2011   \n",
       "1666   Stayed here for 2 nights on a shopping weekend...  November 2011   \n",
       "30740  We stayed at the Hyatt for our anniversary. It...    August 2009   \n",
       "\n",
       "            date  service  cleanliness  overall  value  location  \\\n",
       "4253  2009-08-01      4.0          4.0      4.0    4.0       4.0   \n",
       "30076 2008-01-03      5.0          4.0      5.0    4.0       5.0   \n",
       "48047 2011-09-01      5.0          5.0      5.0    4.0       NaN   \n",
       "1666  2011-12-17      4.0          4.0      4.0    4.0       4.0   \n",
       "30740 2009-10-08      3.0          4.0      4.0    4.0       2.0   \n",
       "\n",
       "       sleep_quality  rooms       locality  \\\n",
       "4253             NaN    4.0  San Francisco   \n",
       "30076            NaN    5.0  New York City   \n",
       "48047            5.0    NaN    Los Angeles   \n",
       "1666             4.0    4.0        Seattle   \n",
       "30740            NaN    4.0      Charlotte   \n",
       "\n",
       "                                            name sentiment  \\\n",
       "4253      Hilton San Francisco Fisherman's Wharf      good   \n",
       "30076         The Hampton Inn Times Square North      good   \n",
       "48047                   W Los Angeles - Westwood      good   \n",
       "1666   Residence Inn Seattle Downtown/Lake Union      good   \n",
       "30740      Renaissance Charlotte SouthPark Hotel      good   \n",
       "\n",
       "                                                    text  \n",
       "4253   “Priceline Deal” Got the Hilton for $100.00 / ...  \n",
       "30076  “Who could ask for anything more?” If you are ...  \n",
       "48047  “Lovely & sassy - a total home away from home!...  \n",
       "1666   “Nice Hotel” Stayed here for 2 nights on a sho...  \n",
       "30740  “Wonderful Stay” We stayed at the Hyatt for ou...  "
      ]
     },
     "execution_count": 5,
     "metadata": {},
     "output_type": "execute_result"
    }
   ],
   "source": [
    "df.head()"
   ]
  },
  {
   "cell_type": "code",
   "execution_count": null,
   "id": "585e4174-29cc-44ab-89eb-0ad13430ade8",
   "metadata": {
    "ExecuteTime": {
     "end_time": "2023-04-24T10:48:23.851477Z",
     "start_time": "2023-04-24T10:48:23.848017Z"
    },
    "id": "585e4174-29cc-44ab-89eb-0ad13430ade8",
    "outputId": "69eb7b57-005e-4e9e-f3ef-ff822f6cd074"
   },
   "outputs": [
    {
     "data": {
      "text/plain": [
       "sentiment  overall\n",
       "bad        3.0        1394\n",
       "           2.0         705\n",
       "           1.0         693\n",
       "good       5.0        4054\n",
       "           4.0        3154\n",
       "Name: overall, dtype: int64"
      ]
     },
     "execution_count": 6,
     "metadata": {},
     "output_type": "execute_result"
    }
   ],
   "source": [
    "df.groupby(\"sentiment\")[\"overall\"].value_counts()"
   ]
  },
  {
   "cell_type": "markdown",
   "id": "elect-turkey",
   "metadata": {
    "id": "elect-turkey"
   },
   "source": [
    "-----"
   ]
  },
  {
   "cell_type": "markdown",
   "id": "87c9e896-405a-4401-96b4-ebbb9c77ed3a",
   "metadata": {
    "id": "87c9e896-405a-4401-96b4-ebbb9c77ed3a"
   },
   "source": [
    "## Dummy baseline"
   ]
  },
  {
   "cell_type": "code",
   "execution_count": null,
   "id": "complimentary-profile",
   "metadata": {
    "ExecuteTime": {
     "end_time": "2023-04-24T10:48:25.060665Z",
     "start_time": "2023-04-24T10:48:25.050421Z"
    },
    "id": "complimentary-profile"
   },
   "outputs": [],
   "source": [
    "from sklearn.dummy import DummyClassifier\n",
    "from sklearn.metrics import accuracy_score, classification_report\n",
    "from sklearn.model_selection import train_test_split"
   ]
  },
  {
   "cell_type": "code",
   "execution_count": null,
   "id": "loving-trace",
   "metadata": {
    "ExecuteTime": {
     "end_time": "2023-04-24T10:48:25.634057Z",
     "start_time": "2023-04-24T10:48:25.623987Z"
    },
    "id": "loving-trace"
   },
   "outputs": [],
   "source": [
    "train, test = train_test_split(\n",
    "    df, test_size=0.1, stratify=df[\"sentiment\"], random_state=619\n",
    ")"
   ]
  },
  {
   "cell_type": "code",
   "execution_count": null,
   "id": "crude-worse",
   "metadata": {
    "ExecuteTime": {
     "end_time": "2023-04-24T10:48:30.778363Z",
     "start_time": "2023-04-24T10:48:30.773270Z"
    },
    "id": "crude-worse",
    "outputId": "8be7ea34-5863-4642-fe55-ae4e503cc435"
   },
   "outputs": [
    {
     "name": "stdout",
     "output_type": "stream",
     "text": [
      "0.721\n"
     ]
    }
   ],
   "source": [
    "dummy = DummyClassifier()\n",
    "dummy.fit(train[\"text\"], train[\"sentiment\"])\n",
    "print(accuracy_score(test[\"sentiment\"], dummy.predict(test[\"text\"])))"
   ]
  },
  {
   "cell_type": "markdown",
   "id": "swedish-campus",
   "metadata": {
    "id": "swedish-campus"
   },
   "source": [
    "-----"
   ]
  },
  {
   "cell_type": "markdown",
   "id": "28a82390-2d81-4489-87c9-c0ed9dd86140",
   "metadata": {
    "id": "28a82390-2d81-4489-87c9-c0ed9dd86140"
   },
   "source": [
    "## VADER"
   ]
  },
  {
   "cell_type": "code",
   "execution_count": null,
   "id": "improving-necklace",
   "metadata": {
    "ExecuteTime": {
     "end_time": "2023-04-24T10:48:37.744300Z",
     "start_time": "2023-04-24T10:48:37.570314Z"
    },
    "id": "improving-necklace"
   },
   "outputs": [],
   "source": [
    "import matplotlib.pyplot as plt\n",
    "import nltk\n",
    "from nltk.sentiment.vader import SentimentIntensityAnalyzer"
   ]
  },
  {
   "cell_type": "markdown",
   "id": "101820db-1e7d-458c-92c7-7894dbfe6a4f",
   "metadata": {
    "id": "101820db-1e7d-458c-92c7-7894dbfe6a4f"
   },
   "source": [
    "### Compound scores\n",
    "\n",
    "VADER \"compound\" scores are an aggregate measure of overall sentiment. VADER uses a predefined lexicon so there's no need for \"training\" data."
   ]
  },
  {
   "cell_type": "code",
   "execution_count": null,
   "id": "portuguese-recognition",
   "metadata": {
    "ExecuteTime": {
     "end_time": "2023-04-24T10:48:56.057770Z",
     "start_time": "2023-04-24T10:48:48.799314Z"
    },
    "colab": {
     "referenced_widgets": [
      "a2631eed50314407b21799be28b068bf",
      "be09ea5d75244138ae572a2dc782c9c5"
     ]
    },
    "id": "portuguese-recognition",
    "outputId": "6ade1c60-147e-493d-a14e-50dd442dad79"
   },
   "outputs": [
    {
     "data": {
      "application/vnd.jupyter.widget-view+json": {
       "model_id": "a2631eed50314407b21799be28b068bf",
       "version_major": 2,
       "version_minor": 0
      },
      "text/plain": [
       "  0%|          | 0/9000 [00:00<?, ?it/s]"
      ]
     },
     "metadata": {},
     "output_type": "display_data"
    },
    {
     "data": {
      "application/vnd.jupyter.widget-view+json": {
       "model_id": "be09ea5d75244138ae572a2dc782c9c5",
       "version_major": 2,
       "version_minor": 0
      },
      "text/plain": [
       "  0%|          | 0/1000 [00:00<?, ?it/s]"
      ]
     },
     "metadata": {},
     "output_type": "display_data"
    }
   ],
   "source": [
    "analyzer = SentimentIntensityAnalyzer()\n",
    "\n",
    "\n",
    "def get_sentiment(text):\n",
    "    return analyzer.polarity_scores(text)[\"compound\"]\n",
    "\n",
    "\n",
    "train[\"vader\"] = train[\"text\"].progress_apply(get_sentiment)\n",
    "test[\"vader\"] = test[\"text\"].progress_apply(get_sentiment)"
   ]
  },
  {
   "cell_type": "markdown",
   "id": "930b6e3a-706c-4167-b126-845940d1008d",
   "metadata": {
    "ExecuteTime": {
     "end_time": "2023-04-24T10:48:58.145487Z",
     "start_time": "2023-04-24T10:48:57.974011Z"
    },
    "id": "930b6e3a-706c-4167-b126-845940d1008d"
   },
   "source": [
    "Highly positive reviews have high compound scores. Highly negative reviews have low compound scores on average, but there is a lot of variation."
   ]
  },
  {
   "cell_type": "code",
   "execution_count": null,
   "id": "abroad-trinidad",
   "metadata": {
    "ExecuteTime": {
     "end_time": "2023-04-24T10:48:59.183166Z",
     "start_time": "2023-04-24T10:48:59.103405Z"
    },
    "id": "abroad-trinidad",
    "outputId": "88976358-1feb-4649-f43e-eb439497c891"
   },
   "outputs": [
    {
     "data": {
      "image/png": "[encoded data removed]",
      "text/plain": [
       "<Figure size 640x480 with 1 Axes>"
      ]
     },
     "metadata": {},
     "output_type": "display_data"
    }
   ],
   "source": [
    "train.boxplot(\"vader\", by=\"overall\", grid=False, showfliers=False)\n",
    "plt.ylabel(\"VADER composite\")\n",
    "plt.title(\"\")\n",
    "plt.show()"
   ]
  },
  {
   "cell_type": "markdown",
   "id": "8727ef62-0a71-40e6-a495-eaadf22bf609",
   "metadata": {
    "ExecuteTime": {
     "end_time": "2023-04-24T10:49:01.173091Z",
     "start_time": "2023-04-24T10:49:01.169950Z"
    },
    "id": "8727ef62-0a71-40e6-a495-eaadf22bf609"
   },
   "source": [
    "Can we find a cutoff value theta, where compound>theta = good review and compound<=theta = bad review? We'll find a threshold using the training data and then test it on our test data."
   ]
  },
  {
   "cell_type": "code",
   "execution_count": null,
   "id": "weekly-variable",
   "metadata": {
    "ExecuteTime": {
     "end_time": "2023-04-24T10:49:02.296731Z",
     "start_time": "2023-04-24T10:49:02.251697Z"
    },
    "id": "weekly-variable"
   },
   "outputs": [],
   "source": [
    "theta = np.linspace(-1.0, 1.0, 50)\n",
    "compound = [\n",
    "    accuracy_score((train[\"vader\"] > t), (train[\"sentiment\"] == \"good\")) for t in theta\n",
    "]"
   ]
  },
  {
   "cell_type": "code",
   "execution_count": null,
   "id": "mathematical-intersection",
   "metadata": {
    "ExecuteTime": {
     "end_time": "2023-04-24T10:49:02.822779Z",
     "start_time": "2023-04-24T10:49:02.774966Z"
    },
    "id": "mathematical-intersection",
    "outputId": "9dc7b3d9-68d5-4dc6-a94b-2c9f0f32df24"
   },
   "outputs": [
    {
     "data": {
      "image/png": "[encoded data removed]",
      "text/plain": [
       "<Figure size 640x480 with 1 Axes>"
      ]
     },
     "metadata": {},
     "output_type": "display_data"
    }
   ],
   "source": [
    "plt.plot(theta, compound)\n",
    "plt.xlabel(\"VADER cutoff\")\n",
    "plt.ylabel(\"Train acc.\")\n",
    "plt.show()"
   ]
  },
  {
   "cell_type": "markdown",
   "id": "f29924ca-0655-424b-bf2f-13ae74d46322",
   "metadata": {
    "id": "f29924ca-0655-424b-bf2f-13ae74d46322"
   },
   "source": [
    "The peak!"
   ]
  },
  {
   "cell_type": "code",
   "execution_count": null,
   "id": "elementary-ukraine",
   "metadata": {
    "ExecuteTime": {
     "end_time": "2023-04-24T10:49:04.790197Z",
     "start_time": "2023-04-24T10:49:04.787459Z"
    },
    "id": "elementary-ukraine",
    "outputId": "69d0d4f7-ec7e-4d3a-d290-5c825d1780b3"
   },
   "outputs": [
    {
     "data": {
      "text/plain": [
       "0.6734693877551019"
      ]
     },
     "execution_count": 17,
     "metadata": {},
     "output_type": "execute_result"
    }
   ],
   "source": [
    "theta[np.argmax(compound)]"
   ]
  },
  {
   "cell_type": "code",
   "execution_count": null,
   "id": "living-spencer",
   "metadata": {
    "ExecuteTime": {
     "end_time": "2023-04-24T10:49:06.171580Z",
     "start_time": "2023-04-24T10:49:06.166313Z"
    },
    "id": "living-spencer",
    "outputId": "53ffe2c3-973c-4e6e-e3e7-bed703ad14b1"
   },
   "outputs": [
    {
     "data": {
      "text/plain": [
       "0.794"
      ]
     },
     "execution_count": 19,
     "metadata": {},
     "output_type": "execute_result"
    }
   ],
   "source": [
    "thresh = _\n",
    "accuracy_score((test[\"vader\"] > thresh), (test[\"sentiment\"] == \"good\"))"
   ]
  },
  {
   "cell_type": "markdown",
   "id": "continued-manner",
   "metadata": {
    "id": "continued-manner"
   },
   "source": [
    "Let's look at some errors:"
   ]
  },
  {
   "cell_type": "code",
   "execution_count": null,
   "id": "loaded-radical",
   "metadata": {
    "ExecuteTime": {
     "end_time": "2023-04-24T10:49:08.580874Z",
     "start_time": "2023-04-24T10:49:08.574122Z"
    },
    "id": "loaded-radical",
    "outputId": "19e7cea4-1459-4d8c-de9c-12dec037e22d"
   },
   "outputs": [
    {
     "data": {
      "text/plain": [
       "'“No clean rooms at 4:00 PM?” My husband and I were going to be in Charlotte for the night of July 14th. Since we had been so pleased with our stay at Hyatt Place in North Charleston, SC, we decided to give the HP at this location a try. Upon arrival at 4:00 PM (check-in is supposed to be at 3:00 PM), we were advised we would have to wait for a double room to be cleaned for our occupation. The young lady at the desk was very apologetic and kept saying her computer wasn\\'t working properly. The man on the other end of her walky talky kept insisting there were several double rooms clean and available. At last, she gave us a key and sent us to the 5th floor. However, when we tried to enter the room, the maid was still working in there and told us, in very broken English, that it would be \"some time\" before the room would be ready. We returned to the front desk and then were sent to another room which was available and cleaned. We received coupons for a couple of free drinks at the bar and were told dinner would be \"on the house\" but there was little on the menu either of us would care for at dinner and we already had reservations at a downtown restaurant. The breakfast area was small and offered much less a variety than our previous experience at Hyatt Place. Also, the yogurt was in one large bowl, rather than being offered in single serving sizes, which seemed neither convenient nor particularly sanitary. The room was clean and comfortable but I have to admit that I was disappointed with check in and breakfast. The staff was not particularly friendly or pleasant. In short, I would not recommend this location to others.'"
      ]
     },
     "execution_count": 20,
     "metadata": {},
     "output_type": "execute_result"
    }
   ],
   "source": [
    "train[(train[\"vader\"] > 0.9) & (train[\"sentiment\"] == \"bad\")][\"text\"].iloc[0]"
   ]
  },
  {
   "cell_type": "code",
   "execution_count": null,
   "id": "operating-reservoir",
   "metadata": {
    "ExecuteTime": {
     "end_time": "2023-04-24T10:49:09.247250Z",
     "start_time": "2023-04-24T10:49:09.242326Z"
    },
    "id": "operating-reservoir",
    "outputId": "93d78b49-ab32-4869-dc01-f6ee0da6d6d9"
   },
   "outputs": [
    {
     "data": {
      "text/plain": [
       "{'neg': 0.039, 'neu': 0.871, 'pos': 0.09, 'compound': 0.9386}"
      ]
     },
     "execution_count": 21,
     "metadata": {},
     "output_type": "execute_result"
    }
   ],
   "source": [
    "analyzer.polarity_scores(_)"
   ]
  },
  {
   "cell_type": "code",
   "execution_count": null,
   "id": "wooden-reminder",
   "metadata": {
    "ExecuteTime": {
     "end_time": "2023-04-24T10:49:09.535717Z",
     "start_time": "2023-04-24T10:49:09.530051Z"
    },
    "id": "wooden-reminder",
    "outputId": "3bf1f55b-e4a5-4192-9434-3a75512f3dbe"
   },
   "outputs": [
    {
     "data": {
      "text/plain": [
       "'“Not Bad at all.” We had this hotel booked for us, for a youth trip from church. I was leary when I read the bad reviews on-line. We went with an open mind. It was clean enough, the breakfast was about normal for any hotel chain. The price was great. We had a small problem with communication on check in. The guys didnt know whose name it was under and the man at the desk had a very heavy foriegn accent, but it worked out ok. It was quiet. I didnt hear anything except some loud door slams at around 3 am. The lady that mentioned she was scared. The neighborhood was ok and the clientele was normal as far as I could tell. I have def. stayed in much worse. The only negative about the room was the small bathroom with a small vanity area--a pain with 3 tweens getting ready!'"
      ]
     },
     "execution_count": 27,
     "metadata": {},
     "output_type": "execute_result"
    }
   ],
   "source": [
    "train[(train[\"vader\"] < -0.9) & (train[\"sentiment\"] == \"good\")][\"text\"].iloc[1]"
   ]
  },
  {
   "cell_type": "code",
   "execution_count": null,
   "id": "precious-venice",
   "metadata": {
    "ExecuteTime": {
     "end_time": "2023-04-24T10:49:10.002019Z",
     "start_time": "2023-04-24T10:49:09.997534Z"
    },
    "id": "precious-venice",
    "outputId": "3ba03e63-aac6-4ba6-84c1-5e21638d0311"
   },
   "outputs": [
    {
     "data": {
      "text/plain": [
       "{'neg': 0.158, 'neu': 0.763, 'pos': 0.079, 'compound': -0.9354}"
      ]
     },
     "execution_count": 28,
     "metadata": {},
     "output_type": "execute_result"
    }
   ],
   "source": [
    "analyzer.polarity_scores(_)"
   ]
  },
  {
   "cell_type": "markdown",
   "id": "7f46cc21-16e7-443b-895b-c1e35ce4fba0",
   "metadata": {
    "id": "7f46cc21-16e7-443b-895b-c1e35ce4fba0"
   },
   "source": [
    "---\n",
    "\n",
    "## Positive/negative difference\n",
    "\n",
    "An alternative to the compound score is to compare the % positive vs the % negative"
   ]
  },
  {
   "cell_type": "code",
   "execution_count": null,
   "id": "introductory-marine",
   "metadata": {
    "ExecuteTime": {
     "end_time": "2023-04-24T10:49:27.051944Z",
     "start_time": "2023-04-24T10:49:19.785164Z"
    },
    "colab": {
     "referenced_widgets": [
      "bf850a318f9e4f41b19c92748a7cc363",
      "da94c53f5ff446a9a865166ec18fd75c"
     ]
    },
    "id": "introductory-marine",
    "outputId": "582b9049-d86c-4988-d033-087aca2d7d05"
   },
   "outputs": [
    {
     "data": {
      "application/vnd.jupyter.widget-view+json": {
       "model_id": "bf850a318f9e4f41b19c92748a7cc363",
       "version_major": 2,
       "version_minor": 0
      },
      "text/plain": [
       "  0%|          | 0/9000 [00:00<?, ?it/s]"
      ]
     },
     "metadata": {},
     "output_type": "display_data"
    },
    {
     "data": {
      "application/vnd.jupyter.widget-view+json": {
       "model_id": "da94c53f5ff446a9a865166ec18fd75c",
       "version_major": 2,
       "version_minor": 0
      },
      "text/plain": [
       "  0%|          | 0/1000 [00:00<?, ?it/s]"
      ]
     },
     "metadata": {},
     "output_type": "display_data"
    }
   ],
   "source": [
    "def get_diff(text):\n",
    "    scores = analyzer.polarity_scores(text)\n",
    "    return scores[\"pos\"] - scores[\"neg\"]\n",
    "\n",
    "\n",
    "train[\"vader_diff\"] = train[\"text\"].progress_apply(get_diff)\n",
    "test[\"vader_diff\"] = test[\"text\"].progress_apply(get_diff)"
   ]
  },
  {
   "cell_type": "markdown",
   "id": "8b9f3344-b55d-43fe-bf23-a4ec8f100286",
   "metadata": {
    "id": "8b9f3344-b55d-43fe-bf23-a4ec8f100286"
   },
   "source": [
    "This shows a better correlation with user ratings"
   ]
  },
  {
   "cell_type": "code",
   "execution_count": null,
   "id": "sonic-subject",
   "metadata": {
    "ExecuteTime": {
     "end_time": "2023-04-24T10:49:27.808186Z",
     "start_time": "2023-04-24T10:49:27.705183Z"
    },
    "id": "sonic-subject",
    "outputId": "67d04b31-0a43-4701-a6aa-33918bd3b363"
   },
   "outputs": [
    {
     "data": {
      "image/png": "[encoded data removed]",
      "text/plain": [
       "<Figure size 640x480 with 1 Axes>"
      ]
     },
     "metadata": {},
     "output_type": "display_data"
    }
   ],
   "source": [
    "train.boxplot(\"vader_diff\", by=\"overall\", grid=False, showfliers=False)\n",
    "plt.ylabel(\"VADER pos - VADER neg\")\n",
    "plt.title(\"\")\n",
    "plt.show()"
   ]
  },
  {
   "cell_type": "markdown",
   "id": "4ad7abe8-c096-4ad9-bbbd-c6aa41a8b391",
   "metadata": {
    "id": "4ad7abe8-c096-4ad9-bbbd-c6aa41a8b391"
   },
   "source": [
    "Let's look for a theshold again"
   ]
  },
  {
   "cell_type": "code",
   "execution_count": null,
   "id": "intelligent-glance",
   "metadata": {
    "ExecuteTime": {
     "end_time": "2023-04-24T10:49:33.965464Z",
     "start_time": "2023-04-24T10:49:33.831016Z"
    },
    "id": "intelligent-glance",
    "outputId": "f586daf0-64ac-4650-97de-c62df222edff"
   },
   "outputs": [
    {
     "data": {
      "text/plain": [
       "Text(0, 0.5, 'Train acc.')"
      ]
     },
     "execution_count": 34,
     "metadata": {},
     "output_type": "execute_result"
    },
    {
     "data": {
      "image/png": "[encoded data removed]",
      "text/plain": [
       "<Figure size 640x480 with 1 Axes>"
      ]
     },
     "metadata": {},
     "output_type": "display_data"
    }
   ],
   "source": [
    "theta = np.linspace(-1.0, 1.0, 100)\n",
    "diff = [\n",
    "    accuracy_score((train[\"vader_diff\"] > t), (train[\"sentiment\"] == \"good\"))\n",
    "    for t in theta\n",
    "]\n",
    "\n",
    "plt.plot(theta, diff)\n",
    "plt.xlabel(\"VADER cutoff\")\n",
    "plt.ylabel(\"Train acc.\")"
   ]
  },
  {
   "cell_type": "code",
   "execution_count": null,
   "id": "stainless-bearing",
   "metadata": {
    "ExecuteTime": {
     "end_time": "2023-04-24T10:49:34.811747Z",
     "start_time": "2023-04-24T10:49:34.809956Z"
    },
    "id": "stainless-bearing",
    "outputId": "beb9ae96-a10b-4e36-856a-66df077fc90a"
   },
   "outputs": [
    {
     "data": {
      "text/plain": [
       "0.07070707070707072"
      ]
     },
     "execution_count": 35,
     "metadata": {},
     "output_type": "execute_result"
    }
   ],
   "source": [
    "thresh = theta[np.argmax(diff)]\n",
    "thresh"
   ]
  },
  {
   "cell_type": "code",
   "execution_count": null,
   "id": "pretty-playback",
   "metadata": {
    "ExecuteTime": {
     "end_time": "2023-04-24T10:49:35.713433Z",
     "start_time": "2023-04-24T10:49:35.709442Z"
    },
    "id": "pretty-playback",
    "outputId": "e2c250a3-1801-4a84-ef81-5c1a87c57674"
   },
   "outputs": [
    {
     "data": {
      "text/plain": [
       "0.846"
      ]
     },
     "execution_count": 36,
     "metadata": {},
     "output_type": "execute_result"
    }
   ],
   "source": [
    "accuracy_score((test[\"vader_diff\"] > thresh), (test[\"sentiment\"] == \"good\"))"
   ]
  },
  {
   "cell_type": "markdown",
   "source": [
    "**Observations:**\n",
    "1. Although, VADER composite score means(through box plot) match the overall ratings, but it is not entirely right.\n",
    "2. Even some of the 1 rated reviews have highly positive composite scores.\n",
    "3. And similar for more rated reviews.\n",
    "4. Getting the threshold by searching over the cut-off where we are good accuracy is a little better than the dummy classifier.\n",
    "5. Where the difference between positive and negative scores seemed a better approach, and more resembles the sentiment labels, and good accuracy.\n",
    "6. The errors in the reviews above are like they added their expectations and what really happened with their stay, and the information was misterpreted, as the model does not use any context."
   ],
   "metadata": {
    "id": "FE24yvESoiA2"
   },
   "id": "FE24yvESoiA2"
  }
 ],
 "metadata": {
  "kernelspec": {
   "display_name": "Python 3 (ipykernel)",
   "language": "python",
   "name": "python3"
  },
  "language_info": {
   "codemirror_mode": {
    "name": "ipython",
    "version": 3
   },
   "file_extension": ".py",
   "mimetype": "text/x-python",
   "name": "python",
   "nbconvert_exporter": "python",
   "pygments_lexer": "ipython3",
   "version": "3.10.8"
  },
  "colab": {
   "provenance": []
  }
 },
 "nbformat": 4,
 "nbformat_minor": 5
}
