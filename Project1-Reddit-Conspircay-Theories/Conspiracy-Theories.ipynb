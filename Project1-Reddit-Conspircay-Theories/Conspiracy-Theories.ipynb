{
 "cells": [
  {
   "cell_type": "markdown",
   "id": "5226ae53-be96-4ce0-9c8c-10d811773d7d",
   "metadata": {},
   "source": [
    "## PROJECT 1: Conspiracy theories\n",
    "**Your task**\n",
    "\n",
    "Given a bunch of comment threads from the r/conspiracies subreddit, develop a set of labels for categorizing them. Labels should be a single word or short phrase. Some threads might fit more than one label.\n",
    "\n",
    "Use methods from labs so far (keyword analysis, terminology extraction, topic models)\n",
    "No specific ‘correct’ answer; the process you use to develop the list is more important than the solution.\n",
    "\n",
    "**Deliverables**\n",
    "\n",
    "List of labels\\\n",
    "For each label, the number of threads from the dataset that fit that label\\\n",
    "Discuss how the mix of labels has changed over time\\\n",
    "Annotated notebook(s) showing your process plus a brief write-up describing your conclusions\n",
    "\n",
    "**To turn in:** download your notebooks as HTMLs file (File>Save and Export Notebook as...>HTML) and submit via canvas"
   ]
  },
  {
   "cell_type": "code",
   "execution_count": 1,
   "id": "a142a467-3ea3-4daf-a7e3-05a55c20b85f",
   "metadata": {
    "tags": []
   },
   "outputs": [],
   "source": [
    "import re\n",
    "from collections import Counter, defaultdict\n",
    "\n",
    "import nltk\n",
    "import numpy as np\n",
    "import pandas as pd\n",
    "from cytoolz import concat\n",
    "from tqdm import tqdm"
   ]
  },
  {
   "cell_type": "code",
   "execution_count": 2,
   "id": "6fe4a014-6fdf-49e6-ab43-0a9e329952d2",
   "metadata": {},
   "outputs": [
    {
     "data": {
      "text/html": [
       "<div>\n",
       "<style scoped>\n",
       "    .dataframe tbody tr th:only-of-type {\n",
       "        vertical-align: middle;\n",
       "    }\n",
       "\n",
       "    .dataframe tbody tr th {\n",
       "        vertical-align: top;\n",
       "    }\n",
       "\n",
       "    .dataframe thead th {\n",
       "        text-align: right;\n",
       "    }\n",
       "</style>\n",
       "<table border=\"1\" class=\"dataframe\">\n",
       "  <thead>\n",
       "    <tr style=\"text-align: right;\">\n",
       "      <th></th>\n",
       "      <th>date</th>\n",
       "      <th>text</th>\n",
       "    </tr>\n",
       "  </thead>\n",
       "  <tbody>\n",
       "    <tr>\n",
       "      <th>0</th>\n",
       "      <td>2019-08-09 21:58:14</td>\n",
       "      <td>Your post has been removed because it does not...</td>\n",
       "    </tr>\n",
       "    <tr>\n",
       "      <th>1</th>\n",
       "      <td>2022-01-15 19:16:00</td>\n",
       "      <td>Ugh I am sick of seeing his face He is so cont...</td>\n",
       "    </tr>\n",
       "    <tr>\n",
       "      <th>2</th>\n",
       "      <td>2022-10-24 16:25:16</td>\n",
       "      <td>Im not saying charges werent used, what I am s...</td>\n",
       "    </tr>\n",
       "    <tr>\n",
       "      <th>3</th>\n",
       "      <td>2016-10-28 15:10:41</td>\n",
       "      <td>Its actually a callback to Tom Cruises moment ...</td>\n",
       "    </tr>\n",
       "    <tr>\n",
       "      <th>4</th>\n",
       "      <td>2020-12-12 19:53:11</td>\n",
       "      <td>All caps titles are not permitted as per rule ...</td>\n",
       "    </tr>\n",
       "    <tr>\n",
       "      <th>...</th>\n",
       "      <td>...</td>\n",
       "      <td>...</td>\n",
       "    </tr>\n",
       "    <tr>\n",
       "      <th>19993</th>\n",
       "      <td>2022-03-03 07:03:00</td>\n",
       "      <td>Cry me a river Im speaking from my personal po...</td>\n",
       "    </tr>\n",
       "    <tr>\n",
       "      <th>19994</th>\n",
       "      <td>2021-02-13 08:04:35</td>\n",
       "      <td>Whats the conspiracy All I see are political o...</td>\n",
       "    </tr>\n",
       "    <tr>\n",
       "      <th>19995</th>\n",
       "      <td>2016-12-06 19:21:36</td>\n",
       "      <td>Remind people that this shit is larger and mor...</td>\n",
       "    </tr>\n",
       "    <tr>\n",
       "      <th>19996</th>\n",
       "      <td>2015-12-06 16:25:01</td>\n",
       "      <td>you do not have time to go tell nasa yourself...</td>\n",
       "    </tr>\n",
       "    <tr>\n",
       "      <th>19997</th>\n",
       "      <td>2021-12-14 06:26:40</td>\n",
       "      <td>good to know, i havent been able to get a stra...</td>\n",
       "    </tr>\n",
       "  </tbody>\n",
       "</table>\n",
       "<p>19969 rows × 2 columns</p>\n",
       "</div>"
      ],
      "text/plain": [
       "                     date                                               text\n",
       "0     2019-08-09 21:58:14  Your post has been removed because it does not...\n",
       "1     2022-01-15 19:16:00  Ugh I am sick of seeing his face He is so cont...\n",
       "2     2022-10-24 16:25:16  Im not saying charges werent used, what I am s...\n",
       "3     2016-10-28 15:10:41  Its actually a callback to Tom Cruises moment ...\n",
       "4     2020-12-12 19:53:11  All caps titles are not permitted as per rule ...\n",
       "...                   ...                                                ...\n",
       "19993 2022-03-03 07:03:00  Cry me a river Im speaking from my personal po...\n",
       "19994 2021-02-13 08:04:35  Whats the conspiracy All I see are political o...\n",
       "19995 2016-12-06 19:21:36  Remind people that this shit is larger and mor...\n",
       "19996 2015-12-06 16:25:01   you do not have time to go tell nasa yourself...\n",
       "19997 2021-12-14 06:26:40  good to know, i havent been able to get a stra...\n",
       "\n",
       "[19969 rows x 2 columns]"
      ]
     },
     "execution_count": 2,
     "metadata": {},
     "output_type": "execute_result"
    }
   ],
   "source": [
    "df = pd.read_pickle(\"/data/conspiracy.pkl\")\n",
    "\n",
    "df['text'] = df['text'].apply(lambda x: re.sub(r'http\\S+', '', x)) # remove URLs\n",
    "df['text'] = df['text'].apply(lambda x: re.sub(r'[^\\w\\s,]', '', x)) # remove emojis \n",
    "df"
   ]
  },
  {
   "cell_type": "markdown",
   "id": "bf61676a-5c6e-4a3e-9274-f7d7c7c24111",
   "metadata": {},
   "source": [
    "## Tokenize text\n",
    "\n",
    "Tokenize in two steps: first find multiword expressions and then use them to divide text into 'words'"
   ]
  },
  {
   "cell_type": "code",
   "execution_count": 3,
   "id": "2042d63c-f89c-41c0-bccb-1cc51ea761ed",
   "metadata": {},
   "outputs": [],
   "source": [
    "import spacy\n",
    "from spacy.matcher import Matcher\n",
    "\n",
    "nlp = spacy.load(\n",
    "    \"en_core_web_sm\", exclude=[\"parser\", \"ner\", \"lemmatizer\", \"attribute_ruler\"]\n",
    ")"
   ]
  },
  {
   "cell_type": "code",
   "execution_count": 4,
   "id": "ebaaf4f8-d723-49f7-93df-aec69afe7e5a",
   "metadata": {},
   "outputs": [],
   "source": [
    "matcher = Matcher(nlp.vocab)\n",
    "matcher.add(\n",
    "    \"Term\",\n",
    "    [\n",
    "        [\n",
    "            {\"TAG\": {\"IN\": [\"JJ\", \"NN\", \"NNS\", \"NNP\"]}},\n",
    "            {\"TAG\": {\"IN\": [\"JJ\", \"NN\", \"NNS\", \"NNP\", \"HYPH\"]}, \"OP\": \"*\"},\n",
    "            {\"TAG\": {\"IN\": [\"NN\", \"NNS\", \"NNP\"]}},\n",
    "        ]\n",
    "    ],\n",
    ")\n",
    "\n",
    "\n",
    "def get_phrases(doc):\n",
    "    spans = matcher(doc, as_spans=True)\n",
    "    return [tuple(tok.norm_ for tok in span) for span in spans]"
   ]
  },
  {
   "cell_type": "markdown",
   "id": "6e138fe6-e822-4094-9464-35c49c0adbdd",
   "metadata": {},
   "source": [
    "## Find candidate terms"
   ]
  },
  {
   "cell_type": "code",
   "execution_count": 5,
   "id": "50e19386-54e7-41bc-8faa-725a1d21f7d8",
   "metadata": {},
   "outputs": [],
   "source": [
    "#remove the punctuations and covert all the text to lower case\n",
    "\n",
    "df['text'] = df['text'].apply(lambda x: re.sub(r'[^\\w\\s]', '', x.lower()))"
   ]
  },
  {
   "cell_type": "code",
   "execution_count": 6,
   "id": "e695161a-e250-4da2-8161-154619234124",
   "metadata": {},
   "outputs": [
    {
     "name": "stderr",
     "output_type": "stream",
     "text": [
      "[nltk_data] Downloading package stopwords to\n",
      "[nltk_data]     /home/kothapally/nltk_data...\n",
      "[nltk_data]   Package stopwords is already up-to-date!\n"
     ]
    }
   ],
   "source": [
    "#remove urls and emojis if any present \n",
    "df['text'] = df['text'].apply(lambda x: re.sub(r'http\\S+', '', x)) # remove URLs\n",
    "df['text'] = df['text'].apply(lambda x: re.sub(r'[^\\w\\s,]', '', x)) # remove emojis\n",
    "\n",
    "# Unwanted entry\n",
    "df['text'] = df['text'].apply(lambda x: re.sub(r'sa', '', x))\n",
    "\n",
    "# remove stop words such as i, me, myself etc\n",
    "import nltk\n",
    "nltk.download('stopwords')\n",
    "from nltk.corpus import stopwords\n",
    "\n",
    "stop_words = set(stopwords.words('english'))\n",
    "df['text'] = df['text'].apply(lambda x: ' '.join([word for word in x.split() if word not in stop_words]))"
   ]
  },
  {
   "cell_type": "code",
   "execution_count": 7,
   "id": "561a272c-0620-4f24-9d53-2e5cd5c6bd6a",
   "metadata": {},
   "outputs": [
    {
     "name": "stderr",
     "output_type": "stream",
     "text": [
      "100%|██████████| 19969/19969 [03:49<00:00, 87.16it/s] \n"
     ]
    }
   ],
   "source": [
    "docs = nlp.pipe(tqdm(df[\"text\"]), n_process=2, batch_size=5)\n",
    "candidates = Counter(concat(get_phrases(d) for d in docs))"
   ]
  },
  {
   "cell_type": "code",
   "execution_count": 10,
   "id": "0fca129b-d9e7-49d2-901c-3fb6f5cd7987",
   "metadata": {},
   "outputs": [
    {
     "data": {
      "text/plain": [
       "[(('i', \"'d\"), 19990),\n",
       " (('submission', 'statement'), 6592),\n",
       " (('many', 'people'), 2561),\n",
       " (('link', 'comment'), 1920),\n",
       " (('comment', 'submission'), 1906),\n",
       " (('contain', 'submission'), 1905),\n",
       " (('contain', 'submission', 'statement'), 1905),\n",
       " (('comment', 'submission', 'statement'), 1903),\n",
       " (('statement', 'bot'), 1902),\n",
       " (('submission', 'statement', 'bot'), 1902)]"
      ]
     },
     "execution_count": 10,
     "metadata": {},
     "output_type": "execute_result"
    }
   ],
   "source": [
    "candidates.most_common(10)"
   ]
  },
  {
   "cell_type": "markdown",
   "id": "80355778-93dd-4db7-bd4a-46c173fc19b7",
   "metadata": {},
   "source": [
    "### Use C-value algorithm to find terms"
   ]
  },
  {
   "cell_type": "code",
   "execution_count": 11,
   "id": "c7202d9f-acea-495b-9a11-ed4fa2707a14",
   "metadata": {},
   "outputs": [],
   "source": [
    "freqs = defaultdict(Counter)\n",
    "for c in candidates:\n",
    "    freqs[len(c)][c] += candidates[c]"
   ]
  },
  {
   "cell_type": "code",
   "execution_count": 12,
   "id": "2360f182-88cd-4e58-b920-63c5261322b0",
   "metadata": {},
   "outputs": [],
   "source": [
    "def get_subterms(term):\n",
    "    k = len(term)\n",
    "    for m in range(k - 1, 1, -1):\n",
    "        yield from nltk.ngrams(term, m)\n",
    "\n",
    "\n",
    "def c_value(F, theta):\n",
    "\n",
    "    termhood = Counter()\n",
    "    longer = defaultdict(list)\n",
    "\n",
    "    for k in sorted(F, reverse=True):\n",
    "        for term in F[k]:\n",
    "            if term in longer:\n",
    "                discount = sum(longer[term]) / len(longer[term])\n",
    "            else:\n",
    "                discount = 0\n",
    "            c = np.log2(k) * (F[k][term] - discount)\n",
    "            if c > theta:\n",
    "                termhood[term] = c\n",
    "                for subterm in get_subterms(term):\n",
    "                    if subterm in F[len(subterm)]:\n",
    "                        longer[subterm].append(F[k][term])\n",
    "    return termhood"
   ]
  },
  {
   "cell_type": "code",
   "execution_count": 13,
   "id": "ac806c7d-dbe1-44c7-816c-3a1eebf75b17",
   "metadata": {},
   "outputs": [],
   "source": [
    "terms = c_value(freqs, theta=100)"
   ]
  },
  {
   "cell_type": "code",
   "execution_count": 16,
   "id": "a83b6dca-c3a2-4ee0-bd23-27ea7e3e1b5f",
   "metadata": {},
   "outputs": [
    {
     "data": {
      "text/plain": [
       "[(('i', \"'d\"), 19880.5),\n",
       " (('link', 'comment', 'submission', 'statement', 'bot', 'replies', 'pms'),\n",
       "  5333.974351909448),\n",
       " (('submission', 'statement'), 4689.5),\n",
       " (('contain', 'submission', 'statement'), 3019.353563873802),\n",
       " (('moderators', 'subreddit', 'questions', 'concerns'), 2808.0),\n",
       " (('many', 'people'), 2561.0),\n",
       " (('mesge', 'error'), 1901.0),\n",
       " (('mods', 'modmail'), 1901.0),\n",
       " (('social', 'media'), 1754.0),\n",
       " (('united', 'states'), 1572.5)]"
      ]
     },
     "execution_count": 16,
     "metadata": {},
     "output_type": "execute_result"
    }
   ],
   "source": [
    "terms.most_common(10)"
   ]
  },
  {
   "cell_type": "code",
   "execution_count": 15,
   "id": "aa4a8b7e-f41d-4c2a-ae37-802c99224197",
   "metadata": {
    "collapsed": true,
    "jupyter": {
     "outputs_hidden": true
    },
    "tags": []
   },
   "outputs": [
    {
     "data": {
      "text/plain": [
       "[(('legal', 'system'), 102.0),\n",
       " (('project', 'veritas'), 102.0),\n",
       " (('death',\n",
       "   'panels',\n",
       "   'death',\n",
       "   'panels',\n",
       "   'death',\n",
       "   'panels',\n",
       "   'death',\n",
       "   'panels',\n",
       "   'death',\n",
       "   'panels',\n",
       "   'death',\n",
       "   'panels',\n",
       "   'death',\n",
       "   'panels',\n",
       "   'death',\n",
       "   'panels',\n",
       "   'death',\n",
       "   'panels',\n",
       "   'death',\n",
       "   'panels',\n",
       "   'death',\n",
       "   'panels',\n",
       "   'death',\n",
       "   'panels',\n",
       "   'death',\n",
       "   'panels',\n",
       "   'death',\n",
       "   'panels',\n",
       "   'death',\n",
       "   'panels',\n",
       "   'death',\n",
       "   'panels',\n",
       "   'death',\n",
       "   'panels'),\n",
       "  101.74925682500678),\n",
       " (('george', 'w', 'bush'), 101.43760004615399),\n",
       " (('child', 'sex', 'trafficking'), 101.43760004615399),\n",
       " (('world', 'war', 'ii'), 101.43760004615399),\n",
       " (('health', 'problems'), 101.0),\n",
       " (('logical', 'fallacy'), 101.0),\n",
       " (('child', 'pornography'), 101.0),\n",
       " (('wrong', 'way'), 101.0)]"
      ]
     },
     "execution_count": 15,
     "metadata": {},
     "output_type": "execute_result"
    }
   ],
   "source": [
    "terms.most_common()[-10:]"
   ]
  },
  {
   "cell_type": "markdown",
   "id": "ebb57683-b587-4a35-99b4-01732f88d4f2",
   "metadata": {},
   "source": [
    "## save terms"
   ]
  },
  {
   "cell_type": "code",
   "execution_count": 17,
   "id": "0cdd7a54-1559-4bda-aa81-28ea181ed930",
   "metadata": {},
   "outputs": [],
   "source": [
    "with open(\"terms.txt\", \"w\") as f:\n",
    "    for term in terms:\n",
    "        print(\" \".join(term), file=f)"
   ]
  },
  {
   "cell_type": "markdown",
   "id": "59d22f1b-4df1-4541-a925-df0d60c2a3f3",
   "metadata": {},
   "source": [
    "The terms in top 10 most common terms are from the automated bot comment which removed the comment threads that contain theories which are not right for the community.\n",
    "\n",
    "After filtering through theta value, the least common terms are related to child abuse, world war ii, legal systems and health."
   ]
  },
  {
   "cell_type": "markdown",
   "id": "39fddea2-c0ba-45b0-8c7e-8890fe2729c6",
   "metadata": {},
   "source": [
    "## Second part of tokenization: tokenize texts using terms we just found"
   ]
  },
  {
   "cell_type": "code",
   "execution_count": 18,
   "id": "90ee663c-7779-43ca-a4b8-cac56047813c",
   "metadata": {},
   "outputs": [],
   "source": [
    "from tokenizer import MWETokenizer\n",
    "\n",
    "tokenizer = MWETokenizer(t.strip() for t in open(\"terms.txt\"))"
   ]
  },
  {
   "cell_type": "code",
   "execution_count": 19,
   "id": "90dc1c3e-84ac-4f32-a82d-0dd3828fc726",
   "metadata": {},
   "outputs": [
    {
     "name": "stderr",
     "output_type": "stream",
     "text": [
      "100%|██████████| 19969/19969 [00:28<00:00, 709.47it/s] \n"
     ]
    }
   ],
   "source": [
    "df[\"tokens\"] = [tokenizer.tokenize(txt) for txt in tqdm(df[\"text\"])]"
   ]
  },
  {
   "cell_type": "markdown",
   "id": "3b987fc5-ceca-4765-854b-3d64f37c8733",
   "metadata": {},
   "source": [
    "## TOPIC MODEL\n",
    "\n",
    "Next up: Using our tokenized texts, build a topic model"
   ]
  },
  {
   "cell_type": "code",
   "execution_count": 20,
   "id": "cd6d037d-7bf0-4e4a-a4ed-5160c83b1ca3",
   "metadata": {},
   "outputs": [],
   "source": [
    "import tomotopy as tp"
   ]
  },
  {
   "cell_type": "code",
   "execution_count": 21,
   "id": "4fdaea36-5771-4052-8164-9d45958507b2",
   "metadata": {},
   "outputs": [],
   "source": [
    "k = 35\n",
    "min_df = 100\n",
    "rm_top = 75\n",
    "tw = tp.TermWeight.ONE\n",
    "alpha = 0.1\n",
    "eta = 0.01\n",
    "tol = 1e-5"
   ]
  },
  {
   "cell_type": "code",
   "execution_count": 22,
   "id": "bdd220e2-38fd-4755-975e-6308ebb09fd9",
   "metadata": {
    "tags": []
   },
   "outputs": [
    {
     "name": "stdout",
     "output_type": "stream",
     "text": [
      "    0 LL = -12.0732\n",
      "   50 LL =  -9.3051\n",
      "  100 LL =  -9.1575\n",
      "  150 LL =  -9.0731\n",
      "  200 LL =  -9.0240\n",
      "  250 LL =  -8.9930\n",
      "  300 LL =  -8.9745\n",
      "  350 LL =  -8.9595\n",
      "  400 LL =  -8.9492\n",
      "  450 LL =  -8.9414\n",
      "  500 LL =  -8.9343\n",
      "  550 LL =  -8.9294\n",
      "  600 LL =  -8.9308\n",
      "CPU times: user 4min 41s, sys: 832 ms, total: 4min 42s\n",
      "Wall time: 1min 25s\n"
     ]
    }
   ],
   "source": [
    "%%time\n",
    "\n",
    "mdl = tp.LDAModel(k=k, min_df=min_df, rm_top=rm_top, tw=tw, alpha=alpha, eta=eta)\n",
    "\n",
    "for toks in df[\"tokens\"]:\n",
    "    mdl.add_doc(toks)\n",
    "\n",
    "mdl.train(0)\n",
    "last = mdl.ll_per_word\n",
    "print(f\"{0:5d} LL = {last:8.4f}\", flush=True)\n",
    "\n",
    "for i in range(50, 5000, 50):\n",
    "    mdl.train(50, workers=4)\n",
    "    ll = mdl.ll_per_word\n",
    "    print(f\"{i:5d} LL = {ll:8.4f}\", flush=True)\n",
    "    if ll - last < tol:\n",
    "        break\n",
    "    else:\n",
    "        last = ll"
   ]
  },
  {
   "cell_type": "code",
   "execution_count": 25,
   "id": "e18ad9b6-f2f8-482b-b15f-dc02d763b8ed",
   "metadata": {},
   "outputs": [
    {
     "data": {
      "text/plain": [
       "\"not, i, do, people, like, s, would, one, are, think, m, get, know, you, even, 'd, that, us, see, also, have, going, could, right, u_r_l, want, make, really, well, way, can, go, much, time, does, something, still, they, trump, never, believe, need, actually, got, is, years, take, good, look, anything, shit, sure, post, things, back, point, every, someone, government, world, ying, nothing, lol, many, thing, will, use, there, mean, made, he, work, everyone, money, yes\""
      ]
     },
     "execution_count": 25,
     "metadata": {},
     "output_type": "execute_result"
    }
   ],
   "source": [
    "\", \".join(mdl.removed_top_words)"
   ]
  },
  {
   "cell_type": "code",
   "execution_count": 26,
   "id": "e9cea186-cfb2-4e80-a7a5-8610f2dfb66f",
   "metadata": {},
   "outputs": [],
   "source": [
    "import matplotlib.pyplot as plt\n",
    "from scipy.spatial import distance\n",
    "from sklearn.manifold import MDS, TSNE\n",
    "\n",
    "\n",
    "def plot_topics(mdl, method=\"tsne\", figsize=7):\n",
    "\n",
    "    fig = plt.figure(figsize=(figsize, figsize))\n",
    "\n",
    "    # x, y coords\n",
    "    term_topics_dist = np.stack([mdl.get_topic_word_dist(k) for k in range(mdl.k)])\n",
    "    if method == \"mds\":\n",
    "        dist = distance.squareform(distance.pdist(term_topics_dist, \"jensenshannon\"))\n",
    "        coords = MDS(2, dissimilarity=\"precomputed\").fit_transform(dist)\n",
    "    elif method == \"tsne\":\n",
    "        if mdl.k <= 20:\n",
    "            p = mdl.k - 1\n",
    "        else:\n",
    "            p = 20\n",
    "        coords = TSNE(\n",
    "            2,\n",
    "            metric=distance.jensenshannon,\n",
    "            perplexity=p,\n",
    "            init=\"pca\",\n",
    "            learning_rate=\"auto\",\n",
    "            n_jobs=-1,\n",
    "        ).fit_transform(term_topics_dist)\n",
    "    else:\n",
    "        raise ValueError(f\"Method {method} unknown\")\n",
    "\n",
    "    # size of the circle\n",
    "    doc_topic_dists = np.stack([doc.get_topic_dist() for doc in mdl.docs])\n",
    "    doc_lengths = np.array([len(doc.words) for doc in mdl.docs])\n",
    "    words_per_topic = np.dot(doc_topic_dists.T, doc_lengths)\n",
    "    topic_percent = words_per_topic / words_per_topic.sum()\n",
    "    sizes = topic_percent * (figsize * fig.dpi) * (figsize * fig.dpi) * (0.25 / 3.14)\n",
    "\n",
    "    # draw it\n",
    "    plt.scatter(coords[:, 0], coords[:, 1], s=sizes, alpha=0.3)\n",
    "    for i in range(mdl.k):\n",
    "        plt.text(coords[i, 0], coords[i, 1], i, ha=\"center\", va=\"center\")\n",
    "\n",
    "        plt.tick_params(left=False, bottom=False, labelleft=False, labelbottom=False)"
   ]
  },
  {
   "cell_type": "code",
   "execution_count": 27,
   "id": "e753aca5-8480-4aa9-b598-71aa254d538c",
   "metadata": {},
   "outputs": [
    {
     "data": {
      "image/png": "[encoded data removed]",
      "text/plain": [
       "<Figure size 700x700 with 1 Axes>"
      ]
     },
     "metadata": {},
     "output_type": "display_data"
    }
   ],
   "source": [
    "plot_topics(mdl)"
   ]
  },
  {
   "cell_type": "markdown",
   "id": "67183a73-5b53-461d-a76c-de3485b093c8",
   "metadata": {},
   "source": [
    "I have tried number of topics ranging from 25 to 70 and finally settled here."
   ]
  },
  {
   "cell_type": "code",
   "execution_count": 28,
   "id": "b8154c47-4f71-41a4-8045-6865210a7097",
   "metadata": {},
   "outputs": [
    {
     "name": "stdout",
     "output_type": "stream",
     "text": [
      "  0  fuck, fucking, yeah, guy, man, dude, love, oh, maybe, literally\n",
      "  1  police, gun, guns, cops, blm, violence, protest, antifa, killed, protests\n",
      "  2  power, left, control, system, political, society, freedom, america, capitalism, war\n",
      "  3  please, contact, submission_statement, removed, received, include, added, receive, responses, subsequently\n",
      "  4  911, building, plane, planes, fire, collapse, buildings, steel, wtc, hit\n",
      "  5  np, please, contact, automatically, performed, moderators_subreddit_questions_concerns, account, domain, required, protect\n",
      "  6  vaccine, vaccines, covid, vaccinated, vaccination, vax, getting, shot, medical, unvaccinated\n",
      "  7  1, 2, year, 5, 3, million, number, 6, 10, 4\n",
      "  8  q, conspiracy, truth, conspiracies, real, true, alex_jones, 911, stuff, conspiracy_theories\n",
      "  9  data, google, phone, internet, facebook, information, youtube, using, access, tech\n",
      " 10  media, news, propaganda, cnn, article, msm, story, fake_news, tv, narrative\n",
      " 11  water, oil, energy, gas, car, climate_change, cars, power, climate, weather\n",
      " 12  epstein, children, pizzagate, child, pedo, pizza, pedophile, kids, evidence, art\n",
      " 13  link, find, read, thanks, interesting, found, article, maybe, seems, source\n",
      " 14  covid, virus, flu, deaths, covid19, test, death, cases, pandemic, positive\n",
      " 15  day, maybe, keep, getting, happen, around, already, probably, away, come\n",
      " 16  evidence, fact, wrong, argument, claim, understand, person, proof, question, trying\n",
      " 17  pay, taxes, tax, buy, business, paid, company, debt, companies, market\n",
      " 18  kids, children, women, school, parents, men, sex, child, gay, kid\n",
      " 19  video, videos, guy, fake, dead, shot, story, happened, died, footage\n",
      " 20  god, jesus, religion, bible, religious, tan, evil, christian, church, christians\n",
      " 21  fbi, investigation, russia, evidence, emails, hillary, russian, obama, clinton, wikileaks\n",
      " 22  science, study, research, studies, scientists, scientific, data, dna, autism, dr\n",
      " 23  masks, mask, wearing, wear, covid, wear_mask, face, spread, mandates, virus\n",
      " 24  cia, book, john, first, history, group, american, part, new, former\n",
      " 25  law, state, legal, court, laws, case, illegal, rights, states, federal\n",
      " 26  war, russia, ukraine, military, russian, putin, country, iran, israel, syria\n",
      " 27  china, country, countries, chinese, america, american, canada, uk, u, europe\n",
      " 28  food, drug, eat, drugs, body, cancer, health, water, diet, meat\n",
      " 29  jews, israel, white, racist, jewish, black, race, nazis, racism, nazi\n",
      " 30  earth, moon, space, sun, flat, na, flat_earth, light, aliens, theory\n",
      " 31  biden, election, vote, president, democrats, voting, republicans, votes, hillary, republican\n",
      " 32  sub, reddit, posts, conspiracy, comments, twitter, banned, comment, removed, shills\n",
      " 33  different, without, enough, etc, used, means, however, simply, reason, seems\n",
      " 34  life, love, reality, feel, human, humans, truth, real, mind, everything\n"
     ]
    }
   ],
   "source": [
    "for k in range(mdl.k):\n",
    "    print(f\"{k:3d} \", \", \".join(s for s, _ in mdl.get_topic_words(k)))"
   ]
  },
  {
   "cell_type": "code",
   "execution_count": 29,
   "id": "12a49c0d-4216-46fc-9537-1dd4c4c4167e",
   "metadata": {},
   "outputs": [],
   "source": [
    "import textwrap\n",
    "\n",
    "\n",
    "def print_topic_docs(topic, n_best=3):\n",
    "    topic_weights = sorted(\n",
    "        [(doc.get_topic_dist()[topic], i) for i, doc in enumerate(mdl.docs)],\n",
    "        reverse=True,\n",
    "    )\n",
    "    for i in range(n_best):\n",
    "        print(\n",
    "            textwrap.indent(\n",
    "                textwrap.fill(df[\"text\"].iloc[topic_weights[i][1]], width=100), \"  \"\n",
    "            )\n",
    "        )\n",
    "        print()"
   ]
  },
  {
   "cell_type": "code",
   "execution_count": 31,
   "id": "25af7483-1775-4341-a43c-1aa1a8a9fd7b",
   "metadata": {},
   "outputs": [
    {
     "name": "stdout",
     "output_type": "stream",
     "text": [
      "  tire pretty easy show sun gives uv radiation likewise easy show uv radiation damages soft tissue eye\n",
      "  also goo like staring sun right sunset sunrise apparently good pineal gland ive read definitley\n",
      "  feels nice gets fully horizon stop looking starts getting bright enough start hurting eyes nostaring\n",
      "  television makes blind go blind ill blinking crescents weeks see solar eclipse open sun full power\n",
      "  around 200 pm pretty hard keep eyes open force eyes open tears start gushing small negative effect\n",
      "  seeing little light spot hours\n",
      "\n",
      "  decipticon variant sounds scarier flag variant\n",
      "\n",
      "  15 inches display plain day nothing cred new world order scum lot household items ingredients also\n",
      "  used production stuff goes boom makeup would good example dont forget radiation scanners go medical\n",
      "  test drive dont think timing suspicious detroit went pr problems police open access buisness\n",
      "  security cameras city project green light month ago already used articles coverage started happening\n",
      "  guess whole process chicago started hk link majority opinion argued person expectation privacy home\n",
      "  technology would utilized scan people crowds public spaces dont think case could used precedent\n",
      "  although id bet youll see new cases litigated set new precedent tech like police drive around used\n",
      "  live checking houses thermal cant really argue checking houses speeding get caught pointing houses\n",
      "  device\n",
      "\n"
     ]
    }
   ],
   "source": [
    "print_topic_docs(2)"
   ]
  },
  {
   "cell_type": "code",
   "execution_count": 32,
   "id": "c54ad2a7-c721-4042-94e5-8b1f9f4adc7c",
   "metadata": {},
   "outputs": [],
   "source": [
    "mdl.save(\"reddit-topics.bin\")"
   ]
  },
  {
   "cell_type": "code",
   "execution_count": 33,
   "id": "33607ffc-f210-4138-821b-3ad62717b39e",
   "metadata": {},
   "outputs": [],
   "source": [
    "topic_words = [[x for x, _ in mdl.get_topic_words(i)] for i in range(mdl.k)]\n",
    "topics = pd.DataFrame(\n",
    "    {\n",
    "        \"label\": [x[0].upper() for x in topic_words],\n",
    "        \"words\": [\", \".join(x) for x in topic_words],\n",
    "    }\n",
    ")\n",
    "topics.to_csv(\"labels.csv\", index=False)"
   ]
  },
  {
   "cell_type": "code",
   "execution_count": 34,
   "id": "5563e651-9765-4f72-902f-21a89d69e634",
   "metadata": {},
   "outputs": [],
   "source": [
    "from cytoolz import *\n",
    "from tqdm.auto import tqdm\n",
    "\n",
    "tqdm.pandas()\n",
    "\n",
    "mdl = tp.LDAModel.load(\"reddit-topics.bin\")\n",
    "labels = list(pd.read_csv(\"labels.csv\")[\"label\"])"
   ]
  },
  {
   "cell_type": "code",
   "execution_count": 39,
   "id": "6f2d6646-17c0-47d5-899a-f848c1cc9e44",
   "metadata": {},
   "outputs": [
    {
     "data": {
      "application/vnd.jupyter.widget-view+json": {
       "model_id": "00222de993ff40f8ac0c9c16729a18da",
       "version_major": 2,
       "version_minor": 0
      },
      "text/plain": [
       "  0%|          | 0/19969 [00:00<?, ?it/s]"
      ]
     },
     "metadata": {},
     "output_type": "display_data"
    },
    {
     "name": "stderr",
     "output_type": "stream",
     "text": [
      "Uncaughted c++ exception: Either `words` or `rawWords` must be filled.\n"
     ]
    },
    {
     "ename": "RuntimeError",
     "evalue": "Either `words` or `rawWords` must be filled.",
     "output_type": "error",
     "traceback": [
      "\u001B[0;31m---------------------------------------------------------------------------\u001B[0m",
      "\u001B[0;31mRuntimeError\u001B[0m                              Traceback (most recent call last)",
      "Cell \u001B[0;32mIn[39], line 4\u001B[0m\n\u001B[1;32m      1\u001B[0m df[\u001B[38;5;124m\"\u001B[39m\u001B[38;5;124mtokens\u001B[39m\u001B[38;5;124m\"\u001B[39m] \u001B[38;5;241m=\u001B[39m (df[\u001B[38;5;124m\"\u001B[39m\u001B[38;5;124mtext\u001B[39m\u001B[38;5;124m\"\u001B[39m])\u001B[38;5;241m.\u001B[39mprogress_apply(\n\u001B[1;32m      2\u001B[0m     tokenizer\u001B[38;5;241m.\u001B[39mtokenize\n\u001B[1;32m      3\u001B[0m )\n\u001B[0;32m----> 4\u001B[0m df[\u001B[38;5;124m\"\u001B[39m\u001B[38;5;124mdoc\u001B[39m\u001B[38;5;124m\"\u001B[39m] \u001B[38;5;241m=\u001B[39m [mdl\u001B[38;5;241m.\u001B[39mmake_doc(words\u001B[38;5;241m=\u001B[39mtoks) \u001B[38;5;28;01mfor\u001B[39;00m toks \u001B[38;5;129;01min\u001B[39;00m df[\u001B[38;5;124m\"\u001B[39m\u001B[38;5;124mtokens\u001B[39m\u001B[38;5;124m\"\u001B[39m]]\n\u001B[1;32m      5\u001B[0m topic_dist, ll \u001B[38;5;241m=\u001B[39m mdl\u001B[38;5;241m.\u001B[39minfer(df[\u001B[38;5;124m\"\u001B[39m\u001B[38;5;124mdoc\u001B[39m\u001B[38;5;124m\"\u001B[39m])\n",
      "Cell \u001B[0;32mIn[39], line 4\u001B[0m, in \u001B[0;36m<listcomp>\u001B[0;34m(.0)\u001B[0m\n\u001B[1;32m      1\u001B[0m df[\u001B[38;5;124m\"\u001B[39m\u001B[38;5;124mtokens\u001B[39m\u001B[38;5;124m\"\u001B[39m] \u001B[38;5;241m=\u001B[39m (df[\u001B[38;5;124m\"\u001B[39m\u001B[38;5;124mtext\u001B[39m\u001B[38;5;124m\"\u001B[39m])\u001B[38;5;241m.\u001B[39mprogress_apply(\n\u001B[1;32m      2\u001B[0m     tokenizer\u001B[38;5;241m.\u001B[39mtokenize\n\u001B[1;32m      3\u001B[0m )\n\u001B[0;32m----> 4\u001B[0m df[\u001B[38;5;124m\"\u001B[39m\u001B[38;5;124mdoc\u001B[39m\u001B[38;5;124m\"\u001B[39m] \u001B[38;5;241m=\u001B[39m [\u001B[43mmdl\u001B[49m\u001B[38;5;241;43m.\u001B[39;49m\u001B[43mmake_doc\u001B[49m\u001B[43m(\u001B[49m\u001B[43mwords\u001B[49m\u001B[38;5;241;43m=\u001B[39;49m\u001B[43mtoks\u001B[49m\u001B[43m)\u001B[49m \u001B[38;5;28;01mfor\u001B[39;00m toks \u001B[38;5;129;01min\u001B[39;00m df[\u001B[38;5;124m\"\u001B[39m\u001B[38;5;124mtokens\u001B[39m\u001B[38;5;124m\"\u001B[39m]]\n\u001B[1;32m      5\u001B[0m topic_dist, ll \u001B[38;5;241m=\u001B[39m mdl\u001B[38;5;241m.\u001B[39minfer(df[\u001B[38;5;124m\"\u001B[39m\u001B[38;5;124mdoc\u001B[39m\u001B[38;5;124m\"\u001B[39m])\n",
      "\u001B[0;31mRuntimeError\u001B[0m: Either `words` or `rawWords` must be filled."
     ]
    }
   ],
   "source": [
    "df[\"doc\"] = [mdl.make_doc(words=toks) for toks in df[\"tokens\"]]\n",
    "topic_dist, ll = mdl.infer(df[\"doc\"])"
   ]
  },
  {
   "cell_type": "code",
   "execution_count": 38,
   "id": "a1fb2331-4507-4709-a3d6-3d6f670617e2",
   "metadata": {},
   "outputs": [
    {
     "data": {
      "text/plain": [
       "'Your post has been removed because it does not contain a submission statement If you think you received this message in error, or if you have subsequently added a submission statement, please contact the mods through modmail, and include a link to the comment with your submission statement This is a bot replies and PMs will not receive responses'"
      ]
     },
     "execution_count": 38,
     "metadata": {},
     "output_type": "execute_result"
    }
   ],
   "source": [
    "df[\"text\"].iloc[0]"
   ]
  },
  {
   "cell_type": "code",
   "execution_count": 39,
   "id": "30a2fb14-eed5-4c0a-a0f9-585e49603ce6",
   "metadata": {},
   "outputs": [
    {
     "data": {
      "text/plain": [
       "[(12, 0.7719322443008423),\n",
       " (24, 0.028013017028570175),\n",
       " (16, 0.027446961030364037),\n",
       " (47, 0.01871667057275772),\n",
       " (28, 0.01768597401678562)]"
      ]
     },
     "execution_count": 39,
     "metadata": {},
     "output_type": "execute_result"
    }
   ],
   "source": [
    "df[\"doc\"].iloc[0].get_topics(top_n=5)"
   ]
  },
  {
   "cell_type": "code",
   "execution_count": 40,
   "id": "021fa32c-43c5-4cf4-b36d-19695fa0e850",
   "metadata": {},
   "outputs": [
    {
     "data": {
      "text/plain": [
       "[('np', 0.04939240217208862),\n",
       " ('reddit', 0.04398369416594505),\n",
       " ('np_domain', 0.03350432217121124),\n",
       " ('account', 0.03331651911139488),\n",
       " ('please', 0.03192678093910217),\n",
       " ('accounts', 0.03151361644268036),\n",
       " ('protect', 0.03147605434060097),\n",
       " ('required', 0.03140093386173248),\n",
       " ('concerns', 0.03083752654492855),\n",
       " ('subreddit', 0.03083752654492855)]"
      ]
     },
     "execution_count": 40,
     "metadata": {},
     "output_type": "execute_result"
    }
   ],
   "source": [
    "mdl.get_topic_words(17)"
   ]
  },
  {
   "cell_type": "code",
   "execution_count": 41,
   "id": "89a5ab8d-37fa-4e19-b012-a3e25042eb39",
   "metadata": {},
   "outputs": [
    {
     "data": {
      "text/plain": [
       "[('epstein', 0.06750713288784027),\n",
       " ('him', 0.03953911364078522),\n",
       " ('trump', 0.036662399768829346),\n",
       " ('island', 0.01857108622789383),\n",
       " ('epsteins', 0.013968349434435368),\n",
       " ('x200b', 0.012018578127026558),\n",
       " ('maxwell', 0.011187529191374779),\n",
       " ('also', 0.010164698585867882),\n",
       " ('pedo', 0.009333648718893528),\n",
       " ('involved', 0.009205794893205166)]"
      ]
     },
     "execution_count": 41,
     "metadata": {},
     "output_type": "execute_result"
    }
   ],
   "source": [
    "mdl.get_topic_words(31)"
   ]
  },
  {
   "cell_type": "code",
   "execution_count": 42,
   "id": "36cf00ba-fd92-493a-8014-72097dbafeb1",
   "metadata": {},
   "outputs": [
    {
     "data": {
      "text/plain": [
       "[('SUBMISSION_STATEMENT', 0.7719322443008423),\n",
       " ('COULD', 0.028013017028570175),\n",
       " ('GOING', 0.027446961030364037),\n",
       " ('LOL', 0.01871667057275772),\n",
       " ('HAD', 0.01768597401678562)]"
      ]
     },
     "execution_count": 42,
     "metadata": {},
     "output_type": "execute_result"
    }
   ],
   "source": [
    "[(labels[x], y) for x, y in df[\"doc\"].iloc[0].get_topics(top_n=5)]"
   ]
  },
  {
   "cell_type": "code",
   "execution_count": 45,
   "id": "d2a0280e-d7d2-464e-9ea7-a46a9e6302cb",
   "metadata": {},
   "outputs": [],
   "source": [
    "df[\"topics\"] = [\n",
    "    [labels[t] for t in map(first, d.get_topics(3))] for d in df[\"doc\"]\n",
    "]"
   ]
  },
  {
   "cell_type": "code",
   "execution_count": 47,
   "id": "568a0126-c43c-48d3-85ec-ece368de3351",
   "metadata": {},
   "outputs": [
    {
     "data": {
      "text/plain": [
       "[('COULD', 10001),\n",
       " ('GOING', 9392),\n",
       " ('HAD', 5289),\n",
       " ('LOL', 4921),\n",
       " ('OUR', 3009),\n",
       " ('SAID', 2944),\n",
       " ('U_R_L', 2568),\n",
       " ('SUBMISSION_STATEMENT', 1841),\n",
       " ('HIM', 1688),\n",
       " ('MONEY', 1185),\n",
       " ('SUB', 1163),\n",
       " ('RUSSIA', 1050),\n",
       " ('VACCINE', 943),\n",
       " ('TRUMP', 922),\n",
       " ('LIFE', 819),\n",
       " ('CHINA', 775),\n",
       " ('GOVERNMENT', 751),\n",
       " ('CIA', 717),\n",
       " ('USE', 694),\n",
       " ('PLEASE', 669),\n",
       " ('SEE', 636),\n",
       " ('VIDEO', 591),\n",
       " ('GOD', 529),\n",
       " ('COVID', 522),\n",
       " ('MEDIA', 514),\n",
       " ('FOOD', 508),\n",
       " ('WATER', 454),\n",
       " ('CASE', 450),\n",
       " ('SCIENCE', 429),\n",
       " ('RIGHT', 413),\n",
       " ('ISRAEL', 381),\n",
       " ('VOTE', 346),\n",
       " ('EARTH', 306),\n",
       " ('BUILDING', 304),\n",
       " ('NP', 302),\n",
       " ('SHE', 292),\n",
       " ('PIZZAGATE', 275),\n",
       " ('POLICE', 249),\n",
       " ('WHITE', 245),\n",
       " ('EPSTEIN', 208),\n",
       " ('WOMEN', 180),\n",
       " ('Q', 163),\n",
       " ('KIDS', 143),\n",
       " ('MASKS', 126)]"
      ]
     },
     "execution_count": 47,
     "metadata": {},
     "output_type": "execute_result"
    }
   ],
   "source": [
    "topic_freq = Counter(concat(df[\"topics\"]))\n",
    "topic_freq.most_common()"
   ]
  },
  {
   "cell_type": "code",
   "execution_count": 48,
   "id": "6d7a4455-5bf9-4a9d-b64d-a5f167dab23a",
   "metadata": {},
   "outputs": [
    {
     "data": {
      "text/html": [
       "<div>\n",
       "<style scoped>\n",
       "    .dataframe tbody tr th:only-of-type {\n",
       "        vertical-align: middle;\n",
       "    }\n",
       "\n",
       "    .dataframe tbody tr th {\n",
       "        vertical-align: top;\n",
       "    }\n",
       "\n",
       "    .dataframe thead th {\n",
       "        text-align: right;\n",
       "    }\n",
       "</style>\n",
       "<table border=\"1\" class=\"dataframe\">\n",
       "  <thead>\n",
       "    <tr style=\"text-align: right;\">\n",
       "      <th></th>\n",
       "      <th>label</th>\n",
       "      <th>words</th>\n",
       "      <th>topics_frequency</th>\n",
       "    </tr>\n",
       "  </thead>\n",
       "  <tbody>\n",
       "    <tr>\n",
       "      <th>0</th>\n",
       "      <td>OUR</td>\n",
       "      <td>our, aliens, humans, years, into, theory, beli...</td>\n",
       "      <td>3009.0</td>\n",
       "    </tr>\n",
       "    <tr>\n",
       "      <th>1</th>\n",
       "      <td>POLICE</td>\n",
       "      <td>police, blm, violence, protest, antifa, protes...</td>\n",
       "      <td>249.0</td>\n",
       "    </tr>\n",
       "    <tr>\n",
       "      <th>2</th>\n",
       "      <td>OUR</td>\n",
       "      <td>our, power, world, those, society, control, th...</td>\n",
       "      <td>3009.0</td>\n",
       "    </tr>\n",
       "    <tr>\n",
       "      <th>3</th>\n",
       "      <td>VACCINE</td>\n",
       "      <td>vaccine, vaccines, covid, vaccinated, getting,...</td>\n",
       "      <td>943.0</td>\n",
       "    </tr>\n",
       "    <tr>\n",
       "      <th>4</th>\n",
       "      <td>PLEASE</td>\n",
       "      <td>please, bot, moderators, questions, subreddit,...</td>\n",
       "      <td>669.0</td>\n",
       "    </tr>\n",
       "    <tr>\n",
       "      <th>5</th>\n",
       "      <td>MEDIA</td>\n",
       "      <td>media, news, propaganda, article, cnn, story, ...</td>\n",
       "      <td>514.0</td>\n",
       "    </tr>\n",
       "    <tr>\n",
       "      <th>6</th>\n",
       "      <td>VOTE</td>\n",
       "      <td>vote, election, votes, voting, bernie, fraud, ...</td>\n",
       "      <td>346.0</td>\n",
       "    </tr>\n",
       "    <tr>\n",
       "      <th>7</th>\n",
       "      <td>COVID</td>\n",
       "      <td>covid, virus, flu, covid19, test, deaths, had,...</td>\n",
       "      <td>522.0</td>\n",
       "    </tr>\n",
       "    <tr>\n",
       "      <th>8</th>\n",
       "      <td>SCIENCE</td>\n",
       "      <td>science, study, u_r_l, studies, research, scie...</td>\n",
       "      <td>429.0</td>\n",
       "    </tr>\n",
       "    <tr>\n",
       "      <th>9</th>\n",
       "      <td>Q</td>\n",
       "      <td>q, twitter, tweet, trump, qanon, tweets, now, ...</td>\n",
       "      <td>163.0</td>\n",
       "    </tr>\n",
       "    <tr>\n",
       "      <th>10</th>\n",
       "      <td>CHINA</td>\n",
       "      <td>china, world, chinese, country, countries, now...</td>\n",
       "      <td>775.0</td>\n",
       "    </tr>\n",
       "    <tr>\n",
       "      <th>11</th>\n",
       "      <td>MONEY</td>\n",
       "      <td>money, company, buy, companies, market, gold, ...</td>\n",
       "      <td>1185.0</td>\n",
       "    </tr>\n",
       "    <tr>\n",
       "      <th>12</th>\n",
       "      <td>SUBMISSION_STATEMENT</td>\n",
       "      <td>submission_statement, post, removed, through, ...</td>\n",
       "      <td>1841.0</td>\n",
       "    </tr>\n",
       "    <tr>\n",
       "      <th>13</th>\n",
       "      <td>PIZZAGATE</td>\n",
       "      <td>pizzagate, children, pizza, child, kids, evide...</td>\n",
       "      <td>275.0</td>\n",
       "    </tr>\n",
       "    <tr>\n",
       "      <th>14</th>\n",
       "      <td>USE</td>\n",
       "      <td>use, data, google, facebook, phone, internet, ...</td>\n",
       "      <td>694.0</td>\n",
       "    </tr>\n",
       "    <tr>\n",
       "      <th>15</th>\n",
       "      <td>KIDS</td>\n",
       "      <td>kids, children, school, parents, kid, child, c...</td>\n",
       "      <td>143.0</td>\n",
       "    </tr>\n",
       "    <tr>\n",
       "      <th>16</th>\n",
       "      <td>GOING</td>\n",
       "      <td>going, want, see, now, make, go, really, right...</td>\n",
       "      <td>9392.0</td>\n",
       "    </tr>\n",
       "    <tr>\n",
       "      <th>17</th>\n",
       "      <td>NP</td>\n",
       "      <td>np, reddit, np_domain, account, please, accoun...</td>\n",
       "      <td>302.0</td>\n",
       "    </tr>\n",
       "    <tr>\n",
       "      <th>18</th>\n",
       "      <td>SAID</td>\n",
       "      <td>said, evidence, believe, say, did, here, sayin...</td>\n",
       "      <td>2944.0</td>\n",
       "    </tr>\n",
       "    <tr>\n",
       "      <th>19</th>\n",
       "      <td>VIDEO</td>\n",
       "      <td>video, videos, youtube, watch, see, fake, u_r_...</td>\n",
       "      <td>591.0</td>\n",
       "    </tr>\n",
       "    <tr>\n",
       "      <th>20</th>\n",
       "      <td>CASE</td>\n",
       "      <td>case, him, court, crime, law, did, had, guilty...</td>\n",
       "      <td>450.0</td>\n",
       "    </tr>\n",
       "    <tr>\n",
       "      <th>21</th>\n",
       "      <td>MONEY</td>\n",
       "      <td>money, pay, government, work, taxes, than, tax...</td>\n",
       "      <td>1185.0</td>\n",
       "    </tr>\n",
       "    <tr>\n",
       "      <th>22</th>\n",
       "      <td>U_R_L</td>\n",
       "      <td>u_r_l, than, data, number, million, numbers, 1...</td>\n",
       "      <td>2568.0</td>\n",
       "    </tr>\n",
       "    <tr>\n",
       "      <th>23</th>\n",
       "      <td>ISRAEL</td>\n",
       "      <td>israel, jews, jewish, zionist, nazis, jew, isr...</td>\n",
       "      <td>381.0</td>\n",
       "    </tr>\n",
       "    <tr>\n",
       "      <th>24</th>\n",
       "      <td>COULD</td>\n",
       "      <td>could, which, very, than, also, most, much, th...</td>\n",
       "      <td>10001.0</td>\n",
       "    </tr>\n",
       "    <tr>\n",
       "      <th>25</th>\n",
       "      <td>RIGHT</td>\n",
       "      <td>right, left, political, both, politics, party,...</td>\n",
       "      <td>413.0</td>\n",
       "    </tr>\n",
       "    <tr>\n",
       "      <th>26</th>\n",
       "      <td>WATER</td>\n",
       "      <td>water, energy, gas, oil, climate_change, car, ...</td>\n",
       "      <td>454.0</td>\n",
       "    </tr>\n",
       "    <tr>\n",
       "      <th>27</th>\n",
       "      <td>SUB</td>\n",
       "      <td>sub, post, reddit, here, posts, conspiracy, co...</td>\n",
       "      <td>1163.0</td>\n",
       "    </tr>\n",
       "    <tr>\n",
       "      <th>28</th>\n",
       "      <td>HAD</td>\n",
       "      <td>had, now, years, time, got, after, back, did, ...</td>\n",
       "      <td>5289.0</td>\n",
       "    </tr>\n",
       "    <tr>\n",
       "      <th>29</th>\n",
       "      <td>WOMEN</td>\n",
       "      <td>women, sex, men, gay, should, woman, man, porn...</td>\n",
       "      <td>180.0</td>\n",
       "    </tr>\n",
       "    <tr>\n",
       "      <th>30</th>\n",
       "      <td>RUSSIA</td>\n",
       "      <td>russia, fbi, emails, investigation, russian, e...</td>\n",
       "      <td>1050.0</td>\n",
       "    </tr>\n",
       "    <tr>\n",
       "      <th>31</th>\n",
       "      <td>EPSTEIN</td>\n",
       "      <td>epstein, him, trump, island, epsteins, x200b, ...</td>\n",
       "      <td>208.0</td>\n",
       "    </tr>\n",
       "    <tr>\n",
       "      <th>32</th>\n",
       "      <td>FOOD</td>\n",
       "      <td>food, eat, drug, drugs, use, body, water, meat...</td>\n",
       "      <td>508.0</td>\n",
       "    </tr>\n",
       "    <tr>\n",
       "      <th>33</th>\n",
       "      <td>LIFE</td>\n",
       "      <td>life, feel, things, am, love, help, our, world...</td>\n",
       "      <td>819.0</td>\n",
       "    </tr>\n",
       "    <tr>\n",
       "      <th>34</th>\n",
       "      <td>WHITE</td>\n",
       "      <td>white, racist, black, race, racism, white_peop...</td>\n",
       "      <td>245.0</td>\n",
       "    </tr>\n",
       "    <tr>\n",
       "      <th>35</th>\n",
       "      <td>EARTH</td>\n",
       "      <td>earth, moon, space, sun, see, nasa, flat_earth...</td>\n",
       "      <td>306.0</td>\n",
       "    </tr>\n",
       "    <tr>\n",
       "      <th>36</th>\n",
       "      <td>TRUMP</td>\n",
       "      <td>trump, him, president, biden, obama, trumps, d...</td>\n",
       "      <td>922.0</td>\n",
       "    </tr>\n",
       "    <tr>\n",
       "      <th>37</th>\n",
       "      <td>HIM</td>\n",
       "      <td>him, show, movie, watch, guy, alex_jones, game...</td>\n",
       "      <td>1688.0</td>\n",
       "    </tr>\n",
       "    <tr>\n",
       "      <th>38</th>\n",
       "      <td>SHE</td>\n",
       "      <td>she, her, woman, had, wife, really, someone, s...</td>\n",
       "      <td>292.0</td>\n",
       "    </tr>\n",
       "    <tr>\n",
       "      <th>39</th>\n",
       "      <td>HIM</td>\n",
       "      <td>him, police, gun, guns, shot, cops, killed, sh...</td>\n",
       "      <td>1688.0</td>\n",
       "    </tr>\n",
       "    <tr>\n",
       "      <th>40</th>\n",
       "      <td>U_R_L</td>\n",
       "      <td>u_r_l, link, read, article, post, find, here, ...</td>\n",
       "      <td>2568.0</td>\n",
       "    </tr>\n",
       "    <tr>\n",
       "      <th>41</th>\n",
       "      <td>HAD</td>\n",
       "      <td>had, which, u_r_l, said, after, also, group, a...</td>\n",
       "      <td>5289.0</td>\n",
       "    </tr>\n",
       "    <tr>\n",
       "      <th>42</th>\n",
       "      <td>RUSSIA</td>\n",
       "      <td>russia, war, ukraine, russian, putin, military...</td>\n",
       "      <td>1050.0</td>\n",
       "    </tr>\n",
       "    <tr>\n",
       "      <th>43</th>\n",
       "      <td>CIA</td>\n",
       "      <td>cia, government, 911, u_r_l, military, attack,...</td>\n",
       "      <td>717.0</td>\n",
       "    </tr>\n",
       "    <tr>\n",
       "      <th>44</th>\n",
       "      <td>SEE</td>\n",
       "      <td>see, look, looks, picture, photo, image, these...</td>\n",
       "      <td>636.0</td>\n",
       "    </tr>\n",
       "    <tr>\n",
       "      <th>45</th>\n",
       "      <td>GOD</td>\n",
       "      <td>god, jesus, bible, religion, believe, him, evi...</td>\n",
       "      <td>529.0</td>\n",
       "    </tr>\n",
       "    <tr>\n",
       "      <th>46</th>\n",
       "      <td>BUILDING</td>\n",
       "      <td>building, 911, plane, planes, buildings, fire,...</td>\n",
       "      <td>304.0</td>\n",
       "    </tr>\n",
       "    <tr>\n",
       "      <th>47</th>\n",
       "      <td>LOL</td>\n",
       "      <td>lol, shit, fuck, fucking, yeah, got, right, sa...</td>\n",
       "      <td>4921.0</td>\n",
       "    </tr>\n",
       "    <tr>\n",
       "      <th>48</th>\n",
       "      <td>MASKS</td>\n",
       "      <td>masks, mask, wear, wearing, virus, work, covid...</td>\n",
       "      <td>126.0</td>\n",
       "    </tr>\n",
       "    <tr>\n",
       "      <th>49</th>\n",
       "      <td>GOVERNMENT</td>\n",
       "      <td>government, law, right, state, rights, should,...</td>\n",
       "      <td>751.0</td>\n",
       "    </tr>\n",
       "  </tbody>\n",
       "</table>\n",
       "</div>"
      ],
      "text/plain": [
       "                   label                                              words  \\\n",
       "0                    OUR  our, aliens, humans, years, into, theory, beli...   \n",
       "1                 POLICE  police, blm, violence, protest, antifa, protes...   \n",
       "2                    OUR  our, power, world, those, society, control, th...   \n",
       "3                VACCINE  vaccine, vaccines, covid, vaccinated, getting,...   \n",
       "4                 PLEASE  please, bot, moderators, questions, subreddit,...   \n",
       "5                  MEDIA  media, news, propaganda, article, cnn, story, ...   \n",
       "6                   VOTE  vote, election, votes, voting, bernie, fraud, ...   \n",
       "7                  COVID  covid, virus, flu, covid19, test, deaths, had,...   \n",
       "8                SCIENCE  science, study, u_r_l, studies, research, scie...   \n",
       "9                      Q  q, twitter, tweet, trump, qanon, tweets, now, ...   \n",
       "10                 CHINA  china, world, chinese, country, countries, now...   \n",
       "11                 MONEY  money, company, buy, companies, market, gold, ...   \n",
       "12  SUBMISSION_STATEMENT  submission_statement, post, removed, through, ...   \n",
       "13             PIZZAGATE  pizzagate, children, pizza, child, kids, evide...   \n",
       "14                   USE  use, data, google, facebook, phone, internet, ...   \n",
       "15                  KIDS  kids, children, school, parents, kid, child, c...   \n",
       "16                 GOING  going, want, see, now, make, go, really, right...   \n",
       "17                    NP  np, reddit, np_domain, account, please, accoun...   \n",
       "18                  SAID  said, evidence, believe, say, did, here, sayin...   \n",
       "19                 VIDEO  video, videos, youtube, watch, see, fake, u_r_...   \n",
       "20                  CASE  case, him, court, crime, law, did, had, guilty...   \n",
       "21                 MONEY  money, pay, government, work, taxes, than, tax...   \n",
       "22                 U_R_L  u_r_l, than, data, number, million, numbers, 1...   \n",
       "23                ISRAEL  israel, jews, jewish, zionist, nazis, jew, isr...   \n",
       "24                 COULD  could, which, very, than, also, most, much, th...   \n",
       "25                 RIGHT  right, left, political, both, politics, party,...   \n",
       "26                 WATER  water, energy, gas, oil, climate_change, car, ...   \n",
       "27                   SUB  sub, post, reddit, here, posts, conspiracy, co...   \n",
       "28                   HAD  had, now, years, time, got, after, back, did, ...   \n",
       "29                 WOMEN  women, sex, men, gay, should, woman, man, porn...   \n",
       "30                RUSSIA  russia, fbi, emails, investigation, russian, e...   \n",
       "31               EPSTEIN  epstein, him, trump, island, epsteins, x200b, ...   \n",
       "32                  FOOD  food, eat, drug, drugs, use, body, water, meat...   \n",
       "33                  LIFE  life, feel, things, am, love, help, our, world...   \n",
       "34                 WHITE  white, racist, black, race, racism, white_peop...   \n",
       "35                 EARTH  earth, moon, space, sun, see, nasa, flat_earth...   \n",
       "36                 TRUMP  trump, him, president, biden, obama, trumps, d...   \n",
       "37                   HIM  him, show, movie, watch, guy, alex_jones, game...   \n",
       "38                   SHE  she, her, woman, had, wife, really, someone, s...   \n",
       "39                   HIM  him, police, gun, guns, shot, cops, killed, sh...   \n",
       "40                 U_R_L  u_r_l, link, read, article, post, find, here, ...   \n",
       "41                   HAD  had, which, u_r_l, said, after, also, group, a...   \n",
       "42                RUSSIA  russia, war, ukraine, russian, putin, military...   \n",
       "43                   CIA  cia, government, 911, u_r_l, military, attack,...   \n",
       "44                   SEE  see, look, looks, picture, photo, image, these...   \n",
       "45                   GOD  god, jesus, bible, religion, believe, him, evi...   \n",
       "46              BUILDING  building, 911, plane, planes, buildings, fire,...   \n",
       "47                   LOL  lol, shit, fuck, fucking, yeah, got, right, sa...   \n",
       "48                 MASKS  masks, mask, wear, wearing, virus, work, covid...   \n",
       "49            GOVERNMENT  government, law, right, state, rights, should,...   \n",
       "\n",
       "    topics_frequency  \n",
       "0             3009.0  \n",
       "1              249.0  \n",
       "2             3009.0  \n",
       "3              943.0  \n",
       "4              669.0  \n",
       "5              514.0  \n",
       "6              346.0  \n",
       "7              522.0  \n",
       "8              429.0  \n",
       "9              163.0  \n",
       "10             775.0  \n",
       "11            1185.0  \n",
       "12            1841.0  \n",
       "13             275.0  \n",
       "14             694.0  \n",
       "15             143.0  \n",
       "16            9392.0  \n",
       "17             302.0  \n",
       "18            2944.0  \n",
       "19             591.0  \n",
       "20             450.0  \n",
       "21            1185.0  \n",
       "22            2568.0  \n",
       "23             381.0  \n",
       "24           10001.0  \n",
       "25             413.0  \n",
       "26             454.0  \n",
       "27            1163.0  \n",
       "28            5289.0  \n",
       "29             180.0  \n",
       "30            1050.0  \n",
       "31             208.0  \n",
       "32             508.0  \n",
       "33             819.0  \n",
       "34             245.0  \n",
       "35             306.0  \n",
       "36             922.0  \n",
       "37            1688.0  \n",
       "38             292.0  \n",
       "39            1688.0  \n",
       "40            2568.0  \n",
       "41            5289.0  \n",
       "42            1050.0  \n",
       "43             717.0  \n",
       "44             636.0  \n",
       "45             529.0  \n",
       "46             304.0  \n",
       "47            4921.0  \n",
       "48             126.0  \n",
       "49             751.0  "
      ]
     },
     "execution_count": 48,
     "metadata": {},
     "output_type": "execute_result"
    }
   ],
   "source": [
    "for i in topics[\"label\"]:\n",
    "    for key in topic_freq:\n",
    "        topics.loc[topics[\"label\"]==key, \"topics_frequency\"] = topic_freq[key]\n",
    "\n",
    "topics.to_csv(\"labels.csv\", index=False)\n",
    "topics"
   ]
  },
  {
   "cell_type": "code",
   "execution_count": null,
   "id": "12427feb-55a5-439e-95ce-e307c09a1976",
   "metadata": {},
   "outputs": [],
   "source": [
    "from wordcloud import WordCloud\n",
    "import matplotlib.pyplot as plt\n",
    "\n",
    "topic_id = 20\n",
    "topic_words = mdl.get_topic_words(topic_id, top_n=50)\n",
    "\n",
    "wordcloud = WordCloud(background_color=\"white\").generate_from_frequencies(dict(topic_words))\n",
    "\n",
    "plt.imshow(wordcloud, interpolation='bilinear')\n",
    "plt.axis(\"off\")\n",
    "plt.show()"
   ]
  },
  {
   "cell_type": "code",
   "execution_count": null,
   "id": "cad6b1a4-2388-464c-9492-6462f1df2146",
   "metadata": {},
   "outputs": [],
   "source": [
    "from wordcloud import WordCloud\n",
    "import matplotlib.pyplot as plt\n",
    "\n",
    "topic_id = 2\n",
    "topic_words = mdl.get_topic_words(topic_id, top_n=50)\n",
    "\n",
    "wordcloud = WordCloud(background_color=\"white\").generate_from_frequencies(dict(topic_words))\n",
    "\n",
    "plt.imshow(wordcloud, interpolation='bilinear')\n",
    "plt.axis(\"off\")\n",
    "plt.show()"
   ]
  },
  {
   "cell_type": "markdown",
   "id": "fbcbde46-44cd-4714-b34e-968d92d5b818",
   "metadata": {},
   "source": [
    "## Plotting topic prevalence over time\n",
    "First, add topic distributions to the dataframe"
   ]
  },
  {
   "cell_type": "code",
   "execution_count": 50,
   "id": "64a9a62d-014c-43c4-b4cf-d5054f66fa22",
   "metadata": {},
   "outputs": [
    {
     "name": "stdout",
     "output_type": "stream",
     "text": [
      "CPU times: user 1min 28s, sys: 62.1 ms, total: 1min 28s\n",
      "Wall time: 25.1 s\n"
     ]
    }
   ],
   "source": [
    "%%time\n",
    "\n",
    "docs = [mdl.make_doc(words=toks) for toks in df[\"tokens\"]]\n",
    "topic_dist, ll = mdl.infer(docs)\n",
    "topics = [d.get_topic_dist() for d in docs]"
   ]
  },
  {
   "cell_type": "code",
   "execution_count": 52,
   "id": "558da89c-4a2d-464e-b63e-8bbfb1a5e41e",
   "metadata": {},
   "outputs": [
    {
     "data": {
      "text/plain": [
       "<AxesSubplot: xlabel='date'>"
      ]
     },
     "execution_count": 52,
     "metadata": {},
     "output_type": "execute_result"
    },
    {
     "data": {
      "image/png": "[encoded data removed]",
      "text/plain": [
       "<Figure size 640x480 with 1 Axes>"
      ]
     },
     "metadata": {},
     "output_type": "display_data"
    }
   ],
   "source": [
    "df[\"t1\"] = [t[7] for t in topics]\n",
    "df[\"t2\"] = [t[42] for t in topics]\n",
    "df.resample(\"M\", on=\"date\")[['t1','t2']].mean().rolling(3, center=True).mean().plot()"
   ]
  },
  {
   "cell_type": "code",
   "execution_count": null,
   "id": "983db25b-8e19-454b-a27d-dfc8140962c0",
   "metadata": {},
   "outputs": [],
   "source": [
    "df[\"t1\"] = [t[7] for t in topics]\n",
    "df[\"t2\"] = [t[42] for t in topics]\n",
    "df.resample(\"M\", on=\"date\")[['t1','t2']].mean().rolling(3, center=True).mean().plot()"
   ]
  },
  {
   "cell_type": "markdown",
   "id": "81db1f2d-0efb-42ff-a72c-d45a236033eb",
   "metadata": {},
   "source": [
    "## SUMMARY\n"
   ]
  },
  {
   "cell_type": "markdown",
   "id": "5458891b-2484-4c53-892a-dea15b1b506d",
   "metadata": {},
   "source": [
    "I have generated the list of labels. I have used LDA to do topic modeling. In the hyper-parameters for LDA, I have chosen k value of 50 and the minimum frequency of words to be excluded (min_df = 125) and rm_top = 75. I have calculated the topic frequency score of each label and the all the words that belong to that topic. Next, I calculated the topic prevalence of certain topics over time. I have selected 4 topics and compared two topics each over the last decade. I have done monthly and yearly analysis as well. I have selected COVID and RUSSIA labels and compared them over the past decade filtering the df.resample method and grouping by year and month. I used rolling average method to smoothen the graph. Understandably COVID topic hit peak during 2020. RUSSIA is always a hot topic in conspiracy theories. It has various highs and hit its peak during 2022 Russia-Ukraine war. Later, I have selected the labels ISRAEL and CIA. The topic ISRAEL reached its peak in 2011 and 2018, while CIA topic hit peaks during 2009 and 2018. The interesting observation is both these topics hit peaks during the same time period. \n"
   ]
  },
  {
   "cell_type": "code",
   "execution_count": null,
   "id": "9c52bfbc-c2bc-4755-9157-fadc496ae082",
   "metadata": {},
   "outputs": [],
   "source": []
  }
 ],
 "metadata": {
  "kernelspec": {
   "display_name": "Python 3 (ipykernel)",
   "language": "python",
   "name": "python3"
  },
  "language_info": {
   "codemirror_mode": {
    "name": "ipython",
    "version": 3
   },
   "file_extension": ".py",
   "mimetype": "text/x-python",
   "name": "python",
   "nbconvert_exporter": "python",
   "pygments_lexer": "ipython3",
   "version": "3.10.8"
  }
 },
 "nbformat": 4,
 "nbformat_minor": 5
}
