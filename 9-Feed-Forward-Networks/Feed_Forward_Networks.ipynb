{
  "cells": [
    {
      "cell_type": "markdown",
      "id": "fuzzy-layer",
      "metadata": {
        "id": "fuzzy-layer"
      },
      "source": [
        "# LAB 9: Feed-forward networks\n",
        "\n",
        "**Objectives:**\n",
        "- experiment with various simple neural architectures"
      ]
    },
    {
      "cell_type": "code",
      "execution_count": 1,
      "id": "selected-booth",
      "metadata": {
        "tags": [],
        "ExecuteTime": {
          "start_time": "2023-04-09T17:53:04.091084Z",
          "end_time": "2023-04-09T17:53:05.157857Z"
        },
        "id": "selected-booth"
      },
      "outputs": [],
      "source": [
        "import numpy as np\n",
        "import pandas as pd\n",
        "from tqdm import tqdm\n",
        "import torchtext\n",
        "\n",
        "tqdm.pandas()"
      ]
    },
    {
      "cell_type": "markdown",
      "source": [
        "Install some packages that aren't part of standard colab"
      ],
      "metadata": {
        "id": "Z1I3OgWzhIgX"
      },
      "id": "Z1I3OgWzhIgX"
    },
    {
      "cell_type": "code",
      "source": [
        "!pip install -q portalocker cytoolz skorch transformers torchtext"
      ],
      "metadata": {
        "id": "0PbKA9Oo-end"
      },
      "id": "0PbKA9Oo-end",
      "execution_count": 2,
      "outputs": []
    },
    {
      "cell_type": "markdown",
      "id": "straight-delight",
      "metadata": {
        "id": "straight-delight"
      },
      "source": [
        "---\n",
        "\n",
        "## Load data"
      ]
    },
    {
      "cell_type": "code",
      "execution_count": 3,
      "id": "eb1ffc60-db87-4086-8896-dbdf57c98821",
      "metadata": {
        "tags": [],
        "ExecuteTime": {
          "start_time": "2023-04-09T18:37:12.327451Z",
          "end_time": "2023-04-09T18:37:12.354236Z"
        },
        "id": "eb1ffc60-db87-4086-8896-dbdf57c98821"
      },
      "outputs": [],
      "source": [
        "from torchtext.datasets import YelpReviewPolarity\n",
        "from sklearn.utils import resample"
      ]
    },
    {
      "cell_type": "code",
      "source": [
        "import portalocker\n",
        "import torchtext"
      ],
      "metadata": {
        "id": "cPy8GPhnjU7X"
      },
      "id": "cPy8GPhnjU7X",
      "execution_count": 4,
      "outputs": []
    },
    {
      "cell_type": "code",
      "source": [
        "def make_df(examples):\n",
        "  rows = [{'label':label, 'text':text} for (label,text) in examples]\n",
        "  return pd.DataFrame(rows)"
      ],
      "metadata": {
        "id": "sLsu4Nc3_Ro1"
      },
      "id": "sLsu4Nc3_Ro1",
      "execution_count": 5,
      "outputs": []
    },
    {
      "cell_type": "code",
      "source": [
        "train = make_df(YelpReviewPolarity(split='train'))\n",
        "test = make_df(YelpReviewPolarity(split='test'))"
      ],
      "metadata": {
        "id": "kvSLv_Y7-Qf6"
      },
      "id": "kvSLv_Y7-Qf6",
      "execution_count": 6,
      "outputs": []
    },
    {
      "cell_type": "code",
      "source": [
        "train"
      ],
      "metadata": {
        "id": "cwXE1wUfKsIv",
        "colab": {
          "base_uri": "https://localhost:8080/",
          "height": 424
        },
        "outputId": "883d84cd-db83-41f8-e908-f9783102b43e"
      },
      "id": "cwXE1wUfKsIv",
      "execution_count": 7,
      "outputs": [
        {
          "output_type": "execute_result",
          "data": {
            "text/plain": [
              "        label                                               text\n",
              "0           1  Unfortunately, the frustration of being Dr. Go...\n",
              "1           2  Been going to Dr. Goldberg for over 10 years. ...\n",
              "2           1  I don't know what Dr. Goldberg was like before...\n",
              "3           1  I'm writing this review to give you a heads up...\n",
              "4           2  All the food is great here. But the best thing...\n",
              "...       ...                                                ...\n",
              "559995      2  Ryan was as good as everyone on yelp has claim...\n",
              "559996      2  Professional \\nFriendly\\nOn time AND affordabl...\n",
              "559997      1  Phone calls always go to voicemail and message...\n",
              "559998      1  Looks like all of the good reviews have gone t...\n",
              "559999      2  Ryan Rocks! I called him this morning for some...\n",
              "\n",
              "[560000 rows x 2 columns]"
            ],
            "text/html": [
              "\n",
              "  <div id=\"df-6a067da4-71b6-493b-a26c-5ce1ce06a9e3\">\n",
              "    <div class=\"colab-df-container\">\n",
              "      <div>\n",
              "<style scoped>\n",
              "    .dataframe tbody tr th:only-of-type {\n",
              "        vertical-align: middle;\n",
              "    }\n",
              "\n",
              "    .dataframe tbody tr th {\n",
              "        vertical-align: top;\n",
              "    }\n",
              "\n",
              "    .dataframe thead th {\n",
              "        text-align: right;\n",
              "    }\n",
              "</style>\n",
              "<table border=\"1\" class=\"dataframe\">\n",
              "  <thead>\n",
              "    <tr style=\"text-align: right;\">\n",
              "      <th></th>\n",
              "      <th>label</th>\n",
              "      <th>text</th>\n",
              "    </tr>\n",
              "  </thead>\n",
              "  <tbody>\n",
              "    <tr>\n",
              "      <th>0</th>\n",
              "      <td>1</td>\n",
              "      <td>Unfortunately, the frustration of being Dr. Go...</td>\n",
              "    </tr>\n",
              "    <tr>\n",
              "      <th>1</th>\n",
              "      <td>2</td>\n",
              "      <td>Been going to Dr. Goldberg for over 10 years. ...</td>\n",
              "    </tr>\n",
              "    <tr>\n",
              "      <th>2</th>\n",
              "      <td>1</td>\n",
              "      <td>I don't know what Dr. Goldberg was like before...</td>\n",
              "    </tr>\n",
              "    <tr>\n",
              "      <th>3</th>\n",
              "      <td>1</td>\n",
              "      <td>I'm writing this review to give you a heads up...</td>\n",
              "    </tr>\n",
              "    <tr>\n",
              "      <th>4</th>\n",
              "      <td>2</td>\n",
              "      <td>All the food is great here. But the best thing...</td>\n",
              "    </tr>\n",
              "    <tr>\n",
              "      <th>...</th>\n",
              "      <td>...</td>\n",
              "      <td>...</td>\n",
              "    </tr>\n",
              "    <tr>\n",
              "      <th>559995</th>\n",
              "      <td>2</td>\n",
              "      <td>Ryan was as good as everyone on yelp has claim...</td>\n",
              "    </tr>\n",
              "    <tr>\n",
              "      <th>559996</th>\n",
              "      <td>2</td>\n",
              "      <td>Professional \\nFriendly\\nOn time AND affordabl...</td>\n",
              "    </tr>\n",
              "    <tr>\n",
              "      <th>559997</th>\n",
              "      <td>1</td>\n",
              "      <td>Phone calls always go to voicemail and message...</td>\n",
              "    </tr>\n",
              "    <tr>\n",
              "      <th>559998</th>\n",
              "      <td>1</td>\n",
              "      <td>Looks like all of the good reviews have gone t...</td>\n",
              "    </tr>\n",
              "    <tr>\n",
              "      <th>559999</th>\n",
              "      <td>2</td>\n",
              "      <td>Ryan Rocks! I called him this morning for some...</td>\n",
              "    </tr>\n",
              "  </tbody>\n",
              "</table>\n",
              "<p>560000 rows × 2 columns</p>\n",
              "</div>\n",
              "      <button class=\"colab-df-convert\" onclick=\"convertToInteractive('df-6a067da4-71b6-493b-a26c-5ce1ce06a9e3')\"\n",
              "              title=\"Convert this dataframe to an interactive table.\"\n",
              "              style=\"display:none;\">\n",
              "        \n",
              "  <svg xmlns=\"http://www.w3.org/2000/svg\" height=\"24px\"viewBox=\"0 0 24 24\"\n",
              "       width=\"24px\">\n",
              "    <path d=\"M0 0h24v24H0V0z\" fill=\"none\"/>\n",
              "    <path d=\"M18.56 5.44l.94 2.06.94-2.06 2.06-.94-2.06-.94-.94-2.06-.94 2.06-2.06.94zm-11 1L8.5 8.5l.94-2.06 2.06-.94-2.06-.94L8.5 2.5l-.94 2.06-2.06.94zm10 10l.94 2.06.94-2.06 2.06-.94-2.06-.94-.94-2.06-.94 2.06-2.06.94z\"/><path d=\"M17.41 7.96l-1.37-1.37c-.4-.4-.92-.59-1.43-.59-.52 0-1.04.2-1.43.59L10.3 9.45l-7.72 7.72c-.78.78-.78 2.05 0 2.83L4 21.41c.39.39.9.59 1.41.59.51 0 1.02-.2 1.41-.59l7.78-7.78 2.81-2.81c.8-.78.8-2.07 0-2.86zM5.41 20L4 18.59l7.72-7.72 1.47 1.35L5.41 20z\"/>\n",
              "  </svg>\n",
              "      </button>\n",
              "      \n",
              "  <style>\n",
              "    .colab-df-container {\n",
              "      display:flex;\n",
              "      flex-wrap:wrap;\n",
              "      gap: 12px;\n",
              "    }\n",
              "\n",
              "    .colab-df-convert {\n",
              "      background-color: #E8F0FE;\n",
              "      border: none;\n",
              "      border-radius: 50%;\n",
              "      cursor: pointer;\n",
              "      display: none;\n",
              "      fill: #1967D2;\n",
              "      height: 32px;\n",
              "      padding: 0 0 0 0;\n",
              "      width: 32px;\n",
              "    }\n",
              "\n",
              "    .colab-df-convert:hover {\n",
              "      background-color: #E2EBFA;\n",
              "      box-shadow: 0px 1px 2px rgba(60, 64, 67, 0.3), 0px 1px 3px 1px rgba(60, 64, 67, 0.15);\n",
              "      fill: #174EA6;\n",
              "    }\n",
              "\n",
              "    [theme=dark] .colab-df-convert {\n",
              "      background-color: #3B4455;\n",
              "      fill: #D2E3FC;\n",
              "    }\n",
              "\n",
              "    [theme=dark] .colab-df-convert:hover {\n",
              "      background-color: #434B5C;\n",
              "      box-shadow: 0px 1px 3px 1px rgba(0, 0, 0, 0.15);\n",
              "      filter: drop-shadow(0px 1px 2px rgba(0, 0, 0, 0.3));\n",
              "      fill: #FFFFFF;\n",
              "    }\n",
              "  </style>\n",
              "\n",
              "      <script>\n",
              "        const buttonEl =\n",
              "          document.querySelector('#df-6a067da4-71b6-493b-a26c-5ce1ce06a9e3 button.colab-df-convert');\n",
              "        buttonEl.style.display =\n",
              "          google.colab.kernel.accessAllowed ? 'block' : 'none';\n",
              "\n",
              "        async function convertToInteractive(key) {\n",
              "          const element = document.querySelector('#df-6a067da4-71b6-493b-a26c-5ce1ce06a9e3');\n",
              "          const dataTable =\n",
              "            await google.colab.kernel.invokeFunction('convertToInteractive',\n",
              "                                                     [key], {});\n",
              "          if (!dataTable) return;\n",
              "\n",
              "          const docLinkHtml = 'Like what you see? Visit the ' +\n",
              "            '<a target=\"_blank\" href=https://colab.research.google.com/notebooks/data_table.ipynb>data table notebook</a>'\n",
              "            + ' to learn more about interactive tables.';\n",
              "          element.innerHTML = '';\n",
              "          dataTable['output_type'] = 'display_data';\n",
              "          await google.colab.output.renderOutput(dataTable, element);\n",
              "          const docLink = document.createElement('div');\n",
              "          docLink.innerHTML = docLinkHtml;\n",
              "          element.appendChild(docLink);\n",
              "        }\n",
              "      </script>\n",
              "    </div>\n",
              "  </div>\n",
              "  "
            ]
          },
          "metadata": {},
          "execution_count": 7
        }
      ]
    },
    {
      "cell_type": "code",
      "source": [
        "train = resample(train, replace=False, n_samples=150000, stratify=train[\"label\"], random_state=42)"
      ],
      "metadata": {
        "id": "yfykdM3DOTft"
      },
      "id": "yfykdM3DOTft",
      "execution_count": 9,
      "outputs": []
    },
    {
      "cell_type": "code",
      "execution_count": 10,
      "outputs": [
        {
          "output_type": "stream",
          "name": "stderr",
          "text": [
            "100%|██████████| 150000/150000 [01:08<00:00, 2204.33it/s]\n",
            "100%|██████████| 38000/38000 [00:14<00:00, 2544.24it/s]\n"
          ]
        }
      ],
      "source": [
        "import spacy\n",
        "\n",
        "nlp = spacy.load(\n",
        "    \"en_core_web_sm\",\n",
        "    exclude=[\"tagger\", \"parser\", \"ner\", \"lemmatizer\", \"attribute_ruler\"],\n",
        ")\n",
        "\n",
        "\n",
        "def tokenize(text):\n",
        "    doc = nlp.tokenizer(text)\n",
        "    return [t.norm_ for t in doc if not (t.is_space or t.is_punct or t.like_num)]\n",
        "\n",
        "train[\"tokens\"] = train[\"text\"].progress_apply(tokenize)\n",
        "test[\"tokens\"] = test[\"text\"].progress_apply(tokenize)"
      ],
      "metadata": {
        "ExecuteTime": {
          "start_time": "2023-04-09T18:48:12.586826Z",
          "end_time": "2023-04-09T18:48:18.343707Z"
        },
        "id": "TmcyaxLR8s4D",
        "colab": {
          "base_uri": "https://localhost:8080/"
        },
        "outputId": "1de1568f-72c6-4e5e-ef3b-54b085625aeb"
      },
      "id": "TmcyaxLR8s4D"
    },
    {
      "cell_type": "markdown",
      "source": [
        "---\n",
        "\n",
        "## Scikit-learn \n",
        "\n",
        "Try using scikit-learn's SGDClassifier. Skorch sets aside 20% of the training data for validation, so to make things more directly comparable we'll do the same here."
      ],
      "metadata": {
        "id": "sM71AppaJLRp"
      },
      "id": "sM71AppaJLRp"
    },
    {
      "cell_type": "code",
      "source": [
        "from cytoolz import identity\n",
        "from sklearn.linear_model import SGDClassifier\n",
        "from sklearn.metrics import accuracy_score\n",
        "from sklearn.feature_extraction.text import CountVectorizer\n",
        "from sklearn.model_selection import train_test_split, GridSearchCV\n",
        "from scipy.stats.distributions import loguniform, uniform"
      ],
      "metadata": {
        "id": "hbuEIuVeicLQ"
      },
      "id": "hbuEIuVeicLQ",
      "execution_count": 11,
      "outputs": []
    },
    {
      "cell_type": "code",
      "execution_count": 12,
      "outputs": [],
      "source": [
        "vectorizer = CountVectorizer(analyzer=identity)\n",
        "sgd_train, _ = train_test_split(train, test_size=0.2)\n",
        "X_train = vectorizer.fit_transform(sgd_train['tokens'])\n",
        "X_test =  vectorizer.transform(test['tokens'])\n",
        "\n",
        "y_train = sgd_train[\"label\"]\n",
        "y_test = test[\"label\"]"
      ],
      "metadata": {
        "ExecuteTime": {
          "start_time": "2023-04-09T18:48:18.408493Z",
          "end_time": "2023-04-09T18:48:19.178194Z"
        },
        "id": "EudQn7vd8s4F"
      },
      "id": "EudQn7vd8s4F"
    },
    {
      "cell_type": "code",
      "execution_count": 13,
      "outputs": [
        {
          "output_type": "stream",
          "name": "stdout",
          "text": [
            "0.9197894736842105\n"
          ]
        }
      ],
      "source": [
        "sgd = SGDClassifier()\n",
        "sgd.fit(X_train, y_train)\n",
        "sgd_predicted = sgd.predict(X_test)\n",
        "print(accuracy_score(y_test, sgd_predicted))"
      ],
      "metadata": {
        "ExecuteTime": {
          "start_time": "2023-04-09T18:48:38.732498Z",
          "end_time": "2023-04-09T18:48:39.141309Z"
        },
        "id": "LsUMMaLZ8s4H",
        "colab": {
          "base_uri": "https://localhost:8080/"
        },
        "outputId": "8c98453b-2317-46d3-81a3-a5df443e5a04"
      },
      "id": "LsUMMaLZ8s4H"
    },
    {
      "cell_type": "code",
      "source": [
        "search = GridSearchCV(sgd, param_grid={'alpha':[1e-5,1e-4,1e-3]}, n_jobs=-1)\n",
        "search.fit(X_train, y_train)\n",
        "search.best_params_\n",
        "# Best Alpha when 'alpha':[1e-6,1e-4,1e-2,1] is 0.0001\n",
        "# Adjusting the 'alpha':[1e-5,1e-4,1e-3] range, best is 0.001"
      ],
      "metadata": {
        "id": "llXqthI6jbb7",
        "colab": {
          "base_uri": "https://localhost:8080/"
        },
        "outputId": "03fe41d7-aea5-4c92-9d5e-59892b6746f4"
      },
      "id": "llXqthI6jbb7",
      "execution_count": 15,
      "outputs": [
        {
          "output_type": "execute_result",
          "data": {
            "text/plain": [
              "{'alpha': 0.001}"
            ]
          },
          "metadata": {},
          "execution_count": 15
        }
      ]
    },
    {
      "cell_type": "code",
      "source": [
        "sgd.set_params(**search.best_params_)\n",
        "sgd.fit(X_train, y_train)\n",
        "sgd_predicted = sgd.predict(X_test)\n",
        "print(accuracy_score(y_test, sgd_predicted))"
      ],
      "metadata": {
        "id": "6oH5L3wfkrmA",
        "colab": {
          "base_uri": "https://localhost:8080/"
        },
        "outputId": "cbb6b2de-45c6-42a3-dc83-3a4f32948095"
      },
      "id": "6oH5L3wfkrmA",
      "execution_count": 16,
      "outputs": [
        {
          "output_type": "stream",
          "name": "stdout",
          "text": [
            "0.9222894736842105\n"
          ]
        }
      ]
    },
    {
      "cell_type": "markdown",
      "source": [
        "----\n",
        "\n",
        "## Data prepartion\n",
        "\n",
        "The input to scikit-learn classifiers has always been a document-term matrix (usually created by `CountVectorizer`). The input to a torch classifier should be a list of token ids. This will give us more flexibility in how the classifier represents the text. \n",
        "\n",
        "But, there's a complication: both torch and sklearn expect all document vectors to be the same length. That's easy for a document-term matrix, since the dimensionality of each document vector is the vocabulary size. If we're representing individual tokens, though, the length of the document vectors is equal to the length of the document, which won't be the same from doc to doc. \n",
        "\n",
        "To make all the doc lengths equal, we can add dummy words (`<pad>`) to end the of short texts. This will make all the docs as long as the longest doc in the dataset. Given the way doc lengths are distributed, though, very long texts are unusual all we'll be doing a lot of extra padding. \n",
        "\n",
        "A compromise is to cut off very long docs and pad out short ones so they all docs end up being of medium length."
      ],
      "metadata": {
        "collapsed": false,
        "id": "NQjmY_DZ8s4J"
      },
      "id": "NQjmY_DZ8s4J"
    },
    {
      "cell_type": "code",
      "execution_count": 17,
      "outputs": [],
      "source": [
        "import torch\n",
        "import torchtext\n",
        "import torch.nn.functional as F\n",
        "from torch import nn, optim\n",
        "from torchtext.transforms import VocabTransform, ToTensor, Truncate"
      ],
      "metadata": {
        "ExecuteTime": {
          "start_time": "2023-04-09T18:48:40.474406Z",
          "end_time": "2023-04-09T18:48:40.480869Z"
        },
        "id": "gaC6DXaE8s4J"
      },
      "id": "gaC6DXaE8s4J"
    },
    {
      "cell_type": "markdown",
      "source": [
        "Doc lengths range up to about 1,000 words but most are < 300 words."
      ],
      "metadata": {
        "id": "v5y2o_9TnDJx"
      },
      "id": "v5y2o_9TnDJx"
    },
    {
      "cell_type": "code",
      "source": [
        "train['tokens'].apply(len).plot(kind='hist')"
      ],
      "metadata": {
        "id": "A6sWHB9yTXur",
        "colab": {
          "base_uri": "https://localhost:8080/",
          "height": 448
        },
        "outputId": "b48a423c-2059-4225-ce81-6fc69f452dda"
      },
      "id": "A6sWHB9yTXur",
      "execution_count": 18,
      "outputs": [
        {
          "output_type": "execute_result",
          "data": {
            "text/plain": [
              "<Axes: ylabel='Frequency'>"
            ]
          },
          "metadata": {},
          "execution_count": 18
        },
        {
          "output_type": "display_data",
          "data": {
            "text/plain": [
              "<Figure size 640x480 with 1 Axes>"
            ],
            "image/png": "[encoded data removed]"
          },
          "metadata": {}
        }
      ]
    },
    {
      "cell_type": "code",
      "execution_count": 19,
      "outputs": [
        {
          "output_type": "stream",
          "name": "stderr",
          "text": [
            "/usr/local/lib/python3.9/dist-packages/torch/_jit_internal.py:1297: UserWarning: The inner type of a container is lost when calling torch.jit.isinstance in eager mode. For example, List[int] would become list and therefore falsely return True for List[float] or List[str].\n",
            "  warnings.warn(\n"
          ]
        }
      ],
      "source": [
        "vocab = torchtext.vocab.build_vocab_from_iterator(train['tokens'], specials=['<pad>','<unk>'], min_freq=1)\n",
        "vocab.set_default_index(vocab.get_stoi()['<unk>'])\n",
        "\n",
        "PAD_IDX = vocab.get_stoi()['<pad>']\n",
        "\n",
        "with torch.no_grad():\n",
        "  tr = nn.Sequential(VocabTransform(vocab), Truncate(300), ToTensor(padding_value=PAD_IDX))\n",
        "\n",
        "  X_train = tr(list(train['tokens'])).to('cuda')\n",
        "  X_test = tr(list(test['tokens'])).to('cuda')\n",
        "\n",
        "  y_train = train[\"label\"].to_numpy(dtype=np.float32) - 1\n",
        "  y_test = test[\"label\"].to_numpy(dtype=np.float32) - 1\n"
      ],
      "metadata": {
        "ExecuteTime": {
          "start_time": "2023-04-09T18:47:09.209320Z",
          "end_time": "2023-04-09T18:47:09.416106Z"
        },
        "id": "nJtsrfFc8s4Q",
        "colab": {
          "base_uri": "https://localhost:8080/"
        },
        "outputId": "4bc6bd8e-a8dc-4b7d-86b1-76cd6927bad0"
      },
      "id": "nJtsrfFc8s4Q"
    },
    {
      "cell_type": "markdown",
      "source": [
        "---\n",
        "\n",
        "## Embedding + one layer\n",
        "\n",
        "This model is structurally a lot like `TruncatedSVD` + `SGDClassifier`. The big difference, though, is that it's trained as a single unit so that the dimensionality reduction step optimizies classification accuracy."
      ],
      "metadata": {
        "id": "mQ8SO7AYn9Zn"
      },
      "id": "mQ8SO7AYn9Zn"
    },
    {
      "cell_type": "code",
      "source": [
        "from skorch import NeuralNetBinaryClassifier"
      ],
      "metadata": {
        "id": "p4MxSMfWlXop"
      },
      "id": "p4MxSMfWlXop",
      "execution_count": 20,
      "outputs": []
    },
    {
      "cell_type": "markdown",
      "source": [
        "Define a simple 'bag of embeddings' model\n",
        "\n",
        "$$\n",
        "\\mathbf{x}=\\textrm{mean}\\left(\\mathbf{e}(w_1),\\mathbf{e}(w_2),\\ldots,\\mathbf{e}(w_n)\\right)$$\n",
        "$$\\mathbf{y}=\\sigma\\left(\\mathbf{Wx}\\right)$$\n",
        "\n",
        "Some things to try:\n",
        "- change size of embedding (`embedding_size`) and pooling mode (`pooling`). See documentation at https://pytorch.org/docs/stable/generated/torch.nn.EmbeddingBag.html#embeddingbag\n",
        "- change `optimizer__weight_decay` (similar to to `alpha` for `SGDClassifier`)\n",
        "- change `min_freq` in vocabulary"
      ],
      "metadata": {
        "id": "XmW8Z49UJKqD"
      },
      "id": "XmW8Z49UJKqD"
    },
    {
      "cell_type": "code",
      "source": [
        "class EmbeddingLogisticR(nn.Module):\n",
        "    def __init__(self, vocab_size, embedding_size, pooling, padding_idx):\n",
        "        super().__init__()\n",
        "\n",
        "        self.embedding = nn.EmbeddingBag(vocab_size, embedding_size, padding_idx=padding_idx, mode=pooling)\n",
        "        self.output = nn.Linear(embedding_size, 1)\n",
        "\n",
        "    def forward(self, X, **kwargs):\n",
        "        e = self.embedding(X)\n",
        "        y = self.output(e)\n",
        "        return y"
      ],
      "metadata": {
        "id": "vkQs_8WuGztX"
      },
      "id": "vkQs_8WuGztX",
      "execution_count": 22,
      "outputs": []
    },
    {
      "cell_type": "code",
      "source": [
        "net = NeuralNetBinaryClassifier(\n",
        "    EmbeddingLogisticR,\n",
        "    module__vocab_size = len(vocab),\n",
        "    module__embedding_size = 42, #\n",
        "    module__pooling = \"sum\", #\n",
        "    module__padding_idx = PAD_IDX,\n",
        "    max_epochs = 10,\n",
        "    verbose = 1,\n",
        "    device = \"cuda\",\n",
        "    optimizer = optim.Adam,\n",
        "    batch_size = 1024,\n",
        "    optimizer__weight_decay = 0.001 #\n",
        ")"
      ],
      "metadata": {
        "id": "0tRJXvu-HQ-y"
      },
      "id": "0tRJXvu-HQ-y",
      "execution_count": 23,
      "outputs": []
    },
    {
      "cell_type": "code",
      "source": [
        "net.fit(X_train, y_train)\n",
        "net_predicted = net.predict(X_test)\n",
        "print(accuracy_score(y_test, net_predicted))"
      ],
      "metadata": {
        "id": "tv_acDfnHnDf",
        "colab": {
          "base_uri": "https://localhost:8080/"
        },
        "outputId": "d3fabe66-f103-45ae-eee9-d9b28fa81d22"
      },
      "id": "tv_acDfnHnDf",
      "execution_count": 24,
      "outputs": [
        {
          "output_type": "stream",
          "name": "stdout",
          "text": [
            "  epoch    train_loss    valid_acc    valid_loss     dur\n",
            "-------  ------------  -----------  ------------  ------\n",
            "      1        \u001b[36m0.7091\u001b[0m       \u001b[32m0.8353\u001b[0m        \u001b[35m0.3969\u001b[0m  4.5937\n",
            "      2        \u001b[36m0.3364\u001b[0m       \u001b[32m0.8910\u001b[0m        \u001b[35m0.2919\u001b[0m  2.5931\n",
            "      3        \u001b[36m0.2806\u001b[0m       \u001b[32m0.8963\u001b[0m        \u001b[35m0.2743\u001b[0m  2.0554\n",
            "      4        \u001b[36m0.2695\u001b[0m       0.8961        \u001b[35m0.2729\u001b[0m  1.9567\n",
            "      5        \u001b[36m0.2639\u001b[0m       \u001b[32m0.8976\u001b[0m        \u001b[35m0.2688\u001b[0m  2.7507\n",
            "      6        \u001b[36m0.2610\u001b[0m       \u001b[32m0.8984\u001b[0m        \u001b[35m0.2657\u001b[0m  1.9406\n",
            "      7        \u001b[36m0.2587\u001b[0m       \u001b[32m0.8995\u001b[0m        \u001b[35m0.2618\u001b[0m  2.0143\n",
            "      8        \u001b[36m0.2567\u001b[0m       \u001b[32m0.9016\u001b[0m        \u001b[35m0.2562\u001b[0m  2.5903\n",
            "      9        \u001b[36m0.2548\u001b[0m       \u001b[32m0.9042\u001b[0m        \u001b[35m0.2506\u001b[0m  2.8482\n",
            "     10        \u001b[36m0.2530\u001b[0m       \u001b[32m0.9060\u001b[0m        \u001b[35m0.2477\u001b[0m  1.9804\n",
            "0.9086842105263158\n"
          ]
        }
      ]
    },
    {
      "cell_type": "code",
      "source": [
        "net.set_params(verbose=0, max_epochs=5)\n",
        "search = GridSearchCV(net, \n",
        "                      param_grid={'optimizer__weight_decay':[1e-6, 1e-5, 1e-4, 1e-3,1e-2, 1]}, \n",
        "                      verbose=2, refit=False, cv=2)\n",
        "search.fit(X_train, y_train)\n",
        "search.best_params_"
      ],
      "metadata": {
        "id": "VJOgpL5VzDox",
        "colab": {
          "base_uri": "https://localhost:8080/"
        },
        "outputId": "a8f69162-b36c-4d1d-e865-3eadcacd3e80"
      },
      "id": "VJOgpL5VzDox",
      "execution_count": 26,
      "outputs": [
        {
          "output_type": "stream",
          "name": "stdout",
          "text": [
            "Fitting 2 folds for each of 6 candidates, totalling 12 fits\n",
            "[CV] END ......................optimizer__weight_decay=1e-06; total time=   6.7s\n",
            "[CV] END ......................optimizer__weight_decay=1e-06; total time=   7.5s\n",
            "[CV] END ......................optimizer__weight_decay=1e-05; total time=   6.6s\n",
            "[CV] END ......................optimizer__weight_decay=1e-05; total time=   6.6s\n",
            "[CV] END .....................optimizer__weight_decay=0.0001; total time=   6.5s\n",
            "[CV] END .....................optimizer__weight_decay=0.0001; total time=   7.4s\n",
            "[CV] END ......................optimizer__weight_decay=0.001; total time=   6.5s\n",
            "[CV] END ......................optimizer__weight_decay=0.001; total time=   7.4s\n",
            "[CV] END .......................optimizer__weight_decay=0.01; total time=   5.8s\n",
            "[CV] END .......................optimizer__weight_decay=0.01; total time=   8.3s\n",
            "[CV] END ..........................optimizer__weight_decay=1; total time=   6.6s\n",
            "[CV] END ..........................optimizer__weight_decay=1; total time=   7.3s\n"
          ]
        },
        {
          "output_type": "execute_result",
          "data": {
            "text/plain": [
              "{'optimizer__weight_decay': 1e-05}"
            ]
          },
          "metadata": {},
          "execution_count": 26
        }
      ]
    },
    {
      "cell_type": "code",
      "source": [
        "search.best_score_"
      ],
      "metadata": {
        "colab": {
          "base_uri": "https://localhost:8080/"
        },
        "id": "RZ6pVRkcpTOT",
        "outputId": "c565d434-9e07-4dee-d592-16c43b26fa81"
      },
      "id": "RZ6pVRkcpTOT",
      "execution_count": 28,
      "outputs": [
        {
          "output_type": "execute_result",
          "data": {
            "text/plain": [
              "0.9143"
            ]
          },
          "metadata": {},
          "execution_count": 28
        }
      ]
    },
    {
      "cell_type": "code",
      "source": [
        "net.set_params(verbose=1, **search.best_params_)\n",
        "net.fit(X_train, y_train)\n",
        "net_predicted = net.predict(X_test)\n",
        "print(accuracy_score(y_test, net_predicted))"
      ],
      "metadata": {
        "id": "xM4foGxSx3k7",
        "colab": {
          "base_uri": "https://localhost:8080/"
        },
        "outputId": "b10a2061-cfad-44a4-c2e6-06822f8a80a1"
      },
      "id": "xM4foGxSx3k7",
      "execution_count": 27,
      "outputs": [
        {
          "output_type": "stream",
          "name": "stdout",
          "text": [
            "Re-initializing module because the following parameters were re-set: embedding_size, padding_idx, pooling, vocab_size.\n",
            "Re-initializing criterion.\n",
            "Re-initializing optimizer.\n",
            "  epoch    train_loss    valid_acc    valid_loss     dur\n",
            "-------  ------------  -----------  ------------  ------\n",
            "      1        \u001b[36m0.6616\u001b[0m       \u001b[32m0.8318\u001b[0m        \u001b[35m0.3966\u001b[0m  2.3023\n",
            "      2        \u001b[36m0.3386\u001b[0m       \u001b[32m0.8912\u001b[0m        \u001b[35m0.2866\u001b[0m  1.9601\n",
            "      3        \u001b[36m0.2761\u001b[0m       \u001b[32m0.9002\u001b[0m        \u001b[35m0.2645\u001b[0m  2.6940\n",
            "      4        \u001b[36m0.2626\u001b[0m       \u001b[32m0.9023\u001b[0m        \u001b[35m0.2569\u001b[0m  1.9257\n",
            "      5        \u001b[36m0.2546\u001b[0m       \u001b[32m0.9042\u001b[0m        \u001b[35m0.2513\u001b[0m  1.9337\n",
            "0.9065\n"
          ]
        }
      ]
    },
    {
      "cell_type": "markdown",
      "source": [
        "*Accuracy for test data, has dropped a tiny bit less than before, but less than the linear SGD model in both cases.*"
      ],
      "metadata": {
        "id": "GoCgB9uLpfBV"
      },
      "id": "GoCgB9uLpfBV"
    },
    {
      "cell_type": "markdown",
      "source": [
        "---\n",
        "\n",
        "## Deeper learning\n",
        "\n",
        "Next, we'll add more hidden layers and apply dropout. The model equations are\n",
        "\n",
        "$$\\mathbf{x}=\\textrm{mean}\\left(\\mathbf{e}(w_1),\\mathbf{e}(w_2),\\ldots,\\mathbf{e}(w_n)\\right)$$\n",
        "$$\\mathbf{h}_1=\\sigma(\\mathbf{Wx})$$\n",
        "$$\\mathbf{h}_2=\\sigma(\\mathbf{U}_2\\mathbf{h}_1)$$\n",
        "$$\\mathbf{y}=\\sigma\\left(\\mathbf{h}_2\\right)$$\n",
        "\n",
        "Additional things to try:\n",
        "- Change the non-linearity used in the hidden layers `non_lin` (tanh, relu, etc). See documentation at https://pytorch.org/docs/stable/nn.functional.html#non-linear-activation-functions\n",
        "- Change size of hidden layers `hidden_units`\n",
        "- Add additional hidden layers\n",
        "- Change dropout probability `dropout`\n"
      ],
      "metadata": {
        "id": "j9GxK3bryE0V"
      },
      "id": "j9GxK3bryE0V"
    },
    {
      "cell_type": "code",
      "execution_count": 30,
      "outputs": [],
      "source": [
        "class EmbeddingMultilayer(nn.Module):\n",
        "    def __init__(self, vocab_size, embedding_size, pooling, padding_idx, non_lin, hidden_units, dropout):\n",
        "        super().__init__()\n",
        "\n",
        "        self.non_lin = non_lin\n",
        "        self.embedding = nn.EmbeddingBag(vocab_size, embedding_size, padding_idx=padding_idx, mode=pooling)\n",
        "        self.hidden1 = nn.Linear(embedding_size, hidden_units)\n",
        "        self.hidden2 = nn.Linear(hidden_units, hidden_units)\n",
        "        self.output = nn.Linear(hidden_units, 1)\n",
        "        self.dropout = nn.Dropout(dropout)\n",
        "\n",
        "    def forward(self, X, **kwargs):\n",
        "        e = self.embedding(X)\n",
        "        e = self.dropout(e)\n",
        "        h = self.non_lin(self.hidden1(e))\n",
        "        h = self.dropout(h)\n",
        "        h = self.non_lin(self.hidden2(h))\n",
        "        h = self.dropout(h)\n",
        "        y = self.output(h)\n",
        "        return y"
      ],
      "metadata": {
        "ExecuteTime": {
          "start_time": "2023-04-09T18:47:28.812618Z",
          "end_time": "2023-04-09T18:47:28.819377Z"
        },
        "id": "vQLvoF4i8s4S"
      },
      "id": "vQLvoF4i8s4S"
    },
    {
      "cell_type": "code",
      "execution_count": 31,
      "outputs": [],
      "source": [
        "net = NeuralNetBinaryClassifier(\n",
        "    EmbeddingMultilayer,\n",
        "    module__vocab_size = len(vocab),\n",
        "    module__embedding_size = 32,\n",
        "    module__pooling = \"mean\",\n",
        "    module__padding_idx = PAD_IDX,\n",
        "    module__non_lin = F.tanh, #\n",
        "    module__hidden_units = 45, #\n",
        "    module__dropout = 0.4, #\n",
        "    max_epochs = 10,\n",
        "    verbose = 1,\n",
        "    device = \"cuda\",\n",
        "    batch_size = 1024,\n",
        "    optimizer = optim.Adam,\n",
        "    optimizer__weight_decay = 0,\n",
        "    iterator_train__shuffle = True\n",
        ")"
      ],
      "metadata": {
        "ExecuteTime": {
          "start_time": "2023-04-09T18:47:29.186321Z",
          "end_time": "2023-04-09T18:47:29.194546Z"
        },
        "id": "GPh-838Z8s4S"
      },
      "id": "GPh-838Z8s4S"
    },
    {
      "cell_type": "code",
      "execution_count": 32,
      "outputs": [
        {
          "output_type": "stream",
          "name": "stdout",
          "text": [
            "  epoch    train_loss    valid_acc    valid_loss     dur\n",
            "-------  ------------  -----------  ------------  ------\n",
            "      1        \u001b[36m0.4003\u001b[0m       \u001b[32m0.9074\u001b[0m        \u001b[35m0.2375\u001b[0m  1.9025\n",
            "      2        \u001b[36m0.2398\u001b[0m       \u001b[32m0.9196\u001b[0m        \u001b[35m0.2090\u001b[0m  2.6395\n",
            "      3        \u001b[36m0.1964\u001b[0m       \u001b[32m0.9238\u001b[0m        \u001b[35m0.2009\u001b[0m  1.8519\n",
            "      4        \u001b[36m0.1716\u001b[0m       \u001b[32m0.9256\u001b[0m        \u001b[35m0.1953\u001b[0m  1.8082\n",
            "      5        \u001b[36m0.1515\u001b[0m       \u001b[32m0.9259\u001b[0m        0.1969  2.3490\n",
            "      6        \u001b[36m0.1389\u001b[0m       0.9243        0.2086  2.9978\n",
            "      7        \u001b[36m0.1254\u001b[0m       0.9238        0.2174  1.8100\n",
            "      8        \u001b[36m0.1140\u001b[0m       0.9229        0.2318  2.1771\n",
            "      9        \u001b[36m0.1052\u001b[0m       0.9217        0.2396  1.7806\n",
            "     10        \u001b[36m0.0956\u001b[0m       0.9201        0.2505  2.5816\n",
            "0.9211315789473684\n"
          ]
        }
      ],
      "source": [
        "net.fit(X_train, y_train)\n",
        "net_predicted = net.predict(X_test)\n",
        "print(accuracy_score(y_test, net_predicted))"
      ],
      "metadata": {
        "ExecuteTime": {
          "start_time": "2023-04-09T18:47:29.650795Z",
          "end_time": "2023-04-09T18:47:38.390612Z"
        },
        "id": "Yv8pcTrT8s4T",
        "colab": {
          "base_uri": "https://localhost:8080/"
        },
        "outputId": "2ab2522c-8684-4699-97d4-062e4a9a69ef"
      },
      "id": "Yv8pcTrT8s4T"
    },
    {
      "cell_type": "markdown",
      "source": [
        "*Now the accuracy has neared the linear model*"
      ],
      "metadata": {
        "id": "ATbwajcOrG7b"
      },
      "id": "ATbwajcOrG7b"
    },
    {
      "cell_type": "markdown",
      "source": [
        "---\n",
        "\n",
        "## Pre-trained vectors\n",
        "\n",
        "This model is the same as the one above, except it uses pre-trained GloVe vectors\n",
        "\n",
        "Things to try:\n",
        "- Different GloVe models (6B, twitter.27B, 42B, 840B) and dimensions; see https://nlp.stanford.edu/projects/glove/\n",
        "- Change setting of `freeze` to allow fine-tuning"
      ],
      "metadata": {
        "id": "OI7i6H1VEFkV"
      },
      "id": "OI7i6H1VEFkV"
    },
    {
      "cell_type": "code",
      "source": [
        "from torchtext.vocab import GloVe"
      ],
      "metadata": {
        "id": "rZQZ_1opPoN4"
      },
      "id": "rZQZ_1opPoN4",
      "execution_count": 33,
      "outputs": []
    },
    {
      "cell_type": "code",
      "source": [
        "glove = GloVe(name='twitter.27B', dim=100) #Changed glove model"
      ],
      "metadata": {
        "id": "LS20ZfDCPpuV",
        "colab": {
          "base_uri": "https://localhost:8080/"
        },
        "outputId": "c101bd9d-dff3-4e66-d44a-38fd63e38f94"
      },
      "id": "LS20ZfDCPpuV",
      "execution_count": 35,
      "outputs": [
        {
          "output_type": "stream",
          "name": "stderr",
          "text": [
            ".vector_cache/glove.twitter.27B.zip: 1.52GB [04:47, 5.29MB/s]                            \n",
            "100%|█████████▉| 1193513/1193514 [00:58<00:00, 20287.30it/s]\n"
          ]
        }
      ]
    },
    {
      "cell_type": "code",
      "source": [
        "vectors = torch.vstack([glove.get_vecs_by_tokens([vocab.lookup_token(i)]) for i in range(len(vocab))])"
      ],
      "metadata": {
        "id": "uy9tyGtdRHPw"
      },
      "id": "uy9tyGtdRHPw",
      "execution_count": 36,
      "outputs": []
    },
    {
      "cell_type": "code",
      "execution_count": 37,
      "outputs": [],
      "source": [
        "class GloveMultilayer(nn.Module):\n",
        "    def __init__(self, vocab_size, vectors, freeze, pooling, padding_idx, non_lin, hidden_units, dropout):\n",
        "        super().__init__()\n",
        "\n",
        "        self.non_lin = non_lin\n",
        "        self.embedding = nn.EmbeddingBag.from_pretrained(vectors, padding_idx=padding_idx, \n",
        "                                                         freeze=freeze, mode=pooling)\n",
        "        self.hidden1 = nn.Linear(vectors.shape[1], hidden_units)\n",
        "        self.hidden2 = nn.Linear(hidden_units, hidden_units)\n",
        "        self.output = nn.Linear(hidden_units, 1)\n",
        "        self.dropout = nn.Dropout(dropout)\n",
        "\n",
        "    def forward(self, X, **kwargs):\n",
        "        e = self.embedding(X)\n",
        "        e = self.dropout(e)\n",
        "        h = self.non_lin(self.hidden1(e))\n",
        "        h = self.dropout(h)\n",
        "        h = self.non_lin(self.hidden2(h))\n",
        "        h = self.dropout(h)\n",
        "        y = self.output(h)\n",
        "        return y"
      ],
      "metadata": {
        "ExecuteTime": {
          "start_time": "2023-04-09T18:28:43.122106Z",
          "end_time": "2023-04-09T18:28:43.131307Z"
        },
        "id": "CEiD0Eig8s4T"
      },
      "id": "CEiD0Eig8s4T"
    },
    {
      "cell_type": "code",
      "execution_count": 42,
      "outputs": [],
      "source": [
        "net = NeuralNetBinaryClassifier(\n",
        "    GloveMultilayer,\n",
        "    module__vocab_size = len(vocab),\n",
        "    module__vectors = vectors,\n",
        "    module__freeze = True,\n",
        "    module__pooling = \"mean\",\n",
        "    module__padding_idx = PAD_IDX,\n",
        "    module__non_lin = F.sigmoid,\n",
        "    module__hidden_units = 32,\n",
        "    module__dropout = 0.7,\n",
        "    max_epochs = 10,\n",
        "    verbose = 1,\n",
        "    device = \"cuda\",\n",
        "    batch_size = 1024,\n",
        "    optimizer = optim.Adam,\n",
        "    optimizer__weight_decay = 1e-5,\n",
        "    iterator_train__shuffle = True\n",
        ")"
      ],
      "metadata": {
        "id": "yuU42k8e8s4U"
      },
      "id": "yuU42k8e8s4U"
    },
    {
      "cell_type": "code",
      "execution_count": 43,
      "outputs": [
        {
          "output_type": "stream",
          "name": "stdout",
          "text": [
            "  epoch    train_loss    valid_acc    valid_loss     dur\n",
            "-------  ------------  -----------  ------------  ------\n",
            "      1        \u001b[36m0.6622\u001b[0m       \u001b[32m0.7925\u001b[0m        \u001b[35m0.5129\u001b[0m  1.2746\n",
            "      2        \u001b[36m0.5817\u001b[0m       \u001b[32m0.8093\u001b[0m        \u001b[35m0.4750\u001b[0m  2.4276\n",
            "      3        \u001b[36m0.5730\u001b[0m       0.7984        \u001b[35m0.4739\u001b[0m  1.9321\n",
            "      4        \u001b[36m0.5679\u001b[0m       0.8088        \u001b[35m0.4737\u001b[0m  1.2094\n",
            "      5        \u001b[36m0.5660\u001b[0m       0.8063        \u001b[35m0.4715\u001b[0m  1.1854\n",
            "      6        0.5665       \u001b[32m0.8130\u001b[0m        0.4735  1.9839\n",
            "      7        \u001b[36m0.5653\u001b[0m       0.8085        0.4730  1.2161\n",
            "      8        \u001b[36m0.5651\u001b[0m       0.8075        \u001b[35m0.4702\u001b[0m  1.2254\n",
            "      9        \u001b[36m0.5626\u001b[0m       0.8093        \u001b[35m0.4698\u001b[0m  1.7529\n",
            "     10        0.5632       0.8056        0.4730  3.0316\n",
            "0.8068684210526316\n"
          ]
        }
      ],
      "source": [
        "net.fit(X_train, y_train)\n",
        "net_predicted = net.predict(X_test)\n",
        "print(accuracy_score(y_test, net_predicted))"
      ],
      "metadata": {
        "id": "e39WzbmH8s4U",
        "colab": {
          "base_uri": "https://localhost:8080/"
        },
        "outputId": "1bd963bf-f767-428e-db6e-e0cfb3922dc9"
      },
      "id": "e39WzbmH8s4U"
    },
    {
      "cell_type": "code",
      "execution_count": 44,
      "outputs": [],
      "source": [
        "net = NeuralNetBinaryClassifier(\n",
        "    GloveMultilayer,\n",
        "    module__vocab_size = len(vocab),\n",
        "    module__vectors = vectors,\n",
        "    module__freeze = False,\n",
        "    module__pooling = \"mean\",\n",
        "    module__padding_idx = PAD_IDX,\n",
        "    module__non_lin = F.sigmoid,\n",
        "    module__hidden_units = 32,\n",
        "    module__dropout = 0.7,\n",
        "    max_epochs = 10,\n",
        "    verbose = 1,\n",
        "    device = \"cuda\",\n",
        "    batch_size = 1024,\n",
        "    optimizer = optim.Adam,\n",
        "    optimizer__weight_decay = 1e-5,\n",
        "    iterator_train__shuffle = True\n",
        ")"
      ],
      "metadata": {
        "id": "YDBwh7N18s4X"
      },
      "id": "YDBwh7N18s4X"
    },
    {
      "cell_type": "code",
      "source": [
        "net.fit(X_train, y_train)\n",
        "net_predicted = net.predict(X_test)\n",
        "print(accuracy_score(y_test, net_predicted))"
      ],
      "metadata": {
        "colab": {
          "base_uri": "https://localhost:8080/"
        },
        "id": "_kkv_VJetTE2",
        "outputId": "6aab32df-9f0f-4345-93e9-c555a925b4c2"
      },
      "id": "_kkv_VJetTE2",
      "execution_count": 45,
      "outputs": [
        {
          "output_type": "stream",
          "name": "stdout",
          "text": [
            "  epoch    train_loss    valid_acc    valid_loss     dur\n",
            "-------  ------------  -----------  ------------  ------\n",
            "      1        \u001b[36m0.5425\u001b[0m       \u001b[32m0.9036\u001b[0m        \u001b[35m0.2491\u001b[0m  2.8517\n",
            "      2        \u001b[36m0.2925\u001b[0m       \u001b[32m0.9147\u001b[0m        \u001b[35m0.2196\u001b[0m  2.8210\n",
            "      3        \u001b[36m0.2704\u001b[0m       \u001b[32m0.9152\u001b[0m        \u001b[35m0.2144\u001b[0m  3.8910\n",
            "      4        \u001b[36m0.2650\u001b[0m       \u001b[32m0.9153\u001b[0m        \u001b[35m0.2141\u001b[0m  3.2988\n",
            "      5        \u001b[36m0.2569\u001b[0m       \u001b[32m0.9194\u001b[0m        \u001b[35m0.2132\u001b[0m  2.8050\n",
            "      6        \u001b[36m0.2546\u001b[0m       0.9131        0.2172  2.8113\n",
            "      7        \u001b[36m0.2530\u001b[0m       0.9177        \u001b[35m0.2108\u001b[0m  3.5852\n",
            "      8        \u001b[36m0.2505\u001b[0m       0.9165        0.2121  4.0447\n",
            "      9        \u001b[36m0.2497\u001b[0m       \u001b[32m0.9202\u001b[0m        \u001b[35m0.2081\u001b[0m  2.8057\n",
            "     10        \u001b[36m0.2494\u001b[0m       0.9189        0.2090  2.7878\n",
            "0.9210263157894737\n"
          ]
        }
      ]
    },
    {
      "cell_type": "markdown",
      "source": [
        "*Tried Glove Vectors using 'twitter.27B', with two settings of Module_freeze: True and False. While True, Module accuracy is not as good as previous models, but when False, Model accuracy is as good as previous models.*\\\n"
      ],
      "metadata": {
        "id": "JBwFmaumtWd3"
      },
      "id": "JBwFmaumtWd3"
    }
  ],
  "metadata": {
    "kernelspec": {
      "display_name": "Python 3 (ipykernel)",
      "language": "python",
      "name": "python3"
    },
    "language_info": {
      "codemirror_mode": {
        "name": "ipython",
        "version": 3
      },
      "file_extension": ".py",
      "mimetype": "text/x-python",
      "name": "python",
      "nbconvert_exporter": "python",
      "pygments_lexer": "ipython3",
      "version": "3.11.2"
    },
    "colab": {
      "provenance": []
    },
    "accelerator": "GPU",
    "gpuClass": "standard"
  },
  "nbformat": 4,
  "nbformat_minor": 5
}