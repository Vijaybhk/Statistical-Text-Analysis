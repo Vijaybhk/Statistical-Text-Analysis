{
 "cells": [
  {
   "cell_type": "markdown",
   "id": "trained-aberdeen",
   "metadata": {},
   "source": [
    "# LAB 7: Error analysis\n",
    "\n",
    "Objectives\n",
    "* Construct a  linear text classifier using SGDClassifier\n",
    "* Evaluate its performance and categorize the errors that it makes\n",
    "* Eaxmine model's coefficients and decision function values\n",
    "* Interpret model results using LIME"
   ]
  },
  {
   "cell_type": "code",
   "execution_count": 1,
   "id": "imposed-creek",
   "metadata": {
    "tags": []
   },
   "outputs": [],
   "source": [
    "import pickle\n",
    "\n",
    "import cloudpickle\n",
    "import numpy as np\n",
    "import pandas as pd\n",
    "from cytoolz import *\n",
    "from tqdm.auto import tqdm\n",
    "\n",
    "tqdm.pandas()"
   ]
  },
  {
   "cell_type": "markdown",
   "id": "pressed-superior",
   "metadata": {},
   "source": [
    "---\n",
    "\n",
    "## Load data"
   ]
  },
  {
   "cell_type": "code",
   "execution_count": 2,
   "id": "talented-confirmation",
   "metadata": {
    "tags": []
   },
   "outputs": [],
   "source": [
    "train, test = pickle.load(open(\"/data/politics.pkl\", \"rb\"))"
   ]
  },
  {
   "cell_type": "code",
   "execution_count": 3,
   "id": "0f3041d7-2894-4a64-930b-2c88d08e1329",
   "metadata": {},
   "outputs": [],
   "source": [
    "sgd = cloudpickle.load(open(\"sgd.model\", \"rb\"))\n",
    "svm = cloudpickle.load(open(\"svm.model\", \"rb\"))"
   ]
  },
  {
   "cell_type": "markdown",
   "id": "curious-bridal",
   "metadata": {},
   "source": [
    "---\n",
    "\n",
    "## Decision function"
   ]
  },
  {
   "cell_type": "code",
   "execution_count": 4,
   "id": "b29af7c7-f669-4ed8-a503-fe562b9f09f2",
   "metadata": {},
   "outputs": [],
   "source": [
    "from sklearn.metrics import classification_report, f1_score"
   ]
  },
  {
   "cell_type": "code",
   "execution_count": 5,
   "id": "colored-reading",
   "metadata": {
    "tags": []
   },
   "outputs": [],
   "source": [
    "labels = sgd.named_steps[\"sgdclassifier\"].classes_\n",
    "scores = sgd.decision_function(test[\"text\"])\n",
    "\n",
    "predicted = sgd.predict(test[\"text\"])"
   ]
  },
  {
   "cell_type": "code",
   "execution_count": 6,
   "id": "collected-radiation",
   "metadata": {
    "tags": []
   },
   "outputs": [
    {
     "data": {
      "text/plain": [
       "(True, True)"
      ]
     },
     "execution_count": 6,
     "metadata": {},
     "output_type": "execute_result"
    }
   ],
   "source": [
    "test[\"pol\"].iloc[0], predicted[0]"
   ]
  },
  {
   "cell_type": "code",
   "execution_count": 7,
   "id": "surface-particle",
   "metadata": {
    "tags": []
   },
   "outputs": [
    {
     "data": {
      "text/plain": [
       "'China says U.S. wrong over donation reports. China on Monday dismissed suggestions it had paid political donations to the U.S. Democratic Party and slammed Washington for taking what it said were irresponsible and wrong actions over the issue. A senior Chinese foreign ministry official had made serious representations to the U.S. charge d\\'affairs in Beijing over U.S. actions that had created bad feeling and undermined relations, the official Xinhua news agency said.   The Washington Post reported on Sunday that the Federal Bureau of Investigation had warned six members of Congress last year that they had been targeted by China to receive illegal campaign contributions from foreign corporations. Xinhua quoted Mei Ping, director of the Chinese foreign ministry\\'s Americas department, as saying U.S. reports accusing the Chinese embassy of making illegal political donations were entirely unfounded. Washington\\'s actions had created bad feeling and undermined Sino-U.S. relations and were irresponsible and absolutely wrong, the agency quoted him as saying. \"Such slanderous news and reports about China are ill-motivated fabrications... We hereby express our indignation and strong displeasure over the matter,\" Mei said.'"
      ]
     },
     "execution_count": 7,
     "metadata": {},
     "output_type": "execute_result"
    }
   ],
   "source": [
    "test[\"text\"].iloc[0]"
   ]
  },
  {
   "cell_type": "code",
   "execution_count": 8,
   "id": "located-tracy",
   "metadata": {
    "tags": []
   },
   "outputs": [
    {
     "data": {
      "text/plain": [
       "4.244893153532144"
      ]
     },
     "execution_count": 8,
     "metadata": {},
     "output_type": "execute_result"
    }
   ],
   "source": [
    "scores.max()"
   ]
  },
  {
   "cell_type": "code",
   "execution_count": 9,
   "id": "invalid-rwanda",
   "metadata": {
    "tags": []
   },
   "outputs": [
    {
     "data": {
      "text/plain": [
       "1950"
      ]
     },
     "execution_count": 9,
     "metadata": {},
     "output_type": "execute_result"
    }
   ],
   "source": [
    "scores.argmax()"
   ]
  },
  {
   "cell_type": "code",
   "execution_count": 10,
   "id": "cordless-moderator",
   "metadata": {
    "tags": []
   },
   "outputs": [
    {
     "data": {
      "text/plain": [
       "'France gets third \"cohabitation\" with left win. French voters launched a third period of power-sharing on Sunday by giving a stunning victory to the opposition Socialists who must now \"cohabit\" with conservative President Jacques Chirac. \"Nobody especially wants it,\" Socialist Party spokesman Francois Hollande said, saying that under the constitution both government and president must respect each other\\'s powers. Late Socialist president Francois Mitterrand shared power with hostile centre-right governments from 1986 to 1988, with Chirac as prime minister, and from 1993 to 1995. Chirac, elected for a seven-year term in 1995, said before Sunday\\'s runoff round in the National Assembly election that he would not resign whatever the outcome. Lionel Jospin\\'s Socialist Party and leftist allies are set to win a majority in the 577-seat National Assembly. He may have to cooperate with the more leftist Communist party in a second cohabitation within the government. The following are the mechanics of cohabitation under the 1958 constitution, which gives the executive strong powers while poorly defining the limits of the president\\'s and the government\\'s responsibilities. GOVERNMENT APPOINTMENTS The president appoints the prime minister, and names cabinet ministers on the premier\\'s recommendation. The president chairs all cabinet meetings. A new government does not require a parliamentary vote of confidence. In 1986, Mitterrand rejected premier Chirac\\'s nominees for both foreign affairs and defence. Chirac backed down and named new ministers. FOREIGN AFFAIRS The president guarantees French independence and respect of international treaties, leading Mitterrand to claim pre-eminence in foreign affairs. Article 20 also gives the government a broad mandate, saying: \"the government determines and carries out the nation\\'s policy\". DEFENCE The president is the head of France\\'s armed forces, and commander of the nuclear arsenal. The prime minister is \"responsible for national defence\", and declarations of war are approved by parliament. LEGISLATION Parliament passes laws, including the budget, presented by the government. The president has no veto but can ask parliament to reconsider laws he is asked to promulgate. Article 13 says the president \"signs decrees and orders approved by the cabinet\". In July 1986, Mitterrand refused to sign decrees speeding up privatisation of state firms and making it easier to lay off workers. Chirac had then to resort to a more cumbersome legislative route. A prime minister can rule with a minority because the constitution does not require a government to resign if it is defeated in parliament unless this involved key legislation such as the budget. Article 49-3 gives a minority government leverage to push through legislation by linking bills it considers vital to an overall confidence vote. If the article is invoked, the opposition must either accept the bill or call a no-confidence motion within 24 hours. If passed, the motion topples the government. Former Socialist prime minister Michel Rocard invoked Article 49-3 several times to pass legislation from 1988 to 1991. The Communists did not vote with the right-wing opposition to oust his minority government because they feared a new election. PRESIDENTIAL EMERGENCY POWERS The president can take undefined \"measures demanded by circumstances\" if institutions, national independence or France\\'s ability to meet international commitments are threatened in a \"serious and immediate way\". The president can call referendums. The president can dissolve parliament and call a snap parliamentary election, but cannot do so twice within a year.'"
      ]
     },
     "execution_count": 10,
     "metadata": {},
     "output_type": "execute_result"
    }
   ],
   "source": [
    "test[\"text\"].iloc[1950]"
   ]
  },
  {
   "cell_type": "code",
   "execution_count": 11,
   "id": "final-search",
   "metadata": {
    "tags": []
   },
   "outputs": [
    {
     "data": {
      "text/plain": [
       "(-3.023472874879283, 628)"
      ]
     },
     "execution_count": 11,
     "metadata": {},
     "output_type": "execute_result"
    }
   ],
   "source": [
    "scores.min(), scores.argmin()"
   ]
  },
  {
   "cell_type": "code",
   "execution_count": 12,
   "id": "structured-witness",
   "metadata": {
    "tags": []
   },
   "outputs": [
    {
     "data": {
      "text/plain": [
       "'PRESS DIGEST - BAHRAIN - JAN 30. These are some of the leading stories in the Bahraini press on Thursday. Reuters has not verified these stories and does not vouch for their accuracy. GULF DAILY NEWS - Gulf Cooperation Council chief briefs Bahrain on the outcome of talks by a four-member Gulf committee trying to improve ties between Bahrain and Qatar, locked in a border row. - Bahraini banks in $50 million loan deal with Pakistan State Oil Company. AL-AYAM - Bahrain arrests suspects accused of torching Hamad Town Cooperative Society building on Sunday.'"
      ]
     },
     "execution_count": 12,
     "metadata": {},
     "output_type": "execute_result"
    }
   ],
   "source": [
    "test[\"text\"].iloc[628]"
   ]
  },
  {
   "cell_type": "code",
   "execution_count": 13,
   "id": "nervous-philippines",
   "metadata": {
    "tags": []
   },
   "outputs": [],
   "source": [
    "margin = np.abs(scores)"
   ]
  },
  {
   "cell_type": "code",
   "execution_count": 14,
   "id": "demographic-tackle",
   "metadata": {
    "tags": []
   },
   "outputs": [
    {
     "data": {
      "text/plain": [
       "(4.244893153532144, 0.0011745661190226686)"
      ]
     },
     "execution_count": 14,
     "metadata": {},
     "output_type": "execute_result"
    }
   ],
   "source": [
    "margin.max(), margin.min()"
   ]
  },
  {
   "cell_type": "code",
   "execution_count": 15,
   "id": "annoying-washington",
   "metadata": {
    "tags": []
   },
   "outputs": [
    {
     "name": "stdout",
     "output_type": "stream",
     "text": [
      "              precision    recall  f1-score   support\n",
      "\n",
      "       False       1.00      0.99      1.00       189\n",
      "        True       0.99      1.00      1.00       161\n",
      "\n",
      "    accuracy                           1.00       350\n",
      "   macro avg       1.00      1.00      1.00       350\n",
      "weighted avg       1.00      1.00      1.00       350\n",
      "\n"
     ]
    }
   ],
   "source": [
    "print(classification_report(test[\"pol\"][margin > 2], predicted[margin > 2]))"
   ]
  },
  {
   "cell_type": "code",
   "execution_count": 16,
   "id": "aa56f08b-c61f-4721-832b-637cc0d7ee0d",
   "metadata": {
    "tags": []
   },
   "outputs": [
    {
     "name": "stdout",
     "output_type": "stream",
     "text": [
      "              precision    recall  f1-score   support\n",
      "\n",
      "       False       0.68      0.74      0.71       145\n",
      "        True       0.72      0.67      0.69       150\n",
      "\n",
      "    accuracy                           0.70       295\n",
      "   macro avg       0.70      0.70      0.70       295\n",
      "weighted avg       0.70      0.70      0.70       295\n",
      "\n"
     ]
    }
   ],
   "source": [
    "print(classification_report(test[\"pol\"][margin < 0.5], predicted[margin < 0.5]))"
   ]
  },
  {
   "cell_type": "code",
   "execution_count": 17,
   "id": "complex-filing",
   "metadata": {
    "tags": []
   },
   "outputs": [],
   "source": [
    "import matplotlib.pyplot as plt"
   ]
  },
  {
   "cell_type": "code",
   "execution_count": 18,
   "id": "metric-printer",
   "metadata": {
    "tags": []
   },
   "outputs": [
    {
     "data": {
      "text/plain": [
       "Text(0, 0.5, 'F1')"
      ]
     },
     "execution_count": 18,
     "metadata": {},
     "output_type": "execute_result"
    },
    {
     "data": {
      "image/png": "[encoded data removed]",
      "text/plain": [
       "<Figure size 640x480 with 1 Axes>"
      ]
     },
     "metadata": {},
     "output_type": "display_data"
    }
   ],
   "source": [
    "thresh = np.linspace(-2, 3, 50)\n",
    "x = [100 * (1 - sum(margin > t) / len(margin)) for t in thresh]\n",
    "y = [f1_score(test[\"pol\"][margin > t], predicted[margin > t]) for t in thresh]\n",
    "plt.plot(x, y)\n",
    "plt.xlabel(\"% Unknowns\")\n",
    "plt.ylabel(\"F1\")"
   ]
  },
  {
   "cell_type": "markdown",
   "id": "destroyed-queue",
   "metadata": {},
   "source": [
    "---\n",
    "\n",
    "## Model parameters"
   ]
  },
  {
   "cell_type": "code",
   "execution_count": 19,
   "id": "fantastic-details",
   "metadata": {
    "tags": []
   },
   "outputs": [],
   "source": [
    "coef = sgd.named_steps[\"sgdclassifier\"].coef_"
   ]
  },
  {
   "cell_type": "code",
   "execution_count": 20,
   "id": "bearing-slovenia",
   "metadata": {
    "tags": []
   },
   "outputs": [
    {
     "data": {
      "text/plain": [
       "(1, 68739)"
      ]
     },
     "execution_count": 20,
     "metadata": {},
     "output_type": "execute_result"
    }
   ],
   "source": [
    "coef.shape"
   ]
  },
  {
   "cell_type": "code",
   "execution_count": 21,
   "id": "noble-highway",
   "metadata": {
    "tags": []
   },
   "outputs": [],
   "source": [
    "vocab = sgd.named_steps[\"countvectorizer\"].get_feature_names_out()"
   ]
  },
  {
   "cell_type": "code",
   "execution_count": 22,
   "id": "funny-envelope",
   "metadata": {
    "tags": []
   },
   "outputs": [
    {
     "data": {
      "text/plain": [
       "(59146, 46133)"
      ]
     },
     "execution_count": 22,
     "metadata": {},
     "output_type": "execute_result"
    }
   ],
   "source": [
    "coef.argmin(), coef.argmax()"
   ]
  },
  {
   "cell_type": "code",
   "execution_count": 23,
   "id": "promising-software",
   "metadata": {
    "tags": []
   },
   "outputs": [
    {
     "data": {
      "text/plain": [
       "('stories', 'party')"
      ]
     },
     "execution_count": 23,
     "metadata": {},
     "output_type": "execute_result"
    }
   ],
   "source": [
    "vocab[59146], vocab[46133]"
   ]
  },
  {
   "cell_type": "code",
   "execution_count": 24,
   "id": "optional-reference",
   "metadata": {
    "tags": []
   },
   "outputs": [
    {
     "name": "stdout",
     "output_type": "stream",
     "text": [
      "party            3.415\n",
      "election         2.956\n",
      "government       2.823\n",
      "clinton          2.668\n",
      "budget           2.649\n",
      "political        2.380\n",
      "parliament       2.372\n",
      "president        2.279\n",
      "cabinet          2.246\n",
      "senate           2.239\n",
      "yeltsin          2.218\n",
      "minister         2.182\n",
      "republican       2.054\n",
      "bill             2.050\n",
      "labor            2.015\n",
      "house            2.003\n",
      "leader           1.979\n",
      "elections        1.953\n",
      "human            1.870\n",
      "congress         1.863\n",
      "poll             1.821\n",
      "administration   1.820\n",
      "rights           1.818\n",
      "voters           1.790\n",
      "vote             1.740\n",
      "\n",
      "stories         -2.721\n",
      "company         -2.489\n",
      "digest          -1.999\n",
      "countries       -1.825\n",
      "u.s.            -1.647\n",
      "eu              -1.569\n",
      "press           -1.552\n",
      "market          -1.518\n",
      "its             -1.506\n",
      "vouch           -1.479\n",
      "accuracy        -1.432\n",
      "summit          -1.431\n",
      "page            -1.428\n",
      "japanese        -1.413\n",
      "companies       -1.354\n",
      "verified        -1.333\n",
      "these           -1.327\n",
      "german          -1.282\n",
      "pope            -1.213\n",
      "european        -1.210\n",
      "world           -1.186\n",
      "nato            -1.153\n",
      "japan           -1.137\n",
      "rebels          -1.101\n",
      "may             -1.092\n"
     ]
    }
   ],
   "source": [
    "ranked = np.argsort(coef, axis=1)\n",
    "for i in range(-1, -26, -1):\n",
    "    print(f\"{vocab[ranked[0,i]]:15s} {coef[0,ranked[0,i]]:6.3f}\")\n",
    "print()\n",
    "for i in range(25):\n",
    "    print(f\"{vocab[ranked[0,i]]:15s} {coef[0,ranked[0,i]]:6.3f}\")"
   ]
  },
  {
   "cell_type": "code",
   "execution_count": 25,
   "id": "functional-disco",
   "metadata": {
    "tags": []
   },
   "outputs": [],
   "source": [
    "from kwic import kwic"
   ]
  },
  {
   "cell_type": "code",
   "execution_count": 26,
   "id": "danish-express",
   "metadata": {
    "tags": []
   },
   "outputs": [
    {
     "name": "stderr",
     "output_type": "stream",
     "text": [
      "/home/kothapally/Lab 07/kwic.py:9: FutureWarning: iteritems is deprecated and will be removed in a future version. Use .items instead.\n",
      "  it = text.iteritems()\n"
     ]
    },
    {
     "data": {
      "text/html": [
       "<table><tr><td>13271</td>                      <td style=\"text-align:right;white-space:nowrap\">s sink on remarks by \"Mr Yen\". The dollar tumbled, stocks fell sharply and </td>                      <td style=\"text-align:center;white-space:nowrap\">Japanese</td>                      <td style=\"text-align:left;white-space:nowrap\"> government bonds were sold off on Thursday after one of Japan's most influ</td></tr><tr><td>13271</td>                      <td style=\"text-align:right;white-space:nowrap\">rs, backed up the statements and added fuel to the fire by saying that the </td>                      <td style=\"text-align:center;white-space:nowrap\">Japanese</td>                      <td style=\"text-align:left;white-space:nowrap\"> economy was stronger than the markets believed. He said the ministry was c</td></tr><tr><td>13271</td>                      <td style=\"text-align:right;white-space:nowrap\">les spearheaded by overseas operators. \"Including today, comments from the </td>                      <td style=\"text-align:center;white-space:nowrap\">Japanese</td>                      <td style=\"text-align:left;white-space:nowrap\"> side had been voicing caution towards a higher dollar. But on the other ha</td></tr><tr><td>13271</td>                      <td style=\"text-align:right;white-space:nowrap\">o their policy of seeking a strong dollar. There seems to be a gap between </td>                      <td style=\"text-align:center;white-space:nowrap\">Japanese</td>                      <td style=\"text-align:left;white-space:nowrap\"> and U.S. officials,\" said Takashi Itoda, manager of the international plan</td></tr><tr><td>13271</td>                      <td style=\"text-align:right;white-space:nowrap\">20,771.11. \"A continued yen weakening would have encouraged the outlook on </td>                      <td style=\"text-align:center;white-space:nowrap\">Japanese</td>                      <td style=\"text-align:left;white-space:nowrap\"> corporate earnings, but such a rise hurts the prospects of foreign investo</td></tr><tr><td>13271</td>                      <td style=\"text-align:right;white-space:nowrap\">ing,\" said Tetsuya Ishijima, chief strategist at Okasan Securities Co Ltd. </td>                      <td style=\"text-align:center;white-space:nowrap\">Japanese</td>                      <td style=\"text-align:left;white-space:nowrap\"> government bonds (JGBs), already under selling pressure for the second con</td></tr><tr><td>38469</td>                      <td style=\"text-align:right;white-space:nowrap\"> from 89.20/30 late Thursday but the damage was limited by a sharp fall in </td>                      <td style=\"text-align:center;white-space:nowrap\">Japanese</td>                      <td style=\"text-align:left;white-space:nowrap\"> bond yields following weak industrial production data there. The data reas</td></tr><tr><td>38469</td>                      <td style=\"text-align:right;white-space:nowrap\">h an LDP committe had recommended the government hike in the future.   But </td>                      <td style=\"text-align:center;white-space:nowrap\">Japanese</td>                      <td style=\"text-align:left;white-space:nowrap\"> yields were not the only ones falling, with the 3-year Commonwealth bond d</td></tr><tr><td>59431</td>                      <td style=\"text-align:right;white-space:nowrap\">sit the ancient ruins that inspired the ingenious raid. Joined by visiting </td>                      <td style=\"text-align:center;white-space:nowrap\">Japanese</td>                      <td style=\"text-align:left;white-space:nowrap\"> Foreign Minister Yukihiko Ikeda, who has thanked Fujimori for rescuing all</td></tr><tr><td>59431</td>                      <td style=\"text-align:right;white-space:nowrap\">ation Chavin de Huantar was the code name Fujimori gave the assault on the </td>                      <td style=\"text-align:center;white-space:nowrap\">Japanese</td>                      <td style=\"text-align:left;white-space:nowrap\"> ambassador's home, in which scores of commandos swarmed through tunnels in</td></tr></table>"
      ],
      "text/plain": [
       "<IPython.core.display.HTML object>"
      ]
     },
     "metadata": {},
     "output_type": "display_data"
    }
   ],
   "source": [
    "kwic(\"japanese\", train[\"text\"])"
   ]
  },
  {
   "cell_type": "code",
   "execution_count": 27,
   "id": "naughty-nursing",
   "metadata": {},
   "outputs": [
    {
     "data": {
      "text/html": [
       "<table><tr><td>8229</td>                      <td style=\"text-align:right;white-space:nowrap\">           Bulgaria cbank audit sent to parliament committee. Parliament's </td>                      <td style=\"text-align:center;white-space:nowrap\">budget</td>                      <td style=\"text-align:left;white-space:nowrap\"> and finance committee will consider results from Deloitte & Touche's compl</td></tr><tr><td>57377</td>                      <td style=\"text-align:right;white-space:nowrap\">                                                                        US </td>                      <td style=\"text-align:center;white-space:nowrap\">budget</td>                      <td style=\"text-align:left;white-space:nowrap\"> deal raises deficit then reaches surplus. The budget agreement reached bet</td></tr><tr><td>57377</td>                      <td style=\"text-align:right;white-space:nowrap\">                   US budget deal raises deficit then reaches surplus. The </td>                      <td style=\"text-align:center;white-space:nowrap\">budget</td>                      <td style=\"text-align:left;white-space:nowrap\"> agreement reached between the White House and congressional leaders would </td></tr><tr><td>57377</td>                      <td style=\"text-align:right;white-space:nowrap\">cal 1998 to $91 billion from an expected $67 billion this year, the Senate </td>                      <td style=\"text-align:center;white-space:nowrap\">Budget</td>                      <td style=\"text-align:left;white-space:nowrap\"> Committee said Friday. Under the five-year budget plan, the deficit would </td></tr><tr><td>57377</td>                      <td style=\"text-align:right;white-space:nowrap\">on this year, the Senate Budget Committee said Friday. Under the five-year </td>                      <td style=\"text-align:center;white-space:nowrap\">budget</td>                      <td style=\"text-align:left;white-space:nowrap\"> plan, the deficit would then level off in fiscal 1999 at $90 billion, slip</td></tr><tr><td>57377</td>                      <td style=\"text-align:right;white-space:nowrap\">ars, ending in a $34 billion surplus in 2007, the committee said.   Senate </td>                      <td style=\"text-align:center;white-space:nowrap\">Budget</td>                      <td style=\"text-align:left;white-space:nowrap\"> Committee Chairman Pete Domenici, a New Mexico Republican, was asked about</td></tr><tr><td>57377</td>                      <td style=\"text-align:right;white-space:nowrap\">an 60 percent of the deficit reduction occurs in the last two years of the </td>                      <td style=\"text-align:center;white-space:nowrap\">budget</td>                      <td style=\"text-align:left;white-space:nowrap\"> plan. He replied: \"When I look at what we did, I don't believe there's any</td></tr><tr><td>57039</td>                      <td style=\"text-align:right;white-space:nowrap\">                                                    Daschle doesn't see US </td>                      <td style=\"text-align:center;white-space:nowrap\">budget</td>                      <td style=\"text-align:left;white-space:nowrap\">, tax bill next week. Senate Democratic Leader Tom Daschle said Friday at t</td></tr><tr><td>57039</td>                      <td style=\"text-align:right;white-space:nowrap\">schle said Friday at the current rate of progress on crafting a compromise </td>                      <td style=\"text-align:center;white-space:nowrap\">budget</td>                      <td style=\"text-align:left;white-space:nowrap\"> and tax bill it was unlikely they would be completed by next week as Repub</td></tr><tr><td>59745</td>                      <td style=\"text-align:right;white-space:nowrap\">                                 Duma, govt go for brinkmanship in Russian </td>                      <td style=\"text-align:center;white-space:nowrap\">budget</td>                      <td style=\"text-align:left;white-space:nowrap\">. The battle for Russia's 1997 budget has turned into a game of brinkmanshi</td></tr></table>"
      ],
      "text/plain": [
       "<IPython.core.display.HTML object>"
      ]
     },
     "metadata": {},
     "output_type": "display_data"
    }
   ],
   "source": [
    "kwic(\"budget\", train[\"text\"])"
   ]
  },
  {
   "cell_type": "code",
   "execution_count": null,
   "id": "cda14db5-2024-48ee-9725-516eff3d8a40",
   "metadata": {},
   "outputs": [],
   "source": []
  }
 ],
 "metadata": {
  "kernelspec": {
   "display_name": "Python 3 (ipykernel)",
   "language": "python",
   "name": "python3"
  },
  "language_info": {
   "codemirror_mode": {
    "name": "ipython",
    "version": 3
   },
   "file_extension": ".py",
   "mimetype": "text/x-python",
   "name": "python",
   "nbconvert_exporter": "python",
   "pygments_lexer": "ipython3",
   "version": "3.10.8"
  }
 },
 "nbformat": 4,
 "nbformat_minor": 5
}
