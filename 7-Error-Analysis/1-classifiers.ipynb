{
 "cells": [
  {
   "cell_type": "markdown",
   "id": "fuzzy-layer",
   "metadata": {},
   "source": [
    "# LAB 7: Error analysis\n",
    "\n",
    "Objectives\n",
    "* Construct an SVM text classifier using `SVC`: https://scikit-learn.org/stable/modules/generated/sklearn.svm.SVC.html\n",
    "* Compare the result to a linear text classifier\n",
    "* Evaluate its performance and categorize the errors that it makes\n",
    "* Examine the model's coefficients and decision function values\n",
    "* Interpret model results using LIME"
   ]
  },
  {
   "cell_type": "code",
   "execution_count": 4,
   "id": "selected-booth",
   "metadata": {
    "tags": []
   },
   "outputs": [],
   "source": [
    "import pickle\n",
    "\n",
    "import numpy as np\n",
    "import pandas as pd\n",
    "from cytoolz import *\n",
    "from tqdm.auto import tqdm\n",
    "\n",
    "tqdm.pandas()"
   ]
  },
  {
   "cell_type": "markdown",
   "id": "straight-delight",
   "metadata": {},
   "source": [
    "---\n",
    "\n",
    "## Load data"
   ]
  },
  {
   "cell_type": "code",
   "execution_count": 8,
   "id": "6a3367a7-9b6e-414d-99e9-e3379990ccf4",
   "metadata": {
    "tags": []
   },
   "outputs": [],
   "source": [
    "train, test = pickle.load(open(\"/data/politics.pkl\", \"rb\"))"
   ]
  },
  {
   "cell_type": "code",
   "execution_count": 3,
   "id": "annoying-uruguay",
   "metadata": {
    "tags": []
   },
   "outputs": [
    {
     "data": {
      "text/plain": [
       "False    7999\n",
       "True     3413\n",
       "Name: pol, dtype: int64"
      ]
     },
     "execution_count": 3,
     "metadata": {},
     "output_type": "execute_result"
    }
   ],
   "source": [
    "train[\"pol\"].value_counts()"
   ]
  },
  {
   "cell_type": "code",
   "execution_count": 4,
   "id": "ee945a06-3ec5-4d81-a64e-7dd94bf6bbc0",
   "metadata": {},
   "outputs": [
    {
     "data": {
      "text/html": [
       "<div>\n",
       "<style scoped>\n",
       "    .dataframe tbody tr th:only-of-type {\n",
       "        vertical-align: middle;\n",
       "    }\n",
       "\n",
       "    .dataframe tbody tr th {\n",
       "        vertical-align: top;\n",
       "    }\n",
       "\n",
       "    .dataframe thead th {\n",
       "        text-align: right;\n",
       "    }\n",
       "</style>\n",
       "<table border=\"1\" class=\"dataframe\">\n",
       "  <thead>\n",
       "    <tr style=\"text-align: right;\">\n",
       "      <th></th>\n",
       "      <th>text</th>\n",
       "      <th>pol</th>\n",
       "    </tr>\n",
       "  </thead>\n",
       "  <tbody>\n",
       "    <tr>\n",
       "      <th>44167</th>\n",
       "      <td>CBOT grain/oilseed receipts and shipments. Gra...</td>\n",
       "      <td>False</td>\n",
       "    </tr>\n",
       "    <tr>\n",
       "      <th>32639</th>\n",
       "      <td>Croatian stocks close mixed in livelier trade....</td>\n",
       "      <td>False</td>\n",
       "    </tr>\n",
       "    <tr>\n",
       "      <th>13437</th>\n",
       "      <td>S.Korea's Kia Group targets 17.5 pct sales ris...</td>\n",
       "      <td>False</td>\n",
       "    </tr>\n",
       "    <tr>\n",
       "      <th>12891</th>\n",
       "      <td>U.S. rice weekly export sales highlights - USD...</td>\n",
       "      <td>False</td>\n",
       "    </tr>\n",
       "    <tr>\n",
       "      <th>57095</th>\n",
       "      <td>Israeli army officer punished for Rabin letter...</td>\n",
       "      <td>True</td>\n",
       "    </tr>\n",
       "  </tbody>\n",
       "</table>\n",
       "</div>"
      ],
      "text/plain": [
       "                                                    text    pol\n",
       "44167  CBOT grain/oilseed receipts and shipments. Gra...  False\n",
       "32639  Croatian stocks close mixed in livelier trade....  False\n",
       "13437  S.Korea's Kia Group targets 17.5 pct sales ris...  False\n",
       "12891  U.S. rice weekly export sales highlights - USD...  False\n",
       "57095  Israeli army officer punished for Rabin letter...   True"
      ]
     },
     "execution_count": 4,
     "metadata": {},
     "output_type": "execute_result"
    }
   ],
   "source": [
    "train.head()"
   ]
  },
  {
   "cell_type": "code",
   "execution_count": 6,
   "id": "little-report",
   "metadata": {
    "tags": []
   },
   "outputs": [],
   "source": [
    "import spacy\n",
    "\n",
    "nlp = spacy.load(\n",
    "    \"en_core_web_sm\",\n",
    "    exclude=[\"tagger\", \"parser\", \"ner\", \"lemmatizer\", \"attribute_ruler\"],\n",
    ")\n",
    "\n",
    "\n",
    "def tokenize(text):\n",
    "    doc = nlp.tokenizer(text)\n",
    "    return [t.norm_ for t in doc if not (t.is_space or t.is_punct or t.like_num)]"
   ]
  },
  {
   "cell_type": "code",
   "execution_count": 6,
   "id": "executed-football",
   "metadata": {
    "tags": []
   },
   "outputs": [
    {
     "data": {
      "application/vnd.jupyter.widget-view+json": {
       "model_id": "8d0c240c0eae4219bac37fc0b5363ef9",
       "version_major": 2,
       "version_minor": 0
      },
      "text/plain": [
       "  0%|          | 0/11412 [00:00<?, ?it/s]"
      ]
     },
     "metadata": {},
     "output_type": "display_data"
    },
    {
     "data": {
      "application/vnd.jupyter.widget-view+json": {
       "model_id": "468a1cb706de4d4d85c14a8858aa5ab8",
       "version_major": 2,
       "version_minor": 0
      },
      "text/plain": [
       "  0%|          | 0/2854 [00:00<?, ?it/s]"
      ]
     },
     "metadata": {},
     "output_type": "display_data"
    }
   ],
   "source": [
    "train[\"tokens\"] = train[\"text\"].progress_apply(tokenize)\n",
    "test[\"tokens\"] = test[\"text\"].progress_apply(tokenize)"
   ]
  },
  {
   "cell_type": "markdown",
   "id": "825693c4-f0e3-4ca2-b4e4-91cec0adbdb2",
   "metadata": {},
   "source": [
    "------"
   ]
  },
  {
   "cell_type": "markdown",
   "id": "fa9d6014-ed8b-4fd6-b0ca-71f7d5151908",
   "metadata": {},
   "source": [
    "## SGD Classifier"
   ]
  },
  {
   "cell_type": "code",
   "execution_count": 2,
   "id": "sufficient-optimum",
   "metadata": {
    "tags": []
   },
   "outputs": [],
   "source": [
    "from sklearn.feature_extraction.text import CountVectorizer, TfidfTransformer\n",
    "from sklearn.linear_model import SGDClassifier\n",
    "from sklearn.metrics import classification_report, f1_score\n",
    "from sklearn.pipeline import make_pipeline\n",
    "from sklearn.svm import SVC"
   ]
  },
  {
   "cell_type": "code",
   "execution_count": 8,
   "id": "unexpected-chest",
   "metadata": {
    "tags": []
   },
   "outputs": [
    {
     "name": "stdout",
     "output_type": "stream",
     "text": [
      "              precision    recall  f1-score   support\n",
      "\n",
      "       False       0.94      0.94      0.94      2001\n",
      "        True       0.87      0.87      0.87       853\n",
      "\n",
      "    accuracy                           0.92      2854\n",
      "   macro avg       0.91      0.91      0.91      2854\n",
      "weighted avg       0.92      0.92      0.92      2854\n",
      "\n",
      "CPU times: user 1.45 s, sys: 77.1 ms, total: 1.53 s\n",
      "Wall time: 1.45 s\n"
     ]
    }
   ],
   "source": [
    "%%time\n",
    "sgd = make_pipeline(CountVectorizer(analyzer=identity), SGDClassifier())\n",
    "sgd.fit(train[\"tokens\"], train[\"pol\"])\n",
    "sgd_predicted = sgd.predict(test[\"tokens\"])\n",
    "print(classification_report(test[\"pol\"], sgd_predicted))"
   ]
  },
  {
   "cell_type": "markdown",
   "id": "7f5472bc-cdd9-4f56-9e97-8f0d9b0c32d7",
   "metadata": {},
   "source": [
    "## SVM Classifier"
   ]
  },
  {
   "cell_type": "code",
   "execution_count": 9,
   "id": "28ac445e-a948-48f1-b315-de1b58e6985f",
   "metadata": {},
   "outputs": [],
   "source": [
    "from sklearn.svm import SVC"
   ]
  },
  {
   "cell_type": "code",
   "execution_count": 13,
   "id": "112ca350-6c5e-4e88-b8fc-12d554afe62e",
   "metadata": {},
   "outputs": [
    {
     "name": "stdout",
     "output_type": "stream",
     "text": [
      "              precision    recall  f1-score   support\n",
      "\n",
      "       False       0.94      0.95      0.95      2001\n",
      "        True       0.88      0.87      0.88       853\n",
      "\n",
      "    accuracy                           0.93      2854\n",
      "   macro avg       0.91      0.91      0.91      2854\n",
      "weighted avg       0.93      0.93      0.93      2854\n",
      "\n",
      "CPU times: user 57.3 s, sys: 105 ms, total: 57.4 s\n",
      "Wall time: 57.4 s\n"
     ]
    }
   ],
   "source": [
    "%%time\n",
    "svm = make_pipeline(CountVectorizer(analyzer=identity), SVC(kernel=\"rbf\", C=100))\n",
    "svm.fit(train[\"tokens\"], train[\"pol\"])\n",
    "svm_predicted = svm.predict(test[\"tokens\"])\n",
    "print(classification_report(test[\"pol\"], svm_predicted))"
   ]
  },
  {
   "cell_type": "markdown",
   "id": "d1c4229c-ce31-4ce1-b632-73273b54f653",
   "metadata": {},
   "source": [
    "## Multinomial NB Classifier"
   ]
  },
  {
   "cell_type": "code",
   "execution_count": 11,
   "id": "eb647ede-f3f8-4c73-9d6f-b205e8a00a28",
   "metadata": {},
   "outputs": [],
   "source": [
    "from sklearn.naive_bayes import MultinomialNB"
   ]
  },
  {
   "cell_type": "code",
   "execution_count": 12,
   "id": "fcdcd8d5-8797-4645-8007-9c477cb95465",
   "metadata": {},
   "outputs": [
    {
     "name": "stdout",
     "output_type": "stream",
     "text": [
      "              precision    recall  f1-score   support\n",
      "\n",
      "       False       0.98      0.88      0.92      2001\n",
      "        True       0.77      0.95      0.85       853\n",
      "\n",
      "    accuracy                           0.90      2854\n",
      "   macro avg       0.87      0.91      0.89      2854\n",
      "weighted avg       0.91      0.90      0.90      2854\n",
      "\n",
      "CPU times: user 1.12 s, sys: 8 ms, total: 1.13 s\n",
      "Wall time: 1.13 s\n"
     ]
    }
   ],
   "source": [
    "%%time\n",
    "mnb = make_pipeline(CountVectorizer(analyzer=identity), MultinomialNB())\n",
    "mnb.fit(train[\"tokens\"], train[\"pol\"])\n",
    "mnb_predicted = mnb.predict(test[\"tokens\"])\n",
    "print(classification_report(test[\"pol\"], mnb_predicted))"
   ]
  },
  {
   "cell_type": "markdown",
   "id": "abstract-machine",
   "metadata": {},
   "source": [
    "----\n",
    "\n",
    "## Hyperparameter search\n",
    "\n",
    "Find an optimal set of hyperparameters for our models"
   ]
  },
  {
   "cell_type": "code",
   "execution_count": 14,
   "id": "1c99cacb-3dd6-405f-b9c6-dac8e156373a",
   "metadata": {
    "tags": []
   },
   "outputs": [],
   "source": [
    "from scipy.stats.distributions import loguniform, randint, uniform\n",
    "from sklearn.model_selection import RandomizedSearchCV"
   ]
  },
  {
   "cell_type": "markdown",
   "id": "fb8108c2-6d2e-4680-8bfa-8ee495c120b6",
   "metadata": {},
   "source": [
    "### MNB Classifier"
   ]
  },
  {
   "cell_type": "code",
   "execution_count": 17,
   "id": "80dff152-9635-4bd1-a526-1b5b69e29214",
   "metadata": {},
   "outputs": [
    {
     "data": {
      "text/plain": [
       "({'countvectorizer__max_df': 0.7792847004516308,\n",
       "  'countvectorizer__min_df': 1,\n",
       "  'multinomialnb__alpha': 1.6309300323042847e-06},\n",
       " 0.8540628335255851)"
      ]
     },
     "execution_count": 17,
     "metadata": {},
     "output_type": "execute_result"
    }
   ],
   "source": [
    "mnb_search = RandomizedSearchCV(\n",
    "    mnb,\n",
    "    {\n",
    "        \"countvectorizer__min_df\": randint(1, 10),\n",
    "        \"countvectorizer__max_df\": uniform(0.5, 0.5),\n",
    "        \"multinomialnb__alpha\": loguniform(1e-10, 1),\n",
    "    },\n",
    "    n_iter=20,\n",
    "    n_jobs=-1,\n",
    "    scoring=\"f1\",\n",
    ")\n",
    "mnb_search.fit(train[\"tokens\"], train[\"pol\"])\n",
    "mnb_search.best_params_, mnb_search.best_score_"
   ]
  },
  {
   "cell_type": "code",
   "execution_count": 18,
   "id": "52e79e71-a6d3-4201-8db1-5bb2541c3ff9",
   "metadata": {},
   "outputs": [
    {
     "data": {
      "text/plain": [
       "<Axes: xlabel='param_multinomialnb__alpha', ylabel='mean_test_score'>"
      ]
     },
     "execution_count": 18,
     "metadata": {},
     "output_type": "execute_result"
    },
    {
     "data": {
      "image/png": "[encoded data removed]",
      "text/plain": [
       "<Figure size 640x480 with 1 Axes>"
      ]
     },
     "metadata": {},
     "output_type": "display_data"
    }
   ],
   "source": [
    "mnb_cv_results = pd.DataFrame(mnb_search.cv_results_)\n",
    "mnb_cv_results.plot(\n",
    "    \"param_multinomialnb__alpha\", \"mean_test_score\", kind=\"scatter\", logx=True\n",
    ")"
   ]
  },
  {
   "cell_type": "code",
   "execution_count": 19,
   "id": "dcab050c-2a03-4d85-a999-628ebc0c54bc",
   "metadata": {},
   "outputs": [
    {
     "data": {
      "text/plain": [
       "<Axes: xlabel='param_countvectorizer__min_df', ylabel='mean_test_score'>"
      ]
     },
     "execution_count": 19,
     "metadata": {},
     "output_type": "execute_result"
    },
    {
     "data": {
      "image/png": "[encoded data removed]",
      "text/plain": [
       "<Figure size 640x480 with 1 Axes>"
      ]
     },
     "metadata": {},
     "output_type": "display_data"
    }
   ],
   "source": [
    "mnb_cv_results.plot(\"param_countvectorizer__min_df\", \"mean_test_score\", kind=\"scatter\")"
   ]
  },
  {
   "cell_type": "code",
   "execution_count": 20,
   "id": "acf13816-6d4b-4c87-bd50-9dda3a2b7f47",
   "metadata": {},
   "outputs": [
    {
     "data": {
      "text/plain": [
       "<Axes: xlabel='param_countvectorizer__max_df', ylabel='mean_test_score'>"
      ]
     },
     "execution_count": 20,
     "metadata": {},
     "output_type": "execute_result"
    },
    {
     "data": {
      "image/png": "[encoded data removed]",
      "text/plain": [
       "<Figure size 640x480 with 1 Axes>"
      ]
     },
     "metadata": {},
     "output_type": "display_data"
    }
   ],
   "source": [
    "mnb_cv_results.plot(\"param_countvectorizer__max_df\", \"mean_test_score\", kind=\"scatter\")"
   ]
  },
  {
   "cell_type": "code",
   "execution_count": 25,
   "id": "b3b008af-eb6a-475b-809e-3f091cf9bf65",
   "metadata": {},
   "outputs": [
    {
     "data": {
      "text/html": [
       "<style>#sk-container-id-2 {color: black;background-color: white;}#sk-container-id-2 pre{padding: 0;}#sk-container-id-2 div.sk-toggleable {background-color: white;}#sk-container-id-2 label.sk-toggleable__label {cursor: pointer;display: block;width: 100%;margin-bottom: 0;padding: 0.3em;box-sizing: border-box;text-align: center;}#sk-container-id-2 label.sk-toggleable__label-arrow:before {content: \"▸\";float: left;margin-right: 0.25em;color: #696969;}#sk-container-id-2 label.sk-toggleable__label-arrow:hover:before {color: black;}#sk-container-id-2 div.sk-estimator:hover label.sk-toggleable__label-arrow:before {color: black;}#sk-container-id-2 div.sk-toggleable__content {max-height: 0;max-width: 0;overflow: hidden;text-align: left;background-color: #f0f8ff;}#sk-container-id-2 div.sk-toggleable__content pre {margin: 0.2em;color: black;border-radius: 0.25em;background-color: #f0f8ff;}#sk-container-id-2 input.sk-toggleable__control:checked~div.sk-toggleable__content {max-height: 200px;max-width: 100%;overflow: auto;}#sk-container-id-2 input.sk-toggleable__control:checked~label.sk-toggleable__label-arrow:before {content: \"▾\";}#sk-container-id-2 div.sk-estimator input.sk-toggleable__control:checked~label.sk-toggleable__label {background-color: #d4ebff;}#sk-container-id-2 div.sk-label input.sk-toggleable__control:checked~label.sk-toggleable__label {background-color: #d4ebff;}#sk-container-id-2 input.sk-hidden--visually {border: 0;clip: rect(1px 1px 1px 1px);clip: rect(1px, 1px, 1px, 1px);height: 1px;margin: -1px;overflow: hidden;padding: 0;position: absolute;width: 1px;}#sk-container-id-2 div.sk-estimator {font-family: monospace;background-color: #f0f8ff;border: 1px dotted black;border-radius: 0.25em;box-sizing: border-box;margin-bottom: 0.5em;}#sk-container-id-2 div.sk-estimator:hover {background-color: #d4ebff;}#sk-container-id-2 div.sk-parallel-item::after {content: \"\";width: 100%;border-bottom: 1px solid gray;flex-grow: 1;}#sk-container-id-2 div.sk-label:hover label.sk-toggleable__label {background-color: #d4ebff;}#sk-container-id-2 div.sk-serial::before {content: \"\";position: absolute;border-left: 1px solid gray;box-sizing: border-box;top: 0;bottom: 0;left: 50%;z-index: 0;}#sk-container-id-2 div.sk-serial {display: flex;flex-direction: column;align-items: center;background-color: white;padding-right: 0.2em;padding-left: 0.2em;position: relative;}#sk-container-id-2 div.sk-item {position: relative;z-index: 1;}#sk-container-id-2 div.sk-parallel {display: flex;align-items: stretch;justify-content: center;background-color: white;position: relative;}#sk-container-id-2 div.sk-item::before, #sk-container-id-2 div.sk-parallel-item::before {content: \"\";position: absolute;border-left: 1px solid gray;box-sizing: border-box;top: 0;bottom: 0;left: 50%;z-index: -1;}#sk-container-id-2 div.sk-parallel-item {display: flex;flex-direction: column;z-index: 1;position: relative;background-color: white;}#sk-container-id-2 div.sk-parallel-item:first-child::after {align-self: flex-end;width: 50%;}#sk-container-id-2 div.sk-parallel-item:last-child::after {align-self: flex-start;width: 50%;}#sk-container-id-2 div.sk-parallel-item:only-child::after {width: 0;}#sk-container-id-2 div.sk-dashed-wrapped {border: 1px dashed gray;margin: 0 0.4em 0.5em 0.4em;box-sizing: border-box;padding-bottom: 0.4em;background-color: white;}#sk-container-id-2 div.sk-label label {font-family: monospace;font-weight: bold;display: inline-block;line-height: 1.2em;}#sk-container-id-2 div.sk-label-container {text-align: center;}#sk-container-id-2 div.sk-container {/* jupyter's `normalize.less` sets `[hidden] { display: none; }` but bootstrap.min.css set `[hidden] { display: none !important; }` so we also need the `!important` here to be able to override the default hidden behavior on the sphinx rendered scikit-learn.org. See: https://github.com/scikit-learn/scikit-learn/issues/21755 */display: inline-block !important;position: relative;}#sk-container-id-2 div.sk-text-repr-fallback {display: none;}</style><div id=\"sk-container-id-2\" class=\"sk-top-container\"><div class=\"sk-text-repr-fallback\"><pre>Pipeline(steps=[(&#x27;countvectorizer&#x27;,\n",
       "                 CountVectorizer(analyzer=&lt;cyfunction identity at 0x2aeb65597e00&gt;,\n",
       "                                 max_df=0.7792847004516308)),\n",
       "                (&#x27;multinomialnb&#x27;, MultinomialNB(alpha=1.6309300323042847e-06))])</pre><b>In a Jupyter environment, please rerun this cell to show the HTML representation or trust the notebook. <br />On GitHub, the HTML representation is unable to render, please try loading this page with nbviewer.org.</b></div><div class=\"sk-container\" hidden><div class=\"sk-item sk-dashed-wrapped\"><div class=\"sk-label-container\"><div class=\"sk-label sk-toggleable\"><input class=\"sk-toggleable__control sk-hidden--visually\" id=\"sk-estimator-id-4\" type=\"checkbox\" ><label for=\"sk-estimator-id-4\" class=\"sk-toggleable__label sk-toggleable__label-arrow\">Pipeline</label><div class=\"sk-toggleable__content\"><pre>Pipeline(steps=[(&#x27;countvectorizer&#x27;,\n",
       "                 CountVectorizer(analyzer=&lt;cyfunction identity at 0x2aeb65597e00&gt;,\n",
       "                                 max_df=0.7792847004516308)),\n",
       "                (&#x27;multinomialnb&#x27;, MultinomialNB(alpha=1.6309300323042847e-06))])</pre></div></div></div><div class=\"sk-serial\"><div class=\"sk-item\"><div class=\"sk-estimator sk-toggleable\"><input class=\"sk-toggleable__control sk-hidden--visually\" id=\"sk-estimator-id-5\" type=\"checkbox\" ><label for=\"sk-estimator-id-5\" class=\"sk-toggleable__label sk-toggleable__label-arrow\">CountVectorizer</label><div class=\"sk-toggleable__content\"><pre>CountVectorizer(analyzer=&lt;cyfunction identity at 0x2aeb65597e00&gt;,\n",
       "                max_df=0.7792847004516308)</pre></div></div></div><div class=\"sk-item\"><div class=\"sk-estimator sk-toggleable\"><input class=\"sk-toggleable__control sk-hidden--visually\" id=\"sk-estimator-id-6\" type=\"checkbox\" ><label for=\"sk-estimator-id-6\" class=\"sk-toggleable__label sk-toggleable__label-arrow\">MultinomialNB</label><div class=\"sk-toggleable__content\"><pre>MultinomialNB(alpha=1.6309300323042847e-06)</pre></div></div></div></div></div></div></div>"
      ],
      "text/plain": [
       "Pipeline(steps=[('countvectorizer',\n",
       "                 CountVectorizer(analyzer=<cyfunction identity at 0x2aeb65597e00>,\n",
       "                                 max_df=0.7792847004516308)),\n",
       "                ('multinomialnb', MultinomialNB(alpha=1.6309300323042847e-06))])"
      ]
     },
     "execution_count": 25,
     "metadata": {},
     "output_type": "execute_result"
    }
   ],
   "source": [
    "mnb.set_params(**mnb_search.best_params_)"
   ]
  },
  {
   "cell_type": "code",
   "execution_count": 27,
   "id": "769770a1-3808-43dc-b2dc-f62364b33871",
   "metadata": {},
   "outputs": [
    {
     "name": "stdout",
     "output_type": "stream",
     "text": [
      "              precision    recall  f1-score   support\n",
      "\n",
      "       False       0.96      0.90      0.93      2001\n",
      "        True       0.79      0.90      0.84       853\n",
      "\n",
      "    accuracy                           0.90      2854\n",
      "   macro avg       0.87      0.90      0.89      2854\n",
      "weighted avg       0.91      0.90      0.90      2854\n",
      "\n"
     ]
    }
   ],
   "source": [
    "mnb.fit(train[\"tokens\"], train[\"pol\"])\n",
    "mnb_predicted = mnb.predict(test[\"tokens\"])\n",
    "print(classification_report(test[\"pol\"], mnb_predicted))"
   ]
  },
  {
   "cell_type": "markdown",
   "id": "419ec9a3-cdef-4a93-b238-f9d3b8a2aa04",
   "metadata": {},
   "source": [
    "### SGD Classifier"
   ]
  },
  {
   "cell_type": "code",
   "execution_count": 34,
   "id": "f24aa2f5-7eb1-40f6-8cda-15829e111077",
   "metadata": {},
   "outputs": [
    {
     "data": {
      "text/plain": [
       "({'countvectorizer__max_df': 0.9648995962853211,\n",
       "  'countvectorizer__min_df': 9,\n",
       "  'sgdclassifier__alpha': 0.040598083609988865},\n",
       " 0.8848707838603722)"
      ]
     },
     "execution_count": 34,
     "metadata": {},
     "output_type": "execute_result"
    }
   ],
   "source": [
    "sgd_search = RandomizedSearchCV(\n",
    "    sgd,\n",
    "    {\n",
    "        \"countvectorizer__min_df\": randint(1, 10),\n",
    "        \"countvectorizer__max_df\": uniform(0.5, 0.5),\n",
    "        \"sgdclassifier__alpha\": loguniform(1e-10, 1.0),\n",
    "    },\n",
    "    n_iter=20,\n",
    "    n_jobs=-1,\n",
    "    scoring=\"f1\",\n",
    ")\n",
    "\n",
    "sgd_search.fit(train[\"tokens\"], train[\"pol\"])\n",
    "sgd_search.best_params_, sgd_search.best_score_"
   ]
  },
  {
   "cell_type": "code",
   "execution_count": 35,
   "id": "12cec450-55a1-4a23-b2ae-5c2cea9332b1",
   "metadata": {},
   "outputs": [
    {
     "data": {
      "text/plain": [
       "<Axes: xlabel='param_sgdclassifier__alpha', ylabel='mean_test_score'>"
      ]
     },
     "execution_count": 35,
     "metadata": {},
     "output_type": "execute_result"
    },
    {
     "data": {
      "image/png": "[encoded data removed]",
      "text/plain": [
       "<Figure size 640x480 with 1 Axes>"
      ]
     },
     "metadata": {},
     "output_type": "display_data"
    }
   ],
   "source": [
    "sgd_cv_results = pd.DataFrame(sgd_search.cv_results_)\n",
    "sgd_cv_results.plot(\n",
    "    \"param_sgdclassifier__alpha\", \"mean_test_score\", kind=\"scatter\", logx=True\n",
    ")"
   ]
  },
  {
   "cell_type": "code",
   "execution_count": 36,
   "id": "8d498c7c-50fe-4886-911b-8193364bd016",
   "metadata": {},
   "outputs": [
    {
     "data": {
      "text/html": [
       "<style>#sk-container-id-6 {color: black;background-color: white;}#sk-container-id-6 pre{padding: 0;}#sk-container-id-6 div.sk-toggleable {background-color: white;}#sk-container-id-6 label.sk-toggleable__label {cursor: pointer;display: block;width: 100%;margin-bottom: 0;padding: 0.3em;box-sizing: border-box;text-align: center;}#sk-container-id-6 label.sk-toggleable__label-arrow:before {content: \"▸\";float: left;margin-right: 0.25em;color: #696969;}#sk-container-id-6 label.sk-toggleable__label-arrow:hover:before {color: black;}#sk-container-id-6 div.sk-estimator:hover label.sk-toggleable__label-arrow:before {color: black;}#sk-container-id-6 div.sk-toggleable__content {max-height: 0;max-width: 0;overflow: hidden;text-align: left;background-color: #f0f8ff;}#sk-container-id-6 div.sk-toggleable__content pre {margin: 0.2em;color: black;border-radius: 0.25em;background-color: #f0f8ff;}#sk-container-id-6 input.sk-toggleable__control:checked~div.sk-toggleable__content {max-height: 200px;max-width: 100%;overflow: auto;}#sk-container-id-6 input.sk-toggleable__control:checked~label.sk-toggleable__label-arrow:before {content: \"▾\";}#sk-container-id-6 div.sk-estimator input.sk-toggleable__control:checked~label.sk-toggleable__label {background-color: #d4ebff;}#sk-container-id-6 div.sk-label input.sk-toggleable__control:checked~label.sk-toggleable__label {background-color: #d4ebff;}#sk-container-id-6 input.sk-hidden--visually {border: 0;clip: rect(1px 1px 1px 1px);clip: rect(1px, 1px, 1px, 1px);height: 1px;margin: -1px;overflow: hidden;padding: 0;position: absolute;width: 1px;}#sk-container-id-6 div.sk-estimator {font-family: monospace;background-color: #f0f8ff;border: 1px dotted black;border-radius: 0.25em;box-sizing: border-box;margin-bottom: 0.5em;}#sk-container-id-6 div.sk-estimator:hover {background-color: #d4ebff;}#sk-container-id-6 div.sk-parallel-item::after {content: \"\";width: 100%;border-bottom: 1px solid gray;flex-grow: 1;}#sk-container-id-6 div.sk-label:hover label.sk-toggleable__label {background-color: #d4ebff;}#sk-container-id-6 div.sk-serial::before {content: \"\";position: absolute;border-left: 1px solid gray;box-sizing: border-box;top: 0;bottom: 0;left: 50%;z-index: 0;}#sk-container-id-6 div.sk-serial {display: flex;flex-direction: column;align-items: center;background-color: white;padding-right: 0.2em;padding-left: 0.2em;position: relative;}#sk-container-id-6 div.sk-item {position: relative;z-index: 1;}#sk-container-id-6 div.sk-parallel {display: flex;align-items: stretch;justify-content: center;background-color: white;position: relative;}#sk-container-id-6 div.sk-item::before, #sk-container-id-6 div.sk-parallel-item::before {content: \"\";position: absolute;border-left: 1px solid gray;box-sizing: border-box;top: 0;bottom: 0;left: 50%;z-index: -1;}#sk-container-id-6 div.sk-parallel-item {display: flex;flex-direction: column;z-index: 1;position: relative;background-color: white;}#sk-container-id-6 div.sk-parallel-item:first-child::after {align-self: flex-end;width: 50%;}#sk-container-id-6 div.sk-parallel-item:last-child::after {align-self: flex-start;width: 50%;}#sk-container-id-6 div.sk-parallel-item:only-child::after {width: 0;}#sk-container-id-6 div.sk-dashed-wrapped {border: 1px dashed gray;margin: 0 0.4em 0.5em 0.4em;box-sizing: border-box;padding-bottom: 0.4em;background-color: white;}#sk-container-id-6 div.sk-label label {font-family: monospace;font-weight: bold;display: inline-block;line-height: 1.2em;}#sk-container-id-6 div.sk-label-container {text-align: center;}#sk-container-id-6 div.sk-container {/* jupyter's `normalize.less` sets `[hidden] { display: none; }` but bootstrap.min.css set `[hidden] { display: none !important; }` so we also need the `!important` here to be able to override the default hidden behavior on the sphinx rendered scikit-learn.org. See: https://github.com/scikit-learn/scikit-learn/issues/21755 */display: inline-block !important;position: relative;}#sk-container-id-6 div.sk-text-repr-fallback {display: none;}</style><div id=\"sk-container-id-6\" class=\"sk-top-container\"><div class=\"sk-text-repr-fallback\"><pre>Pipeline(steps=[(&#x27;countvectorizer&#x27;,\n",
       "                 CountVectorizer(analyzer=&lt;cyfunction identity at 0x2aeb65597e00&gt;,\n",
       "                                 max_df=0.9648995962853211, min_df=9)),\n",
       "                (&#x27;sgdclassifier&#x27;, SGDClassifier(alpha=0.040598083609988865))])</pre><b>In a Jupyter environment, please rerun this cell to show the HTML representation or trust the notebook. <br />On GitHub, the HTML representation is unable to render, please try loading this page with nbviewer.org.</b></div><div class=\"sk-container\" hidden><div class=\"sk-item sk-dashed-wrapped\"><div class=\"sk-label-container\"><div class=\"sk-label sk-toggleable\"><input class=\"sk-toggleable__control sk-hidden--visually\" id=\"sk-estimator-id-18\" type=\"checkbox\" ><label for=\"sk-estimator-id-18\" class=\"sk-toggleable__label sk-toggleable__label-arrow\">Pipeline</label><div class=\"sk-toggleable__content\"><pre>Pipeline(steps=[(&#x27;countvectorizer&#x27;,\n",
       "                 CountVectorizer(analyzer=&lt;cyfunction identity at 0x2aeb65597e00&gt;,\n",
       "                                 max_df=0.9648995962853211, min_df=9)),\n",
       "                (&#x27;sgdclassifier&#x27;, SGDClassifier(alpha=0.040598083609988865))])</pre></div></div></div><div class=\"sk-serial\"><div class=\"sk-item\"><div class=\"sk-estimator sk-toggleable\"><input class=\"sk-toggleable__control sk-hidden--visually\" id=\"sk-estimator-id-19\" type=\"checkbox\" ><label for=\"sk-estimator-id-19\" class=\"sk-toggleable__label sk-toggleable__label-arrow\">CountVectorizer</label><div class=\"sk-toggleable__content\"><pre>CountVectorizer(analyzer=&lt;cyfunction identity at 0x2aeb65597e00&gt;,\n",
       "                max_df=0.9648995962853211, min_df=9)</pre></div></div></div><div class=\"sk-item\"><div class=\"sk-estimator sk-toggleable\"><input class=\"sk-toggleable__control sk-hidden--visually\" id=\"sk-estimator-id-20\" type=\"checkbox\" ><label for=\"sk-estimator-id-20\" class=\"sk-toggleable__label sk-toggleable__label-arrow\">SGDClassifier</label><div class=\"sk-toggleable__content\"><pre>SGDClassifier(alpha=0.040598083609988865)</pre></div></div></div></div></div></div></div>"
      ],
      "text/plain": [
       "Pipeline(steps=[('countvectorizer',\n",
       "                 CountVectorizer(analyzer=<cyfunction identity at 0x2aeb65597e00>,\n",
       "                                 max_df=0.9648995962853211, min_df=9)),\n",
       "                ('sgdclassifier', SGDClassifier(alpha=0.040598083609988865))])"
      ]
     },
     "execution_count": 36,
     "metadata": {},
     "output_type": "execute_result"
    }
   ],
   "source": [
    "sgd.set_params(**sgd_search.best_params_)"
   ]
  },
  {
   "cell_type": "code",
   "execution_count": 37,
   "id": "40da52b6-81fa-4c61-bbc0-34727fdb9178",
   "metadata": {},
   "outputs": [
    {
     "name": "stdout",
     "output_type": "stream",
     "text": [
      "              precision    recall  f1-score   support\n",
      "\n",
      "       False       0.94      0.95      0.95      2001\n",
      "        True       0.89      0.87      0.88       853\n",
      "\n",
      "    accuracy                           0.93      2854\n",
      "   macro avg       0.92      0.91      0.91      2854\n",
      "weighted avg       0.93      0.93      0.93      2854\n",
      "\n"
     ]
    }
   ],
   "source": [
    "sgd.fit(train[\"tokens\"], train[\"pol\"])\n",
    "sgd_predicted = sgd.predict(test[\"tokens\"])\n",
    "print(classification_report(test[\"pol\"], sgd_predicted))"
   ]
  },
  {
   "cell_type": "markdown",
   "id": "cc59d51a-00d8-4607-b33f-cfe27375fcc9",
   "metadata": {},
   "source": [
    "### SVM Classifier"
   ]
  },
  {
   "cell_type": "code",
   "execution_count": 46,
   "id": "0f3cfc69-bbe3-431e-bba9-9dba39832265",
   "metadata": {},
   "outputs": [
    {
     "name": "stderr",
     "output_type": "stream",
     "text": [
      "/opt/conda/lib/python3.10/site-packages/joblib/externals/loky/process_executor.py:700: UserWarning: A worker stopped while some jobs were given to the executor. This can be caused by a too short worker timeout or by a memory leak.\n",
      "  warnings.warn(\n"
     ]
    },
    {
     "name": "stdout",
     "output_type": "stream",
     "text": [
      "CPU times: user 2min 8s, sys: 9.56 s, total: 2min 18s\n",
      "Wall time: 20min 4s\n"
     ]
    },
    {
     "data": {
      "text/plain": [
       "({'countvectorizer__max_df': 0.886087363367857,\n",
       "  'countvectorizer__min_df': 3,\n",
       "  'svc__C': 10},\n",
       " 0.8813708089867616)"
      ]
     },
     "execution_count": 46,
     "metadata": {},
     "output_type": "execute_result"
    }
   ],
   "source": [
    "%%time\n",
    "svm_search = RandomizedSearchCV(\n",
    "    svm,\n",
    "    {\n",
    "        \"countvectorizer__min_df\": randint(1, 10),\n",
    "        \"countvectorizer__max_df\": uniform(0.5, 0.5),\n",
    "        \"svc__C\": [0.1, 1, 10, 100, 1000],\n",
    "    },\n",
    "    n_iter=20,\n",
    "    n_jobs=-1,\n",
    "    scoring=\"f1\",\n",
    ")\n",
    "\n",
    "svm_search.fit(train[\"tokens\"], train[\"pol\"])\n",
    "svm_search.best_params_, svm_search.best_score_"
   ]
  },
  {
   "cell_type": "code",
   "execution_count": 47,
   "id": "38a7dce6-1487-40f8-91c7-20b97371c85d",
   "metadata": {},
   "outputs": [
    {
     "data": {
      "text/html": [
       "<div>\n",
       "<style scoped>\n",
       "    .dataframe tbody tr th:only-of-type {\n",
       "        vertical-align: middle;\n",
       "    }\n",
       "\n",
       "    .dataframe tbody tr th {\n",
       "        vertical-align: top;\n",
       "    }\n",
       "\n",
       "    .dataframe thead th {\n",
       "        text-align: right;\n",
       "    }\n",
       "</style>\n",
       "<table border=\"1\" class=\"dataframe\">\n",
       "  <thead>\n",
       "    <tr style=\"text-align: right;\">\n",
       "      <th></th>\n",
       "      <th>mean_fit_time</th>\n",
       "      <th>std_fit_time</th>\n",
       "      <th>mean_score_time</th>\n",
       "      <th>std_score_time</th>\n",
       "      <th>param_countvectorizer__max_df</th>\n",
       "      <th>param_countvectorizer__min_df</th>\n",
       "      <th>param_svc__C</th>\n",
       "      <th>params</th>\n",
       "      <th>split0_test_score</th>\n",
       "      <th>split1_test_score</th>\n",
       "      <th>split2_test_score</th>\n",
       "      <th>split3_test_score</th>\n",
       "      <th>split4_test_score</th>\n",
       "      <th>mean_test_score</th>\n",
       "      <th>std_test_score</th>\n",
       "      <th>rank_test_score</th>\n",
       "    </tr>\n",
       "  </thead>\n",
       "  <tbody>\n",
       "    <tr>\n",
       "      <th>0</th>\n",
       "      <td>31.806279</td>\n",
       "      <td>0.678173</td>\n",
       "      <td>7.088277</td>\n",
       "      <td>0.175928</td>\n",
       "      <td>0.596971</td>\n",
       "      <td>4</td>\n",
       "      <td>1</td>\n",
       "      <td>{'countvectorizer__max_df': 0.5969706209688668...</td>\n",
       "      <td>0.885714</td>\n",
       "      <td>0.869631</td>\n",
       "      <td>0.875758</td>\n",
       "      <td>0.886228</td>\n",
       "      <td>0.878630</td>\n",
       "      <td>0.879192</td>\n",
       "      <td>0.006254</td>\n",
       "      <td>7</td>\n",
       "    </tr>\n",
       "    <tr>\n",
       "      <th>1</th>\n",
       "      <td>30.471885</td>\n",
       "      <td>0.350470</td>\n",
       "      <td>7.000969</td>\n",
       "      <td>0.311457</td>\n",
       "      <td>0.540486</td>\n",
       "      <td>6</td>\n",
       "      <td>1</td>\n",
       "      <td>{'countvectorizer__max_df': 0.5404856393648962...</td>\n",
       "      <td>0.884558</td>\n",
       "      <td>0.870943</td>\n",
       "      <td>0.880000</td>\n",
       "      <td>0.882397</td>\n",
       "      <td>0.876957</td>\n",
       "      <td>0.878971</td>\n",
       "      <td>0.004744</td>\n",
       "      <td>8</td>\n",
       "    </tr>\n",
       "    <tr>\n",
       "      <th>2</th>\n",
       "      <td>31.884160</td>\n",
       "      <td>1.276039</td>\n",
       "      <td>7.191510</td>\n",
       "      <td>0.377794</td>\n",
       "      <td>0.528439</td>\n",
       "      <td>1</td>\n",
       "      <td>100</td>\n",
       "      <td>{'countvectorizer__max_df': 0.5284393588919563...</td>\n",
       "      <td>0.878378</td>\n",
       "      <td>0.875466</td>\n",
       "      <td>0.884101</td>\n",
       "      <td>0.886931</td>\n",
       "      <td>0.880531</td>\n",
       "      <td>0.881081</td>\n",
       "      <td>0.004061</td>\n",
       "      <td>2</td>\n",
       "    </tr>\n",
       "    <tr>\n",
       "      <th>3</th>\n",
       "      <td>30.352198</td>\n",
       "      <td>0.584769</td>\n",
       "      <td>7.100303</td>\n",
       "      <td>0.342717</td>\n",
       "      <td>0.527921</td>\n",
       "      <td>6</td>\n",
       "      <td>1</td>\n",
       "      <td>{'countvectorizer__max_df': 0.5279214599726969...</td>\n",
       "      <td>0.884558</td>\n",
       "      <td>0.870943</td>\n",
       "      <td>0.880000</td>\n",
       "      <td>0.882397</td>\n",
       "      <td>0.876957</td>\n",
       "      <td>0.878971</td>\n",
       "      <td>0.004744</td>\n",
       "      <td>8</td>\n",
       "    </tr>\n",
       "    <tr>\n",
       "      <th>4</th>\n",
       "      <td>28.563150</td>\n",
       "      <td>1.010313</td>\n",
       "      <td>6.458214</td>\n",
       "      <td>0.457757</td>\n",
       "      <td>0.591068</td>\n",
       "      <td>9</td>\n",
       "      <td>100</td>\n",
       "      <td>{'countvectorizer__max_df': 0.5910679434259463...</td>\n",
       "      <td>0.879699</td>\n",
       "      <td>0.873323</td>\n",
       "      <td>0.883929</td>\n",
       "      <td>0.884164</td>\n",
       "      <td>0.882051</td>\n",
       "      <td>0.880633</td>\n",
       "      <td>0.003991</td>\n",
       "      <td>5</td>\n",
       "    </tr>\n",
       "  </tbody>\n",
       "</table>\n",
       "</div>"
      ],
      "text/plain": [
       "   mean_fit_time  std_fit_time  mean_score_time  std_score_time  \\\n",
       "0      31.806279      0.678173         7.088277        0.175928   \n",
       "1      30.471885      0.350470         7.000969        0.311457   \n",
       "2      31.884160      1.276039         7.191510        0.377794   \n",
       "3      30.352198      0.584769         7.100303        0.342717   \n",
       "4      28.563150      1.010313         6.458214        0.457757   \n",
       "\n",
       "  param_countvectorizer__max_df param_countvectorizer__min_df param_svc__C  \\\n",
       "0                      0.596971                             4            1   \n",
       "1                      0.540486                             6            1   \n",
       "2                      0.528439                             1          100   \n",
       "3                      0.527921                             6            1   \n",
       "4                      0.591068                             9          100   \n",
       "\n",
       "                                              params  split0_test_score  \\\n",
       "0  {'countvectorizer__max_df': 0.5969706209688668...           0.885714   \n",
       "1  {'countvectorizer__max_df': 0.5404856393648962...           0.884558   \n",
       "2  {'countvectorizer__max_df': 0.5284393588919563...           0.878378   \n",
       "3  {'countvectorizer__max_df': 0.5279214599726969...           0.884558   \n",
       "4  {'countvectorizer__max_df': 0.5910679434259463...           0.879699   \n",
       "\n",
       "   split1_test_score  split2_test_score  split3_test_score  split4_test_score  \\\n",
       "0           0.869631           0.875758           0.886228           0.878630   \n",
       "1           0.870943           0.880000           0.882397           0.876957   \n",
       "2           0.875466           0.884101           0.886931           0.880531   \n",
       "3           0.870943           0.880000           0.882397           0.876957   \n",
       "4           0.873323           0.883929           0.884164           0.882051   \n",
       "\n",
       "   mean_test_score  std_test_score  rank_test_score  \n",
       "0         0.879192        0.006254                7  \n",
       "1         0.878971        0.004744                8  \n",
       "2         0.881081        0.004061                2  \n",
       "3         0.878971        0.004744                8  \n",
       "4         0.880633        0.003991                5  "
      ]
     },
     "execution_count": 47,
     "metadata": {},
     "output_type": "execute_result"
    }
   ],
   "source": [
    "svm_cv_results = pd.DataFrame(svm_search.cv_results_)\n",
    "svm_cv_results.head()"
   ]
  },
  {
   "cell_type": "code",
   "execution_count": 48,
   "id": "87dfa79e-da06-4ca4-97a5-58a9b9c3474d",
   "metadata": {},
   "outputs": [
    {
     "data": {
      "text/plain": [
       "<Axes: xlabel='param_svc__C', ylabel='mean_test_score'>"
      ]
     },
     "execution_count": 48,
     "metadata": {},
     "output_type": "execute_result"
    },
    {
     "data": {
      "image/png": "[encoded data removed]",
      "text/plain": [
       "<Figure size 640x480 with 1 Axes>"
      ]
     },
     "metadata": {},
     "output_type": "display_data"
    }
   ],
   "source": [
    "svm_cv_results.plot(\n",
    "    \"param_svc__C\", \"mean_test_score\", kind=\"scatter\", logx=True\n",
    ")"
   ]
  },
  {
   "cell_type": "code",
   "execution_count": 49,
   "id": "3370f9fa-a9f1-4371-94e6-bd824fc8952d",
   "metadata": {},
   "outputs": [
    {
     "data": {
      "text/html": [
       "<style>#sk-container-id-7 {color: black;background-color: white;}#sk-container-id-7 pre{padding: 0;}#sk-container-id-7 div.sk-toggleable {background-color: white;}#sk-container-id-7 label.sk-toggleable__label {cursor: pointer;display: block;width: 100%;margin-bottom: 0;padding: 0.3em;box-sizing: border-box;text-align: center;}#sk-container-id-7 label.sk-toggleable__label-arrow:before {content: \"▸\";float: left;margin-right: 0.25em;color: #696969;}#sk-container-id-7 label.sk-toggleable__label-arrow:hover:before {color: black;}#sk-container-id-7 div.sk-estimator:hover label.sk-toggleable__label-arrow:before {color: black;}#sk-container-id-7 div.sk-toggleable__content {max-height: 0;max-width: 0;overflow: hidden;text-align: left;background-color: #f0f8ff;}#sk-container-id-7 div.sk-toggleable__content pre {margin: 0.2em;color: black;border-radius: 0.25em;background-color: #f0f8ff;}#sk-container-id-7 input.sk-toggleable__control:checked~div.sk-toggleable__content {max-height: 200px;max-width: 100%;overflow: auto;}#sk-container-id-7 input.sk-toggleable__control:checked~label.sk-toggleable__label-arrow:before {content: \"▾\";}#sk-container-id-7 div.sk-estimator input.sk-toggleable__control:checked~label.sk-toggleable__label {background-color: #d4ebff;}#sk-container-id-7 div.sk-label input.sk-toggleable__control:checked~label.sk-toggleable__label {background-color: #d4ebff;}#sk-container-id-7 input.sk-hidden--visually {border: 0;clip: rect(1px 1px 1px 1px);clip: rect(1px, 1px, 1px, 1px);height: 1px;margin: -1px;overflow: hidden;padding: 0;position: absolute;width: 1px;}#sk-container-id-7 div.sk-estimator {font-family: monospace;background-color: #f0f8ff;border: 1px dotted black;border-radius: 0.25em;box-sizing: border-box;margin-bottom: 0.5em;}#sk-container-id-7 div.sk-estimator:hover {background-color: #d4ebff;}#sk-container-id-7 div.sk-parallel-item::after {content: \"\";width: 100%;border-bottom: 1px solid gray;flex-grow: 1;}#sk-container-id-7 div.sk-label:hover label.sk-toggleable__label {background-color: #d4ebff;}#sk-container-id-7 div.sk-serial::before {content: \"\";position: absolute;border-left: 1px solid gray;box-sizing: border-box;top: 0;bottom: 0;left: 50%;z-index: 0;}#sk-container-id-7 div.sk-serial {display: flex;flex-direction: column;align-items: center;background-color: white;padding-right: 0.2em;padding-left: 0.2em;position: relative;}#sk-container-id-7 div.sk-item {position: relative;z-index: 1;}#sk-container-id-7 div.sk-parallel {display: flex;align-items: stretch;justify-content: center;background-color: white;position: relative;}#sk-container-id-7 div.sk-item::before, #sk-container-id-7 div.sk-parallel-item::before {content: \"\";position: absolute;border-left: 1px solid gray;box-sizing: border-box;top: 0;bottom: 0;left: 50%;z-index: -1;}#sk-container-id-7 div.sk-parallel-item {display: flex;flex-direction: column;z-index: 1;position: relative;background-color: white;}#sk-container-id-7 div.sk-parallel-item:first-child::after {align-self: flex-end;width: 50%;}#sk-container-id-7 div.sk-parallel-item:last-child::after {align-self: flex-start;width: 50%;}#sk-container-id-7 div.sk-parallel-item:only-child::after {width: 0;}#sk-container-id-7 div.sk-dashed-wrapped {border: 1px dashed gray;margin: 0 0.4em 0.5em 0.4em;box-sizing: border-box;padding-bottom: 0.4em;background-color: white;}#sk-container-id-7 div.sk-label label {font-family: monospace;font-weight: bold;display: inline-block;line-height: 1.2em;}#sk-container-id-7 div.sk-label-container {text-align: center;}#sk-container-id-7 div.sk-container {/* jupyter's `normalize.less` sets `[hidden] { display: none; }` but bootstrap.min.css set `[hidden] { display: none !important; }` so we also need the `!important` here to be able to override the default hidden behavior on the sphinx rendered scikit-learn.org. See: https://github.com/scikit-learn/scikit-learn/issues/21755 */display: inline-block !important;position: relative;}#sk-container-id-7 div.sk-text-repr-fallback {display: none;}</style><div id=\"sk-container-id-7\" class=\"sk-top-container\"><div class=\"sk-text-repr-fallback\"><pre>Pipeline(steps=[(&#x27;countvectorizer&#x27;,\n",
       "                 CountVectorizer(analyzer=&lt;cyfunction identity at 0x2aeb65597e00&gt;,\n",
       "                                 max_df=0.886087363367857, min_df=3)),\n",
       "                (&#x27;svc&#x27;, SVC(C=10))])</pre><b>In a Jupyter environment, please rerun this cell to show the HTML representation or trust the notebook. <br />On GitHub, the HTML representation is unable to render, please try loading this page with nbviewer.org.</b></div><div class=\"sk-container\" hidden><div class=\"sk-item sk-dashed-wrapped\"><div class=\"sk-label-container\"><div class=\"sk-label sk-toggleable\"><input class=\"sk-toggleable__control sk-hidden--visually\" id=\"sk-estimator-id-21\" type=\"checkbox\" ><label for=\"sk-estimator-id-21\" class=\"sk-toggleable__label sk-toggleable__label-arrow\">Pipeline</label><div class=\"sk-toggleable__content\"><pre>Pipeline(steps=[(&#x27;countvectorizer&#x27;,\n",
       "                 CountVectorizer(analyzer=&lt;cyfunction identity at 0x2aeb65597e00&gt;,\n",
       "                                 max_df=0.886087363367857, min_df=3)),\n",
       "                (&#x27;svc&#x27;, SVC(C=10))])</pre></div></div></div><div class=\"sk-serial\"><div class=\"sk-item\"><div class=\"sk-estimator sk-toggleable\"><input class=\"sk-toggleable__control sk-hidden--visually\" id=\"sk-estimator-id-22\" type=\"checkbox\" ><label for=\"sk-estimator-id-22\" class=\"sk-toggleable__label sk-toggleable__label-arrow\">CountVectorizer</label><div class=\"sk-toggleable__content\"><pre>CountVectorizer(analyzer=&lt;cyfunction identity at 0x2aeb65597e00&gt;,\n",
       "                max_df=0.886087363367857, min_df=3)</pre></div></div></div><div class=\"sk-item\"><div class=\"sk-estimator sk-toggleable\"><input class=\"sk-toggleable__control sk-hidden--visually\" id=\"sk-estimator-id-23\" type=\"checkbox\" ><label for=\"sk-estimator-id-23\" class=\"sk-toggleable__label sk-toggleable__label-arrow\">SVC</label><div class=\"sk-toggleable__content\"><pre>SVC(C=10)</pre></div></div></div></div></div></div></div>"
      ],
      "text/plain": [
       "Pipeline(steps=[('countvectorizer',\n",
       "                 CountVectorizer(analyzer=<cyfunction identity at 0x2aeb65597e00>,\n",
       "                                 max_df=0.886087363367857, min_df=3)),\n",
       "                ('svc', SVC(C=10))])"
      ]
     },
     "execution_count": 49,
     "metadata": {},
     "output_type": "execute_result"
    }
   ],
   "source": [
    "svm.set_params(**svm_search.best_params_)"
   ]
  },
  {
   "cell_type": "code",
   "execution_count": 50,
   "id": "8e9a99a6-fbac-4dfb-be6c-3d0438bdda63",
   "metadata": {},
   "outputs": [
    {
     "name": "stdout",
     "output_type": "stream",
     "text": [
      "              precision    recall  f1-score   support\n",
      "\n",
      "       False       0.94      0.96      0.95      2001\n",
      "        True       0.90      0.87      0.88       853\n",
      "\n",
      "    accuracy                           0.93      2854\n",
      "   macro avg       0.92      0.91      0.92      2854\n",
      "weighted avg       0.93      0.93      0.93      2854\n",
      "\n"
     ]
    }
   ],
   "source": [
    "svm.fit(train[\"tokens\"], train[\"pol\"])\n",
    "svm_predicted = svm.predict(test[\"tokens\"])\n",
    "print(classification_report(test[\"pol\"], svm_predicted))"
   ]
  },
  {
   "cell_type": "markdown",
   "id": "heavy-zealand",
   "metadata": {},
   "source": [
    "---\n",
    "\n",
    "## Compare optimized model to baseline"
   ]
  },
  {
   "cell_type": "code",
   "execution_count": 51,
   "id": "favorite-firewall",
   "metadata": {
    "tags": []
   },
   "outputs": [
    {
     "name": "stdout",
     "output_type": "stream",
     "text": [
      "              precision    recall  f1-score   support\n",
      "\n",
      "       False       0.94      0.95      0.95      2001\n",
      "        True       0.89      0.87      0.88       853\n",
      "\n",
      "    accuracy                           0.93      2854\n",
      "   macro avg       0.92      0.91      0.91      2854\n",
      "weighted avg       0.93      0.93      0.93      2854\n",
      "\n"
     ]
    }
   ],
   "source": [
    "sgd_predicted = sgd.predict(test[\"tokens\"])\n",
    "print(classification_report(test[\"pol\"], sgd_predicted))"
   ]
  },
  {
   "cell_type": "code",
   "execution_count": 52,
   "id": "92fa7de0-7156-4ea2-8ead-8fadb312978a",
   "metadata": {},
   "outputs": [
    {
     "name": "stdout",
     "output_type": "stream",
     "text": [
      "              precision    recall  f1-score   support\n",
      "\n",
      "       False       0.94      0.96      0.95      2001\n",
      "        True       0.90      0.87      0.88       853\n",
      "\n",
      "    accuracy                           0.93      2854\n",
      "   macro avg       0.92      0.91      0.92      2854\n",
      "weighted avg       0.93      0.93      0.93      2854\n",
      "\n"
     ]
    }
   ],
   "source": [
    "svm_predicted = svm.predict(test[\"tokens\"])\n",
    "print(classification_report(test[\"pol\"], svm_predicted))"
   ]
  },
  {
   "cell_type": "code",
   "execution_count": 53,
   "id": "add03ce8-5378-45e6-a4b6-34c928458248",
   "metadata": {},
   "outputs": [
    {
     "name": "stdout",
     "output_type": "stream",
     "text": [
      "              precision    recall  f1-score   support\n",
      "\n",
      "       False       0.96      0.90      0.93      2001\n",
      "        True       0.79      0.90      0.84       853\n",
      "\n",
      "    accuracy                           0.90      2854\n",
      "   macro avg       0.87      0.90      0.89      2854\n",
      "weighted avg       0.91      0.90      0.90      2854\n",
      "\n"
     ]
    }
   ],
   "source": [
    "mnb_predicted = mnb.predict(test[\"tokens\"])\n",
    "print(classification_report(test[\"pol\"], mnb_predicted))"
   ]
  },
  {
   "cell_type": "code",
   "execution_count": 54,
   "id": "atlantic-header",
   "metadata": {
    "tags": []
   },
   "outputs": [],
   "source": [
    "sgd_f1 = f1_score(test[\"pol\"], sgd_predicted)\n",
    "svm_f1 = f1_score(test[\"pol\"], svm_predicted)\n",
    "mnb_f1 = f1_score(test[\"pol\"], mnb_predicted)"
   ]
  },
  {
   "cell_type": "code",
   "execution_count": 55,
   "id": "identical-glance",
   "metadata": {
    "tags": []
   },
   "outputs": [
    {
     "data": {
      "text/plain": [
       "(0.8795252225519289,\n",
       " 0.881477069684336,\n",
       " 0.8438356164383561,\n",
       " -0.0019518471324071474,\n",
       " 0.03568960611357275)"
      ]
     },
     "execution_count": 55,
     "metadata": {},
     "output_type": "execute_result"
    }
   ],
   "source": [
    "sgd_f1, svm_f1, mnb_f1, sgd_f1 - svm_f1, sgd_f1-mnb_f1"
   ]
  },
  {
   "cell_type": "markdown",
   "id": "3b3ad439-95dc-4454-82e5-0e7a2e239e07",
   "metadata": {},
   "source": [
    "By observing f1 scores, we can see that svm has performed well over sgd and mnb, but it was computationally expensive to build and tune the svm model. SGD has similar score, only slightly less than SVM and is quick to model exponentially. It is better to chose sgd model looking at the performance metrics."
   ]
  },
  {
   "cell_type": "code",
   "execution_count": 57,
   "id": "breathing-initial",
   "metadata": {
    "tags": []
   },
   "outputs": [],
   "source": [
    "from scipy.stats import binomtest, wilcoxon"
   ]
  },
  {
   "cell_type": "code",
   "execution_count": 64,
   "id": "global-culture",
   "metadata": {
    "tags": []
   },
   "outputs": [
    {
     "data": {
      "text/plain": [
       "(157, 75, 2622)"
      ]
     },
     "execution_count": 64,
     "metadata": {},
     "output_type": "execute_result"
    }
   ],
   "source": [
    "diff_sgd_svm = (sgd_predicted == test[\"pol\"]).astype(int) - (\n",
    "    svm_predicted == test[\"pol\"]\n",
    ").astype(int)\n",
    "\n",
    "sum(diff == 1), sum(diff == -1), sum(diff == 0)"
   ]
  },
  {
   "cell_type": "markdown",
   "id": "24181ff1-f659-47f6-baf3-bd22f95831c1",
   "metadata": {},
   "source": [
    "Majority predictions from both SVM and SGD are similar, The predictions where SVM and SGD differed are also in similar number."
   ]
  },
  {
   "cell_type": "code",
   "execution_count": 65,
   "id": "8e825507-b4c5-44af-bab2-71a5f6bc1042",
   "metadata": {},
   "outputs": [
    {
     "data": {
      "text/plain": [
       "(157, 75, 2622)"
      ]
     },
     "execution_count": 65,
     "metadata": {},
     "output_type": "execute_result"
    }
   ],
   "source": [
    "diff_sgd_mnb = (sgd_predicted == test[\"pol\"]).astype(int) - (\n",
    "    mnb_predicted == test[\"pol\"]\n",
    ").astype(int)\n",
    "\n",
    "sum(diff == 1), sum(diff == -1), sum(diff == 0)"
   ]
  },
  {
   "cell_type": "markdown",
   "id": "d3d59780-5551-4394-bd6e-775712fb1481",
   "metadata": {},
   "source": [
    "Same predictions between SGD and MNB is also nat far away from the above number. But the number of predictions where SGD predicted true when MNB is false is greater than the number of predictions where SGD predicted fasle when MNB is True, and the former is double than latter."
   ]
  },
  {
   "cell_type": "code",
   "execution_count": 66,
   "id": "asian-weekend",
   "metadata": {
    "tags": []
   },
   "outputs": [
    {
     "data": {
      "text/plain": [
       "BinomTestResult(k=40, n=2854, alternative='greater', statistic=0.01401541695865452, pvalue=1.0)"
      ]
     },
     "execution_count": 66,
     "metadata": {},
     "output_type": "execute_result"
    }
   ],
   "source": [
    "binomtest(sum(diff_sgd_svm == 1), len(diff_sgd_svm), alternative=\"greater\")"
   ]
  },
  {
   "cell_type": "code",
   "execution_count": 67,
   "id": "b196e2c1-4673-446f-9676-58c32691d18a",
   "metadata": {},
   "outputs": [
    {
     "data": {
      "text/plain": [
       "BinomTestResult(k=157, n=2854, alternative='greater', statistic=0.05501051156271899, pvalue=1.0)"
      ]
     },
     "execution_count": 67,
     "metadata": {},
     "output_type": "execute_result"
    }
   ],
   "source": [
    "binomtest(sum(diff_sgd_mnb == 1), len(diff_sgd_mnb), alternative=\"greater\")"
   ]
  },
  {
   "cell_type": "code",
   "execution_count": 68,
   "id": "precious-workplace",
   "metadata": {
    "tags": []
   },
   "outputs": [
    {
     "data": {
      "text/plain": [
       "WilcoxonResult(statistic=1700.0, pvalue=0.6687397082299713)"
      ]
     },
     "execution_count": 68,
     "metadata": {},
     "output_type": "execute_result"
    }
   ],
   "source": [
    "wilcoxon(diff_sgd_svm, alternative=\"greater\")"
   ]
  },
  {
   "cell_type": "code",
   "execution_count": 69,
   "id": "7ef5cc4a-c1f6-4f64-9adc-97512b215e5a",
   "metadata": {},
   "outputs": [
    {
     "data": {
      "text/plain": [
       "WilcoxonResult(statistic=18290.5, pvalue=3.6512684196144544e-08)"
      ]
     },
     "execution_count": 69,
     "metadata": {},
     "output_type": "execute_result"
    }
   ],
   "source": [
    "wilcoxon(diff_sgd_mnb, alternative=\"greater\")"
   ]
  },
  {
   "cell_type": "markdown",
   "id": "composite-mills",
   "metadata": {},
   "source": [
    "-----\n",
    "\n",
    "## Save models\n",
    "\n",
    "Rebuild model with the tokenizer included and save"
   ]
  },
  {
   "cell_type": "markdown",
   "id": "c486dc40-bb07-4fff-ab63-a89159f935aa",
   "metadata": {},
   "source": [
    "All models with tuned hyperparameters and tokenizer."
   ]
  },
  {
   "cell_type": "code",
   "execution_count": 12,
   "id": "crazy-electric",
   "metadata": {
    "tags": []
   },
   "outputs": [
    {
     "name": "stderr",
     "output_type": "stream",
     "text": [
      "/opt/conda/lib/python3.10/site-packages/sklearn/feature_extraction/text.py:528: UserWarning: The parameter 'token_pattern' will not be used since 'tokenizer' is not None'\n",
      "  warnings.warn(\n"
     ]
    },
    {
     "name": "stdout",
     "output_type": "stream",
     "text": [
      "CPU times: user 9.1 s, sys: 74.2 ms, total: 9.17 s\n",
      "Wall time: 9.09 s\n"
     ]
    },
    {
     "data": {
      "text/html": [
       "<style>#sk-container-id-3 {color: black;background-color: white;}#sk-container-id-3 pre{padding: 0;}#sk-container-id-3 div.sk-toggleable {background-color: white;}#sk-container-id-3 label.sk-toggleable__label {cursor: pointer;display: block;width: 100%;margin-bottom: 0;padding: 0.3em;box-sizing: border-box;text-align: center;}#sk-container-id-3 label.sk-toggleable__label-arrow:before {content: \"▸\";float: left;margin-right: 0.25em;color: #696969;}#sk-container-id-3 label.sk-toggleable__label-arrow:hover:before {color: black;}#sk-container-id-3 div.sk-estimator:hover label.sk-toggleable__label-arrow:before {color: black;}#sk-container-id-3 div.sk-toggleable__content {max-height: 0;max-width: 0;overflow: hidden;text-align: left;background-color: #f0f8ff;}#sk-container-id-3 div.sk-toggleable__content pre {margin: 0.2em;color: black;border-radius: 0.25em;background-color: #f0f8ff;}#sk-container-id-3 input.sk-toggleable__control:checked~div.sk-toggleable__content {max-height: 200px;max-width: 100%;overflow: auto;}#sk-container-id-3 input.sk-toggleable__control:checked~label.sk-toggleable__label-arrow:before {content: \"▾\";}#sk-container-id-3 div.sk-estimator input.sk-toggleable__control:checked~label.sk-toggleable__label {background-color: #d4ebff;}#sk-container-id-3 div.sk-label input.sk-toggleable__control:checked~label.sk-toggleable__label {background-color: #d4ebff;}#sk-container-id-3 input.sk-hidden--visually {border: 0;clip: rect(1px 1px 1px 1px);clip: rect(1px, 1px, 1px, 1px);height: 1px;margin: -1px;overflow: hidden;padding: 0;position: absolute;width: 1px;}#sk-container-id-3 div.sk-estimator {font-family: monospace;background-color: #f0f8ff;border: 1px dotted black;border-radius: 0.25em;box-sizing: border-box;margin-bottom: 0.5em;}#sk-container-id-3 div.sk-estimator:hover {background-color: #d4ebff;}#sk-container-id-3 div.sk-parallel-item::after {content: \"\";width: 100%;border-bottom: 1px solid gray;flex-grow: 1;}#sk-container-id-3 div.sk-label:hover label.sk-toggleable__label {background-color: #d4ebff;}#sk-container-id-3 div.sk-serial::before {content: \"\";position: absolute;border-left: 1px solid gray;box-sizing: border-box;top: 0;bottom: 0;left: 50%;z-index: 0;}#sk-container-id-3 div.sk-serial {display: flex;flex-direction: column;align-items: center;background-color: white;padding-right: 0.2em;padding-left: 0.2em;position: relative;}#sk-container-id-3 div.sk-item {position: relative;z-index: 1;}#sk-container-id-3 div.sk-parallel {display: flex;align-items: stretch;justify-content: center;background-color: white;position: relative;}#sk-container-id-3 div.sk-item::before, #sk-container-id-3 div.sk-parallel-item::before {content: \"\";position: absolute;border-left: 1px solid gray;box-sizing: border-box;top: 0;bottom: 0;left: 50%;z-index: -1;}#sk-container-id-3 div.sk-parallel-item {display: flex;flex-direction: column;z-index: 1;position: relative;background-color: white;}#sk-container-id-3 div.sk-parallel-item:first-child::after {align-self: flex-end;width: 50%;}#sk-container-id-3 div.sk-parallel-item:last-child::after {align-self: flex-start;width: 50%;}#sk-container-id-3 div.sk-parallel-item:only-child::after {width: 0;}#sk-container-id-3 div.sk-dashed-wrapped {border: 1px dashed gray;margin: 0 0.4em 0.5em 0.4em;box-sizing: border-box;padding-bottom: 0.4em;background-color: white;}#sk-container-id-3 div.sk-label label {font-family: monospace;font-weight: bold;display: inline-block;line-height: 1.2em;}#sk-container-id-3 div.sk-label-container {text-align: center;}#sk-container-id-3 div.sk-container {/* jupyter's `normalize.less` sets `[hidden] { display: none; }` but bootstrap.min.css set `[hidden] { display: none !important; }` so we also need the `!important` here to be able to override the default hidden behavior on the sphinx rendered scikit-learn.org. See: https://github.com/scikit-learn/scikit-learn/issues/21755 */display: inline-block !important;position: relative;}#sk-container-id-3 div.sk-text-repr-fallback {display: none;}</style><div id=\"sk-container-id-3\" class=\"sk-top-container\"><div class=\"sk-text-repr-fallback\"><pre>Pipeline(steps=[(&#x27;countvectorizer&#x27;,\n",
       "                 CountVectorizer(preprocessor=&lt;cyfunction identity at 0x2ae2901d9b10&gt;,\n",
       "                                 tokenizer=&lt;function tokenize at 0x2ae29473f5b0&gt;)),\n",
       "                (&#x27;tfidftransformer&#x27;, TfidfTransformer()),\n",
       "                (&#x27;sgdclassifier&#x27;, SGDClassifier())])</pre><b>In a Jupyter environment, please rerun this cell to show the HTML representation or trust the notebook. <br />On GitHub, the HTML representation is unable to render, please try loading this page with nbviewer.org.</b></div><div class=\"sk-container\" hidden><div class=\"sk-item sk-dashed-wrapped\"><div class=\"sk-label-container\"><div class=\"sk-label sk-toggleable\"><input class=\"sk-toggleable__control sk-hidden--visually\" id=\"sk-estimator-id-9\" type=\"checkbox\" ><label for=\"sk-estimator-id-9\" class=\"sk-toggleable__label sk-toggleable__label-arrow\">Pipeline</label><div class=\"sk-toggleable__content\"><pre>Pipeline(steps=[(&#x27;countvectorizer&#x27;,\n",
       "                 CountVectorizer(preprocessor=&lt;cyfunction identity at 0x2ae2901d9b10&gt;,\n",
       "                                 tokenizer=&lt;function tokenize at 0x2ae29473f5b0&gt;)),\n",
       "                (&#x27;tfidftransformer&#x27;, TfidfTransformer()),\n",
       "                (&#x27;sgdclassifier&#x27;, SGDClassifier())])</pre></div></div></div><div class=\"sk-serial\"><div class=\"sk-item\"><div class=\"sk-estimator sk-toggleable\"><input class=\"sk-toggleable__control sk-hidden--visually\" id=\"sk-estimator-id-10\" type=\"checkbox\" ><label for=\"sk-estimator-id-10\" class=\"sk-toggleable__label sk-toggleable__label-arrow\">CountVectorizer</label><div class=\"sk-toggleable__content\"><pre>CountVectorizer(preprocessor=&lt;cyfunction identity at 0x2ae2901d9b10&gt;,\n",
       "                tokenizer=&lt;function tokenize at 0x2ae29473f5b0&gt;)</pre></div></div></div><div class=\"sk-item\"><div class=\"sk-estimator sk-toggleable\"><input class=\"sk-toggleable__control sk-hidden--visually\" id=\"sk-estimator-id-11\" type=\"checkbox\" ><label for=\"sk-estimator-id-11\" class=\"sk-toggleable__label sk-toggleable__label-arrow\">TfidfTransformer</label><div class=\"sk-toggleable__content\"><pre>TfidfTransformer()</pre></div></div></div><div class=\"sk-item\"><div class=\"sk-estimator sk-toggleable\"><input class=\"sk-toggleable__control sk-hidden--visually\" id=\"sk-estimator-id-12\" type=\"checkbox\" ><label for=\"sk-estimator-id-12\" class=\"sk-toggleable__label sk-toggleable__label-arrow\">SGDClassifier</label><div class=\"sk-toggleable__content\"><pre>SGDClassifier()</pre></div></div></div></div></div></div></div>"
      ],
      "text/plain": [
       "Pipeline(steps=[('countvectorizer',\n",
       "                 CountVectorizer(preprocessor=<cyfunction identity at 0x2ae2901d9b10>,\n",
       "                                 tokenizer=<function tokenize at 0x2ae29473f5b0>)),\n",
       "                ('tfidftransformer', TfidfTransformer()),\n",
       "                ('sgdclassifier', SGDClassifier())])"
      ]
     },
     "execution_count": 12,
     "metadata": {},
     "output_type": "execute_result"
    }
   ],
   "source": [
    "%%time\n",
    "sgd_all = make_pipeline(\n",
    "    CountVectorizer(preprocessor=identity,tokenizer=tokenize),\n",
    "    TfidfTransformer(),\n",
    "    SGDClassifier(),\n",
    ")\n",
    "sgd_all.fit(train[\"text\"], train[\"pol\"])"
   ]
  },
  {
   "cell_type": "code",
   "execution_count": 71,
   "id": "f73963b8-b745-4418-b5d8-4111e04629c0",
   "metadata": {
    "tags": []
   },
   "outputs": [
    {
     "name": "stderr",
     "output_type": "stream",
     "text": [
      "/opt/conda/lib/python3.10/site-packages/sklearn/feature_extraction/text.py:528: UserWarning: The parameter 'token_pattern' will not be used since 'tokenizer' is not None'\n",
      "  warnings.warn(\n"
     ]
    },
    {
     "name": "stdout",
     "output_type": "stream",
     "text": [
      "CPU times: user 2min 5s, sys: 124 ms, total: 2min 5s\n",
      "Wall time: 2min 5s\n"
     ]
    },
    {
     "data": {
      "text/html": [
       "<style>#sk-container-id-9 {color: black;background-color: white;}#sk-container-id-9 pre{padding: 0;}#sk-container-id-9 div.sk-toggleable {background-color: white;}#sk-container-id-9 label.sk-toggleable__label {cursor: pointer;display: block;width: 100%;margin-bottom: 0;padding: 0.3em;box-sizing: border-box;text-align: center;}#sk-container-id-9 label.sk-toggleable__label-arrow:before {content: \"▸\";float: left;margin-right: 0.25em;color: #696969;}#sk-container-id-9 label.sk-toggleable__label-arrow:hover:before {color: black;}#sk-container-id-9 div.sk-estimator:hover label.sk-toggleable__label-arrow:before {color: black;}#sk-container-id-9 div.sk-toggleable__content {max-height: 0;max-width: 0;overflow: hidden;text-align: left;background-color: #f0f8ff;}#sk-container-id-9 div.sk-toggleable__content pre {margin: 0.2em;color: black;border-radius: 0.25em;background-color: #f0f8ff;}#sk-container-id-9 input.sk-toggleable__control:checked~div.sk-toggleable__content {max-height: 200px;max-width: 100%;overflow: auto;}#sk-container-id-9 input.sk-toggleable__control:checked~label.sk-toggleable__label-arrow:before {content: \"▾\";}#sk-container-id-9 div.sk-estimator input.sk-toggleable__control:checked~label.sk-toggleable__label {background-color: #d4ebff;}#sk-container-id-9 div.sk-label input.sk-toggleable__control:checked~label.sk-toggleable__label {background-color: #d4ebff;}#sk-container-id-9 input.sk-hidden--visually {border: 0;clip: rect(1px 1px 1px 1px);clip: rect(1px, 1px, 1px, 1px);height: 1px;margin: -1px;overflow: hidden;padding: 0;position: absolute;width: 1px;}#sk-container-id-9 div.sk-estimator {font-family: monospace;background-color: #f0f8ff;border: 1px dotted black;border-radius: 0.25em;box-sizing: border-box;margin-bottom: 0.5em;}#sk-container-id-9 div.sk-estimator:hover {background-color: #d4ebff;}#sk-container-id-9 div.sk-parallel-item::after {content: \"\";width: 100%;border-bottom: 1px solid gray;flex-grow: 1;}#sk-container-id-9 div.sk-label:hover label.sk-toggleable__label {background-color: #d4ebff;}#sk-container-id-9 div.sk-serial::before {content: \"\";position: absolute;border-left: 1px solid gray;box-sizing: border-box;top: 0;bottom: 0;left: 50%;z-index: 0;}#sk-container-id-9 div.sk-serial {display: flex;flex-direction: column;align-items: center;background-color: white;padding-right: 0.2em;padding-left: 0.2em;position: relative;}#sk-container-id-9 div.sk-item {position: relative;z-index: 1;}#sk-container-id-9 div.sk-parallel {display: flex;align-items: stretch;justify-content: center;background-color: white;position: relative;}#sk-container-id-9 div.sk-item::before, #sk-container-id-9 div.sk-parallel-item::before {content: \"\";position: absolute;border-left: 1px solid gray;box-sizing: border-box;top: 0;bottom: 0;left: 50%;z-index: -1;}#sk-container-id-9 div.sk-parallel-item {display: flex;flex-direction: column;z-index: 1;position: relative;background-color: white;}#sk-container-id-9 div.sk-parallel-item:first-child::after {align-self: flex-end;width: 50%;}#sk-container-id-9 div.sk-parallel-item:last-child::after {align-self: flex-start;width: 50%;}#sk-container-id-9 div.sk-parallel-item:only-child::after {width: 0;}#sk-container-id-9 div.sk-dashed-wrapped {border: 1px dashed gray;margin: 0 0.4em 0.5em 0.4em;box-sizing: border-box;padding-bottom: 0.4em;background-color: white;}#sk-container-id-9 div.sk-label label {font-family: monospace;font-weight: bold;display: inline-block;line-height: 1.2em;}#sk-container-id-9 div.sk-label-container {text-align: center;}#sk-container-id-9 div.sk-container {/* jupyter's `normalize.less` sets `[hidden] { display: none; }` but bootstrap.min.css set `[hidden] { display: none !important; }` so we also need the `!important` here to be able to override the default hidden behavior on the sphinx rendered scikit-learn.org. See: https://github.com/scikit-learn/scikit-learn/issues/21755 */display: inline-block !important;position: relative;}#sk-container-id-9 div.sk-text-repr-fallback {display: none;}</style><div id=\"sk-container-id-9\" class=\"sk-top-container\"><div class=\"sk-text-repr-fallback\"><pre>Pipeline(steps=[(&#x27;countvectorizer&#x27;,\n",
       "                 CountVectorizer(max_df=0.886, min_df=3,\n",
       "                                 preprocessor=&lt;cyfunction identity at 0x2aeb65597e00&gt;,\n",
       "                                 tokenizer=&lt;function tokenize at 0x2aeb65a323b0&gt;)),\n",
       "                (&#x27;tfidftransformer&#x27;, TfidfTransformer()), (&#x27;svc&#x27;, SVC(C=10))])</pre><b>In a Jupyter environment, please rerun this cell to show the HTML representation or trust the notebook. <br />On GitHub, the HTML representation is unable to render, please try loading this page with nbviewer.org.</b></div><div class=\"sk-container\" hidden><div class=\"sk-item sk-dashed-wrapped\"><div class=\"sk-label-container\"><div class=\"sk-label sk-toggleable\"><input class=\"sk-toggleable__control sk-hidden--visually\" id=\"sk-estimator-id-28\" type=\"checkbox\" ><label for=\"sk-estimator-id-28\" class=\"sk-toggleable__label sk-toggleable__label-arrow\">Pipeline</label><div class=\"sk-toggleable__content\"><pre>Pipeline(steps=[(&#x27;countvectorizer&#x27;,\n",
       "                 CountVectorizer(max_df=0.886, min_df=3,\n",
       "                                 preprocessor=&lt;cyfunction identity at 0x2aeb65597e00&gt;,\n",
       "                                 tokenizer=&lt;function tokenize at 0x2aeb65a323b0&gt;)),\n",
       "                (&#x27;tfidftransformer&#x27;, TfidfTransformer()), (&#x27;svc&#x27;, SVC(C=10))])</pre></div></div></div><div class=\"sk-serial\"><div class=\"sk-item\"><div class=\"sk-estimator sk-toggleable\"><input class=\"sk-toggleable__control sk-hidden--visually\" id=\"sk-estimator-id-29\" type=\"checkbox\" ><label for=\"sk-estimator-id-29\" class=\"sk-toggleable__label sk-toggleable__label-arrow\">CountVectorizer</label><div class=\"sk-toggleable__content\"><pre>CountVectorizer(max_df=0.886, min_df=3,\n",
       "                preprocessor=&lt;cyfunction identity at 0x2aeb65597e00&gt;,\n",
       "                tokenizer=&lt;function tokenize at 0x2aeb65a323b0&gt;)</pre></div></div></div><div class=\"sk-item\"><div class=\"sk-estimator sk-toggleable\"><input class=\"sk-toggleable__control sk-hidden--visually\" id=\"sk-estimator-id-30\" type=\"checkbox\" ><label for=\"sk-estimator-id-30\" class=\"sk-toggleable__label sk-toggleable__label-arrow\">TfidfTransformer</label><div class=\"sk-toggleable__content\"><pre>TfidfTransformer()</pre></div></div></div><div class=\"sk-item\"><div class=\"sk-estimator sk-toggleable\"><input class=\"sk-toggleable__control sk-hidden--visually\" id=\"sk-estimator-id-31\" type=\"checkbox\" ><label for=\"sk-estimator-id-31\" class=\"sk-toggleable__label sk-toggleable__label-arrow\">SVC</label><div class=\"sk-toggleable__content\"><pre>SVC(C=10)</pre></div></div></div></div></div></div></div>"
      ],
      "text/plain": [
       "Pipeline(steps=[('countvectorizer',\n",
       "                 CountVectorizer(max_df=0.886, min_df=3,\n",
       "                                 preprocessor=<cyfunction identity at 0x2aeb65597e00>,\n",
       "                                 tokenizer=<function tokenize at 0x2aeb65a323b0>)),\n",
       "                ('tfidftransformer', TfidfTransformer()), ('svc', SVC(C=10))])"
      ]
     },
     "execution_count": 71,
     "metadata": {},
     "output_type": "execute_result"
    }
   ],
   "source": [
    "%%time\n",
    "svm_all = make_pipeline(\n",
    "    CountVectorizer(preprocessor=identity, tokenizer=tokenize, min_df=3, max_df=0.886),\n",
    "    TfidfTransformer(),\n",
    "    SVC(kernel=\"rbf\", C=10),\n",
    ")\n",
    "svm_all.fit(train[\"text\"], train[\"pol\"])"
   ]
  },
  {
   "cell_type": "code",
   "execution_count": 72,
   "id": "12bad797-5345-4bb2-9412-fce82afea676",
   "metadata": {},
   "outputs": [
    {
     "name": "stderr",
     "output_type": "stream",
     "text": [
      "/opt/conda/lib/python3.10/site-packages/sklearn/feature_extraction/text.py:528: UserWarning: The parameter 'token_pattern' will not be used since 'tokenizer' is not None'\n",
      "  warnings.warn(\n"
     ]
    },
    {
     "name": "stdout",
     "output_type": "stream",
     "text": [
      "CPU times: user 6.5 s, sys: 3.7 ms, total: 6.5 s\n",
      "Wall time: 6.5 s\n"
     ]
    },
    {
     "data": {
      "text/html": [
       "<style>#sk-container-id-10 {color: black;background-color: white;}#sk-container-id-10 pre{padding: 0;}#sk-container-id-10 div.sk-toggleable {background-color: white;}#sk-container-id-10 label.sk-toggleable__label {cursor: pointer;display: block;width: 100%;margin-bottom: 0;padding: 0.3em;box-sizing: border-box;text-align: center;}#sk-container-id-10 label.sk-toggleable__label-arrow:before {content: \"▸\";float: left;margin-right: 0.25em;color: #696969;}#sk-container-id-10 label.sk-toggleable__label-arrow:hover:before {color: black;}#sk-container-id-10 div.sk-estimator:hover label.sk-toggleable__label-arrow:before {color: black;}#sk-container-id-10 div.sk-toggleable__content {max-height: 0;max-width: 0;overflow: hidden;text-align: left;background-color: #f0f8ff;}#sk-container-id-10 div.sk-toggleable__content pre {margin: 0.2em;color: black;border-radius: 0.25em;background-color: #f0f8ff;}#sk-container-id-10 input.sk-toggleable__control:checked~div.sk-toggleable__content {max-height: 200px;max-width: 100%;overflow: auto;}#sk-container-id-10 input.sk-toggleable__control:checked~label.sk-toggleable__label-arrow:before {content: \"▾\";}#sk-container-id-10 div.sk-estimator input.sk-toggleable__control:checked~label.sk-toggleable__label {background-color: #d4ebff;}#sk-container-id-10 div.sk-label input.sk-toggleable__control:checked~label.sk-toggleable__label {background-color: #d4ebff;}#sk-container-id-10 input.sk-hidden--visually {border: 0;clip: rect(1px 1px 1px 1px);clip: rect(1px, 1px, 1px, 1px);height: 1px;margin: -1px;overflow: hidden;padding: 0;position: absolute;width: 1px;}#sk-container-id-10 div.sk-estimator {font-family: monospace;background-color: #f0f8ff;border: 1px dotted black;border-radius: 0.25em;box-sizing: border-box;margin-bottom: 0.5em;}#sk-container-id-10 div.sk-estimator:hover {background-color: #d4ebff;}#sk-container-id-10 div.sk-parallel-item::after {content: \"\";width: 100%;border-bottom: 1px solid gray;flex-grow: 1;}#sk-container-id-10 div.sk-label:hover label.sk-toggleable__label {background-color: #d4ebff;}#sk-container-id-10 div.sk-serial::before {content: \"\";position: absolute;border-left: 1px solid gray;box-sizing: border-box;top: 0;bottom: 0;left: 50%;z-index: 0;}#sk-container-id-10 div.sk-serial {display: flex;flex-direction: column;align-items: center;background-color: white;padding-right: 0.2em;padding-left: 0.2em;position: relative;}#sk-container-id-10 div.sk-item {position: relative;z-index: 1;}#sk-container-id-10 div.sk-parallel {display: flex;align-items: stretch;justify-content: center;background-color: white;position: relative;}#sk-container-id-10 div.sk-item::before, #sk-container-id-10 div.sk-parallel-item::before {content: \"\";position: absolute;border-left: 1px solid gray;box-sizing: border-box;top: 0;bottom: 0;left: 50%;z-index: -1;}#sk-container-id-10 div.sk-parallel-item {display: flex;flex-direction: column;z-index: 1;position: relative;background-color: white;}#sk-container-id-10 div.sk-parallel-item:first-child::after {align-self: flex-end;width: 50%;}#sk-container-id-10 div.sk-parallel-item:last-child::after {align-self: flex-start;width: 50%;}#sk-container-id-10 div.sk-parallel-item:only-child::after {width: 0;}#sk-container-id-10 div.sk-dashed-wrapped {border: 1px dashed gray;margin: 0 0.4em 0.5em 0.4em;box-sizing: border-box;padding-bottom: 0.4em;background-color: white;}#sk-container-id-10 div.sk-label label {font-family: monospace;font-weight: bold;display: inline-block;line-height: 1.2em;}#sk-container-id-10 div.sk-label-container {text-align: center;}#sk-container-id-10 div.sk-container {/* jupyter's `normalize.less` sets `[hidden] { display: none; }` but bootstrap.min.css set `[hidden] { display: none !important; }` so we also need the `!important` here to be able to override the default hidden behavior on the sphinx rendered scikit-learn.org. See: https://github.com/scikit-learn/scikit-learn/issues/21755 */display: inline-block !important;position: relative;}#sk-container-id-10 div.sk-text-repr-fallback {display: none;}</style><div id=\"sk-container-id-10\" class=\"sk-top-container\"><div class=\"sk-text-repr-fallback\"><pre>Pipeline(steps=[(&#x27;countvectorizer&#x27;,\n",
       "                 CountVectorizer(max_df=0.779,\n",
       "                                 preprocessor=&lt;cyfunction identity at 0x2aeb65597e00&gt;,\n",
       "                                 tokenizer=&lt;function tokenize at 0x2aeb65a323b0&gt;)),\n",
       "                (&#x27;tfidftransformer&#x27;, TfidfTransformer()),\n",
       "                (&#x27;multinomialnb&#x27;, MultinomialNB(alpha=1e-06))])</pre><b>In a Jupyter environment, please rerun this cell to show the HTML representation or trust the notebook. <br />On GitHub, the HTML representation is unable to render, please try loading this page with nbviewer.org.</b></div><div class=\"sk-container\" hidden><div class=\"sk-item sk-dashed-wrapped\"><div class=\"sk-label-container\"><div class=\"sk-label sk-toggleable\"><input class=\"sk-toggleable__control sk-hidden--visually\" id=\"sk-estimator-id-32\" type=\"checkbox\" ><label for=\"sk-estimator-id-32\" class=\"sk-toggleable__label sk-toggleable__label-arrow\">Pipeline</label><div class=\"sk-toggleable__content\"><pre>Pipeline(steps=[(&#x27;countvectorizer&#x27;,\n",
       "                 CountVectorizer(max_df=0.779,\n",
       "                                 preprocessor=&lt;cyfunction identity at 0x2aeb65597e00&gt;,\n",
       "                                 tokenizer=&lt;function tokenize at 0x2aeb65a323b0&gt;)),\n",
       "                (&#x27;tfidftransformer&#x27;, TfidfTransformer()),\n",
       "                (&#x27;multinomialnb&#x27;, MultinomialNB(alpha=1e-06))])</pre></div></div></div><div class=\"sk-serial\"><div class=\"sk-item\"><div class=\"sk-estimator sk-toggleable\"><input class=\"sk-toggleable__control sk-hidden--visually\" id=\"sk-estimator-id-33\" type=\"checkbox\" ><label for=\"sk-estimator-id-33\" class=\"sk-toggleable__label sk-toggleable__label-arrow\">CountVectorizer</label><div class=\"sk-toggleable__content\"><pre>CountVectorizer(max_df=0.779,\n",
       "                preprocessor=&lt;cyfunction identity at 0x2aeb65597e00&gt;,\n",
       "                tokenizer=&lt;function tokenize at 0x2aeb65a323b0&gt;)</pre></div></div></div><div class=\"sk-item\"><div class=\"sk-estimator sk-toggleable\"><input class=\"sk-toggleable__control sk-hidden--visually\" id=\"sk-estimator-id-34\" type=\"checkbox\" ><label for=\"sk-estimator-id-34\" class=\"sk-toggleable__label sk-toggleable__label-arrow\">TfidfTransformer</label><div class=\"sk-toggleable__content\"><pre>TfidfTransformer()</pre></div></div></div><div class=\"sk-item\"><div class=\"sk-estimator sk-toggleable\"><input class=\"sk-toggleable__control sk-hidden--visually\" id=\"sk-estimator-id-35\" type=\"checkbox\" ><label for=\"sk-estimator-id-35\" class=\"sk-toggleable__label sk-toggleable__label-arrow\">MultinomialNB</label><div class=\"sk-toggleable__content\"><pre>MultinomialNB(alpha=1e-06)</pre></div></div></div></div></div></div></div>"
      ],
      "text/plain": [
       "Pipeline(steps=[('countvectorizer',\n",
       "                 CountVectorizer(max_df=0.779,\n",
       "                                 preprocessor=<cyfunction identity at 0x2aeb65597e00>,\n",
       "                                 tokenizer=<function tokenize at 0x2aeb65a323b0>)),\n",
       "                ('tfidftransformer', TfidfTransformer()),\n",
       "                ('multinomialnb', MultinomialNB(alpha=1e-06))])"
      ]
     },
     "execution_count": 72,
     "metadata": {},
     "output_type": "execute_result"
    }
   ],
   "source": [
    "%%time\n",
    "mnb_all = make_pipeline(\n",
    "    CountVectorizer(preprocessor=identity, min_df=1, max_df=0.779,tokenizer=tokenize),\n",
    "    TfidfTransformer(),\n",
    "    MultinomialNB(alpha=1e-6),\n",
    ")\n",
    "mnb_all.fit(train[\"text\"], train[\"pol\"])"
   ]
  },
  {
   "cell_type": "code",
   "execution_count": 13,
   "id": "finished-occupation",
   "metadata": {
    "tags": []
   },
   "outputs": [],
   "source": [
    "import cloudpickle"
   ]
  },
  {
   "cell_type": "code",
   "execution_count": 74,
   "id": "valuable-wallet",
   "metadata": {
    "tags": []
   },
   "outputs": [],
   "source": [
    "cloudpickle.dump(sgd_all, open(\"sgd.model\", \"wb\"))\n",
    "cloudpickle.dump(svm_all, open(\"svm.model\", \"wb\"))\n",
    "cloudpickle.dump(mnb_all, open(\"mnb.model\", \"wb\"))"
   ]
  },
  {
   "cell_type": "markdown",
   "id": "0e7f61e5-151a-4ec7-91c5-74a01ad2f38f",
   "metadata": {},
   "source": [
    "It was quick to train and tune the SGD model, and SVM took a lot of time. But once the model has been finally tuned and saved, it can be used easily to do predictions, let's compare the errors after we save the models."
   ]
  },
  {
   "cell_type": "code",
   "execution_count": null,
   "id": "65df3098-891f-4472-a7d0-859f0b80dba9",
   "metadata": {},
   "outputs": [],
   "source": []
  }
 ],
 "metadata": {
  "kernelspec": {
   "display_name": "Python 3 (ipykernel)",
   "language": "python",
   "name": "python3"
  },
  "language_info": {
   "codemirror_mode": {
    "name": "ipython",
    "version": 3
   },
   "file_extension": ".py",
   "mimetype": "text/x-python",
   "name": "python",
   "nbconvert_exporter": "python",
   "pygments_lexer": "ipython3",
   "version": "3.10.8"
  }
 },
 "nbformat": 4,
 "nbformat_minor": 5
}
