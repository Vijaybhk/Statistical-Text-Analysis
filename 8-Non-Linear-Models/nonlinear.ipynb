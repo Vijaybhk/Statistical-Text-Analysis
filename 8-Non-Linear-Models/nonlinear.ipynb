{
 "cells": [
  {
   "cell_type": "markdown",
   "id": "fuzzy-layer",
   "metadata": {},
   "source": [
    "# LAB 8: Non-linear models\n",
    "\n",
    "Objectives:\n",
    "- Compare \n",
    "   - simple linear models\n",
    "   - multilayer perceptrons -\n",
    "   - linear models with pre-trained word vectors\n",
    "- Relative performance with differing quantities of training data\n",
    "    - Speed\n",
    "    - Accuracy"
   ]
  },
  {
   "cell_type": "code",
   "execution_count": 1,
   "id": "selected-booth",
   "metadata": {
    "tags": []
   },
   "outputs": [],
   "source": [
    "import matplotlib.pyplot as plt\n",
    "import numpy as np\n",
    "import pandas as pd\n",
    "from cytoolz import *\n",
    "from tqdm.auto import tqdm\n",
    "\n",
    "tqdm.pandas()"
   ]
  },
  {
   "cell_type": "markdown",
   "id": "straight-delight",
   "metadata": {},
   "source": [
    "---\n",
    "\n",
    "## Load data"
   ]
  },
  {
   "cell_type": "code",
   "execution_count": 2,
   "id": "eb1ffc60-db87-4086-8896-dbdf57c98821",
   "metadata": {
    "tags": []
   },
   "outputs": [],
   "source": [
    "from sklearn.utils import resample"
   ]
  },
  {
   "cell_type": "code",
   "execution_count": 3,
   "id": "4c8ed572-a7b3-4d20-b32c-8b2b6fedcc77",
   "metadata": {
    "tags": []
   },
   "outputs": [],
   "source": [
    "all_train = pd.read_csv(\"/data/ag_news_csv/train.csv\", header=None)\n",
    "all_test = pd.read_csv(\"/data/ag_news_csv/test.csv\", header=None)"
   ]
  },
  {
   "cell_type": "code",
   "execution_count": 4,
   "id": "325d6652-7a62-4da2-bda6-336139bf2800",
   "metadata": {},
   "outputs": [
    {
     "data": {
      "text/html": [
       "<div>\n",
       "<style scoped>\n",
       "    .dataframe tbody tr th:only-of-type {\n",
       "        vertical-align: middle;\n",
       "    }\n",
       "\n",
       "    .dataframe tbody tr th {\n",
       "        vertical-align: top;\n",
       "    }\n",
       "\n",
       "    .dataframe thead th {\n",
       "        text-align: right;\n",
       "    }\n",
       "</style>\n",
       "<table border=\"1\" class=\"dataframe\">\n",
       "  <thead>\n",
       "    <tr style=\"text-align: right;\">\n",
       "      <th></th>\n",
       "      <th>0</th>\n",
       "      <th>1</th>\n",
       "      <th>2</th>\n",
       "    </tr>\n",
       "  </thead>\n",
       "  <tbody>\n",
       "    <tr>\n",
       "      <th>0</th>\n",
       "      <td>3</td>\n",
       "      <td>Wall St. Bears Claw Back Into the Black (Reuters)</td>\n",
       "      <td>Reuters - Short-sellers, Wall Street's dwindli...</td>\n",
       "    </tr>\n",
       "    <tr>\n",
       "      <th>1</th>\n",
       "      <td>3</td>\n",
       "      <td>Carlyle Looks Toward Commercial Aerospace (Reu...</td>\n",
       "      <td>Reuters - Private investment firm Carlyle Grou...</td>\n",
       "    </tr>\n",
       "    <tr>\n",
       "      <th>2</th>\n",
       "      <td>3</td>\n",
       "      <td>Oil and Economy Cloud Stocks' Outlook (Reuters)</td>\n",
       "      <td>Reuters - Soaring crude prices plus worries\\ab...</td>\n",
       "    </tr>\n",
       "    <tr>\n",
       "      <th>3</th>\n",
       "      <td>3</td>\n",
       "      <td>Iraq Halts Oil Exports from Main Southern Pipe...</td>\n",
       "      <td>Reuters - Authorities have halted oil export\\f...</td>\n",
       "    </tr>\n",
       "    <tr>\n",
       "      <th>4</th>\n",
       "      <td>3</td>\n",
       "      <td>Oil prices soar to all-time record, posing new...</td>\n",
       "      <td>AFP - Tearaway world oil prices, toppling reco...</td>\n",
       "    </tr>\n",
       "  </tbody>\n",
       "</table>\n",
       "</div>"
      ],
      "text/plain": [
       "   0                                                  1  \\\n",
       "0  3  Wall St. Bears Claw Back Into the Black (Reuters)   \n",
       "1  3  Carlyle Looks Toward Commercial Aerospace (Reu...   \n",
       "2  3    Oil and Economy Cloud Stocks' Outlook (Reuters)   \n",
       "3  3  Iraq Halts Oil Exports from Main Southern Pipe...   \n",
       "4  3  Oil prices soar to all-time record, posing new...   \n",
       "\n",
       "                                                   2  \n",
       "0  Reuters - Short-sellers, Wall Street's dwindli...  \n",
       "1  Reuters - Private investment firm Carlyle Grou...  \n",
       "2  Reuters - Soaring crude prices plus worries\\ab...  \n",
       "3  Reuters - Authorities have halted oil export\\f...  \n",
       "4  AFP - Tearaway world oil prices, toppling reco...  "
      ]
     },
     "execution_count": 4,
     "metadata": {},
     "output_type": "execute_result"
    }
   ],
   "source": [
    "all_train.head()"
   ]
  },
  {
   "cell_type": "markdown",
   "id": "8c7a9474-7d26-4b17-83b4-af67a4f11b11",
   "metadata": {},
   "source": [
    "Replace category numbers with category names"
   ]
  },
  {
   "cell_type": "code",
   "execution_count": 5,
   "id": "3262bdb9-e26b-4dce-84aa-a847ff51910b",
   "metadata": {
    "tags": []
   },
   "outputs": [],
   "source": [
    "cats = [c.strip() for c in open(\"/data/ag_news_csv/classes.txt\")]\n",
    "all_train[\"cat\"] = all_train[0].apply(lambda c: cats[c - 1])\n",
    "all_test[\"cat\"] = all_test[0].apply(lambda c: cats[c - 1])"
   ]
  },
  {
   "cell_type": "code",
   "execution_count": 6,
   "id": "78aad6f8-6e76-45b4-814d-3c9c63639838",
   "metadata": {},
   "outputs": [
    {
     "data": {
      "text/plain": [
       "['World', 'Sports', 'Business', 'Sci/Tech']"
      ]
     },
     "execution_count": 6,
     "metadata": {},
     "output_type": "execute_result"
    }
   ],
   "source": [
    "cats"
   ]
  },
  {
   "cell_type": "code",
   "execution_count": 7,
   "id": "f8af0ce8-1d40-4d4c-8593-528a9c88f9e0",
   "metadata": {},
   "outputs": [
    {
     "data": {
      "text/html": [
       "<div>\n",
       "<style scoped>\n",
       "    .dataframe tbody tr th:only-of-type {\n",
       "        vertical-align: middle;\n",
       "    }\n",
       "\n",
       "    .dataframe tbody tr th {\n",
       "        vertical-align: top;\n",
       "    }\n",
       "\n",
       "    .dataframe thead th {\n",
       "        text-align: right;\n",
       "    }\n",
       "</style>\n",
       "<table border=\"1\" class=\"dataframe\">\n",
       "  <thead>\n",
       "    <tr style=\"text-align: right;\">\n",
       "      <th></th>\n",
       "      <th>0</th>\n",
       "      <th>1</th>\n",
       "      <th>2</th>\n",
       "      <th>cat</th>\n",
       "    </tr>\n",
       "  </thead>\n",
       "  <tbody>\n",
       "    <tr>\n",
       "      <th>0</th>\n",
       "      <td>3</td>\n",
       "      <td>Wall St. Bears Claw Back Into the Black (Reuters)</td>\n",
       "      <td>Reuters - Short-sellers, Wall Street's dwindli...</td>\n",
       "      <td>Business</td>\n",
       "    </tr>\n",
       "    <tr>\n",
       "      <th>1</th>\n",
       "      <td>3</td>\n",
       "      <td>Carlyle Looks Toward Commercial Aerospace (Reu...</td>\n",
       "      <td>Reuters - Private investment firm Carlyle Grou...</td>\n",
       "      <td>Business</td>\n",
       "    </tr>\n",
       "    <tr>\n",
       "      <th>2</th>\n",
       "      <td>3</td>\n",
       "      <td>Oil and Economy Cloud Stocks' Outlook (Reuters)</td>\n",
       "      <td>Reuters - Soaring crude prices plus worries\\ab...</td>\n",
       "      <td>Business</td>\n",
       "    </tr>\n",
       "    <tr>\n",
       "      <th>3</th>\n",
       "      <td>3</td>\n",
       "      <td>Iraq Halts Oil Exports from Main Southern Pipe...</td>\n",
       "      <td>Reuters - Authorities have halted oil export\\f...</td>\n",
       "      <td>Business</td>\n",
       "    </tr>\n",
       "    <tr>\n",
       "      <th>4</th>\n",
       "      <td>3</td>\n",
       "      <td>Oil prices soar to all-time record, posing new...</td>\n",
       "      <td>AFP - Tearaway world oil prices, toppling reco...</td>\n",
       "      <td>Business</td>\n",
       "    </tr>\n",
       "  </tbody>\n",
       "</table>\n",
       "</div>"
      ],
      "text/plain": [
       "   0                                                  1  \\\n",
       "0  3  Wall St. Bears Claw Back Into the Black (Reuters)   \n",
       "1  3  Carlyle Looks Toward Commercial Aerospace (Reu...   \n",
       "2  3    Oil and Economy Cloud Stocks' Outlook (Reuters)   \n",
       "3  3  Iraq Halts Oil Exports from Main Southern Pipe...   \n",
       "4  3  Oil prices soar to all-time record, posing new...   \n",
       "\n",
       "                                                   2       cat  \n",
       "0  Reuters - Short-sellers, Wall Street's dwindli...  Business  \n",
       "1  Reuters - Private investment firm Carlyle Grou...  Business  \n",
       "2  Reuters - Soaring crude prices plus worries\\ab...  Business  \n",
       "3  Reuters - Authorities have halted oil export\\f...  Business  \n",
       "4  AFP - Tearaway world oil prices, toppling reco...  Business  "
      ]
     },
     "execution_count": 7,
     "metadata": {},
     "output_type": "execute_result"
    }
   ],
   "source": [
    "all_train.head()"
   ]
  },
  {
   "cell_type": "markdown",
   "id": "76c32110-73be-4402-b288-3de1722fdd4b",
   "metadata": {},
   "source": [
    "Combine headline and summary into one text"
   ]
  },
  {
   "cell_type": "code",
   "execution_count": 8,
   "id": "43cdd6a3-f18a-4df0-abea-1c73a7b513de",
   "metadata": {
    "tags": []
   },
   "outputs": [],
   "source": [
    "all_train[\"text\"] = all_train[1] + \" \" + all_train[2]\n",
    "all_test[\"text\"] = all_test[1] + \" \" + all_test[2]"
   ]
  },
  {
   "cell_type": "code",
   "execution_count": 9,
   "id": "177597cd-dd5e-4701-a885-c6c724c6d4ef",
   "metadata": {},
   "outputs": [],
   "source": [
    "all_train = all_train[[\"text\", \"cat\"]]\n",
    "all_test = all_test[[\"text\", \"cat\"]]"
   ]
  },
  {
   "cell_type": "code",
   "execution_count": 68,
   "id": "764c6626-e38a-4325-9a8a-855c6883d93d",
   "metadata": {},
   "outputs": [],
   "source": [
    "df_list = []"
   ]
  },
  {
   "cell_type": "code",
   "execution_count": 10,
   "id": "baaaf30b-53a6-4147-9f19-a50944df0257",
   "metadata": {},
   "outputs": [
    {
     "data": {
      "text/html": [
       "<div>\n",
       "<style scoped>\n",
       "    .dataframe tbody tr th:only-of-type {\n",
       "        vertical-align: middle;\n",
       "    }\n",
       "\n",
       "    .dataframe tbody tr th {\n",
       "        vertical-align: top;\n",
       "    }\n",
       "\n",
       "    .dataframe thead th {\n",
       "        text-align: right;\n",
       "    }\n",
       "</style>\n",
       "<table border=\"1\" class=\"dataframe\">\n",
       "  <thead>\n",
       "    <tr style=\"text-align: right;\">\n",
       "      <th></th>\n",
       "      <th>text</th>\n",
       "      <th>cat</th>\n",
       "    </tr>\n",
       "  </thead>\n",
       "  <tbody>\n",
       "    <tr>\n",
       "      <th>0</th>\n",
       "      <td>Wall St. Bears Claw Back Into the Black (Reute...</td>\n",
       "      <td>Business</td>\n",
       "    </tr>\n",
       "    <tr>\n",
       "      <th>1</th>\n",
       "      <td>Carlyle Looks Toward Commercial Aerospace (Reu...</td>\n",
       "      <td>Business</td>\n",
       "    </tr>\n",
       "    <tr>\n",
       "      <th>2</th>\n",
       "      <td>Oil and Economy Cloud Stocks' Outlook (Reuters...</td>\n",
       "      <td>Business</td>\n",
       "    </tr>\n",
       "    <tr>\n",
       "      <th>3</th>\n",
       "      <td>Iraq Halts Oil Exports from Main Southern Pipe...</td>\n",
       "      <td>Business</td>\n",
       "    </tr>\n",
       "    <tr>\n",
       "      <th>4</th>\n",
       "      <td>Oil prices soar to all-time record, posing new...</td>\n",
       "      <td>Business</td>\n",
       "    </tr>\n",
       "  </tbody>\n",
       "</table>\n",
       "</div>"
      ],
      "text/plain": [
       "                                                text       cat\n",
       "0  Wall St. Bears Claw Back Into the Black (Reute...  Business\n",
       "1  Carlyle Looks Toward Commercial Aerospace (Reu...  Business\n",
       "2  Oil and Economy Cloud Stocks' Outlook (Reuters...  Business\n",
       "3  Iraq Halts Oil Exports from Main Southern Pipe...  Business\n",
       "4  Oil prices soar to all-time record, posing new...  Business"
      ]
     },
     "execution_count": 10,
     "metadata": {},
     "output_type": "execute_result"
    }
   ],
   "source": [
    "all_train.head()"
   ]
  },
  {
   "cell_type": "code",
   "execution_count": 11,
   "id": "5509c7c5-19f0-4717-856a-3d71d13c1c40",
   "metadata": {},
   "outputs": [
    {
     "data": {
      "text/plain": [
       "120000"
      ]
     },
     "execution_count": 11,
     "metadata": {},
     "output_type": "execute_result"
    }
   ],
   "source": [
    "len(all_train)"
   ]
  },
  {
   "cell_type": "code",
   "execution_count": 12,
   "id": "2ef3f8a1-5a97-4711-b06c-5678f7248c43",
   "metadata": {},
   "outputs": [
    {
     "data": {
      "text/plain": [
       "7600"
      ]
     },
     "execution_count": 12,
     "metadata": {},
     "output_type": "execute_result"
    }
   ],
   "source": [
    "len(all_test)"
   ]
  },
  {
   "cell_type": "markdown",
   "id": "f3e04036-6f2c-4183-af36-971802848449",
   "metadata": {},
   "source": [
    "Thin data to simulate a \"very low train data\" context. We'll keep the number of test examples at 1,000 but vary the number of training examples."
   ]
  },
  {
   "cell_type": "code",
   "execution_count": 130,
   "id": "7ac0f95e-4979-4309-9d84-db1978f7ef8e",
   "metadata": {
    "tags": []
   },
   "outputs": [],
   "source": [
    "n_train = 5000\n",
    "n_test = 1000\n",
    "\n",
    "train = resample(\n",
    "    all_train,\n",
    "    replace=False,\n",
    "    n_samples=n_train,\n",
    "    stratify=all_train[\"cat\"],\n",
    "    random_state=99,\n",
    ")\n",
    "test = resample(\n",
    "    all_test, replace=False, n_samples=n_test, stratify=all_test[\"cat\"], random_state=57\n",
    ")"
   ]
  },
  {
   "cell_type": "markdown",
   "id": "d9c27fad-8b79-4eb7-9749-0bdf6cfc57c3",
   "metadata": {},
   "source": [
    "---\n",
    "\n",
    "## Random baseline"
   ]
  },
  {
   "cell_type": "code",
   "execution_count": 109,
   "id": "0e81836f-627a-4def-9a16-7d4733af7459",
   "metadata": {},
   "outputs": [],
   "source": [
    "from sklearn.dummy import DummyClassifier\n",
    "from sklearn.metrics import classification_report, f1_score, accuracy_score"
   ]
  },
  {
   "cell_type": "code",
   "execution_count": 110,
   "id": "e6b582cc-7499-4b8b-9c2b-b7900528a022",
   "metadata": {},
   "outputs": [
    {
     "name": "stdout",
     "output_type": "stream",
     "text": [
      "              precision    recall  f1-score   support\n",
      "\n",
      "    Business       0.25      1.00      0.40       250\n",
      "    Sci/Tech       0.00      0.00      0.00       250\n",
      "      Sports       0.00      0.00      0.00       250\n",
      "       World       0.00      0.00      0.00       250\n",
      "\n",
      "    accuracy                           0.25      1000\n",
      "   macro avg       0.06      0.25      0.10      1000\n",
      "weighted avg       0.06      0.25      0.10      1000\n",
      "\n"
     ]
    },
    {
     "name": "stderr",
     "output_type": "stream",
     "text": [
      "/opt/conda/lib/python3.10/site-packages/sklearn/metrics/_classification.py:1344: UndefinedMetricWarning: Precision and F-score are ill-defined and being set to 0.0 in labels with no predicted samples. Use `zero_division` parameter to control this behavior.\n",
      "  _warn_prf(average, modifier, msg_start, len(result))\n",
      "/opt/conda/lib/python3.10/site-packages/sklearn/metrics/_classification.py:1344: UndefinedMetricWarning: Precision and F-score are ill-defined and being set to 0.0 in labels with no predicted samples. Use `zero_division` parameter to control this behavior.\n",
      "  _warn_prf(average, modifier, msg_start, len(result))\n",
      "/opt/conda/lib/python3.10/site-packages/sklearn/metrics/_classification.py:1344: UndefinedMetricWarning: Precision and F-score are ill-defined and being set to 0.0 in labels with no predicted samples. Use `zero_division` parameter to control this behavior.\n",
      "  _warn_prf(average, modifier, msg_start, len(result))\n"
     ]
    }
   ],
   "source": [
    "dummy = DummyClassifier()\n",
    "dummy.fit(train[\"text\"], train[\"cat\"])\n",
    "print(classification_report(test[\"cat\"], dummy.predict(test[\"text\"])))"
   ]
  },
  {
   "cell_type": "markdown",
   "id": "f38ce943-6b1c-4629-a547-ab008c050878",
   "metadata": {},
   "source": [
    "---\n",
    "\n",
    "## Linear classifier"
   ]
  },
  {
   "cell_type": "code",
   "execution_count": 111,
   "id": "sufficient-optimum",
   "metadata": {
    "tags": []
   },
   "outputs": [],
   "source": [
    "from scipy.stats.distributions import loguniform, randint, uniform\n",
    "from sklearn.feature_extraction.text import CountVectorizer\n",
    "from sklearn.linear_model import SGDClassifier\n",
    "from sklearn.model_selection import RandomizedSearchCV\n",
    "from sklearn.pipeline import make_pipeline"
   ]
  },
  {
   "cell_type": "code",
   "execution_count": 112,
   "id": "little-report",
   "metadata": {
    "tags": []
   },
   "outputs": [],
   "source": [
    "import spacy\n",
    "\n",
    "nlp = spacy.load(\n",
    "    \"en_core_web_sm\",\n",
    "    exclude=[\"tagger\", \"parser\", \"ner\", \"lemmatizer\", \"attribute_ruler\"],\n",
    ")\n",
    "\n",
    "\n",
    "def tokenize(text):\n",
    "    doc = nlp.tokenizer(text)\n",
    "    return [t.norm_ for t in doc if not (t.is_space or t.is_punct or t.like_num)]"
   ]
  },
  {
   "cell_type": "code",
   "execution_count": 131,
   "id": "executed-football",
   "metadata": {
    "tags": []
   },
   "outputs": [
    {
     "data": {
      "application/vnd.jupyter.widget-view+json": {
       "model_id": "36851f661de441edb65c490fa767ba32",
       "version_major": 2,
       "version_minor": 0
      },
      "text/plain": [
       "  0%|          | 0/5000 [00:00<?, ?it/s]"
      ]
     },
     "metadata": {},
     "output_type": "display_data"
    },
    {
     "data": {
      "application/vnd.jupyter.widget-view+json": {
       "model_id": "b3d69ce723994a83b78c2dd7fbb3e84d",
       "version_major": 2,
       "version_minor": 0
      },
      "text/plain": [
       "  0%|          | 0/1000 [00:00<?, ?it/s]"
      ]
     },
     "metadata": {},
     "output_type": "display_data"
    }
   ],
   "source": [
    "train[\"tokens\"] = train[\"text\"].progress_apply(tokenize)\n",
    "test[\"tokens\"] = test[\"text\"].progress_apply(tokenize)"
   ]
  },
  {
   "cell_type": "code",
   "execution_count": 132,
   "id": "unexpected-chest",
   "metadata": {
    "tags": []
   },
   "outputs": [
    {
     "name": "stdout",
     "output_type": "stream",
     "text": [
      "              precision    recall  f1-score   support\n",
      "\n",
      "    Business       0.90      0.76      0.82       250\n",
      "    Sci/Tech       0.82      0.87      0.84       250\n",
      "      Sports       0.90      0.96      0.93       250\n",
      "       World       0.85      0.87      0.86       250\n",
      "\n",
      "    accuracy                           0.86      1000\n",
      "   macro avg       0.87      0.86      0.86      1000\n",
      "weighted avg       0.87      0.86      0.86      1000\n",
      "\n",
      "CPU times: user 215 ms, sys: 38.8 ms, total: 254 ms\n",
      "Wall time: 188 ms\n"
     ]
    }
   ],
   "source": [
    "%%time\n",
    "sgd = make_pipeline(CountVectorizer(analyzer=identity), SGDClassifier(random_state=321))\n",
    "sgd.fit(train[\"tokens\"], train[\"cat\"])\n",
    "print(classification_report(test[\"cat\"], sgd.predict(test[\"tokens\"])))"
   ]
  },
  {
   "cell_type": "markdown",
   "id": "83959396-0644-4abf-941d-138fb920a521",
   "metadata": {},
   "source": [
    "Hyperparameter search"
   ]
  },
  {
   "cell_type": "code",
   "execution_count": 133,
   "id": "c06186c3-b0bb-45a6-97a9-483ce1b28011",
   "metadata": {
    "tags": []
   },
   "outputs": [
    {
     "name": "stdout",
     "output_type": "stream",
     "text": [
      "CPU times: user 4.24 s, sys: 43.1 ms, total: 4.28 s\n",
      "Wall time: 8.97 s\n"
     ]
    },
    {
     "data": {
      "text/plain": [
       "(0.8669789719479697,\n",
       " {'sgdclassifier__alpha': 0.008838876434219614,\n",
       "  'sgdclassifier__average': False})"
      ]
     },
     "execution_count": 133,
     "metadata": {},
     "output_type": "execute_result"
    }
   ],
   "source": [
    "%%time\n",
    "search = RandomizedSearchCV(\n",
    "    sgd,\n",
    "    {\n",
    "        \"sgdclassifier__average\": [True, False],\n",
    "        \"sgdclassifier__alpha\": loguniform(1e-8, 1.0),\n",
    "    },\n",
    "    n_iter=20,\n",
    "    n_jobs=-1,\n",
    "    scoring=\"f1_weighted\",\n",
    ")\n",
    "\n",
    "search.fit(train[\"tokens\"], train[\"cat\"])\n",
    "search.best_score_, search.best_params_"
   ]
  },
  {
   "cell_type": "code",
   "execution_count": 134,
   "id": "b421650e-aa67-418a-bce1-f3f29882c9bb",
   "metadata": {},
   "outputs": [
    {
     "data": {
      "image/png": "[encoded data removed]",
      "text/plain": [
       "<Figure size 640x480 with 1 Axes>"
      ]
     },
     "metadata": {},
     "output_type": "display_data"
    }
   ],
   "source": [
    "cv_results = pd.DataFrame(search.cv_results_)\n",
    "plt.scatter(\n",
    "    cv_results.query(\"param_sgdclassifier__average==True\")[\n",
    "        \"param_sgdclassifier__alpha\"\n",
    "    ],\n",
    "    cv_results.query(\"param_sgdclassifier__average==True\")[\"mean_test_score\"],\n",
    "    label=\"average=True\",\n",
    ")\n",
    "plt.scatter(\n",
    "    cv_results.query(\"param_sgdclassifier__average==False\")[\n",
    "        \"param_sgdclassifier__alpha\"\n",
    "    ],\n",
    "    cv_results.query(\"param_sgdclassifier__average==False\")[\"mean_test_score\"],\n",
    "    label=\"average=False\",\n",
    ")\n",
    "plt.semilogx()\n",
    "plt.title(\"SGDClassifier\")\n",
    "plt.xlabel(\"alpha\")\n",
    "plt.ylabel(\"Weighted f1\")\n",
    "plt.legend()\n",
    "plt.show()"
   ]
  },
  {
   "cell_type": "markdown",
   "id": "f6b9b903-53e6-4ae7-a2f4-14c998080888",
   "metadata": {},
   "source": [
    "Best hyperparameter settings"
   ]
  },
  {
   "cell_type": "code",
   "execution_count": 135,
   "id": "2dcabe60-99af-437b-81ea-1d78c36215a1",
   "metadata": {
    "tags": []
   },
   "outputs": [
    {
     "name": "stdout",
     "output_type": "stream",
     "text": [
      "              precision    recall  f1-score   support\n",
      "\n",
      "    Business       0.89      0.81      0.85       250\n",
      "    Sci/Tech       0.82      0.86      0.84       250\n",
      "      Sports       0.92      0.96      0.94       250\n",
      "       World       0.91      0.91      0.91       250\n",
      "\n",
      "    accuracy                           0.89      1000\n",
      "   macro avg       0.89      0.89      0.89      1000\n",
      "weighted avg       0.89      0.89      0.89      1000\n",
      "\n"
     ]
    }
   ],
   "source": [
    "sgd.set_params(**search.best_params_)\n",
    "sgd.fit(train[\"tokens\"], train[\"cat\"])\n",
    "print(classification_report(test[\"cat\"], sgd.predict(test[\"tokens\"])))"
   ]
  },
  {
   "cell_type": "code",
   "execution_count": 137,
   "id": "5e83502b-9610-49f6-b70c-262850e27a7b",
   "metadata": {},
   "outputs": [
    {
     "data": {
      "text/plain": [
       "(9.158000000000001, 0.886)"
      ]
     },
     "execution_count": 137,
     "metadata": {},
     "output_type": "execute_result"
    }
   ],
   "source": [
    "sgd_accuracy = accuracy_score(test[\"cat\"], sgd.predict(test[\"tokens\"]))\n",
    "sgd_time = 188/1000 + 8.97\n",
    "sgd_time, sgd_accuracy"
   ]
  },
  {
   "cell_type": "markdown",
   "id": "e938a3f5-edcb-4607-8de6-eb6ddbba3aad",
   "metadata": {},
   "source": [
    "---\n",
    "\n",
    "## MLP"
   ]
  },
  {
   "cell_type": "code",
   "execution_count": 138,
   "id": "e85247c2-5523-466c-80db-a4f532247a82",
   "metadata": {
    "tags": []
   },
   "outputs": [],
   "source": [
    "from sklearn.neural_network import MLPClassifier"
   ]
  },
  {
   "cell_type": "markdown",
   "id": "9e97b000-8b79-4dd9-94f3-c3dc00c5bcd6",
   "metadata": {},
   "source": [
    "You could try varying the size of the hidden layer. Also, this will get very expensive as you increase the amount of training data. At some point it might stop being practical!"
   ]
  },
  {
   "cell_type": "code",
   "execution_count": 139,
   "id": "370dbcf5-0900-42e1-983a-00eac7137865",
   "metadata": {
    "tags": []
   },
   "outputs": [
    {
     "name": "stdout",
     "output_type": "stream",
     "text": [
      "              precision    recall  f1-score   support\n",
      "\n",
      "    Business       0.84      0.84      0.84       250\n",
      "    Sci/Tech       0.83      0.82      0.82       250\n",
      "      Sports       0.94      0.96      0.95       250\n",
      "       World       0.89      0.89      0.89       250\n",
      "\n",
      "    accuracy                           0.88      1000\n",
      "   macro avg       0.88      0.88      0.88      1000\n",
      "weighted avg       0.88      0.88      0.88      1000\n",
      "\n",
      "CPU times: user 23 s, sys: 8.8 s, total: 31.8 s\n",
      "Wall time: 15.9 s\n"
     ]
    }
   ],
   "source": [
    "%%time\n",
    "mlp = make_pipeline(\n",
    "    CountVectorizer(analyzer=identity),\n",
    "    MLPClassifier(hidden_layer_sizes=(25,), max_iter=500, random_state=619),\n",
    ")\n",
    "mlp.fit(train[\"tokens\"], train[\"cat\"])\n",
    "print(classification_report(test[\"cat\"], mlp.predict(test[\"tokens\"])))"
   ]
  },
  {
   "cell_type": "markdown",
   "id": "752a81aa-3cb0-45d7-8280-5b8f3ccd51ae",
   "metadata": {},
   "source": [
    "**Hyperparameter search**"
   ]
  },
  {
   "cell_type": "code",
   "execution_count": 146,
   "id": "c293fcb8-5042-4641-95e2-1940f12f3d99",
   "metadata": {
    "tags": []
   },
   "outputs": [
    {
     "name": "stdout",
     "output_type": "stream",
     "text": [
      "CPU times: user 27.9 s, sys: 8.93 s, total: 36.9 s\n",
      "Wall time: 23min 23s\n"
     ]
    },
    {
     "data": {
      "text/plain": [
       "(0.8692285084038909, {'mlpclassifier__alpha': 0.0009261924854586145})"
      ]
     },
     "execution_count": 146,
     "metadata": {},
     "output_type": "execute_result"
    }
   ],
   "source": [
    "%%time\n",
    "search = RandomizedSearchCV(\n",
    "    mlp,\n",
    "    {\n",
    "        \"mlpclassifier__alpha\": loguniform(1e-8, 1.0),\n",
    "    },\n",
    "    n_iter=20,\n",
    "    n_jobs=-1,\n",
    "    scoring=\"f1_weighted\",\n",
    ")\n",
    "\n",
    "search.fit(train[\"tokens\"], train[\"cat\"])\n",
    "search.best_score_, search.best_params_"
   ]
  },
  {
   "cell_type": "code",
   "execution_count": 147,
   "id": "56107f45-7ca8-434b-9c30-b95726553698",
   "metadata": {
    "tags": []
   },
   "outputs": [
    {
     "data": {
      "image/png": "[encoded data removed]",
      "text/plain": [
       "<Figure size 640x480 with 1 Axes>"
      ]
     },
     "metadata": {},
     "output_type": "display_data"
    }
   ],
   "source": [
    "cv_results = pd.DataFrame(search.cv_results_)\n",
    "plt.scatter(cv_results[\"param_mlpclassifier__alpha\"], cv_results[\"mean_test_score\"])\n",
    "plt.semilogx()\n",
    "plt.title(\"MLPClassifier\")\n",
    "plt.xlabel(\"alpha\")\n",
    "plt.ylabel(\"Weighted f1\")\n",
    "plt.show()"
   ]
  },
  {
   "cell_type": "markdown",
   "id": "338ed4b4-1589-48fa-8fba-e65cc6b4dc39",
   "metadata": {},
   "source": [
    "Best hyperparameter search"
   ]
  },
  {
   "cell_type": "code",
   "execution_count": 148,
   "id": "50c9bc47-1f71-4b7b-b1e6-7e3e94d44aff",
   "metadata": {
    "tags": []
   },
   "outputs": [
    {
     "name": "stdout",
     "output_type": "stream",
     "text": [
      "              precision    recall  f1-score   support\n",
      "\n",
      "    Business       0.84      0.84      0.84       250\n",
      "    Sci/Tech       0.83      0.82      0.82       250\n",
      "      Sports       0.94      0.96      0.95       250\n",
      "       World       0.90      0.90      0.90       250\n",
      "\n",
      "    accuracy                           0.88      1000\n",
      "   macro avg       0.88      0.88      0.88      1000\n",
      "weighted avg       0.88      0.88      0.88      1000\n",
      "\n"
     ]
    }
   ],
   "source": [
    "mlp.set_params(**search.best_params_)\n",
    "mlp.fit(train[\"tokens\"], train[\"cat\"])\n",
    "print(classification_report(test[\"cat\"], mlp.predict(test[\"tokens\"])))"
   ]
  },
  {
   "cell_type": "code",
   "execution_count": 149,
   "id": "922bdd1e-3c2c-44dd-a822-70eb60f18df0",
   "metadata": {},
   "outputs": [
    {
     "data": {
      "text/plain": [
       "(1418.9, 0.878)"
      ]
     },
     "execution_count": 149,
     "metadata": {},
     "output_type": "execute_result"
    }
   ],
   "source": [
    "mlp_accuracy = accuracy_score(test[\"cat\"], mlp.predict(test[\"tokens\"]))\n",
    "mlp_time = 15.9 + 23*60 + 23\n",
    "mlp_time, mlp_accuracy"
   ]
  },
  {
   "cell_type": "markdown",
   "id": "692ba5ec-5056-482f-b0a1-d9ad658a6ad6",
   "metadata": {},
   "source": [
    "---\n",
    "\n",
    "## Linear classifier + fasttext vectors"
   ]
  },
  {
   "cell_type": "code",
   "execution_count": 83,
   "id": "2052f70f-4363-4229-bcea-a174c8c9ae75",
   "metadata": {
    "tags": []
   },
   "outputs": [],
   "source": [
    "import fasttext\n",
    "from sklearn.base import BaseEstimator, TransformerMixin"
   ]
  },
  {
   "cell_type": "markdown",
   "id": "f78bbf53-b943-409c-8da5-36997dc2af3b",
   "metadata": {},
   "source": [
    "Loading the word vectors can be slow, so we'll check to see if they're already loaded first"
   ]
  },
  {
   "cell_type": "code",
   "execution_count": 59,
   "id": "c77efbd4-fdd8-44b6-afba-74c1029bbd9f",
   "metadata": {
    "tags": []
   },
   "outputs": [
    {
     "name": "stderr",
     "output_type": "stream",
     "text": [
      "Warning : `load_model` does not return WordVectorModel or SupervisedModel any more, but a `FastText` object which is very similar.\n"
     ]
    }
   ],
   "source": [
    "try:\n",
    "    cc_model\n",
    "except NameError:\n",
    "    cc_model = fasttext.load_model(\"/data/cc.en.100.bin\")"
   ]
  },
  {
   "cell_type": "markdown",
   "id": "17902912-904f-4ed6-a4b7-e1c46b5c9419",
   "metadata": {},
   "source": [
    "Scikit-learn doesn't have support for pre-trained word vectors built in, but it's easy to create a simple vectorizer class."
   ]
  },
  {
   "cell_type": "code",
   "execution_count": 61,
   "id": "1c8e9782-1cc0-451e-af54-606fb31f028e",
   "metadata": {
    "tags": []
   },
   "outputs": [],
   "source": [
    "class FasttextVectorizer(BaseEstimator, TransformerMixin):\n",
    "    def __init__(self):\n",
    "        pass\n",
    "\n",
    "    def fit(self, X, y=None):\n",
    "        return self\n",
    "\n",
    "    def transform(self, X):\n",
    "        return np.vstack([cc_model.get_sentence_vector(x) for x in X])"
   ]
  },
  {
   "cell_type": "code",
   "execution_count": 150,
   "id": "8c1a585e-c57e-470a-962c-52f4960569e0",
   "metadata": {
    "tags": []
   },
   "outputs": [
    {
     "name": "stdout",
     "output_type": "stream",
     "text": [
      "              precision    recall  f1-score   support\n",
      "\n",
      "    Business       0.85      0.81      0.83       250\n",
      "    Sci/Tech       0.83      0.84      0.83       250\n",
      "      Sports       0.94      0.96      0.95       250\n",
      "       World       0.89      0.91      0.90       250\n",
      "\n",
      "    accuracy                           0.88      1000\n",
      "   macro avg       0.88      0.88      0.88      1000\n",
      "weighted avg       0.88      0.88      0.88      1000\n",
      "\n",
      "CPU times: user 380 ms, sys: 30.7 ms, total: 411 ms\n",
      "Wall time: 367 ms\n"
     ]
    }
   ],
   "source": [
    "%%time\n",
    "sgd_vec = make_pipeline(FasttextVectorizer(), SGDClassifier(random_state=1))\n",
    "sgd_vec.fit(train[\"text\"], train[\"cat\"])\n",
    "print(classification_report(test[\"cat\"], sgd_vec.predict(test[\"text\"])))"
   ]
  },
  {
   "cell_type": "markdown",
   "id": "50e5670a-7833-4598-a091-84004ef09ef1",
   "metadata": {},
   "source": [
    "Hyperparameter search"
   ]
  },
  {
   "cell_type": "code",
   "execution_count": 151,
   "id": "1b2e2b3e-5a08-4b1d-a996-7c646e8f2784",
   "metadata": {
    "tags": []
   },
   "outputs": [
    {
     "name": "stdout",
     "output_type": "stream",
     "text": [
      "CPU times: user 14.4 s, sys: 2.41 s, total: 16.8 s\n",
      "Wall time: 12.7 s\n"
     ]
    },
    {
     "data": {
      "text/plain": [
       "(0.8772194301831284,\n",
       " {'sgdclassifier__alpha': 8.834143690982039e-08,\n",
       "  'sgdclassifier__average': True})"
      ]
     },
     "execution_count": 151,
     "metadata": {},
     "output_type": "execute_result"
    }
   ],
   "source": [
    "%%time\n",
    "search = RandomizedSearchCV(\n",
    "    sgd_vec,\n",
    "    {\n",
    "        \"sgdclassifier__average\": [True, False],\n",
    "        \"sgdclassifier__alpha\": loguniform(1e-8, 1.0),\n",
    "    },\n",
    "    n_iter=10,\n",
    "    scoring=\"f1_weighted\",\n",
    ")\n",
    "\n",
    "search.fit(train[\"text\"], train[\"cat\"])\n",
    "search.best_score_, search.best_params_"
   ]
  },
  {
   "cell_type": "code",
   "execution_count": 152,
   "id": "81b6325b-8dda-48f7-97f0-4466328ecfc9",
   "metadata": {
    "tags": []
   },
   "outputs": [
    {
     "data": {
      "image/png": "[encoded data removed]",
      "text/plain": [
       "<Figure size 640x480 with 1 Axes>"
      ]
     },
     "metadata": {},
     "output_type": "display_data"
    }
   ],
   "source": [
    "cv_results = pd.DataFrame(search.cv_results_)\n",
    "plt.scatter(\n",
    "    cv_results.query(\"param_sgdclassifier__average==True\")[\n",
    "        \"param_sgdclassifier__alpha\"\n",
    "    ],\n",
    "    cv_results.query(\"param_sgdclassifier__average==True\")[\"mean_test_score\"],\n",
    "    label=\"average=True\",\n",
    ")\n",
    "plt.scatter(\n",
    "    cv_results.query(\"param_sgdclassifier__average==False\")[\n",
    "        \"param_sgdclassifier__alpha\"\n",
    "    ],\n",
    "    cv_results.query(\"param_sgdclassifier__average==False\")[\"mean_test_score\"],\n",
    "    label=\"average=False\",\n",
    ")\n",
    "plt.semilogx()\n",
    "plt.title(\"SGDClassifier + Fasttext\")\n",
    "plt.xlabel(\"alpha\")\n",
    "plt.ylabel(\"Weighted f1\")\n",
    "plt.legend()\n",
    "plt.show()"
   ]
  },
  {
   "cell_type": "markdown",
   "id": "959f49ef-cf6f-46b2-8a22-6787c0c88507",
   "metadata": {},
   "source": [
    "Best hyperparameter settings"
   ]
  },
  {
   "cell_type": "code",
   "execution_count": 153,
   "id": "0461ebdb-5ef6-4b66-ad9e-008aea0ebd6c",
   "metadata": {
    "tags": []
   },
   "outputs": [
    {
     "name": "stdout",
     "output_type": "stream",
     "text": [
      "              precision    recall  f1-score   support\n",
      "\n",
      "    Business       0.87      0.82      0.84       250\n",
      "    Sci/Tech       0.83      0.85      0.84       250\n",
      "      Sports       0.95      0.96      0.95       250\n",
      "       World       0.90      0.91      0.90       250\n",
      "\n",
      "    accuracy                           0.89      1000\n",
      "   macro avg       0.89      0.89      0.89      1000\n",
      "weighted avg       0.89      0.89      0.89      1000\n",
      "\n"
     ]
    }
   ],
   "source": [
    "sgd_vec.set_params(**search.best_params_)\n",
    "sgd_vec.fit(train[\"text\"], train[\"cat\"])\n",
    "print(classification_report(test[\"cat\"], sgd_vec.predict(test[\"text\"])))"
   ]
  },
  {
   "cell_type": "code",
   "execution_count": 154,
   "id": "7d98d06b-3e33-4eb9-bdaa-d8ff8aec02cc",
   "metadata": {},
   "outputs": [
    {
     "data": {
      "text/plain": [
       "(13.067, 0.886)"
      ]
     },
     "execution_count": 154,
     "metadata": {},
     "output_type": "execute_result"
    }
   ],
   "source": [
    "sgd_vec_accuracy = accuracy_score(test[\"cat\"], sgd_vec.predict(test[\"text\"]))\n",
    "sgd_vec_time = 367/1000 + 12.7\n",
    "sgd_vec_time, sgd_vec_accuracy"
   ]
  },
  {
   "cell_type": "markdown",
   "id": "e07389cb-9620-4b53-913f-42a3b76a216a",
   "metadata": {},
   "source": [
    "----\n",
    "\n",
    "## Conclusions\n",
    "\n",
    "Write your conclusions here. How do the three methods compare, in speed and in accuracy, with different amount of training data? You will probably find that increasing the training set size improves the simple linear model more than it improves the others. Is there a point where the linear model outperforms MLPs and fasttext? Be specific and show your results as a table and/or graph showing training set size vs. performance for the three methods."
   ]
  },
  {
   "cell_type": "code",
   "execution_count": 155,
   "id": "2d66c0f5-073c-4ac6-8dbe-d8336cb99dea",
   "metadata": {},
   "outputs": [
    {
     "data": {
      "text/plain": [
       "[[50, 1.9427, 0.487, 9.717, 0.528, 0.481, 0.733],\n",
       " [100, 2.0382, 0.561, 12.762, 0.611, 0.5960000000000001, 0.705],\n",
       " [500, 2.482, 0.75, 68.04, 0.79, 1.7424, 0.86],\n",
       " [1000, 1.413, 0.796, 167.2, 0.843, 3.136, 0.862],\n",
       " [5000, 9.158000000000001, 0.886, 1418.9, 0.878, 13.067, 0.886]]"
      ]
     },
     "execution_count": 155,
     "metadata": {},
     "output_type": "execute_result"
    }
   ],
   "source": [
    "df_list.append([n_train, sgd_time, sgd_accuracy, mlp_time, mlp_accuracy, sgd_vec_time, sgd_vec_accuracy])\n",
    "df_list"
   ]
  },
  {
   "cell_type": "markdown",
   "id": "aa1de626-c886-4420-bb8e-3b3caddc57eb",
   "metadata": {},
   "source": [
    "**Comparisions**"
   ]
  },
  {
   "cell_type": "code",
   "execution_count": 156,
   "id": "2763f92d-7e1d-48f9-a769-790dfae1c7a7",
   "metadata": {},
   "outputs": [],
   "source": [
    "import pandas as pd"
   ]
  },
  {
   "cell_type": "code",
   "execution_count": 157,
   "id": "b64d4769-96a7-444b-a2f9-540e205db3cf",
   "metadata": {},
   "outputs": [],
   "source": [
    "df = pd.DataFrame(\n",
    "    df_list, \n",
    "    columns = [\"n_train\", \"sgd_time\", \"sgd_accuracy\", \"mlp_time\", \"mlp_accuracy\", \"sgd_vec_time\", \"sgd_vec_accuracy\"]\n",
    ")"
   ]
  },
  {
   "cell_type": "code",
   "execution_count": 158,
   "id": "c36217fc-0722-4dc8-8ee4-2c1fca255c18",
   "metadata": {},
   "outputs": [
    {
     "data": {
      "text/html": [
       "<div>\n",
       "<style scoped>\n",
       "    .dataframe tbody tr th:only-of-type {\n",
       "        vertical-align: middle;\n",
       "    }\n",
       "\n",
       "    .dataframe tbody tr th {\n",
       "        vertical-align: top;\n",
       "    }\n",
       "\n",
       "    .dataframe thead th {\n",
       "        text-align: right;\n",
       "    }\n",
       "</style>\n",
       "<table border=\"1\" class=\"dataframe\">\n",
       "  <thead>\n",
       "    <tr style=\"text-align: right;\">\n",
       "      <th></th>\n",
       "      <th>n_train</th>\n",
       "      <th>sgd_time</th>\n",
       "      <th>sgd_accuracy</th>\n",
       "      <th>mlp_time</th>\n",
       "      <th>mlp_accuracy</th>\n",
       "      <th>sgd_vec_time</th>\n",
       "      <th>sgd_vec_accuracy</th>\n",
       "    </tr>\n",
       "  </thead>\n",
       "  <tbody>\n",
       "    <tr>\n",
       "      <th>0</th>\n",
       "      <td>50</td>\n",
       "      <td>1.9427</td>\n",
       "      <td>0.487</td>\n",
       "      <td>9.717</td>\n",
       "      <td>0.528</td>\n",
       "      <td>0.4810</td>\n",
       "      <td>0.733</td>\n",
       "    </tr>\n",
       "    <tr>\n",
       "      <th>1</th>\n",
       "      <td>100</td>\n",
       "      <td>2.0382</td>\n",
       "      <td>0.561</td>\n",
       "      <td>12.762</td>\n",
       "      <td>0.611</td>\n",
       "      <td>0.5960</td>\n",
       "      <td>0.705</td>\n",
       "    </tr>\n",
       "    <tr>\n",
       "      <th>2</th>\n",
       "      <td>500</td>\n",
       "      <td>2.4820</td>\n",
       "      <td>0.750</td>\n",
       "      <td>68.040</td>\n",
       "      <td>0.790</td>\n",
       "      <td>1.7424</td>\n",
       "      <td>0.860</td>\n",
       "    </tr>\n",
       "    <tr>\n",
       "      <th>3</th>\n",
       "      <td>1000</td>\n",
       "      <td>1.4130</td>\n",
       "      <td>0.796</td>\n",
       "      <td>167.200</td>\n",
       "      <td>0.843</td>\n",
       "      <td>3.1360</td>\n",
       "      <td>0.862</td>\n",
       "    </tr>\n",
       "    <tr>\n",
       "      <th>4</th>\n",
       "      <td>5000</td>\n",
       "      <td>9.1580</td>\n",
       "      <td>0.886</td>\n",
       "      <td>1418.900</td>\n",
       "      <td>0.878</td>\n",
       "      <td>13.0670</td>\n",
       "      <td>0.886</td>\n",
       "    </tr>\n",
       "  </tbody>\n",
       "</table>\n",
       "</div>"
      ],
      "text/plain": [
       "   n_train  sgd_time  sgd_accuracy  mlp_time  mlp_accuracy  sgd_vec_time  \\\n",
       "0       50    1.9427         0.487     9.717         0.528        0.4810   \n",
       "1      100    2.0382         0.561    12.762         0.611        0.5960   \n",
       "2      500    2.4820         0.750    68.040         0.790        1.7424   \n",
       "3     1000    1.4130         0.796   167.200         0.843        3.1360   \n",
       "4     5000    9.1580         0.886  1418.900         0.878       13.0670   \n",
       "\n",
       "   sgd_vec_accuracy  \n",
       "0             0.733  \n",
       "1             0.705  \n",
       "2             0.860  \n",
       "3             0.862  \n",
       "4             0.886  "
      ]
     },
     "execution_count": 158,
     "metadata": {},
     "output_type": "execute_result"
    }
   ],
   "source": [
    "df"
   ]
  },
  {
   "cell_type": "markdown",
   "id": "20fe9635-72e4-4428-9dbb-66c2e07439bd",
   "metadata": {},
   "source": [
    "I have varied number of training samples from 50 to 5000 but did not change the layers and layer sizes in MLP model as it would be computationally more expensive. Number of test samples were kept constant at 1000."
   ]
  },
  {
   "cell_type": "code",
   "execution_count": 166,
   "id": "dc25725a-d464-40c3-b446-68a3f9453f6c",
   "metadata": {},
   "outputs": [
    {
     "data": {
      "image/png": "[encoded data removed]",
      "text/plain": [
       "<Figure size 640x480 with 1 Axes>"
      ]
     },
     "metadata": {},
     "output_type": "display_data"
    }
   ],
   "source": [
    "plt.plot(df[\"n_train\"], df[\"sgd_time\"])\n",
    "plt.plot(df[\"n_train\"], df[\"mlp_time\"])\n",
    "plt.plot(df[\"n_train\"], df[\"sgd_vec_time\"])\n",
    "plt.title(\"Speed Comparision\")\n",
    "plt.xlabel(\"Training Sample Size\")\n",
    "plt.ylabel(\"Speed\")\n",
    "plt.legend([\"SGD\", \"MLP\", \"SGD VEC\"])\n",
    "plt.show()"
   ]
  },
  {
   "cell_type": "code",
   "execution_count": 165,
   "id": "e0ddbbe9-0de2-4c93-a0e8-6662e5addd8d",
   "metadata": {},
   "outputs": [
    {
     "data": {
      "image/png": "[encoded data removed]",
      "text/plain": [
       "<Figure size 640x480 with 1 Axes>"
      ]
     },
     "metadata": {},
     "output_type": "display_data"
    }
   ],
   "source": [
    "plt.plot(df[\"n_train\"], df[\"sgd_accuracy\"])\n",
    "plt.plot(df[\"n_train\"], df[\"mlp_accuracy\"])\n",
    "plt.plot(df[\"n_train\"], df[\"sgd_vec_accuracy\"])\n",
    "plt.title(\"Accuracy Comparision\")\n",
    "plt.xlabel(\"Training Sample Size\")\n",
    "plt.ylabel(\"Accuracy\")\n",
    "plt.legend([\"SGD\", \"MLP\", \"SGD VEC\"])\n",
    "plt.show()"
   ]
  },
  {
   "cell_type": "markdown",
   "id": "2337b4de-a588-410d-9464-b0bee6977932",
   "metadata": {},
   "source": [
    "At the beginning when number of training samples are at 50, Accuracy of the linear model with fasttextvector was better. While all the three models took relatively similar amount of time to train and tune.\n",
    "Accuracies of the linear model and MLP model are low and comparable, but better than the baseline dummy."
   ]
  },
  {
   "cell_type": "markdown",
   "id": "0e74abf6-01d3-4ea5-89ac-8b8f46aa145a",
   "metadata": {},
   "source": [
    "When the number of training samples were increased gradually, the Linear model increased constantly."
   ]
  },
  {
   "cell_type": "markdown",
   "id": "f66ad3c2-4e41-40d1-8a4b-647793488204",
   "metadata": {},
   "source": [
    "Also MLP model was getting better in accuracy when the training data is increased."
   ]
  },
  {
   "cell_type": "markdown",
   "id": "4564b492-293f-4912-950a-670d0a7189aa",
   "metadata": {},
   "source": [
    "SGD model with WordVectorizer already started off better (even though it took a small dip) and was always good compared to the other two but the rise is not that great comparably."
   ]
  },
  {
   "cell_type": "markdown",
   "id": "7e0d7d57-12b3-445e-97c6-6a37fcf20e28",
   "metadata": {},
   "source": [
    "In the end, when number of training samples was at 5000, both the linear models had same accuracy of 88.6 percent with and without word vectorizer. but SGD with wordvec took more time when the training data started to increase past 1000."
   ]
  },
  {
   "cell_type": "markdown",
   "id": "64fd95d7-6c33-431a-a122-5009e02ae8b9",
   "metadata": {},
   "source": [
    "MLP model eventually caught up, but it is tiny bit behind the other two at present, and may even catch or surpass them with the increase in training data, at a greater computation costs. The time taken to train and tune the MLP model has always been very large, not even in the comparable limits to other two. MLP model here might not make more sense as the linear models were also doing better, may stop to grow at certain point but are still easier and faster as compared."
   ]
  },
  {
   "cell_type": "markdown",
   "id": "97b8b455-6072-4cb6-ba08-fbf68d21cf25",
   "metadata": {},
   "source": []
  }
 ],
 "metadata": {
  "kernelspec": {
   "display_name": "Python 3 (ipykernel)",
   "language": "python",
   "name": "python3"
  },
  "language_info": {
   "codemirror_mode": {
    "name": "ipython",
    "version": 3
   },
   "file_extension": ".py",
   "mimetype": "text/x-python",
   "name": "python",
   "nbconvert_exporter": "python",
   "pygments_lexer": "ipython3",
   "version": "3.10.8"
  }
 },
 "nbformat": 4,
 "nbformat_minor": 5
}
