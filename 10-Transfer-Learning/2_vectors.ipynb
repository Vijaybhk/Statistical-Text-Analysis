{
 "nbformat": 4,
 "nbformat_minor": 0,
 "metadata": {
  "colab": {
   "provenance": []
  },
  "kernelspec": {
   "name": "python3",
   "display_name": "Python 3"
  },
  "language_info": {
   "name": "python"
  },
  "accelerator": "GPU",
  "gpuClass": "standard",
  "widgets": {
   "application/vnd.jupyter.widget-state+json": {
    "f4c5fc393d244c579ac2b7eabcc83421": {
     "model_module": "@jupyter-widgets/controls",
     "model_name": "HBoxModel",
     "model_module_version": "1.5.0",
     "state": {
      "_dom_classes": [],
      "_model_module": "@jupyter-widgets/controls",
      "_model_module_version": "1.5.0",
      "_model_name": "HBoxModel",
      "_view_count": null,
      "_view_module": "@jupyter-widgets/controls",
      "_view_module_version": "1.5.0",
      "_view_name": "HBoxView",
      "box_style": "",
      "children": [
       "IPY_MODEL_3e9d7c08cc814040b64e9ac158893c20",
       "IPY_MODEL_df80f88196eb47618b634e5135f405b6",
       "IPY_MODEL_6b4613ccbc664d1dad646e4ddbbb5ae2"
      ],
      "layout": "IPY_MODEL_03f2b324ff2e4a25a46dfcdbc6c39647"
     }
    },
    "3e9d7c08cc814040b64e9ac158893c20": {
     "model_module": "@jupyter-widgets/controls",
     "model_name": "HTMLModel",
     "model_module_version": "1.5.0",
     "state": {
      "_dom_classes": [],
      "_model_module": "@jupyter-widgets/controls",
      "_model_module_version": "1.5.0",
      "_model_name": "HTMLModel",
      "_view_count": null,
      "_view_module": "@jupyter-widgets/controls",
      "_view_module_version": "1.5.0",
      "_view_name": "HTMLView",
      "description": "",
      "description_tooltip": null,
      "layout": "IPY_MODEL_1dedc2f5bb244f8f8328ad178d4b24f3",
      "placeholder": "​",
      "style": "IPY_MODEL_5722fc1c1f054d979daf13c8edd84fdc",
      "value": "Saving the dataset (1/1 shards): 100%"
     }
    },
    "df80f88196eb47618b634e5135f405b6": {
     "model_module": "@jupyter-widgets/controls",
     "model_name": "FloatProgressModel",
     "model_module_version": "1.5.0",
     "state": {
      "_dom_classes": [],
      "_model_module": "@jupyter-widgets/controls",
      "_model_module_version": "1.5.0",
      "_model_name": "FloatProgressModel",
      "_view_count": null,
      "_view_module": "@jupyter-widgets/controls",
      "_view_module_version": "1.5.0",
      "_view_name": "ProgressView",
      "bar_style": "",
      "description": "",
      "description_tooltip": null,
      "layout": "IPY_MODEL_b9ded8bef154428b9abd7d608ada5fb4",
      "max": 1000,
      "min": 0,
      "orientation": "horizontal",
      "style": "IPY_MODEL_74b1fe34ecac463fa180d1c8988563b0",
      "value": 1000
     }
    },
    "6b4613ccbc664d1dad646e4ddbbb5ae2": {
     "model_module": "@jupyter-widgets/controls",
     "model_name": "HTMLModel",
     "model_module_version": "1.5.0",
     "state": {
      "_dom_classes": [],
      "_model_module": "@jupyter-widgets/controls",
      "_model_module_version": "1.5.0",
      "_model_name": "HTMLModel",
      "_view_count": null,
      "_view_module": "@jupyter-widgets/controls",
      "_view_module_version": "1.5.0",
      "_view_name": "HTMLView",
      "description": "",
      "description_tooltip": null,
      "layout": "IPY_MODEL_f92bceedb16c480fbc8de2de89b8788a",
      "placeholder": "​",
      "style": "IPY_MODEL_55e7c21566df448297d569c19082b0e1",
      "value": " 1000/1000 [00:00&lt;00:00, 11489.10 examples/s]"
     }
    },
    "03f2b324ff2e4a25a46dfcdbc6c39647": {
     "model_module": "@jupyter-widgets/base",
     "model_name": "LayoutModel",
     "model_module_version": "1.2.0",
     "state": {
      "_model_module": "@jupyter-widgets/base",
      "_model_module_version": "1.2.0",
      "_model_name": "LayoutModel",
      "_view_count": null,
      "_view_module": "@jupyter-widgets/base",
      "_view_module_version": "1.2.0",
      "_view_name": "LayoutView",
      "align_content": null,
      "align_items": null,
      "align_self": null,
      "border": null,
      "bottom": null,
      "display": null,
      "flex": null,
      "flex_flow": null,
      "grid_area": null,
      "grid_auto_columns": null,
      "grid_auto_flow": null,
      "grid_auto_rows": null,
      "grid_column": null,
      "grid_gap": null,
      "grid_row": null,
      "grid_template_areas": null,
      "grid_template_columns": null,
      "grid_template_rows": null,
      "height": null,
      "justify_content": null,
      "justify_items": null,
      "left": null,
      "margin": null,
      "max_height": null,
      "max_width": null,
      "min_height": null,
      "min_width": null,
      "object_fit": null,
      "object_position": null,
      "order": null,
      "overflow": null,
      "overflow_x": null,
      "overflow_y": null,
      "padding": null,
      "right": null,
      "top": null,
      "visibility": "hidden",
      "width": null
     }
    },
    "1dedc2f5bb244f8f8328ad178d4b24f3": {
     "model_module": "@jupyter-widgets/base",
     "model_name": "LayoutModel",
     "model_module_version": "1.2.0",
     "state": {
      "_model_module": "@jupyter-widgets/base",
      "_model_module_version": "1.2.0",
      "_model_name": "LayoutModel",
      "_view_count": null,
      "_view_module": "@jupyter-widgets/base",
      "_view_module_version": "1.2.0",
      "_view_name": "LayoutView",
      "align_content": null,
      "align_items": null,
      "align_self": null,
      "border": null,
      "bottom": null,
      "display": null,
      "flex": null,
      "flex_flow": null,
      "grid_area": null,
      "grid_auto_columns": null,
      "grid_auto_flow": null,
      "grid_auto_rows": null,
      "grid_column": null,
      "grid_gap": null,
      "grid_row": null,
      "grid_template_areas": null,
      "grid_template_columns": null,
      "grid_template_rows": null,
      "height": null,
      "justify_content": null,
      "justify_items": null,
      "left": null,
      "margin": null,
      "max_height": null,
      "max_width": null,
      "min_height": null,
      "min_width": null,
      "object_fit": null,
      "object_position": null,
      "order": null,
      "overflow": null,
      "overflow_x": null,
      "overflow_y": null,
      "padding": null,
      "right": null,
      "top": null,
      "visibility": null,
      "width": null
     }
    },
    "5722fc1c1f054d979daf13c8edd84fdc": {
     "model_module": "@jupyter-widgets/controls",
     "model_name": "DescriptionStyleModel",
     "model_module_version": "1.5.0",
     "state": {
      "_model_module": "@jupyter-widgets/controls",
      "_model_module_version": "1.5.0",
      "_model_name": "DescriptionStyleModel",
      "_view_count": null,
      "_view_module": "@jupyter-widgets/base",
      "_view_module_version": "1.2.0",
      "_view_name": "StyleView",
      "description_width": ""
     }
    },
    "b9ded8bef154428b9abd7d608ada5fb4": {
     "model_module": "@jupyter-widgets/base",
     "model_name": "LayoutModel",
     "model_module_version": "1.2.0",
     "state": {
      "_model_module": "@jupyter-widgets/base",
      "_model_module_version": "1.2.0",
      "_model_name": "LayoutModel",
      "_view_count": null,
      "_view_module": "@jupyter-widgets/base",
      "_view_module_version": "1.2.0",
      "_view_name": "LayoutView",
      "align_content": null,
      "align_items": null,
      "align_self": null,
      "border": null,
      "bottom": null,
      "display": null,
      "flex": null,
      "flex_flow": null,
      "grid_area": null,
      "grid_auto_columns": null,
      "grid_auto_flow": null,
      "grid_auto_rows": null,
      "grid_column": null,
      "grid_gap": null,
      "grid_row": null,
      "grid_template_areas": null,
      "grid_template_columns": null,
      "grid_template_rows": null,
      "height": null,
      "justify_content": null,
      "justify_items": null,
      "left": null,
      "margin": null,
      "max_height": null,
      "max_width": null,
      "min_height": null,
      "min_width": null,
      "object_fit": null,
      "object_position": null,
      "order": null,
      "overflow": null,
      "overflow_x": null,
      "overflow_y": null,
      "padding": null,
      "right": null,
      "top": null,
      "visibility": null,
      "width": null
     }
    },
    "74b1fe34ecac463fa180d1c8988563b0": {
     "model_module": "@jupyter-widgets/controls",
     "model_name": "ProgressStyleModel",
     "model_module_version": "1.5.0",
     "state": {
      "_model_module": "@jupyter-widgets/controls",
      "_model_module_version": "1.5.0",
      "_model_name": "ProgressStyleModel",
      "_view_count": null,
      "_view_module": "@jupyter-widgets/base",
      "_view_module_version": "1.2.0",
      "_view_name": "StyleView",
      "bar_color": null,
      "description_width": ""
     }
    },
    "f92bceedb16c480fbc8de2de89b8788a": {
     "model_module": "@jupyter-widgets/base",
     "model_name": "LayoutModel",
     "model_module_version": "1.2.0",
     "state": {
      "_model_module": "@jupyter-widgets/base",
      "_model_module_version": "1.2.0",
      "_model_name": "LayoutModel",
      "_view_count": null,
      "_view_module": "@jupyter-widgets/base",
      "_view_module_version": "1.2.0",
      "_view_name": "LayoutView",
      "align_content": null,
      "align_items": null,
      "align_self": null,
      "border": null,
      "bottom": null,
      "display": null,
      "flex": null,
      "flex_flow": null,
      "grid_area": null,
      "grid_auto_columns": null,
      "grid_auto_flow": null,
      "grid_auto_rows": null,
      "grid_column": null,
      "grid_gap": null,
      "grid_row": null,
      "grid_template_areas": null,
      "grid_template_columns": null,
      "grid_template_rows": null,
      "height": null,
      "justify_content": null,
      "justify_items": null,
      "left": null,
      "margin": null,
      "max_height": null,
      "max_width": null,
      "min_height": null,
      "min_width": null,
      "object_fit": null,
      "object_position": null,
      "order": null,
      "overflow": null,
      "overflow_x": null,
      "overflow_y": null,
      "padding": null,
      "right": null,
      "top": null,
      "visibility": null,
      "width": null
     }
    },
    "55e7c21566df448297d569c19082b0e1": {
     "model_module": "@jupyter-widgets/controls",
     "model_name": "DescriptionStyleModel",
     "model_module_version": "1.5.0",
     "state": {
      "_model_module": "@jupyter-widgets/controls",
      "_model_module_version": "1.5.0",
      "_model_name": "DescriptionStyleModel",
      "_view_count": null,
      "_view_module": "@jupyter-widgets/base",
      "_view_module_version": "1.2.0",
      "_view_name": "StyleView",
      "description_width": ""
     }
    },
    "dd3f312c571d43ceb2e5a1e585186deb": {
     "model_module": "@jupyter-widgets/controls",
     "model_name": "HBoxModel",
     "model_module_version": "1.5.0",
     "state": {
      "_dom_classes": [],
      "_model_module": "@jupyter-widgets/controls",
      "_model_module_version": "1.5.0",
      "_model_name": "HBoxModel",
      "_view_count": null,
      "_view_module": "@jupyter-widgets/controls",
      "_view_module_version": "1.5.0",
      "_view_name": "HBoxView",
      "box_style": "",
      "children": [
       "IPY_MODEL_97e93df7e44b49a0a73272d9a1186b26",
       "IPY_MODEL_6ff32d0e43994102b83bd3aef643535d",
       "IPY_MODEL_899e8661eb7c40b59f34f863f0ca1f7f"
      ],
      "layout": "IPY_MODEL_6c5e8dfd67334520bcb1eda9797b9b7b"
     }
    },
    "97e93df7e44b49a0a73272d9a1186b26": {
     "model_module": "@jupyter-widgets/controls",
     "model_name": "HTMLModel",
     "model_module_version": "1.5.0",
     "state": {
      "_dom_classes": [],
      "_model_module": "@jupyter-widgets/controls",
      "_model_module_version": "1.5.0",
      "_model_name": "HTMLModel",
      "_view_count": null,
      "_view_module": "@jupyter-widgets/controls",
      "_view_module_version": "1.5.0",
      "_view_name": "HTMLView",
      "description": "",
      "description_tooltip": null,
      "layout": "IPY_MODEL_eef201bab7de49539675697f1ea67f43",
      "placeholder": "​",
      "style": "IPY_MODEL_97fc5155a3a7449681f4cc00fdeb6776",
      "value": "Saving the dataset (1/1 shards): 100%"
     }
    },
    "6ff32d0e43994102b83bd3aef643535d": {
     "model_module": "@jupyter-widgets/controls",
     "model_name": "FloatProgressModel",
     "model_module_version": "1.5.0",
     "state": {
      "_dom_classes": [],
      "_model_module": "@jupyter-widgets/controls",
      "_model_module_version": "1.5.0",
      "_model_name": "FloatProgressModel",
      "_view_count": null,
      "_view_module": "@jupyter-widgets/controls",
      "_view_module_version": "1.5.0",
      "_view_name": "ProgressView",
      "bar_style": "",
      "description": "",
      "description_tooltip": null,
      "layout": "IPY_MODEL_4e353dd6a36048b48996b233f1e86b5e",
      "max": 32625,
      "min": 0,
      "orientation": "horizontal",
      "style": "IPY_MODEL_a3519fb86d174bcfadee8ce914d14fc9",
      "value": 32625
     }
    },
    "899e8661eb7c40b59f34f863f0ca1f7f": {
     "model_module": "@jupyter-widgets/controls",
     "model_name": "HTMLModel",
     "model_module_version": "1.5.0",
     "state": {
      "_dom_classes": [],
      "_model_module": "@jupyter-widgets/controls",
      "_model_module_version": "1.5.0",
      "_model_name": "HTMLModel",
      "_view_count": null,
      "_view_module": "@jupyter-widgets/controls",
      "_view_module_version": "1.5.0",
      "_view_name": "HTMLView",
      "description": "",
      "description_tooltip": null,
      "layout": "IPY_MODEL_5ab6d4a193af4e6cabac73575c613aef",
      "placeholder": "​",
      "style": "IPY_MODEL_0ce652b37b8f479a8e1164cf7ceab881",
      "value": " 32625/32625 [00:00&lt;00:00, 86218.71 examples/s]"
     }
    },
    "6c5e8dfd67334520bcb1eda9797b9b7b": {
     "model_module": "@jupyter-widgets/base",
     "model_name": "LayoutModel",
     "model_module_version": "1.2.0",
     "state": {
      "_model_module": "@jupyter-widgets/base",
      "_model_module_version": "1.2.0",
      "_model_name": "LayoutModel",
      "_view_count": null,
      "_view_module": "@jupyter-widgets/base",
      "_view_module_version": "1.2.0",
      "_view_name": "LayoutView",
      "align_content": null,
      "align_items": null,
      "align_self": null,
      "border": null,
      "bottom": null,
      "display": null,
      "flex": null,
      "flex_flow": null,
      "grid_area": null,
      "grid_auto_columns": null,
      "grid_auto_flow": null,
      "grid_auto_rows": null,
      "grid_column": null,
      "grid_gap": null,
      "grid_row": null,
      "grid_template_areas": null,
      "grid_template_columns": null,
      "grid_template_rows": null,
      "height": null,
      "justify_content": null,
      "justify_items": null,
      "left": null,
      "margin": null,
      "max_height": null,
      "max_width": null,
      "min_height": null,
      "min_width": null,
      "object_fit": null,
      "object_position": null,
      "order": null,
      "overflow": null,
      "overflow_x": null,
      "overflow_y": null,
      "padding": null,
      "right": null,
      "top": null,
      "visibility": "hidden",
      "width": null
     }
    },
    "eef201bab7de49539675697f1ea67f43": {
     "model_module": "@jupyter-widgets/base",
     "model_name": "LayoutModel",
     "model_module_version": "1.2.0",
     "state": {
      "_model_module": "@jupyter-widgets/base",
      "_model_module_version": "1.2.0",
      "_model_name": "LayoutModel",
      "_view_count": null,
      "_view_module": "@jupyter-widgets/base",
      "_view_module_version": "1.2.0",
      "_view_name": "LayoutView",
      "align_content": null,
      "align_items": null,
      "align_self": null,
      "border": null,
      "bottom": null,
      "display": null,
      "flex": null,
      "flex_flow": null,
      "grid_area": null,
      "grid_auto_columns": null,
      "grid_auto_flow": null,
      "grid_auto_rows": null,
      "grid_column": null,
      "grid_gap": null,
      "grid_row": null,
      "grid_template_areas": null,
      "grid_template_columns": null,
      "grid_template_rows": null,
      "height": null,
      "justify_content": null,
      "justify_items": null,
      "left": null,
      "margin": null,
      "max_height": null,
      "max_width": null,
      "min_height": null,
      "min_width": null,
      "object_fit": null,
      "object_position": null,
      "order": null,
      "overflow": null,
      "overflow_x": null,
      "overflow_y": null,
      "padding": null,
      "right": null,
      "top": null,
      "visibility": null,
      "width": null
     }
    },
    "97fc5155a3a7449681f4cc00fdeb6776": {
     "model_module": "@jupyter-widgets/controls",
     "model_name": "DescriptionStyleModel",
     "model_module_version": "1.5.0",
     "state": {
      "_model_module": "@jupyter-widgets/controls",
      "_model_module_version": "1.5.0",
      "_model_name": "DescriptionStyleModel",
      "_view_count": null,
      "_view_module": "@jupyter-widgets/base",
      "_view_module_version": "1.2.0",
      "_view_name": "StyleView",
      "description_width": ""
     }
    },
    "4e353dd6a36048b48996b233f1e86b5e": {
     "model_module": "@jupyter-widgets/base",
     "model_name": "LayoutModel",
     "model_module_version": "1.2.0",
     "state": {
      "_model_module": "@jupyter-widgets/base",
      "_model_module_version": "1.2.0",
      "_model_name": "LayoutModel",
      "_view_count": null,
      "_view_module": "@jupyter-widgets/base",
      "_view_module_version": "1.2.0",
      "_view_name": "LayoutView",
      "align_content": null,
      "align_items": null,
      "align_self": null,
      "border": null,
      "bottom": null,
      "display": null,
      "flex": null,
      "flex_flow": null,
      "grid_area": null,
      "grid_auto_columns": null,
      "grid_auto_flow": null,
      "grid_auto_rows": null,
      "grid_column": null,
      "grid_gap": null,
      "grid_row": null,
      "grid_template_areas": null,
      "grid_template_columns": null,
      "grid_template_rows": null,
      "height": null,
      "justify_content": null,
      "justify_items": null,
      "left": null,
      "margin": null,
      "max_height": null,
      "max_width": null,
      "min_height": null,
      "min_width": null,
      "object_fit": null,
      "object_position": null,
      "order": null,
      "overflow": null,
      "overflow_x": null,
      "overflow_y": null,
      "padding": null,
      "right": null,
      "top": null,
      "visibility": null,
      "width": null
     }
    },
    "a3519fb86d174bcfadee8ce914d14fc9": {
     "model_module": "@jupyter-widgets/controls",
     "model_name": "ProgressStyleModel",
     "model_module_version": "1.5.0",
     "state": {
      "_model_module": "@jupyter-widgets/controls",
      "_model_module_version": "1.5.0",
      "_model_name": "ProgressStyleModel",
      "_view_count": null,
      "_view_module": "@jupyter-widgets/base",
      "_view_module_version": "1.2.0",
      "_view_name": "StyleView",
      "bar_color": null,
      "description_width": ""
     }
    },
    "5ab6d4a193af4e6cabac73575c613aef": {
     "model_module": "@jupyter-widgets/base",
     "model_name": "LayoutModel",
     "model_module_version": "1.2.0",
     "state": {
      "_model_module": "@jupyter-widgets/base",
      "_model_module_version": "1.2.0",
      "_model_name": "LayoutModel",
      "_view_count": null,
      "_view_module": "@jupyter-widgets/base",
      "_view_module_version": "1.2.0",
      "_view_name": "LayoutView",
      "align_content": null,
      "align_items": null,
      "align_self": null,
      "border": null,
      "bottom": null,
      "display": null,
      "flex": null,
      "flex_flow": null,
      "grid_area": null,
      "grid_auto_columns": null,
      "grid_auto_flow": null,
      "grid_auto_rows": null,
      "grid_column": null,
      "grid_gap": null,
      "grid_row": null,
      "grid_template_areas": null,
      "grid_template_columns": null,
      "grid_template_rows": null,
      "height": null,
      "justify_content": null,
      "justify_items": null,
      "left": null,
      "margin": null,
      "max_height": null,
      "max_width": null,
      "min_height": null,
      "min_width": null,
      "object_fit": null,
      "object_position": null,
      "order": null,
      "overflow": null,
      "overflow_x": null,
      "overflow_y": null,
      "padding": null,
      "right": null,
      "top": null,
      "visibility": null,
      "width": null
     }
    },
    "0ce652b37b8f479a8e1164cf7ceab881": {
     "model_module": "@jupyter-widgets/controls",
     "model_name": "DescriptionStyleModel",
     "model_module_version": "1.5.0",
     "state": {
      "_model_module": "@jupyter-widgets/controls",
      "_model_module_version": "1.5.0",
      "_model_name": "DescriptionStyleModel",
      "_view_count": null,
      "_view_module": "@jupyter-widgets/base",
      "_view_module_version": "1.2.0",
      "_view_name": "StyleView",
      "description_width": ""
     }
    }
   }
  }
 },
 "cells": [
  {
   "cell_type": "markdown",
   "source": [
    "# LAB 9: Transfer learning\n",
    "\n",
    "Objectives:\n",
    "- apply NLI + zero-shot learning \n",
    "- build a classifier using contextual word vectors\n",
    "- fine tune distilbert for wine classification\n",
    "\n",
    "**Important:** This notebook needs a GPU to work properly! If you're on google colab, choose Runtime > Change runtime type, and make sure Hardware Accelerator is set to GPU."
   ],
   "metadata": {
    "id": "9Fh28kVLLgFL"
   }
  },
  {
   "cell_type": "markdown",
   "source": [
    "Set up transformers library"
   ],
   "metadata": {
    "id": "KC5bvb3XLjnd"
   }
  },
  {
   "cell_type": "code",
   "source": [
    "!pip -q install transformers datasets"
   ],
   "metadata": {
    "id": "h-vK8_r-2f2k"
   },
   "execution_count": null,
   "outputs": []
  },
  {
   "cell_type": "code",
   "source": [
    "import warnings\n",
    "\n",
    "import numpy as np\n",
    "\n",
    "import torch\n",
    "import torchtext\n",
    "import cpuinfo\n",
    "from tqdm.auto import tqdm\n",
    "\n",
    "from transformers import AutoTokenizer, AutoModel, pipeline\n",
    "from datasets import DatasetDict, Dataset\n",
    "\n",
    "from sklearn.metrics import f1_score, classification_report, ConfusionMatrixDisplay\n",
    "from sklearn.linear_model import SGDClassifier"
   ],
   "metadata": {
    "id": "hQx_AEjz2ZPx"
   },
   "execution_count": 2,
   "outputs": []
  },
  {
   "cell_type": "markdown",
   "source": [
    "If you get an error here then double check that you've got the right kind of runtime (see comment above about GPUs)"
   ],
   "metadata": {
    "id": "Ks0E6_OWhW6X"
   }
  },
  {
   "cell_type": "code",
   "source": [
    "DEVICE = 'cuda:0'\n",
    "dev = torch.cuda.get_device_properties(0)\n",
    "print(f\"Using device: {dev.name} ({dev.total_memory/1024/1024/1024:.1f}gb)\")"
   ],
   "metadata": {
    "id": "JU7CsD0gL_Ua",
    "colab": {
     "base_uri": "https://localhost:8080/"
    },
    "outputId": "76f50231-df9e-4a2a-9241-ba1e6300cbc3"
   },
   "execution_count": 3,
   "outputs": [
    {
     "output_type": "stream",
     "name": "stdout",
     "text": [
      "Using device: Tesla T4 (14.7gb)\n"
     ]
    }
   ]
  },
  {
   "cell_type": "markdown",
   "source": [
    "----\n",
    "\n",
    "## Load data"
   ],
   "metadata": {
    "id": "15jqP0byLxBM"
   }
  },
  {
   "cell_type": "code",
   "source": [
    "torchtext.utils.download_from_url('http://malouf.sdsu.edu/files/wine-data.tar.gz', root='./')\n",
    "torchtext.utils.extract_archive('/content/wine-data.tar.gz', './')\n"
   ],
   "metadata": {
    "id": "1ZuSL43JOzPa",
    "colab": {
     "base_uri": "https://localhost:8080/"
    },
    "outputId": "1c306fee-d994-41da-b249-61ae1df33a88"
   },
   "execution_count": 4,
   "outputs": [
    {
     "output_type": "execute_result",
     "data": {
      "text/plain": [
       "['./wine-train.parquet', './wine-test.parquet']"
      ]
     },
     "metadata": {},
     "execution_count": 4
    }
   ]
  },
  {
   "cell_type": "code",
   "source": [
    "ds = DatasetDict({'train':Dataset.from_parquet('wine-train.parquet'),\n",
    "                  'test':Dataset.from_parquet('wine-test.parquet')})"
   ],
   "metadata": {
    "id": "8oULZXiIYUa_",
    "colab": {
     "base_uri": "https://localhost:8080/"
    },
    "outputId": "cfce0308-1fba-40e5-ce0d-88cb3fb11ec1"
   },
   "execution_count": 5,
   "outputs": [
    {
     "output_type": "stream",
     "name": "stderr",
     "text": [
      "WARNING:datasets.builder:Found cached dataset parquet (/root/.cache/huggingface/datasets/parquet/default-1f610d2531230974/0.0.0/2a3b91fbd88a2c90d1dbbb32b460cf621d31bd5b05b934492fdef7d8d6f236ec)\n",
      "WARNING:datasets.builder:Found cached dataset parquet (/root/.cache/huggingface/datasets/parquet/default-97f6351d1273668c/0.0.0/2a3b91fbd88a2c90d1dbbb32b460cf621d31bd5b05b934492fdef7d8d6f236ec)\n"
     ]
    }
   ]
  },
  {
   "cell_type": "markdown",
   "source": [
    "---\n",
    "\n",
    "## SGDClassifier on vectors\n",
    "\n",
    "This method uses a pre-trained transform for feature extraction. This is similar to our use of fasttext vectors, but with an important difference: word vectors are static, but vectors produced by a transformer are contextual. The vectors we get depend on which words are in the text **and** the order they appear in.\n",
    "\n",
    "The model we'll start with is called [distilbert-base-uncased](https://huggingface.co/distilbert-base-uncased). It has nearly the same performance as BERT but is much smaller and faster (useful give our limited hardware).\n",
    "\n",
    "Things to experiment with:\n",
    "- Optimize the SGDClassifier.\n",
    "- Try a different model. Here is [a list of HuggingFace models that support feature extraction](https://huggingface.co/models?pipeline_tag=feature-extraction&sort=downloads)."
   ],
   "metadata": {
    "id": "U6nxx5UA-Ivd"
   }
  },
  {
   "cell_type": "code",
   "source": [
    "tokenizer = AutoTokenizer.from_pretrained('distilbert-base-uncased')"
   ],
   "metadata": {
    "id": "AUrz0BHCVUpZ"
   },
   "execution_count": 6,
   "outputs": []
  },
  {
   "cell_type": "code",
   "source": [
    "model = AutoModel.from_pretrained('distilbert-base-uncased').to(DEVICE)"
   ],
   "metadata": {
    "id": "kQR_j7TV0sT8",
    "colab": {
     "base_uri": "https://localhost:8080/"
    },
    "outputId": "32d18ee5-cb68-4ac4-829f-8f8db0757e95"
   },
   "execution_count": 7,
   "outputs": [
    {
     "output_type": "stream",
     "name": "stderr",
     "text": [
      "Some weights of the model checkpoint at distilbert-base-uncased were not used when initializing DistilBertModel: ['vocab_transform.bias', 'vocab_projector.weight', 'vocab_projector.bias', 'vocab_transform.weight', 'vocab_layer_norm.weight', 'vocab_layer_norm.bias']\n",
      "- This IS expected if you are initializing DistilBertModel from the checkpoint of a model trained on another task or with another architecture (e.g. initializing a BertForSequenceClassification model from a BertForPreTraining model).\n",
      "- This IS NOT expected if you are initializing DistilBertModel from the checkpoint of a model that you expect to be exactly identical (initializing a BertForSequenceClassification model from a BertForSequenceClassification model).\n"
     ]
    }
   ]
  },
  {
   "cell_type": "code",
   "source": [
    "def vectorize(batch):\n",
    "  toks = tokenizer(batch['review_text'], padding=\"max_length\", truncation=True, return_tensors='pt')\n",
    "  inputs = {k:toks[k].to(DEVICE) for k in tokenizer.model_input_names}\n",
    "  with torch.no_grad():\n",
    "    with torch.autocast(device_type='cuda'):\n",
    "      vec = model(**inputs).last_hidden_state\n",
    "  return {'vector': vec[:,0].cpu().numpy()}"
   ],
   "metadata": {
    "id": "dCLpoqWuXPwA"
   },
   "execution_count": 8,
   "outputs": []
  },
  {
   "cell_type": "code",
   "source": [
    "v = vectorize(ds['train'][:10])"
   ],
   "metadata": {
    "id": "axDOKjQSaSBu"
   },
   "execution_count": 9,
   "outputs": []
  },
  {
   "cell_type": "code",
   "source": [
    "small = DatasetDict({'train': ds['train'].select(range(1000)),\n",
    "                     'test': ds['test']})"
   ],
   "metadata": {
    "id": "819c2SaT8Iqj"
   },
   "execution_count": 10,
   "outputs": []
  },
  {
   "cell_type": "code",
   "source": [
    "small = small.map(vectorize, batched=True, batch_size=256)"
   ],
   "metadata": {
    "id": "Y7jnBCOFXduz",
    "colab": {
     "base_uri": "https://localhost:8080/"
    },
    "outputId": "7e6a6781-b5f9-4649-dc28-c8590591fd65"
   },
   "execution_count": 11,
   "outputs": [
    {
     "output_type": "stream",
     "name": "stderr",
     "text": [
      "WARNING:datasets.arrow_dataset:Loading cached processed dataset at /root/.cache/huggingface/datasets/parquet/default-1f610d2531230974/0.0.0/2a3b91fbd88a2c90d1dbbb32b460cf621d31bd5b05b934492fdef7d8d6f236ec/cache-2ca417288aa14449.arrow\n",
      "WARNING:datasets.arrow_dataset:Loading cached processed dataset at /root/.cache/huggingface/datasets/parquet/default-97f6351d1273668c/0.0.0/2a3b91fbd88a2c90d1dbbb32b460cf621d31bd5b05b934492fdef7d8d6f236ec/cache-32ae8ea62b33ac24.arrow\n"
     ]
    }
   ]
  },
  {
   "cell_type": "code",
   "source": [
    "small.save_to_disk('wine-vecs')\n",
    "!zip -r wine-vecs.zip wine-vecs/"
   ],
   "metadata": {
    "id": "OEi0-rw8lXEu",
    "colab": {
     "base_uri": "https://localhost:8080/",
     "height": 196,
     "referenced_widgets": [
      "f4c5fc393d244c579ac2b7eabcc83421",
      "3e9d7c08cc814040b64e9ac158893c20",
      "df80f88196eb47618b634e5135f405b6",
      "6b4613ccbc664d1dad646e4ddbbb5ae2",
      "03f2b324ff2e4a25a46dfcdbc6c39647",
      "1dedc2f5bb244f8f8328ad178d4b24f3",
      "5722fc1c1f054d979daf13c8edd84fdc",
      "b9ded8bef154428b9abd7d608ada5fb4",
      "74b1fe34ecac463fa180d1c8988563b0",
      "f92bceedb16c480fbc8de2de89b8788a",
      "55e7c21566df448297d569c19082b0e1",
      "dd3f312c571d43ceb2e5a1e585186deb",
      "97e93df7e44b49a0a73272d9a1186b26",
      "6ff32d0e43994102b83bd3aef643535d",
      "899e8661eb7c40b59f34f863f0ca1f7f",
      "6c5e8dfd67334520bcb1eda9797b9b7b",
      "eef201bab7de49539675697f1ea67f43",
      "97fc5155a3a7449681f4cc00fdeb6776",
      "4e353dd6a36048b48996b233f1e86b5e",
      "a3519fb86d174bcfadee8ce914d14fc9",
      "5ab6d4a193af4e6cabac73575c613aef",
      "0ce652b37b8f479a8e1164cf7ceab881"
     ]
    },
    "outputId": "511b5bd4-cd77-4f0c-8365-379861d41858"
   },
   "execution_count": 12,
   "outputs": [
    {
     "output_type": "display_data",
     "data": {
      "text/plain": [
       "Saving the dataset (0/1 shards):   0%|          | 0/1000 [00:00<?, ? examples/s]"
      ],
      "application/vnd.jupyter.widget-view+json": {
       "version_major": 2,
       "version_minor": 0,
       "model_id": "f4c5fc393d244c579ac2b7eabcc83421"
      }
     },
     "metadata": {}
    },
    {
     "output_type": "display_data",
     "data": {
      "text/plain": [
       "Saving the dataset (0/1 shards):   0%|          | 0/32625 [00:00<?, ? examples/s]"
      ],
      "application/vnd.jupyter.widget-view+json": {
       "version_major": 2,
       "version_minor": 0,
       "model_id": "dd3f312c571d43ceb2e5a1e585186deb"
      }
     },
     "metadata": {}
    },
    {
     "output_type": "stream",
     "name": "stdout",
     "text": [
      "updating: wine-vecs/ (stored 0%)\n",
      "updating: wine-vecs/train/ (stored 0%)\n",
      "updating: wine-vecs/train/data-00000-of-00001.arrow (deflated 12%)\n",
      "updating: wine-vecs/train/state.json (deflated 38%)\n",
      "updating: wine-vecs/train/dataset_info.json (deflated 60%)\n",
      "updating: wine-vecs/test/ (stored 0%)\n",
      "updating: wine-vecs/test/data-00000-of-00001.arrow (deflated 12%)\n",
      "updating: wine-vecs/test/state.json (deflated 38%)\n",
      "updating: wine-vecs/test/dataset_info.json (deflated 60%)\n",
      "updating: wine-vecs/dataset_dict.json (stored 0%)\n"
     ]
    }
   ]
  },
  {
   "cell_type": "code",
   "source": [
    "sgd = SGDClassifier(alpha=0.01)\n",
    "sgd.fit(small['train']['vector'], small['train']['wine_variant'])"
   ],
   "metadata": {
    "id": "_JObkrVi-sTv",
    "colab": {
     "base_uri": "https://localhost:8080/",
     "height": 75
    },
    "outputId": "31f9ba2a-7182-4770-d131-749869c749e5"
   },
   "execution_count": 13,
   "outputs": [
    {
     "output_type": "execute_result",
     "data": {
      "text/plain": [
       "SGDClassifier(alpha=0.01)"
      ],
      "text/html": [
       "<style>#sk-container-id-1 {color: black;background-color: white;}#sk-container-id-1 pre{padding: 0;}#sk-container-id-1 div.sk-toggleable {background-color: white;}#sk-container-id-1 label.sk-toggleable__label {cursor: pointer;display: block;width: 100%;margin-bottom: 0;padding: 0.3em;box-sizing: border-box;text-align: center;}#sk-container-id-1 label.sk-toggleable__label-arrow:before {content: \"▸\";float: left;margin-right: 0.25em;color: #696969;}#sk-container-id-1 label.sk-toggleable__label-arrow:hover:before {color: black;}#sk-container-id-1 div.sk-estimator:hover label.sk-toggleable__label-arrow:before {color: black;}#sk-container-id-1 div.sk-toggleable__content {max-height: 0;max-width: 0;overflow: hidden;text-align: left;background-color: #f0f8ff;}#sk-container-id-1 div.sk-toggleable__content pre {margin: 0.2em;color: black;border-radius: 0.25em;background-color: #f0f8ff;}#sk-container-id-1 input.sk-toggleable__control:checked~div.sk-toggleable__content {max-height: 200px;max-width: 100%;overflow: auto;}#sk-container-id-1 input.sk-toggleable__control:checked~label.sk-toggleable__label-arrow:before {content: \"▾\";}#sk-container-id-1 div.sk-estimator input.sk-toggleable__control:checked~label.sk-toggleable__label {background-color: #d4ebff;}#sk-container-id-1 div.sk-label input.sk-toggleable__control:checked~label.sk-toggleable__label {background-color: #d4ebff;}#sk-container-id-1 input.sk-hidden--visually {border: 0;clip: rect(1px 1px 1px 1px);clip: rect(1px, 1px, 1px, 1px);height: 1px;margin: -1px;overflow: hidden;padding: 0;position: absolute;width: 1px;}#sk-container-id-1 div.sk-estimator {font-family: monospace;background-color: #f0f8ff;border: 1px dotted black;border-radius: 0.25em;box-sizing: border-box;margin-bottom: 0.5em;}#sk-container-id-1 div.sk-estimator:hover {background-color: #d4ebff;}#sk-container-id-1 div.sk-parallel-item::after {content: \"\";width: 100%;border-bottom: 1px solid gray;flex-grow: 1;}#sk-container-id-1 div.sk-label:hover label.sk-toggleable__label {background-color: #d4ebff;}#sk-container-id-1 div.sk-serial::before {content: \"\";position: absolute;border-left: 1px solid gray;box-sizing: border-box;top: 0;bottom: 0;left: 50%;z-index: 0;}#sk-container-id-1 div.sk-serial {display: flex;flex-direction: column;align-items: center;background-color: white;padding-right: 0.2em;padding-left: 0.2em;position: relative;}#sk-container-id-1 div.sk-item {position: relative;z-index: 1;}#sk-container-id-1 div.sk-parallel {display: flex;align-items: stretch;justify-content: center;background-color: white;position: relative;}#sk-container-id-1 div.sk-item::before, #sk-container-id-1 div.sk-parallel-item::before {content: \"\";position: absolute;border-left: 1px solid gray;box-sizing: border-box;top: 0;bottom: 0;left: 50%;z-index: -1;}#sk-container-id-1 div.sk-parallel-item {display: flex;flex-direction: column;z-index: 1;position: relative;background-color: white;}#sk-container-id-1 div.sk-parallel-item:first-child::after {align-self: flex-end;width: 50%;}#sk-container-id-1 div.sk-parallel-item:last-child::after {align-self: flex-start;width: 50%;}#sk-container-id-1 div.sk-parallel-item:only-child::after {width: 0;}#sk-container-id-1 div.sk-dashed-wrapped {border: 1px dashed gray;margin: 0 0.4em 0.5em 0.4em;box-sizing: border-box;padding-bottom: 0.4em;background-color: white;}#sk-container-id-1 div.sk-label label {font-family: monospace;font-weight: bold;display: inline-block;line-height: 1.2em;}#sk-container-id-1 div.sk-label-container {text-align: center;}#sk-container-id-1 div.sk-container {/* jupyter's `normalize.less` sets `[hidden] { display: none; }` but bootstrap.min.css set `[hidden] { display: none !important; }` so we also need the `!important` here to be able to override the default hidden behavior on the sphinx rendered scikit-learn.org. See: https://github.com/scikit-learn/scikit-learn/issues/21755 */display: inline-block !important;position: relative;}#sk-container-id-1 div.sk-text-repr-fallback {display: none;}</style><div id=\"sk-container-id-1\" class=\"sk-top-container\"><div class=\"sk-text-repr-fallback\"><pre>SGDClassifier(alpha=0.01)</pre><b>In a Jupyter environment, please rerun this cell to show the HTML representation or trust the notebook. <br />On GitHub, the HTML representation is unable to render, please try loading this page with nbviewer.org.</b></div><div class=\"sk-container\" hidden><div class=\"sk-item\"><div class=\"sk-estimator sk-toggleable\"><input class=\"sk-toggleable__control sk-hidden--visually\" id=\"sk-estimator-id-1\" type=\"checkbox\" checked><label for=\"sk-estimator-id-1\" class=\"sk-toggleable__label sk-toggleable__label-arrow\">SGDClassifier</label><div class=\"sk-toggleable__content\"><pre>SGDClassifier(alpha=0.01)</pre></div></div></div></div></div>"
      ]
     },
     "metadata": {},
     "execution_count": 13
    }
   ]
  },
  {
   "cell_type": "code",
   "source": [
    "predict = sgd.predict(small['test']['vector'])\n",
    "print(classification_report(small['test']['wine_variant'], predict))"
   ],
   "metadata": {
    "id": "31eTI1sFGog7",
    "colab": {
     "base_uri": "https://localhost:8080/"
    },
    "outputId": "003fcd0d-9dc5-4977-e05b-33291c5ba764"
   },
   "execution_count": 14,
   "outputs": [
    {
     "output_type": "stream",
     "name": "stdout",
     "text": [
      "                    precision    recall  f1-score   support\n",
      "\n",
      "Cabernet Sauvignon       0.40      0.57      0.47      7558\n",
      "        Chardonnay       0.63      0.19      0.29      4861\n",
      "            Merlot       0.15      0.00      0.00      1381\n",
      "        Pinot Noir       0.44      0.57      0.50      9618\n",
      "          Riesling       0.40      0.36      0.38      2421\n",
      "   Sauvignon Blanc       0.59      0.02      0.04      1278\n",
      "             Syrah       0.20      0.31      0.24      3426\n",
      "         Zinfandel       0.50      0.01      0.02      2082\n",
      "\n",
      "          accuracy                           0.39     32625\n",
      "         macro avg       0.41      0.26      0.24     32625\n",
      "      weighted avg       0.43      0.39      0.35     32625\n",
      "\n"
     ]
    }
   ]
  },
  {
   "cell_type": "markdown",
   "source": [
    "Describe what you did and what you learned from these experiments:"
   ],
   "metadata": {
    "id": "DBb_Ng0rTaDY"
   }
  },
  {
   "cell_type": "code",
   "source": [
    "from scipy.stats.distributions import loguniform\n",
    "from sklearn.model_selection import RandomizedSearchCV"
   ],
   "metadata": {
    "id": "d_1Owe_5P0W1"
   },
   "execution_count": 15,
   "outputs": []
  },
  {
   "cell_type": "code",
   "source": [
    "sgd_search = RandomizedSearchCV(\n",
    "    sgd,\n",
    "    {\n",
    "        \"alpha\": loguniform(1e-8, 1.0),\n",
    "    },\n",
    "    n_iter=20,\n",
    "    n_jobs=-1,\n",
    "    scoring=\"f1_macro\",\n",
    ")\n",
    "\n",
    "sgd_search.fit(small['train']['vector'], small['train']['wine_variant'])"
   ],
   "metadata": {
    "id": "ZpAlfhsU8iAy",
    "colab": {
     "base_uri": "https://localhost:8080/",
     "height": 118
    },
    "outputId": "9aa21db2-b084-4bfa-9745-fbd84eb3461d"
   },
   "execution_count": 19,
   "outputs": [
    {
     "output_type": "execute_result",
     "data": {
      "text/plain": [
       "RandomizedSearchCV(estimator=SGDClassifier(alpha=2.830934092739452e-05),\n",
       "                   n_iter=20, n_jobs=-1,\n",
       "                   param_distributions={'alpha': <scipy.stats._distn_infrastructure.rv_continuous_frozen object at 0x7fccecfad900>},\n",
       "                   scoring='f1_macro')"
      ],
      "text/html": [
       "<style>#sk-container-id-3 {color: black;background-color: white;}#sk-container-id-3 pre{padding: 0;}#sk-container-id-3 div.sk-toggleable {background-color: white;}#sk-container-id-3 label.sk-toggleable__label {cursor: pointer;display: block;width: 100%;margin-bottom: 0;padding: 0.3em;box-sizing: border-box;text-align: center;}#sk-container-id-3 label.sk-toggleable__label-arrow:before {content: \"▸\";float: left;margin-right: 0.25em;color: #696969;}#sk-container-id-3 label.sk-toggleable__label-arrow:hover:before {color: black;}#sk-container-id-3 div.sk-estimator:hover label.sk-toggleable__label-arrow:before {color: black;}#sk-container-id-3 div.sk-toggleable__content {max-height: 0;max-width: 0;overflow: hidden;text-align: left;background-color: #f0f8ff;}#sk-container-id-3 div.sk-toggleable__content pre {margin: 0.2em;color: black;border-radius: 0.25em;background-color: #f0f8ff;}#sk-container-id-3 input.sk-toggleable__control:checked~div.sk-toggleable__content {max-height: 200px;max-width: 100%;overflow: auto;}#sk-container-id-3 input.sk-toggleable__control:checked~label.sk-toggleable__label-arrow:before {content: \"▾\";}#sk-container-id-3 div.sk-estimator input.sk-toggleable__control:checked~label.sk-toggleable__label {background-color: #d4ebff;}#sk-container-id-3 div.sk-label input.sk-toggleable__control:checked~label.sk-toggleable__label {background-color: #d4ebff;}#sk-container-id-3 input.sk-hidden--visually {border: 0;clip: rect(1px 1px 1px 1px);clip: rect(1px, 1px, 1px, 1px);height: 1px;margin: -1px;overflow: hidden;padding: 0;position: absolute;width: 1px;}#sk-container-id-3 div.sk-estimator {font-family: monospace;background-color: #f0f8ff;border: 1px dotted black;border-radius: 0.25em;box-sizing: border-box;margin-bottom: 0.5em;}#sk-container-id-3 div.sk-estimator:hover {background-color: #d4ebff;}#sk-container-id-3 div.sk-parallel-item::after {content: \"\";width: 100%;border-bottom: 1px solid gray;flex-grow: 1;}#sk-container-id-3 div.sk-label:hover label.sk-toggleable__label {background-color: #d4ebff;}#sk-container-id-3 div.sk-serial::before {content: \"\";position: absolute;border-left: 1px solid gray;box-sizing: border-box;top: 0;bottom: 0;left: 50%;z-index: 0;}#sk-container-id-3 div.sk-serial {display: flex;flex-direction: column;align-items: center;background-color: white;padding-right: 0.2em;padding-left: 0.2em;position: relative;}#sk-container-id-3 div.sk-item {position: relative;z-index: 1;}#sk-container-id-3 div.sk-parallel {display: flex;align-items: stretch;justify-content: center;background-color: white;position: relative;}#sk-container-id-3 div.sk-item::before, #sk-container-id-3 div.sk-parallel-item::before {content: \"\";position: absolute;border-left: 1px solid gray;box-sizing: border-box;top: 0;bottom: 0;left: 50%;z-index: -1;}#sk-container-id-3 div.sk-parallel-item {display: flex;flex-direction: column;z-index: 1;position: relative;background-color: white;}#sk-container-id-3 div.sk-parallel-item:first-child::after {align-self: flex-end;width: 50%;}#sk-container-id-3 div.sk-parallel-item:last-child::after {align-self: flex-start;width: 50%;}#sk-container-id-3 div.sk-parallel-item:only-child::after {width: 0;}#sk-container-id-3 div.sk-dashed-wrapped {border: 1px dashed gray;margin: 0 0.4em 0.5em 0.4em;box-sizing: border-box;padding-bottom: 0.4em;background-color: white;}#sk-container-id-3 div.sk-label label {font-family: monospace;font-weight: bold;display: inline-block;line-height: 1.2em;}#sk-container-id-3 div.sk-label-container {text-align: center;}#sk-container-id-3 div.sk-container {/* jupyter's `normalize.less` sets `[hidden] { display: none; }` but bootstrap.min.css set `[hidden] { display: none !important; }` so we also need the `!important` here to be able to override the default hidden behavior on the sphinx rendered scikit-learn.org. See: https://github.com/scikit-learn/scikit-learn/issues/21755 */display: inline-block !important;position: relative;}#sk-container-id-3 div.sk-text-repr-fallback {display: none;}</style><div id=\"sk-container-id-3\" class=\"sk-top-container\"><div class=\"sk-text-repr-fallback\"><pre>RandomizedSearchCV(estimator=SGDClassifier(alpha=2.830934092739452e-05),\n",
       "                   n_iter=20, n_jobs=-1,\n",
       "                   param_distributions={&#x27;alpha&#x27;: &lt;scipy.stats._distn_infrastructure.rv_continuous_frozen object at 0x7fccecfad900&gt;},\n",
       "                   scoring=&#x27;f1_macro&#x27;)</pre><b>In a Jupyter environment, please rerun this cell to show the HTML representation or trust the notebook. <br />On GitHub, the HTML representation is unable to render, please try loading this page with nbviewer.org.</b></div><div class=\"sk-container\" hidden><div class=\"sk-item sk-dashed-wrapped\"><div class=\"sk-label-container\"><div class=\"sk-label sk-toggleable\"><input class=\"sk-toggleable__control sk-hidden--visually\" id=\"sk-estimator-id-5\" type=\"checkbox\" ><label for=\"sk-estimator-id-5\" class=\"sk-toggleable__label sk-toggleable__label-arrow\">RandomizedSearchCV</label><div class=\"sk-toggleable__content\"><pre>RandomizedSearchCV(estimator=SGDClassifier(alpha=2.830934092739452e-05),\n",
       "                   n_iter=20, n_jobs=-1,\n",
       "                   param_distributions={&#x27;alpha&#x27;: &lt;scipy.stats._distn_infrastructure.rv_continuous_frozen object at 0x7fccecfad900&gt;},\n",
       "                   scoring=&#x27;f1_macro&#x27;)</pre></div></div></div><div class=\"sk-parallel\"><div class=\"sk-parallel-item\"><div class=\"sk-item\"><div class=\"sk-label-container\"><div class=\"sk-label sk-toggleable\"><input class=\"sk-toggleable__control sk-hidden--visually\" id=\"sk-estimator-id-6\" type=\"checkbox\" ><label for=\"sk-estimator-id-6\" class=\"sk-toggleable__label sk-toggleable__label-arrow\">estimator: SGDClassifier</label><div class=\"sk-toggleable__content\"><pre>SGDClassifier(alpha=2.830934092739452e-05)</pre></div></div></div><div class=\"sk-serial\"><div class=\"sk-item\"><div class=\"sk-estimator sk-toggleable\"><input class=\"sk-toggleable__control sk-hidden--visually\" id=\"sk-estimator-id-7\" type=\"checkbox\" ><label for=\"sk-estimator-id-7\" class=\"sk-toggleable__label sk-toggleable__label-arrow\">SGDClassifier</label><div class=\"sk-toggleable__content\"><pre>SGDClassifier(alpha=2.830934092739452e-05)</pre></div></div></div></div></div></div></div></div></div></div>"
      ]
     },
     "metadata": {},
     "execution_count": 19
    }
   ]
  },
  {
   "cell_type": "code",
   "source": [
    "sgd_search.best_params_, sgd_search.best_score_"
   ],
   "metadata": {
    "colab": {
     "base_uri": "https://localhost:8080/"
    },
    "id": "nnt0MXhYPvXm",
    "outputId": "bf2a4321-6bc0-44eb-9c88-779a0f09a41d"
   },
   "execution_count": 20,
   "outputs": [
    {
     "output_type": "execute_result",
     "data": {
      "text/plain": [
       "({'alpha': 0.0025213650423000743}, 0.24632166173848424)"
      ]
     },
     "metadata": {},
     "execution_count": 20
    }
   ]
  },
  {
   "cell_type": "code",
   "source": [
    "sgd.set_params(**sgd_search.best_params_)\n",
    "sgd.fit(small['train']['vector'], small['train']['wine_variant'])\n",
    "predict = sgd.predict(small['test']['vector'])\n",
    "print(classification_report(small['test']['wine_variant'], predict))"
   ],
   "metadata": {
    "colab": {
     "base_uri": "https://localhost:8080/"
    },
    "id": "EKXfR8faPvcI",
    "outputId": "49ec26e6-36cc-4921-aeaa-a37d381a2fc7"
   },
   "execution_count": 21,
   "outputs": [
    {
     "output_type": "stream",
     "name": "stdout",
     "text": [
      "                    precision    recall  f1-score   support\n",
      "\n",
      "Cabernet Sauvignon       0.75      0.16      0.27      7558\n",
      "        Chardonnay       0.23      0.82      0.36      4861\n",
      "            Merlot       0.08      0.00      0.00      1381\n",
      "        Pinot Noir       0.51      0.32      0.40      9618\n",
      "          Riesling       0.34      0.31      0.33      2421\n",
      "   Sauvignon Blanc       0.50      0.01      0.02      1278\n",
      "             Syrah       0.23      0.27      0.25      3426\n",
      "         Zinfandel       0.29      0.17      0.22      2082\n",
      "\n",
      "          accuracy                           0.32     32625\n",
      "         macro avg       0.37      0.26      0.23     32625\n",
      "      weighted avg       0.45      0.32      0.30     32625\n",
      "\n"
     ]
    }
   ]
  },
  {
   "cell_type": "markdown",
   "source": [
    "**NOTES:**\n",
    "\n",
    "1. Tried facebook/large-bart and facebook/bart-base and ran into out of memory issue.\n",
    "\n",
    "2. Went ahead with tokenizer from 'distilbert-base-uncased' model.\n",
    "\n",
    "3. Tried optimizing the SGD Classifier, f1_macro on the training data was at 0.24 for the alpha 0.0025 which was same as the previous test results, but test results dipped when alpha was set to 0.0025. Since, we did random search and not the grid search, it is not the best value but best in what it randomly chose."
   ],
   "metadata": {
    "id": "HUvjJ91STzxV"
   }
  }
 ]
}
