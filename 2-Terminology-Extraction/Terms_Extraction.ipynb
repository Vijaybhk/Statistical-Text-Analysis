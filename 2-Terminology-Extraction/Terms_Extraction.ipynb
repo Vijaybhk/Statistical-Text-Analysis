{
 "cells": [
  {
   "cell_type": "markdown",
   "id": "a48c81b8-b851-4da7-9ce8-72ef3bfd4c45",
   "metadata": {},
   "source": [
    "# Lab 2: Hotel reviews\n",
    "\n",
    "Generate word clouds for good and bad hotel reviews\n",
    "\n",
    "Objectives:\n",
    "- part of speech tagging with spacy\n",
    "- extract phrases that match a part of speech pattern\n",
    "- scale processing pipeline with nlp.pipe\n",
    "- compute c-values"
   ]
  },
  {
   "cell_type": "code",
   "execution_count": 135,
   "id": "9050601f-84dd-4ec8-94b7-590fc329c20f",
   "metadata": {},
   "outputs": [],
   "source": [
    "import re\n",
    "from collections import defaultdict\n",
    "\n",
    "import matplotlib.pyplot as plt\n",
    "import nltk\n",
    "import numpy as np\n",
    "import pandas as pd\n",
    "from cytoolz import *\n",
    "from tqdm import tqdm\n",
    "from wordcloud import WordCloud"
   ]
  },
  {
   "cell_type": "code",
   "execution_count": 136,
   "id": "bdcd1ba4-6568-4b44-963b-df5aec2719ca",
   "metadata": {},
   "outputs": [],
   "source": [
    "df = pd.read_pickle(\"/data/hotels.pkl.gz\")"
   ]
  },
  {
   "cell_type": "code",
   "execution_count": 137,
   "id": "1d108675-0294-45ff-859e-c5b038cc3786",
   "metadata": {},
   "outputs": [
    {
     "data": {
      "text/plain": [
       "231294"
      ]
     },
     "execution_count": 137,
     "metadata": {},
     "output_type": "execute_result"
    }
   ],
   "source": [
    "len(df)"
   ]
  },
  {
   "cell_type": "code",
   "execution_count": 138,
   "id": "3de0791e-5dec-4ee8-94d5-342cfadb1815",
   "metadata": {},
   "outputs": [],
   "source": [
    "# df = df.sample(frac=.1)"
   ]
  },
  {
   "cell_type": "code",
   "execution_count": 139,
   "id": "f5bbd20b-a02d-486d-8665-e9a4bbfdc53b",
   "metadata": {},
   "outputs": [
    {
     "data": {
      "text/plain": [
       "231294"
      ]
     },
     "execution_count": 139,
     "metadata": {},
     "output_type": "execute_result"
    }
   ],
   "source": [
    "len(df)"
   ]
  },
  {
   "cell_type": "code",
   "execution_count": 140,
   "id": "fe6af86d-f566-4cbf-968e-ff60462ec80e",
   "metadata": {},
   "outputs": [
    {
     "data": {
      "text/html": [
       "<div>\n",
       "<style scoped>\n",
       "    .dataframe tbody tr th:only-of-type {\n",
       "        vertical-align: middle;\n",
       "    }\n",
       "\n",
       "    .dataframe tbody tr th {\n",
       "        vertical-align: top;\n",
       "    }\n",
       "\n",
       "    .dataframe thead th {\n",
       "        text-align: right;\n",
       "    }\n",
       "</style>\n",
       "<table border=\"1\" class=\"dataframe\">\n",
       "  <thead>\n",
       "    <tr style=\"text-align: right;\">\n",
       "      <th></th>\n",
       "      <th>title</th>\n",
       "      <th>text</th>\n",
       "      <th>overall</th>\n",
       "      <th>value</th>\n",
       "      <th>service</th>\n",
       "      <th>cleanliness</th>\n",
       "    </tr>\n",
       "  </thead>\n",
       "  <tbody>\n",
       "    <tr>\n",
       "      <th>0</th>\n",
       "      <td>“Perfect/Reasonable”</td>\n",
       "      <td>We spent four days at the La Quinta Downtown last week and couldn't have been more pleased. The hotel was impeccably clean, the breakfast was bountiful and the location was convenient to everything you wanted to do. The price was fabulous! We would highly recommend it!</td>\n",
       "      <td>4.0</td>\n",
       "      <td>5.0</td>\n",
       "      <td>3.0</td>\n",
       "      <td>4.0</td>\n",
       "    </tr>\n",
       "    <tr>\n",
       "      <th>1</th>\n",
       "      <td>“Absolutely loved it”</td>\n",
       "      <td>The room was pleasant and the breakfast just fine. But it is the location that makes this hotel remarkable. You step out the door, and TImes Square (and the TKTS booth) is a half block away. I just hope they don't go crazy with the pricing and make this hotel out-of-range for us regular non-business travelers.</td>\n",
       "      <td>4.0</td>\n",
       "      <td>4.0</td>\n",
       "      <td>3.0</td>\n",
       "      <td>4.0</td>\n",
       "    </tr>\n",
       "    <tr>\n",
       "      <th>2</th>\n",
       "      <td>“Our regular at NY City”</td>\n",
       "      <td>Our ladies' troup have become a regular visitor at Casablanca. We simply love the hotel, it's location. Everything is very clean and the staff friendly and helpful. Great location! We will be back for the next trip to NY City</td>\n",
       "      <td>4.0</td>\n",
       "      <td>4.0</td>\n",
       "      <td>4.0</td>\n",
       "      <td>5.0</td>\n",
       "    </tr>\n",
       "    <tr>\n",
       "      <th>3</th>\n",
       "      <td>“Reccommended”</td>\n",
       "      <td>The hotel has a great location, situated behind Wall Street and very close to a number of subway stations. Facilities were great with free wifi and an empty fridge in the hotel room, both a rarity it seems. Rooms were small but ample (and in line with the size of most NY hotel rooms!) and the hotel was clean and the staff helpful. Would definately stay again.</td>\n",
       "      <td>4.0</td>\n",
       "      <td>4.0</td>\n",
       "      <td>4.0</td>\n",
       "      <td>4.0</td>\n",
       "    </tr>\n",
       "    <tr>\n",
       "      <th>4</th>\n",
       "      <td>“Great hotel!!”</td>\n",
       "      <td>I am currently staying at this hotel while I find an apartment in NYC. I moved in here a week ago after a bad experience at a Ramada a few blocks southwest of this place. I LOVE it here.  The beds, first of all, are the most comfy beds EVER. I also love having full control of the AC/heater (don't assume that all NYC hotels do this, I learned the hard way). It's always as hot or cold as I like it.  The free internet access is great... I'd rather it be wireless, but if I had to choose between wired or sketchy wireless, I'd choose wired, so it's fine with me.  The hotel staff is soooo friendly and accomodating. Everyone greets you with a smile and helps when you need something.  The hotel itself is very clean and updated. I know the curb appeal isn't great with all of the scaffolding, but just look beyond that and walk into your own little home in the city.  My only minor complaint is that room service is too expensive and doesn't really have a great variety of food. I know most people eat out when they're in NYC, but I'm stuck here for two weeks on business and sometimes I just want what's easy. Plus, being in midtown, there aren't tons of places right next door to eat (especially on the weekends). But walk a few blocks in any direction, and I guarantee you'll find something to suit your fancy. Oh, and Ray's Original Famous Pizza does deliver here, and it's WONDERFUL. The front desk was kind enough to give me menus of a few places. :) There's tons of shopping six blocks south and one block west, near Macy's... it's easy to walk there and back. And Times Square is an easy walk, too... The Empire State Building is very close, as well, as is Grand Central Terminal, which will take you anywhere you want to go.  All in all, I would recommend this place to anyone staying in Manhattan... it truly has easy access to any place in the city and provides you with the comforts of home. You won't regret this one.</td>\n",
       "      <td>5.0</td>\n",
       "      <td>5.0</td>\n",
       "      <td>5.0</td>\n",
       "      <td>5.0</td>\n",
       "    </tr>\n",
       "  </tbody>\n",
       "</table>\n",
       "</div>"
      ],
      "text/plain": [
       "                      title  \\\n",
       "0      “Perfect/Reasonable”   \n",
       "1     “Absolutely loved it”   \n",
       "2  “Our regular at NY City”   \n",
       "3            “Reccommended”   \n",
       "4           “Great hotel!!”   \n",
       "\n",
       "                                                                                                                                                                                                                                                                                                                                                                                                                                                                                                                                                                                                                                                                                                                                                                                                                                                                                                                                                                                                                                                                                                                                                                                                                                                                                                                                                                                                                                                                                                                                                                                                                                                                                                                                                                                                                                                                                                                                                                                                         text  \\\n",
       "0                                                                                                                                                                                                                                                                                                                                                                                                                                                                                                                                                                                                                                                                                                                                                                                                                                                                                                                                                                                                                                                                                                                                                                                                                                                                                                                                                                                                                                                                                                                                                                                                                                                                                                                               We spent four days at the La Quinta Downtown last week and couldn't have been more pleased. The hotel was impeccably clean, the breakfast was bountiful and the location was convenient to everything you wanted to do. The price was fabulous! We would highly recommend it!   \n",
       "1                                                                                                                                                                                                                                                                                                                                                                                                                                                                                                                                                                                                                                                                                                                                                                                                                                                                                                                                                                                                                                                                                                                                                                                                                                                                                                                                                                                                                                                                                                                                                                                                                                                                                     The room was pleasant and the breakfast just fine. But it is the location that makes this hotel remarkable. You step out the door, and TImes Square (and the TKTS booth) is a half block away. I just hope they don't go crazy with the pricing and make this hotel out-of-range for us regular non-business travelers.   \n",
       "2                                                                                                                                                                                                                                                                                                                                                                                                                                                                                                                                                                                                                                                                                                                                                                                                                                                                                                                                                                                                                                                                                                                                                                                                                                                                                                                                                                                                                                                                                                                                                                                                                                                                                                                                                                           Our ladies' troup have become a regular visitor at Casablanca. We simply love the hotel, it's location. Everything is very clean and the staff friendly and helpful. Great location! We will be back for the next trip to NY City   \n",
       "3                                                                                                                                                                                                                                                                                                                                                                                                                                                                                                                                                                                                                                                                                                                                                                                                                                                                                                                                                                                                                                                                                                                                                                                                                                                                                                                                                                                                                                                                                                                                                                                                                                   The hotel has a great location, situated behind Wall Street and very close to a number of subway stations. Facilities were great with free wifi and an empty fridge in the hotel room, both a rarity it seems. Rooms were small but ample (and in line with the size of most NY hotel rooms!) and the hotel was clean and the staff helpful. Would definately stay again.   \n",
       "4  I am currently staying at this hotel while I find an apartment in NYC. I moved in here a week ago after a bad experience at a Ramada a few blocks southwest of this place. I LOVE it here.  The beds, first of all, are the most comfy beds EVER. I also love having full control of the AC/heater (don't assume that all NYC hotels do this, I learned the hard way). It's always as hot or cold as I like it.  The free internet access is great... I'd rather it be wireless, but if I had to choose between wired or sketchy wireless, I'd choose wired, so it's fine with me.  The hotel staff is soooo friendly and accomodating. Everyone greets you with a smile and helps when you need something.  The hotel itself is very clean and updated. I know the curb appeal isn't great with all of the scaffolding, but just look beyond that and walk into your own little home in the city.  My only minor complaint is that room service is too expensive and doesn't really have a great variety of food. I know most people eat out when they're in NYC, but I'm stuck here for two weeks on business and sometimes I just want what's easy. Plus, being in midtown, there aren't tons of places right next door to eat (especially on the weekends). But walk a few blocks in any direction, and I guarantee you'll find something to suit your fancy. Oh, and Ray's Original Famous Pizza does deliver here, and it's WONDERFUL. The front desk was kind enough to give me menus of a few places. :) There's tons of shopping six blocks south and one block west, near Macy's... it's easy to walk there and back. And Times Square is an easy walk, too... The Empire State Building is very close, as well, as is Grand Central Terminal, which will take you anywhere you want to go.  All in all, I would recommend this place to anyone staying in Manhattan... it truly has easy access to any place in the city and provides you with the comforts of home. You won't regret this one.   \n",
       "\n",
       "   overall  value  service  cleanliness  \n",
       "0      4.0    5.0      3.0          4.0  \n",
       "1      4.0    4.0      3.0          4.0  \n",
       "2      4.0    4.0      4.0          5.0  \n",
       "3      4.0    4.0      4.0          4.0  \n",
       "4      5.0    5.0      5.0          5.0  "
      ]
     },
     "execution_count": 140,
     "metadata": {},
     "output_type": "execute_result"
    }
   ],
   "source": [
    "df.head()"
   ]
  },
  {
   "cell_type": "code",
   "execution_count": 141,
   "id": "a0d37ff3-36ba-41bc-9e9b-b209c7189c2c",
   "metadata": {},
   "outputs": [],
   "source": [
    "df['text'] = df['title'] + \" \" + df['text']"
   ]
  },
  {
   "cell_type": "code",
   "execution_count": 142,
   "id": "b81b8b1c-4eb7-486b-972b-a953689c656e",
   "metadata": {},
   "outputs": [
    {
     "data": {
      "text/plain": [
       "19941"
      ]
     },
     "execution_count": 142,
     "metadata": {},
     "output_type": "execute_result"
    }
   ],
   "source": [
    "max(df['text'].apply(len))"
   ]
  },
  {
   "cell_type": "code",
   "execution_count": 143,
   "id": "b3f2dbd3-23fd-49fe-b688-271cfddabd1e",
   "metadata": {},
   "outputs": [],
   "source": [
    "pd.set_option('display.max_colwidth', 20000)"
   ]
  },
  {
   "cell_type": "markdown",
   "id": "286955d0-7386-40dc-9e06-8e77468638a7",
   "metadata": {},
   "source": [
    "---"
   ]
  },
  {
   "cell_type": "markdown",
   "id": "14ae43dc-6532-4885-9a31-d2945ae4d3a6",
   "metadata": {},
   "source": [
    "## Collect candidate term phrases\n",
    "\n",
    "Collect all sequences of words that match the part-of-speech pattern `(Adj|Noun)+ Noun`"
   ]
  },
  {
   "cell_type": "code",
   "execution_count": 144,
   "id": "20227b3e-955e-4ec5-a1b1-54aa8e790341",
   "metadata": {},
   "outputs": [],
   "source": [
    "import spacy\n",
    "from spacy.matcher import Matcher"
   ]
  },
  {
   "cell_type": "code",
   "execution_count": 145,
   "id": "aa9e66c6-e373-41ee-a6a1-d1283b8726d9",
   "metadata": {},
   "outputs": [],
   "source": [
    "nlp = spacy.load(\n",
    "    \"en_core_web_sm\", exclude=[\"parser\", \"ner\", \"lemmatizer\", \"attribute_ruler\"]\n",
    ")"
   ]
  },
  {
   "cell_type": "code",
   "execution_count": 146,
   "id": "fde4020c-2293-48bc-b08b-43fc57de9a20",
   "metadata": {},
   "outputs": [],
   "source": [
    "matcher = Matcher(nlp.vocab)\n",
    "matcher.add(\n",
    "    \"Term\",\n",
    "    [\n",
    "        [\n",
    "            {\"TAG\": {\"IN\": [\"JJ\", \"NN\", \"NNS\", \"NNP\"]}},\n",
    "            {\"TAG\": {\"IN\": [\"JJ\", \"NN\", \"NNS\", \"NNP\", \"HYPH\"]}, \"OP\": \"*\"},\n",
    "            {\"TAG\": {\"IN\": [\"NN\", \"NNS\", \"NNP\"]}},\n",
    "        ]\n",
    "    ],\n",
    ")"
   ]
  },
  {
   "cell_type": "code",
   "execution_count": 147,
   "id": "4d97be9f-ddb8-4fcc-b354-ea2251fd4cea",
   "metadata": {},
   "outputs": [],
   "source": [
    "def get_phrases(doc):\n",
    "    spans = matcher(doc, as_spans=True)\n",
    "    return [tuple(tok.norm_ for tok in span) for span in spans]"
   ]
  },
  {
   "cell_type": "code",
   "execution_count": 148,
   "id": "3c67f742-998d-40ed-8be2-c4060a0c55a4",
   "metadata": {},
   "outputs": [],
   "source": [
    "doc = nlp(df['text'].iloc[0])"
   ]
  },
  {
   "cell_type": "code",
   "execution_count": 149,
   "id": "16e82d09-9d33-4fed-9346-e0c053b53bad",
   "metadata": {},
   "outputs": [
    {
     "name": "stdout",
     "output_type": "stream",
     "text": [
      "[(“, '``'), (Perfect, 'NNP'), (/, 'SYM'), (Reasonable, 'JJ'), (”, \"''\"), (We, 'PRP'), (spent, 'VBD'), (four, 'CD'), (days, 'NNS'), (at, 'IN'), (the, 'DT'), (La, 'NNP'), (Quinta, 'NNP'), (Downtown, 'NNP'), (last, 'JJ'), (week, 'NN'), (and, 'CC'), (could, 'MD'), (n't, 'RB'), (have, 'VB'), (been, 'VBN'), (more, 'RBR'), (pleased, 'JJ'), (., '.'), (The, 'DT'), (hotel, 'NN'), (was, 'VBD'), (impeccably, 'RB'), (clean, 'JJ'), (,, ','), (the, 'DT'), (breakfast, 'NN'), (was, 'VBD'), (bountiful, 'JJ'), (and, 'CC'), (the, 'DT'), (location, 'NN'), (was, 'VBD'), (convenient, 'JJ'), (to, 'IN'), (everything, 'NN'), (you, 'PRP'), (wanted, 'VBD'), (to, 'TO'), (do, 'VB'), (., '.'), (The, 'DT'), (price, 'NN'), (was, 'VBD'), (fabulous, 'JJ'), (!, '.'), (We, 'PRP'), (would, 'MD'), (highly, 'RB'), (recommend, 'VB'), (it, 'PRP'), (!, '.')]\n"
     ]
    }
   ],
   "source": [
    "print([(t, t.tag_) for t in doc])"
   ]
  },
  {
   "cell_type": "code",
   "execution_count": 150,
   "id": "a181556b-9f5a-4015-8d83-eaaa7f5eeabb",
   "metadata": {},
   "outputs": [
    {
     "name": "stdout",
     "output_type": "stream",
     "text": [
      "[('la', 'quinta'), ('quinta', 'downtown'), ('la', 'quinta', 'downtown'), ('last', 'week'), ('downtown', 'last', 'week'), ('quinta', 'downtown', 'last', 'week'), ('la', 'quinta', 'downtown', 'last', 'week')]\n"
     ]
    }
   ],
   "source": [
    "print(list(get_phrases(doc)))"
   ]
  },
  {
   "cell_type": "code",
   "execution_count": 151,
   "id": "2e8d7ed5-e2a0-4142-860a-e2fa44868774",
   "metadata": {},
   "outputs": [
    {
     "name": "stderr",
     "output_type": "stream",
     "text": [
      "100%|██████████| 231294/231294 [09:23<00:00, 410.76it/s]\n"
     ]
    }
   ],
   "source": [
    "candidates = list(\n",
    "    concat(map(get_phrases, nlp.pipe(tqdm(df[\"text\"]), batch_size=20, n_process=4)))\n",
    ")"
   ]
  },
  {
   "cell_type": "code",
   "execution_count": 152,
   "id": "16b646af-f2c9-4c59-bb22-1a20eb3f6f71",
   "metadata": {},
   "outputs": [],
   "source": [
    "import pickle\n",
    "\n",
    "with open(\"cands.pkl\", \"wb\") as out:\n",
    "    pickle.dump(candidates, out)"
   ]
  },
  {
   "cell_type": "code",
   "execution_count": 153,
   "id": "e85879a3-e059-4771-9465-d17cb2cda111",
   "metadata": {},
   "outputs": [
    {
     "data": {
      "text/plain": [
       "[('la', 'quinta'),\n",
       " ('quinta', 'downtown'),\n",
       " ('la', 'quinta', 'downtown'),\n",
       " ('last', 'week'),\n",
       " ('downtown', 'last', 'week'),\n",
       " ('quinta', 'downtown', 'last', 'week'),\n",
       " ('la', 'quinta', 'downtown', 'last', 'week'),\n",
       " ('times', 'square'),\n",
       " ('tkts', 'booth'),\n",
       " ('half', 'block')]"
      ]
     },
     "execution_count": 153,
     "metadata": {},
     "output_type": "execute_result"
    }
   ],
   "source": [
    "candidates[:10]"
   ]
  },
  {
   "cell_type": "code",
   "execution_count": 154,
   "id": "08f516d6-4874-494b-acf7-506a81c0d366",
   "metadata": {},
   "outputs": [],
   "source": [
    "freqs = defaultdict(nltk.FreqDist)\n",
    "for c in candidates:\n",
    "    freqs[len(c)][c] += 1"
   ]
  },
  {
   "cell_type": "code",
   "execution_count": 155,
   "id": "8d99a03b-25d2-4dc5-a07a-059c771447e1",
   "metadata": {},
   "outputs": [
    {
     "data": {
      "text/plain": [
       "dict_keys([2, 3, 4, 5, 6, 7, 8, 9, 10, 12, 13, 11, 15, 16, 14, 17, 18, 19, 20, 21, 22, 23, 24, 25, 26, 27, 28, 29, 30, 31, 32, 33, 34, 35, 36, 37, 38, 39, 40, 41, 42, 43, 44, 45, 46, 47, 49, 52, 55, 58, 61, 64, 67, 70, 73, 76, 79, 82, 85, 88, 91, 94, 97, 100, 103, 106, 109, 112, 115, 118, 121])"
      ]
     },
     "execution_count": 155,
     "metadata": {},
     "output_type": "execute_result"
    }
   ],
   "source": [
    "freqs.keys()"
   ]
  },
  {
   "cell_type": "code",
   "execution_count": 156,
   "id": "820bc589-0aac-44f9-8d2a-51bbbb61e07e",
   "metadata": {},
   "outputs": [
    {
     "data": {
      "text/plain": [
       "FreqDist({('off', '-on', '-', 'off', '-on', '-', 'off', '-on', '-', 'off', '-on', '-', 'off', '-on', '-', 'off', '-on', '-', 'off', '-on', '-', 'off'): 34, ('=', '=', '=', '=', '=', '=', '=', '=', '=', '=', '=', '=', '=', '=', '=', '=', '=', '=', '=', '=', '=', '='): 28, ('new', 'york', \"n'hesiter\", 'pas', 'cet', 'hotel', 'est', 'au', 'centre', 'de', 'tout', 'la', 'vue', 'est', 'magnifique', 'et', 'le', 'service', 'au', 'top', \"n'hesiter\", 'pas'): 1, ('york', \"n'hesiter\", 'pas', 'cet', 'hotel', 'est', 'au', 'centre', 'de', 'tout', 'la', 'vue', 'est', 'magnifique', 'et', 'le', 'service', 'au', 'top', \"n'hesiter\", 'pas', 'a'): 1, (\"n'hesiter\", 'pas', 'cet', 'hotel', 'est', 'au', 'centre', 'de', 'tout', 'la', 'vue', 'est', 'magnifique', 'et', 'le', 'service', 'au', 'top', \"n'hesiter\", 'pas', 'a', 'soliciter'): 1, ('pas', 'cet', 'hotel', 'est', 'au', 'centre', 'de', 'tout', 'la', 'vue', 'est', 'magnifique', 'et', 'le', 'service', 'au', 'top', \"n'hesiter\", 'pas', 'a', 'soliciter', 'le'): 1, ('cet', 'hotel', 'est', 'au', 'centre', 'de', 'tout', 'la', 'vue', 'est', 'magnifique', 'et', 'le', 'service', 'au', 'top', \"n'hesiter\", 'pas', 'a', 'soliciter', 'le', 'concerge'): 1, ('hotel', 'est', 'au', 'centre', 'de', 'tout', 'la', 'vue', 'est', 'magnifique', 'et', 'le', 'service', 'au', 'top', \"n'hesiter\", 'pas', 'a', 'soliciter', 'le', 'concerge', 'pour'): 1, ('est', 'au', 'centre', 'de', 'tout', 'la', 'vue', 'est', 'magnifique', 'et', 'le', 'service', 'au', 'top', \"n'hesiter\", 'pas', 'a', 'soliciter', 'le', 'concerge', 'pour', 'n'): 1, ('au', 'centre', 'de', 'tout', 'la', 'vue', 'est', 'magnifique', 'et', 'le', 'service', 'au', 'top', \"n'hesiter\", 'pas', 'a', 'soliciter', 'le', 'concerge', 'pour', 'n', 'iporte'): 1, ...})"
      ]
     },
     "execution_count": 156,
     "metadata": {},
     "output_type": "execute_result"
    }
   ],
   "source": [
    "freqs[22]"
   ]
  },
  {
   "cell_type": "code",
   "execution_count": 157,
   "id": "55ab9e7b-7492-4071-9f4b-6f53eba89882",
   "metadata": {},
   "outputs": [
    {
     "data": {
      "text/plain": [
       "[(('=', '=', '=', '=', '=', '=', '=', '=', '=', '='), 64),\n",
       " (('off', '-on', '-', 'off', '-on', '-', 'off', '-on', '-', 'off'), 38),\n",
       " (('preauth',\n",
       "   'ocean',\n",
       "   'park',\n",
       "   'inn',\n",
       "   'ocean',\n",
       "   'park',\n",
       "   'inn',\n",
       "   'san',\n",
       "   'diego',\n",
       "   'caus'),\n",
       "  4),\n",
       " (('-', 'o', '-', 'o', '-', 'o', '-', 'o', '-', 'o'), 2),\n",
       " (('s', '-', 'l', '-', 'o', '-', 'o', '-', 'o', '-'), 2),\n",
       " (('o', '-', 'o', '-', 'o', '-', 'o', '-', 'o', '-'), 2),\n",
       " (('fast',\n",
       "   'wireless',\n",
       "   'high',\n",
       "   '-',\n",
       "   'speed',\n",
       "   'internet',\n",
       "   'access',\n",
       "   '-',\n",
       "   'indoor',\n",
       "   'pool'),\n",
       "  1),\n",
       " (('nice',\n",
       "   'lobby',\n",
       "   '-',\n",
       "   'friendly',\n",
       "   'helpful',\n",
       "   'staff',\n",
       "   '-',\n",
       "   'free',\n",
       "   'airport',\n",
       "   'shuttle'),\n",
       "  1),\n",
       " (('friendly',\n",
       "   'helpful',\n",
       "   'staff',\n",
       "   '-',\n",
       "   'free',\n",
       "   'airport',\n",
       "   'shuttle',\n",
       "   '-',\n",
       "   'good',\n",
       "   'insulation'),\n",
       "  1),\n",
       " (('new',\n",
       "   'york',\n",
       "   \"n'hesiter\",\n",
       "   'pas',\n",
       "   'cet',\n",
       "   'hotel',\n",
       "   'est',\n",
       "   'au',\n",
       "   'centre',\n",
       "   'de'),\n",
       "  1)]"
      ]
     },
     "execution_count": 157,
     "metadata": {},
     "output_type": "execute_result"
    }
   ],
   "source": [
    "freqs[10].most_common(10)"
   ]
  },
  {
   "cell_type": "markdown",
   "id": "981ecd5a-4615-4a18-a155-55bb138f3d67",
   "metadata": {},
   "source": [
    "-----\n",
    "\n",
    "## Extract terms\n",
    "\n",
    "Calculate c-values for candidate phrases\n",
    "\n",
    "$$\\textrm{C-value}(a)=\n",
    "\\begin{cases}\n",
    "\\log_2|a|\\cdot f(a) & \\mbox{if } a \\mbox{ is not nested}\\\\\n",
    "\\log_2|a|\\left(f(a)-\\frac{1}{P(T_a)}\\sum_{b\\in T_a}f(b)\\right) & \\mbox{otherwise}\\\\\n",
    "\\end{cases}\n",
    "$$\n",
    "\n",
    "and select terms above threshold value $\\theta$"
   ]
  },
  {
   "cell_type": "code",
   "execution_count": 158,
   "id": "f1cac33d-7b3e-4521-9b3f-d98bf6c091f9",
   "metadata": {},
   "outputs": [],
   "source": [
    "def get_subterms(term):\n",
    "    k = len(term)\n",
    "    for m in range(k - 1, 1, -1):\n",
    "        yield from nltk.ngrams(term, m)\n",
    "\n",
    "\n",
    "def c_value(F, theta):\n",
    "\n",
    "    termhood = nltk.FreqDist()\n",
    "    longer = defaultdict(list)\n",
    "\n",
    "    for k in sorted(F, reverse=True):\n",
    "        for term in F[k]:\n",
    "            if term in longer:\n",
    "                discount = sum(longer[term]) / len(longer[term])\n",
    "            else:\n",
    "                discount = 0\n",
    "            c = np.log2(k) * (F[k][term] - discount)\n",
    "            if c > theta:\n",
    "                termhood[term] = c\n",
    "                for subterm in get_subterms(term):\n",
    "                    if subterm in F[len(subterm)]:\n",
    "                        longer[subterm].append(F[k][term])\n",
    "    return termhood"
   ]
  },
  {
   "cell_type": "code",
   "execution_count": 159,
   "id": "d0eab447-20aa-457a-a513-fe0204dcfc76",
   "metadata": {},
   "outputs": [],
   "source": [
    "terms = c_value(freqs, theta=200)"
   ]
  },
  {
   "cell_type": "code",
   "execution_count": 160,
   "id": "1c92aaf0-f90a-4e10-8077-df6a77c4ba44",
   "metadata": {},
   "outputs": [
    {
     "data": {
      "text/plain": [
       "[(('front', 'desk'), 44853.470588235294),\n",
       " (('great', 'location'), 34337.0),\n",
       " (('new', 'york'), 22039.0),\n",
       " (('times', 'square'), 15835.333333333334),\n",
       " (('great', 'hotel'), 14015.0),\n",
       " (('room', 'service'), 13001.333333333334),\n",
       " (('front', 'desk', 'staff'), 12226.400730562998),\n",
       " (('check', '-', 'in'), 10533.660779792803),\n",
       " (('good', 'location'), 9844.0),\n",
       " (('san', 'francisco'), 9223.0)]"
      ]
     },
     "execution_count": 160,
     "metadata": {},
     "output_type": "execute_result"
    }
   ],
   "source": [
    "terms.most_common(10)"
   ]
  },
  {
   "cell_type": "markdown",
   "id": "7e544f2f-a58f-4ec0-8eab-28ab1c54135b",
   "metadata": {},
   "source": [
    "Check threshold: are the items at the bottom of the list (with the lowest c-values) really terms? If not, increase $\\theta$ and try again. Repeat until we're happy with the results."
   ]
  },
  {
   "cell_type": "code",
   "execution_count": 161,
   "id": "a3bed056-bd0d-4751-99c1-3c1aa4689db1",
   "metadata": {},
   "outputs": [
    {
     "data": {
      "text/plain": [
       "[(('corporate', 'rate'), 201.0),\n",
       " (('package', 'deal'), 201.0),\n",
       " (('several', 'nights'), 201.0),\n",
       " (('shower', 'door'), 201.0),\n",
       " (('new', 'furniture'), 201.0),\n",
       " (('boston', 'commons'), 201.0),\n",
       " (('extra', 'blankets'), 201.0),\n",
       " (('amazing', 'place'), 201.0),\n",
       " (('lobby', 'level'), 201.0),\n",
       " (('=', '=', '=', '=', '=', '=', '=', '=', '=', '=', '='), 200.64703388096325)]"
      ]
     },
     "execution_count": 161,
     "metadata": {},
     "output_type": "execute_result"
    }
   ],
   "source": [
    "terms.most_common()[-10:]"
   ]
  },
  {
   "cell_type": "code",
   "execution_count": 162,
   "id": "3c0cdf10-3323-4c56-80fb-e01c31e5dba2",
   "metadata": {},
   "outputs": [
    {
     "data": {
      "text/plain": [
       "[(('corporate', 'rate'), 201.0),\n",
       " (('package', 'deal'), 201.0),\n",
       " (('several', 'nights'), 201.0),\n",
       " (('shower', 'door'), 201.0),\n",
       " (('new', 'furniture'), 201.0),\n",
       " (('boston', 'commons'), 201.0),\n",
       " (('extra', 'blankets'), 201.0),\n",
       " (('amazing', 'place'), 201.0),\n",
       " (('lobby', 'level'), 201.0),\n",
       " (('=', '=', '=', '=', '=', '=', '=', '=', '=', '=', '='), 200.64703388096325)]"
      ]
     },
     "execution_count": 162,
     "metadata": {},
     "output_type": "execute_result"
    }
   ],
   "source": [
    "terms.most_common()[-10:]"
   ]
  },
  {
   "cell_type": "code",
   "execution_count": 163,
   "id": "920d14a9-ee1a-4a06-9cf9-0e201e5ca2c1",
   "metadata": {},
   "outputs": [
    {
     "data": {
      "text/plain": [
       "[(('front', 'desk'), 44853.470588235294),\n",
       " (('great', 'location'), 34337.0),\n",
       " (('new', 'york'), 22039.0),\n",
       " (('times', 'square'), 15835.333333333334),\n",
       " (('great', 'hotel'), 14015.0),\n",
       " (('room', 'service'), 13001.333333333334),\n",
       " (('front', 'desk', 'staff'), 12226.400730562998),\n",
       " (('check', '-', 'in'), 10533.660779792803),\n",
       " (('good', 'location'), 9844.0),\n",
       " (('san', 'francisco'), 9223.0)]"
      ]
     },
     "execution_count": 163,
     "metadata": {},
     "output_type": "execute_result"
    }
   ],
   "source": [
    "terms.most_common(10)"
   ]
  },
  {
   "cell_type": "markdown",
   "id": "22bf4032-eae0-4e9f-90c7-9fb26e321972",
   "metadata": {},
   "source": [
    "Save terms for later use"
   ]
  },
  {
   "cell_type": "code",
   "execution_count": 164,
   "id": "e48fb6cb-9a4c-45f5-8641-6d972de94ee4",
   "metadata": {},
   "outputs": [],
   "source": [
    "with open('terms.txt', 'w') as f:\n",
    "    for term in terms:\n",
    "        print(' '.join(term), file=f)"
   ]
  },
  {
   "cell_type": "markdown",
   "id": "9af22f2a-c115-4873-b2d3-20a6298f364f",
   "metadata": {},
   "source": [
    "-----\n",
    "\n",
    "## Multi-word tokenizer\n",
    "\n",
    "Here we define a tokenizer that recognizes multi-word terms as single tokens"
   ]
  },
  {
   "cell_type": "code",
   "execution_count": 165,
   "id": "0fb00e25-064a-4c90-9216-51fbb2aadd2a",
   "metadata": {},
   "outputs": [],
   "source": [
    "from spacy.matcher import PhraseMatcher\n",
    "from spacy.util import filter_spans"
   ]
  },
  {
   "cell_type": "code",
   "execution_count": 166,
   "id": "80e0b63d-c2b7-455f-8b13-3fbee1a28de7",
   "metadata": {},
   "outputs": [],
   "source": [
    "nlp = spacy.load(\n",
    "    \"en_core_web_sm\",\n",
    "    exclude=[\"tagger\", \"parser\", \"ner\", \"lemmatizer\", \"attribute_ruler\"],\n",
    ")\n",
    "phraser = PhraseMatcher(nlp.vocab, attr=\"LOWER\")"
   ]
  },
  {
   "cell_type": "code",
   "execution_count": 167,
   "id": "7e483d50-91d0-4f78-a5da-053e2fc3367d",
   "metadata": {},
   "outputs": [],
   "source": [
    "with open('terms.txt', 'r') as f:\n",
    "    phraser.add(\"TERM\", [nlp.tokenizer(t.strip()) for t in f])"
   ]
  },
  {
   "cell_type": "code",
   "execution_count": 168,
   "id": "45d25e40-df14-4072-b4e6-c9ceba847858",
   "metadata": {},
   "outputs": [],
   "source": [
    "def tokenize(text, sep=\"_\"):\n",
    "    doc = nlp.tokenizer(text)\n",
    "    with doc.retokenize() as r:\n",
    "        for span in filter_spans(phraser(doc, as_spans=True)):\n",
    "            r.merge(span)\n",
    "    return [t.norm_.replace(\" \", sep) for t in doc if not t.is_space and not t.is_punct]"
   ]
  },
  {
   "cell_type": "code",
   "execution_count": 169,
   "id": "20262dcd-e65c-461d-973c-ee4a9fd2a655",
   "metadata": {},
   "outputs": [
    {
     "name": "stdout",
     "output_type": "stream",
     "text": [
      "['perfect', 'reasonable', 'we', 'spent', 'four', 'days', 'at', 'the', 'la_quinta', 'downtown', 'last_week', 'and', 'could', 'not', 'have', 'been', 'more', 'pleased', 'the', 'hotel', 'was', 'impeccably', 'clean', 'the', 'breakfast', 'was', 'bountiful', 'and', 'the', 'location', 'was', 'convenient', 'to', 'everything', 'you', 'wanted', 'to', 'do', 'the', 'price', 'was', 'fabulous', 'we', 'would', 'highly', 'recommend', 'it']\n"
     ]
    }
   ],
   "source": [
    "print(tokenize(df['text'].iloc[0]))"
   ]
  },
  {
   "cell_type": "markdown",
   "id": "6fd042ae-5817-4f8e-8c5f-fa82e804f7a4",
   "metadata": {},
   "source": [
    "----\n",
    "\n",
    "## Word clouds\n",
    "\n",
    "In this last section, use the tokenizer defined above to make some word clouds comparing good and bad hotels (let's say good = five stars and bad = one or two stars). You might want to look at both the overall rating and some of the sub-scores (like value and service). Can you draw any conclusions that might be useful for hotel owners and managers?\n",
    "\n",
    "When you are finished, download your notebook file (with a name ending in .ipynb) and submit it via Canvas."
   ]
  },
  {
   "cell_type": "code",
   "execution_count": null,
   "id": "49ce13ff-da95-4ab7-a5e5-1a207c14440f",
   "metadata": {},
   "outputs": [],
   "source": [
    "total = nltk.FreqDist(concat(df[\"text\"].apply(tokenize)))\n",
    "bad = nltk.FreqDist(concat(df.query(\"overall <= 2 & value <= 2 & service <= 2 \")[\"text\"].apply(tokenize)))\n",
    "good = nltk.FreqDist(concat(df.query(\"overall == 5 & value == 5 & service == 5\")[\"text\"].apply(tokenize)))"
   ]
  },
  {
   "cell_type": "code",
   "execution_count": null,
   "id": "2bed141e-e8d0-42ba-968f-a068f4a45ced",
   "metadata": {},
   "outputs": [],
   "source": [
    "good.most_common(5)"
   ]
  },
  {
   "cell_type": "code",
   "execution_count": null,
   "id": "748fc1d1-d096-4a58-993f-0ae62a0b9ec3",
   "metadata": {},
   "outputs": [],
   "source": [
    "bad.most_common(5)"
   ]
  },
  {
   "cell_type": "code",
   "execution_count": null,
   "id": "9e2634b2-efd0-4ce7-b969-aecbccb0d361",
   "metadata": {},
   "outputs": [],
   "source": [
    "metrics = nltk.BigramAssocMeasures()\n",
    "metrics.likelihood_ratio(bad[\"ugly\"], (total[\"ugly\"], bad.N()), total.N())"
   ]
  },
  {
   "cell_type": "code",
   "execution_count": null,
   "id": "b511baed-54b8-46c2-80a4-b9d427de20c7",
   "metadata": {},
   "outputs": [],
   "source": [
    "bad_llr = nltk.FreqDist()\n",
    "bad_pmi = nltk.FreqDist()\n",
    "\n",
    "for w in bad:\n",
    "    if bad[w] > 10:\n",
    "        bad_llr[w] = metrics.likelihood_ratio(bad[w], (total[w], bad.N()), total.N())\n",
    "        bad_pmi[w] = metrics.pmi(bad[w], (total[w], bad.N()), total.N())"
   ]
  },
  {
   "cell_type": "code",
   "execution_count": null,
   "id": "d727b849-5063-491b-a6bd-b590cc051bb7",
   "metadata": {},
   "outputs": [],
   "source": [
    "bad_llr.most_common(10)"
   ]
  },
  {
   "cell_type": "code",
   "execution_count": null,
   "id": "c038af19-fe45-4a3b-8586-76c8d9cdb856",
   "metadata": {},
   "outputs": [],
   "source": [
    "bad_pmi.most_common(10)"
   ]
  },
  {
   "cell_type": "code",
   "execution_count": null,
   "id": "ac262263-837e-4797-a705-712b9a27f262",
   "metadata": {},
   "outputs": [],
   "source": [
    "def cloud(freqs, title, k=50):\n",
    "    plt.figure(figsize=(8, 8))\n",
    "    wc = WordCloud(\n",
    "        width=750, height=750, background_color=\"black\"\n",
    "    ).generate_from_frequencies(freqs)\n",
    "    plt.title(title)\n",
    "    plt.axis(\"off\")\n",
    "    plt.imshow(wc, interpolation=\"bilinear\")\n",
    "    plt.show()"
   ]
  },
  {
   "cell_type": "code",
   "execution_count": null,
   "id": "322bee40-02af-4cea-9608-c1b76baef0d8",
   "metadata": {},
   "outputs": [],
   "source": [
    "cloud(bad, \"Bad reviews (by frequency)\")"
   ]
  },
  {
   "cell_type": "markdown",
   "id": "8e051642-9c4a-471d-a5d7-41864cfaa9d5",
   "metadata": {},
   "source": [
    "Bad reviews with words by frequency happen to be the commonly used terms in any sentences like articles, prepositions, helping verbs etc."
   ]
  },
  {
   "cell_type": "code",
   "execution_count": null,
   "id": "4c2cbc18-8c20-46d7-bf8e-052f0cd8148a",
   "metadata": {},
   "outputs": [],
   "source": [
    "cloud(bad_pmi, \"Bad reviews (by pmi)\")"
   ]
  },
  {
   "cell_type": "code",
   "execution_count": null,
   "id": "c7f52f9b-62a5-4b3e-8de2-c804187b53e6",
   "metadata": {},
   "outputs": [],
   "source": [
    "df.query('text.str.contains(\"Kenlen\")')"
   ]
  },
  {
   "cell_type": "code",
   "execution_count": null,
   "id": "1765b365-855a-4c4b-a948-c4d526dc07e9",
   "metadata": {},
   "outputs": [],
   "source": [
    "df.query('text.str.contains(\"woogo\")')"
   ]
  },
  {
   "cell_type": "markdown",
   "id": "c49e0570-fa58-41f5-a5a6-dea519f9568e",
   "metadata": {},
   "source": [
    "When you look at bad review words by pmi, it can be inferred that the highest scored word was the name of a person which is \n",
    "mentioned in only one review. Others like bbb is found to be mostly mis spelled in words like lobby. \n",
    "\n",
    "While the entire bad reviews based on pmi scores seems like more related to customer service and their bad experiences with staff.\n",
    "Improving Customer service will make a big change for hotels with bad reviews.\n"
   ]
  },
  {
   "cell_type": "code",
   "execution_count": null,
   "id": "3bdb65d4-e1ea-4f20-bea3-29034207819e",
   "metadata": {},
   "outputs": [],
   "source": [
    "cloud(bad_llr, \"Bad reviews (by llr)\")"
   ]
  },
  {
   "cell_type": "markdown",
   "id": "2b8307b5-7e1f-4b57-8f87-765c15cbd09d",
   "metadata": {},
   "source": [
    "Not a lot of good outputs from llr in terms of highest scored bad review words but most seems like cleanliness issues."
   ]
  },
  {
   "cell_type": "code",
   "execution_count": null,
   "id": "4901e7a5-f3e0-4f2f-86ba-127807f9864a",
   "metadata": {},
   "outputs": [],
   "source": [
    "good_llr = nltk.FreqDist()\n",
    "good_pmi = nltk.FreqDist()\n",
    "\n",
    "for w in good:\n",
    "    if good[w] > 10:\n",
    "        good_llr[w] = metrics.likelihood_ratio(good[w], (total[w], good.N()), total.N())\n",
    "        good_pmi[w] = metrics.pmi(good[w], (total[w], good.N()), total.N())\n"
   ]
  },
  {
   "cell_type": "code",
   "execution_count": null,
   "id": "aaf36f43-2608-46b0-992c-6f44cd98ce39",
   "metadata": {},
   "outputs": [],
   "source": [
    "good_llr.most_common(5)"
   ]
  },
  {
   "cell_type": "code",
   "execution_count": null,
   "id": "68bbdfce-d74e-4cf5-8a6c-472e84ba8086",
   "metadata": {},
   "outputs": [],
   "source": [
    "good_pmi.most_common(5)"
   ]
  },
  {
   "cell_type": "code",
   "execution_count": null,
   "id": "92ed0a52-0b27-47f3-b6ba-6fcecec5ef84",
   "metadata": {},
   "outputs": [],
   "source": [
    "cloud(good, \"Good reviews (by frequency)\")"
   ]
  },
  {
   "cell_type": "code",
   "execution_count": null,
   "id": "ebef2d0c-6006-4c4e-ac53-512bbd7b5587",
   "metadata": {},
   "outputs": [],
   "source": [
    "cloud(good_llr, \"Good reviews (by llr)\")"
   ]
  },
  {
   "cell_type": "code",
   "execution_count": null,
   "id": "a4bdfd6a-9e90-4dc0-95ed-ca73ff76b7b0",
   "metadata": {},
   "outputs": [],
   "source": [
    "cloud(good_pmi, \"Good reviews (by pmi)\")"
   ]
  },
  {
   "cell_type": "code",
   "execution_count": null,
   "id": "2f4d96bd-b9d1-4279-ac32-35dd8fde11e2",
   "metadata": {},
   "outputs": [],
   "source": [
    "df.query('text.str.contains(\"Karli\")')"
   ]
  },
  {
   "cell_type": "markdown",
   "id": "df055676-6d63-48f9-9a5f-5d3a36f48622",
   "metadata": {},
   "source": [
    "Most of high scored good review words seems to regarding their customer satisfaction in regards to how they were treated. \n",
    "Some of them were customer names and staff names who got high praises."
   ]
  }
 ],
 "metadata": {
  "kernelspec": {
   "display_name": "Python 3 (ipykernel)",
   "language": "python",
   "name": "python3"
  },
  "language_info": {
   "codemirror_mode": {
    "name": "ipython",
    "version": 3
   },
   "file_extension": ".py",
   "mimetype": "text/x-python",
   "name": "python",
   "nbconvert_exporter": "python",
   "pygments_lexer": "ipython3",
   "version": "3.10.8"
  }
 },
 "nbformat": 4,
 "nbformat_minor": 5
}
