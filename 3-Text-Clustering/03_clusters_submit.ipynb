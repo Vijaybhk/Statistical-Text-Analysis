{
  "cells": [
    {
      "cell_type": "markdown",
      "id": "fdfb90b1-75f4-4f75-8f6c-93b74f45bfb3",
      "metadata": {
        "tags": [],
        "id": "fdfb90b1-75f4-4f75-8f6c-93b74f45bfb3"
      },
      "source": [
        "# Lab 3: Text clustering\n",
        "\n",
        "Generate and interpret document and term clusters from hotel reviews\n",
        "\n",
        "Objectives:\n",
        "\n",
        "- work with sklearn components\n",
        "- construct document-term and term-document matrices\n",
        "- apply dimensionality reduction\n",
        "- perform cluster analysis on document and term collections\n",
        "- interpret results"
      ]
    },
    {
      "cell_type": "code",
      "execution_count": null,
      "id": "91f8a412-da30-4be7-beb3-42da5fe7d27b",
      "metadata": {
        "id": "91f8a412-da30-4be7-beb3-42da5fe7d27b"
      },
      "outputs": [],
      "source": [
        "import re\n",
        "\n",
        "import nltk\n",
        "import numpy as np\n",
        "import pandas as pd\n",
        "from cytoolz import *"
      ]
    },
    {
      "cell_type": "code",
      "execution_count": null,
      "id": "a6b4ad01-5e25-4b04-abc9-aa1f078880c2",
      "metadata": {
        "id": "a6b4ad01-5e25-4b04-abc9-aa1f078880c2"
      },
      "outputs": [],
      "source": [
        "pd.set_option(\"display.max_colwidth\", None)"
      ]
    },
    {
      "cell_type": "code",
      "execution_count": null,
      "id": "c4d5d8bf-eb11-42bf-9928-406c68b52029",
      "metadata": {
        "id": "c4d5d8bf-eb11-42bf-9928-406c68b52029"
      },
      "outputs": [],
      "source": [
        "df = pd.read_pickle(\"/data/hotels_id.pkl\")\n",
        "lax = df.query('offering_id==1762573')"
      ]
    },
    {
      "cell_type": "code",
      "execution_count": null,
      "id": "3ed76bd4-3ffe-46c1-a562-c5ff62ecda22",
      "metadata": {
        "collapsed": true,
        "jupyter": {
          "outputs_hidden": true
        },
        "tags": [],
        "id": "3ed76bd4-3ffe-46c1-a562-c5ff62ecda22",
        "outputId": "9c9609d0-f6ab-403f-b65f-1b21367a9667"
      },
      "outputs": [
        {
          "data": {
            "text/html": [
              "<div>\n",
              "<style scoped>\n",
              "    .dataframe tbody tr th:only-of-type {\n",
              "        vertical-align: middle;\n",
              "    }\n",
              "\n",
              "    .dataframe tbody tr th {\n",
              "        vertical-align: top;\n",
              "    }\n",
              "\n",
              "    .dataframe thead th {\n",
              "        text-align: right;\n",
              "    }\n",
              "</style>\n",
              "<table border=\"1\" class=\"dataframe\">\n",
              "  <thead>\n",
              "    <tr style=\"text-align: right;\">\n",
              "      <th></th>\n",
              "      <th>title</th>\n",
              "      <th>text</th>\n",
              "      <th>overall</th>\n",
              "      <th>value</th>\n",
              "      <th>service</th>\n",
              "      <th>cleanliness</th>\n",
              "      <th>offering_id</th>\n",
              "    </tr>\n",
              "  </thead>\n",
              "  <tbody>\n",
              "    <tr>\n",
              "      <th>0</th>\n",
              "      <td>“Truly is \"Jewel of the Upper Wets Side\"”</td>\n",
              "      <td>Stayed in a king suite for 11 nights and yes it cots us a bit but we were happy with the standard of room, the location and the friendliness of the staff. Our room was on the 20th floor overlooking Broadway and the madhouse of the Fairway Market. Room was quite with no noise evident from the hallway or adjoining rooms. It was great to be able to open windows when we craved fresh rather than heated air. The beds, including the fold out sofa bed, were comfortable and the rooms were cleaned well. Wi-fi access worked like a dream with only one connectivity issue on our first night and this was promptly responded to with a call from the service provider to ensure that all was well. The location close to the 72nd Street subway station is great and the complimentary umbrellas on the drizzly days were greatly appreciated. It is fabulous to have the kitchen with cooking facilities and the access to a whole range of fresh foods directly across the road at Fairway.\\nThis is the second time that members of the party have stayed at the Beacon and it will certainly be our hotel of choice for future visits.</td>\n",
              "      <td>5.0</td>\n",
              "      <td>5.0</td>\n",
              "      <td>5.0</td>\n",
              "      <td>5.0</td>\n",
              "      <td>93338</td>\n",
              "    </tr>\n",
              "    <tr>\n",
              "      <th>1</th>\n",
              "      <td>“My home away from home!”</td>\n",
              "      <td>On every visit to NYC, the Hotel Beacon is the place we love to stay. So conveniently located to Central Park, Lincoln Center and great local restaurants. The rooms are lovely - beds so comfortable, a great little kitchen and new wizz bang coffee maker. The staff are so accommodating and just love walking across the street to the Fairway supermarket with every imaginable goodies to eat (if you choose not to go out for every meal!)</td>\n",
              "      <td>5.0</td>\n",
              "      <td>5.0</td>\n",
              "      <td>5.0</td>\n",
              "      <td>5.0</td>\n",
              "      <td>93338</td>\n",
              "    </tr>\n",
              "    <tr>\n",
              "      <th>2</th>\n",
              "      <td>“Great Stay”</td>\n",
              "      <td>This is a great property in Midtown. We two different rooms different rooms during our stay. The first room was in the North tower, which was quite inconvenient. You have to go through the conference area to get to the north elevators. \\nThe second room was the Andaz Suite. It was nicely appointed room, but the best part about it was the bathroom. From the foot soaking bowl to the bath products, everything about the bathroom was awesome!\\nLemon poppy-seed pancakes are must haves at the restaurant. One of the best pancakes ever.</td>\n",
              "      <td>4.0</td>\n",
              "      <td>4.0</td>\n",
              "      <td>4.0</td>\n",
              "      <td>5.0</td>\n",
              "      <td>1762573</td>\n",
              "    </tr>\n",
              "    <tr>\n",
              "      <th>3</th>\n",
              "      <td>“Modern Convenience”</td>\n",
              "      <td>The Andaz is a nice hotel in a central location of Manhattan. The Hyatt has come up with a modern hotel that is both comfortable and convenient. When you arrive you are greeted by friendly \"Hosts\" and they walk you to the check-in desk while offering you a beverage. \\nWe had a one bedroom suite that accommodated four people reasonably well. Plenty of closet space, well lit with floor to ceiling windows, and actually quiet!\\nThe bathroom was large with a very nice walk-in shower and a built-in bench with unique low spout to wash your feet.\\nThe kitchenette was a nice touch with a stocked fridge offering complimentary non-alcoholic beverages and snacks, dishes and utensils, a sink, dishwasher, and a microwave. \\nThey have daily Happy Hour(s) where you can get a complimentary decent glass of wine in the modest Lobby Lounge and bring it to your room. The Lobby Lounge has some seating and one table with 8 or so chairs where you can buy food from the adjacent restaurant. One suggestion is to offer selections of cheese and crackers platters to go with that wine. We ordered one that had to be custom made, but it worked well. \\nWe didn't eat in the hotel restaurants. The restaurant off the lobby was very pricey for breakfast (+$20 per entree). When you can get a decent breakfast within a block or two of the hotel for under $10, what can I say?\\nAs a hotel designer and someone who is very picky about hotels, I will definitely stay there again and I highly recommend it.</td>\n",
              "      <td>4.0</td>\n",
              "      <td>5.0</td>\n",
              "      <td>5.0</td>\n",
              "      <td>5.0</td>\n",
              "      <td>1762573</td>\n",
              "    </tr>\n",
              "    <tr>\n",
              "      <th>4</th>\n",
              "      <td>“Its the best of the Andaz Brand in the US....”</td>\n",
              "      <td>I have stayed at each of the US Andaz properties, and this one is the best of them all. MUCH better than the West Hollywood property where Brand standards are slowly fading. This is the shining star here in the States.\\nMy room (suite) on the 12th floor was fantastic as usual. Perfectly maintained, very comfortable, great bathrooms (best in NYC???). The bathroom is huge, with large shower 'room' and multiple shower heads. Double lavatories flank one wall. Huge....\\nTHe bed is always perfect. Televisions in both rooms were perfect for my limited time spend in the suite. Nice desk for work area and in room dining. \\nEvery room has a fridge with complimentary soft drinks, snacks, water, sparkling water, milk and juices. Nice touch. Suite has full size refrigerator with icemaker, and also features a microwave, sink and dishwasher drawer....all nicely concealed behind beautiful cabinetry. Really great for a longer stay...\\nI do have 2 complaints. First, the elevators. The waits were sometimes ridiculous. 3 elevators serve the main tower with a rather limited number of rooms. THis is a newer hotel, but there is no service elevator. I was continually surprised after waiting for an elevator at how many stops we made for housekeeping to enter with carts, room service carts and trays, etc. How could Hyatt skip a service elevator on this new property? It really stinks at times.....its bad.\\nLastly, i have traveled with world and certainly know NYC pricing. Breakfast at the Andaz ranks above almost anything i have ever paid. Apparently, i had a $190.00 breakfast for two the first morning, and $175.00 the second. Eggs for each, coffee, berries. Wow. Of course, i really don't know...as there is no bill. They just deliver it, and leave. Prices are listed in the in-suite menu, but no itemized billing is given. I am 'gifted' with a $75.00 credit for my breakfast as a Diamond member, and i assumed that had not been applied when my bill reflected a 'non itemized' charge for $110 plus for the first night, and slightly less for the second. I was wrong, it had been applied (no way for me to see this). WOW. It certainly isn't worth it.\\nI know i sound like one of those guys who complains about pricing, but clearly doesn't know what things cost. Wrong. This one really surprised me, and i have traveled the world for more than 20 years staying in some of the finest hotels in the world. Andaz is great, but it doesn't rank with many that i have had the pleasure of staying with.\\nI just had breakfast this morning for 2 at the Four Seasons NYC. It was half the cost....almost. :)\\nStay away from room service in my opinion....</td>\n",
              "      <td>4.0</td>\n",
              "      <td>3.0</td>\n",
              "      <td>4.0</td>\n",
              "      <td>5.0</td>\n",
              "      <td>1762573</td>\n",
              "    </tr>\n",
              "  </tbody>\n",
              "</table>\n",
              "</div>"
            ],
            "text/plain": [
              "                                             title  \\\n",
              "0        “Truly is \"Jewel of the Upper Wets Side\"”   \n",
              "1                        “My home away from home!”   \n",
              "2                                     “Great Stay”   \n",
              "3                             “Modern Convenience”   \n",
              "4  “Its the best of the Andaz Brand in the US....”   \n",
              "\n",
              "                                                                                                                                                                                                                                                                                                                                                                                                                                                                                                                                                                                                                                                                                                                                                                                                                                                                                                                                                                                                                                                                                                                                                                                                                                                                                                                                                                                                                                                                                                                                                                                                                                                                                                                                                                                                                                                                                                                                                                                                                                                                                                                                                                                                                                                                                                                                                                                                                                                                                                                                                                                                                                                                                                                                                 text  \\\n",
              "0                                                                                                                                                                                                                                                                                                                                                                                                                                                                                                                                                                                                                                                                                                                                                                                                                                                                                                                                                                                                                                                                                                                                                                                                                                                                                                                                                                                                                                                                                                                                                                                               Stayed in a king suite for 11 nights and yes it cots us a bit but we were happy with the standard of room, the location and the friendliness of the staff. Our room was on the 20th floor overlooking Broadway and the madhouse of the Fairway Market. Room was quite with no noise evident from the hallway or adjoining rooms. It was great to be able to open windows when we craved fresh rather than heated air. The beds, including the fold out sofa bed, were comfortable and the rooms were cleaned well. Wi-fi access worked like a dream with only one connectivity issue on our first night and this was promptly responded to with a call from the service provider to ensure that all was well. The location close to the 72nd Street subway station is great and the complimentary umbrellas on the drizzly days were greatly appreciated. It is fabulous to have the kitchen with cooking facilities and the access to a whole range of fresh foods directly across the road at Fairway.\\nThis is the second time that members of the party have stayed at the Beacon and it will certainly be our hotel of choice for future visits.   \n",
              "1                                                                                                                                                                                                                                                                                                                                                                                                                                                                                                                                                                                                                                                                                                                                                                                                                                                                                                                                                                                                                                                                                                                                                                                                                                                                                                                                                                                                                                                                                                                                                                                                                                                                                                                                                                                                                                                                                                                                                                                                                                                                                                                                                                                                                                                                                                  On every visit to NYC, the Hotel Beacon is the place we love to stay. So conveniently located to Central Park, Lincoln Center and great local restaurants. The rooms are lovely - beds so comfortable, a great little kitchen and new wizz bang coffee maker. The staff are so accommodating and just love walking across the street to the Fairway supermarket with every imaginable goodies to eat (if you choose not to go out for every meal!)   \n",
              "2                                                                                                                                                                                                                                                                                                                                                                                                                                                                                                                                                                                                                                                                                                                                                                                                                                                                                                                                                                                                                                                                                                                                                                                                                                                                                                                                                                                                                                                                                                                                                                                                                                                                                                                                                                                                                                                                                                                                                                                                                                                                                                                                                                                               This is a great property in Midtown. We two different rooms different rooms during our stay. The first room was in the North tower, which was quite inconvenient. You have to go through the conference area to get to the north elevators. \\nThe second room was the Andaz Suite. It was nicely appointed room, but the best part about it was the bathroom. From the foot soaking bowl to the bath products, everything about the bathroom was awesome!\\nLemon poppy-seed pancakes are must haves at the restaurant. One of the best pancakes ever.   \n",
              "3                                                                                                                                                                                                                                                                                                                                                                                                                                                                                                                                                                                                                                                                                                                                                                                                                                                                                                                                                                                                                                                                                                                                                                                                         The Andaz is a nice hotel in a central location of Manhattan. The Hyatt has come up with a modern hotel that is both comfortable and convenient. When you arrive you are greeted by friendly \"Hosts\" and they walk you to the check-in desk while offering you a beverage. \\nWe had a one bedroom suite that accommodated four people reasonably well. Plenty of closet space, well lit with floor to ceiling windows, and actually quiet!\\nThe bathroom was large with a very nice walk-in shower and a built-in bench with unique low spout to wash your feet.\\nThe kitchenette was a nice touch with a stocked fridge offering complimentary non-alcoholic beverages and snacks, dishes and utensils, a sink, dishwasher, and a microwave. \\nThey have daily Happy Hour(s) where you can get a complimentary decent glass of wine in the modest Lobby Lounge and bring it to your room. The Lobby Lounge has some seating and one table with 8 or so chairs where you can buy food from the adjacent restaurant. One suggestion is to offer selections of cheese and crackers platters to go with that wine. We ordered one that had to be custom made, but it worked well. \\nWe didn't eat in the hotel restaurants. The restaurant off the lobby was very pricey for breakfast (+$20 per entree). When you can get a decent breakfast within a block or two of the hotel for under $10, what can I say?\\nAs a hotel designer and someone who is very picky about hotels, I will definitely stay there again and I highly recommend it.   \n",
              "4  I have stayed at each of the US Andaz properties, and this one is the best of them all. MUCH better than the West Hollywood property where Brand standards are slowly fading. This is the shining star here in the States.\\nMy room (suite) on the 12th floor was fantastic as usual. Perfectly maintained, very comfortable, great bathrooms (best in NYC???). The bathroom is huge, with large shower 'room' and multiple shower heads. Double lavatories flank one wall. Huge....\\nTHe bed is always perfect. Televisions in both rooms were perfect for my limited time spend in the suite. Nice desk for work area and in room dining. \\nEvery room has a fridge with complimentary soft drinks, snacks, water, sparkling water, milk and juices. Nice touch. Suite has full size refrigerator with icemaker, and also features a microwave, sink and dishwasher drawer....all nicely concealed behind beautiful cabinetry. Really great for a longer stay...\\nI do have 2 complaints. First, the elevators. The waits were sometimes ridiculous. 3 elevators serve the main tower with a rather limited number of rooms. THis is a newer hotel, but there is no service elevator. I was continually surprised after waiting for an elevator at how many stops we made for housekeeping to enter with carts, room service carts and trays, etc. How could Hyatt skip a service elevator on this new property? It really stinks at times.....its bad.\\nLastly, i have traveled with world and certainly know NYC pricing. Breakfast at the Andaz ranks above almost anything i have ever paid. Apparently, i had a $190.00 breakfast for two the first morning, and $175.00 the second. Eggs for each, coffee, berries. Wow. Of course, i really don't know...as there is no bill. They just deliver it, and leave. Prices are listed in the in-suite menu, but no itemized billing is given. I am 'gifted' with a $75.00 credit for my breakfast as a Diamond member, and i assumed that had not been applied when my bill reflected a 'non itemized' charge for $110 plus for the first night, and slightly less for the second. I was wrong, it had been applied (no way for me to see this). WOW. It certainly isn't worth it.\\nI know i sound like one of those guys who complains about pricing, but clearly doesn't know what things cost. Wrong. This one really surprised me, and i have traveled the world for more than 20 years staying in some of the finest hotels in the world. Andaz is great, but it doesn't rank with many that i have had the pleasure of staying with.\\nI just had breakfast this morning for 2 at the Four Seasons NYC. It was half the cost....almost. :)\\nStay away from room service in my opinion....   \n",
              "\n",
              "   overall  value  service  cleanliness  offering_id  \n",
              "0      5.0    5.0      5.0          5.0        93338  \n",
              "1      5.0    5.0      5.0          5.0        93338  \n",
              "2      4.0    4.0      4.0          5.0      1762573  \n",
              "3      4.0    5.0      5.0          5.0      1762573  \n",
              "4      4.0    3.0      4.0          5.0      1762573  "
            ]
          },
          "execution_count": 136,
          "metadata": {},
          "output_type": "execute_result"
        }
      ],
      "source": [
        "df.head()"
      ]
    },
    {
      "cell_type": "code",
      "execution_count": null,
      "id": "7eb853b7-a071-4f23-b1e3-53862f357567",
      "metadata": {
        "id": "7eb853b7-a071-4f23-b1e3-53862f357567",
        "outputId": "917d8ceb-ded7-465b-a11b-40685f714a50"
      },
      "outputs": [
        {
          "data": {
            "text/plain": [
              "636"
            ]
          },
          "execution_count": 137,
          "metadata": {},
          "output_type": "execute_result"
        }
      ],
      "source": [
        "len(lax)"
      ]
    },
    {
      "cell_type": "code",
      "execution_count": null,
      "id": "4551eaa2-6555-45bb-87f5-70127c38bccb",
      "metadata": {
        "collapsed": true,
        "jupyter": {
          "outputs_hidden": true
        },
        "tags": [],
        "id": "4551eaa2-6555-45bb-87f5-70127c38bccb",
        "outputId": "99dbcb8a-20e7-4db5-bc46-e00629d5a32a"
      },
      "outputs": [
        {
          "data": {
            "text/html": [
              "<div>\n",
              "<style scoped>\n",
              "    .dataframe tbody tr th:only-of-type {\n",
              "        vertical-align: middle;\n",
              "    }\n",
              "\n",
              "    .dataframe tbody tr th {\n",
              "        vertical-align: top;\n",
              "    }\n",
              "\n",
              "    .dataframe thead th {\n",
              "        text-align: right;\n",
              "    }\n",
              "</style>\n",
              "<table border=\"1\" class=\"dataframe\">\n",
              "  <thead>\n",
              "    <tr style=\"text-align: right;\">\n",
              "      <th></th>\n",
              "      <th>title</th>\n",
              "      <th>text</th>\n",
              "      <th>overall</th>\n",
              "      <th>value</th>\n",
              "      <th>service</th>\n",
              "      <th>cleanliness</th>\n",
              "      <th>offering_id</th>\n",
              "    </tr>\n",
              "  </thead>\n",
              "  <tbody>\n",
              "    <tr>\n",
              "      <th>2</th>\n",
              "      <td>“Great Stay”</td>\n",
              "      <td>This is a great property in Midtown. We two different rooms different rooms during our stay. The first room was in the North tower, which was quite inconvenient. You have to go through the conference area to get to the north elevators. \\nThe second room was the Andaz Suite. It was nicely appointed room, but the best part about it was the bathroom. From the foot soaking bowl to the bath products, everything about the bathroom was awesome!\\nLemon poppy-seed pancakes are must haves at the restaurant. One of the best pancakes ever.</td>\n",
              "      <td>4.0</td>\n",
              "      <td>4.0</td>\n",
              "      <td>4.0</td>\n",
              "      <td>5.0</td>\n",
              "      <td>1762573</td>\n",
              "    </tr>\n",
              "    <tr>\n",
              "      <th>3</th>\n",
              "      <td>“Modern Convenience”</td>\n",
              "      <td>The Andaz is a nice hotel in a central location of Manhattan. The Hyatt has come up with a modern hotel that is both comfortable and convenient. When you arrive you are greeted by friendly \"Hosts\" and they walk you to the check-in desk while offering you a beverage. \\nWe had a one bedroom suite that accommodated four people reasonably well. Plenty of closet space, well lit with floor to ceiling windows, and actually quiet!\\nThe bathroom was large with a very nice walk-in shower and a built-in bench with unique low spout to wash your feet.\\nThe kitchenette was a nice touch with a stocked fridge offering complimentary non-alcoholic beverages and snacks, dishes and utensils, a sink, dishwasher, and a microwave. \\nThey have daily Happy Hour(s) where you can get a complimentary decent glass of wine in the modest Lobby Lounge and bring it to your room. The Lobby Lounge has some seating and one table with 8 or so chairs where you can buy food from the adjacent restaurant. One suggestion is to offer selections of cheese and crackers platters to go with that wine. We ordered one that had to be custom made, but it worked well. \\nWe didn't eat in the hotel restaurants. The restaurant off the lobby was very pricey for breakfast (+$20 per entree). When you can get a decent breakfast within a block or two of the hotel for under $10, what can I say?\\nAs a hotel designer and someone who is very picky about hotels, I will definitely stay there again and I highly recommend it.</td>\n",
              "      <td>4.0</td>\n",
              "      <td>5.0</td>\n",
              "      <td>5.0</td>\n",
              "      <td>5.0</td>\n",
              "      <td>1762573</td>\n",
              "    </tr>\n",
              "    <tr>\n",
              "      <th>4</th>\n",
              "      <td>“Its the best of the Andaz Brand in the US....”</td>\n",
              "      <td>I have stayed at each of the US Andaz properties, and this one is the best of them all. MUCH better than the West Hollywood property where Brand standards are slowly fading. This is the shining star here in the States.\\nMy room (suite) on the 12th floor was fantastic as usual. Perfectly maintained, very comfortable, great bathrooms (best in NYC???). The bathroom is huge, with large shower 'room' and multiple shower heads. Double lavatories flank one wall. Huge....\\nTHe bed is always perfect. Televisions in both rooms were perfect for my limited time spend in the suite. Nice desk for work area and in room dining. \\nEvery room has a fridge with complimentary soft drinks, snacks, water, sparkling water, milk and juices. Nice touch. Suite has full size refrigerator with icemaker, and also features a microwave, sink and dishwasher drawer....all nicely concealed behind beautiful cabinetry. Really great for a longer stay...\\nI do have 2 complaints. First, the elevators. The waits were sometimes ridiculous. 3 elevators serve the main tower with a rather limited number of rooms. THis is a newer hotel, but there is no service elevator. I was continually surprised after waiting for an elevator at how many stops we made for housekeeping to enter with carts, room service carts and trays, etc. How could Hyatt skip a service elevator on this new property? It really stinks at times.....its bad.\\nLastly, i have traveled with world and certainly know NYC pricing. Breakfast at the Andaz ranks above almost anything i have ever paid. Apparently, i had a $190.00 breakfast for two the first morning, and $175.00 the second. Eggs for each, coffee, berries. Wow. Of course, i really don't know...as there is no bill. They just deliver it, and leave. Prices are listed in the in-suite menu, but no itemized billing is given. I am 'gifted' with a $75.00 credit for my breakfast as a Diamond member, and i assumed that had not been applied when my bill reflected a 'non itemized' charge for $110 plus for the first night, and slightly less for the second. I was wrong, it had been applied (no way for me to see this). WOW. It certainly isn't worth it.\\nI know i sound like one of those guys who complains about pricing, but clearly doesn't know what things cost. Wrong. This one really surprised me, and i have traveled the world for more than 20 years staying in some of the finest hotels in the world. Andaz is great, but it doesn't rank with many that i have had the pleasure of staying with.\\nI just had breakfast this morning for 2 at the Four Seasons NYC. It was half the cost....almost. :)\\nStay away from room service in my opinion....</td>\n",
              "      <td>4.0</td>\n",
              "      <td>3.0</td>\n",
              "      <td>4.0</td>\n",
              "      <td>5.0</td>\n",
              "      <td>1762573</td>\n",
              "    </tr>\n",
              "    <tr>\n",
              "      <th>21</th>\n",
              "      <td>“Excellent! Will be back:-)”</td>\n",
              "      <td>This was our first stay at the Andaz. Lovely little hotel with great views of the library. VERY spacious with a HUGE bathroom! The complimentary drinks and snacks were a plus. Very quiet. My only complaint was there was no one to help us with bags or getting a cab. We had quite a bit of luggage and no one was around to open the door at the entrance (which consists of 2 black doors that are also not marked. We wandered around a bit before realizing this WAS the main entrance)!! We needed to get a cab to the train station and were told that none were available and that we should try and walk to Madison Ave to get one! No easy feat with lots of luggage and it was quite the walk. Clearly they should have the means to summon a cab. Hopefully this will be addressed before our next visit!</td>\n",
              "      <td>4.0</td>\n",
              "      <td>4.0</td>\n",
              "      <td>3.0</td>\n",
              "      <td>5.0</td>\n",
              "      <td>1762573</td>\n",
              "    </tr>\n",
              "    <tr>\n",
              "      <th>22</th>\n",
              "      <td>“Great Midtown Hotel”</td>\n",
              "      <td>I was lucky enough to use my Hyatt two free nights to stay at this hotel in early December. Went with my adult daughter and we stayed in a corner room with two twin beds on the ninth floor. It's tough to find good hotels with two beds in a room in NYC so this was a bonus. The room was very quiet. I could not hear anyone from other rooms, the hallway or any street noise. The room has a sleek modern design and was spacious for NYC standards. I loved the bathroom. Being able to get a cold bottle of water at all times was great and snacks in the rooms was a nice touch.\\nI also loved the overall vibe of the hotel; small, hip, clean, and friendly. Great artwork. Not warm and cozy though. The seating in the \"lobby\" is not particularly comfortable or inviting. The staff was young and not as experienced as one would find at a five-star hotel but this is not a five-star hotel. They did the best they could to help with restaurant reservations, shopping information and other general information. Easy walk from here to Grand Central Station to hop the subway and cabs easy to find. Loved being across from The New York Pubic Library and Bryant Park. Lovely pop-up stores and ice skating in Bryant Park for the holidays. Beats the craziness of Rockefeller Center in my book. \\nThere are a few problems that I believe can be corrected easily. One is the lack of proper lighting in the room, the architect and designers clearly were not thinking of women when they designed the rooms. It is very dark and would be really difficult if you were trying to get ready for a special event. Also there is no drawer space and the closet is minuscule. Not sure how to correct that issue. The other problem is that the beds, at least the twins we slept in, were not very comfortable. Very firm which is fine if you like it that way. All in all though, my memories are of a great stay.</td>\n",
              "      <td>4.0</td>\n",
              "      <td>4.0</td>\n",
              "      <td>5.0</td>\n",
              "      <td>4.0</td>\n",
              "      <td>1762573</td>\n",
              "    </tr>\n",
              "  </tbody>\n",
              "</table>\n",
              "</div>"
            ],
            "text/plain": [
              "                                              title  \\\n",
              "2                                      “Great Stay”   \n",
              "3                              “Modern Convenience”   \n",
              "4   “Its the best of the Andaz Brand in the US....”   \n",
              "21                     “Excellent! Will be back:-)”   \n",
              "22                            “Great Midtown Hotel”   \n",
              "\n",
              "                                                                                                                                                                                                                                                                                                                                                                                                                                                                                                                                                                                                                                                                                                                                                                                                                                                                                                                                                                                                                                                                                                                                                                                                                                                                                                                                                                                                                                                                                                                                                                                                                                                                                                                                                                                                                                                                                                                                                                                                                                                                                                                                                                                                                                                                                                                                                                                                                                                                                                                                                                                                                                                                                                                                                  text  \\\n",
              "2                                                                                                                                                                                                                                                                                                                                                                                                                                                                                                                                                                                                                                                                                                                                                                                                                                                                                                                                                                                                                                                                                                                                                                                                                                                                                                                                                                                                                                                                                                                                                                                                                                                                                                                                                                                                                                                                                                                                                                                                                                                                                                                                                                                                This is a great property in Midtown. We two different rooms different rooms during our stay. The first room was in the North tower, which was quite inconvenient. You have to go through the conference area to get to the north elevators. \\nThe second room was the Andaz Suite. It was nicely appointed room, but the best part about it was the bathroom. From the foot soaking bowl to the bath products, everything about the bathroom was awesome!\\nLemon poppy-seed pancakes are must haves at the restaurant. One of the best pancakes ever.   \n",
              "3                                                                                                                                                                                                                                                                                                                                                                                                                                                                                                                                                                                                                                                                                                                                                                                                                                                                                                                                                                                                                                                                                                                                                                                                          The Andaz is a nice hotel in a central location of Manhattan. The Hyatt has come up with a modern hotel that is both comfortable and convenient. When you arrive you are greeted by friendly \"Hosts\" and they walk you to the check-in desk while offering you a beverage. \\nWe had a one bedroom suite that accommodated four people reasonably well. Plenty of closet space, well lit with floor to ceiling windows, and actually quiet!\\nThe bathroom was large with a very nice walk-in shower and a built-in bench with unique low spout to wash your feet.\\nThe kitchenette was a nice touch with a stocked fridge offering complimentary non-alcoholic beverages and snacks, dishes and utensils, a sink, dishwasher, and a microwave. \\nThey have daily Happy Hour(s) where you can get a complimentary decent glass of wine in the modest Lobby Lounge and bring it to your room. The Lobby Lounge has some seating and one table with 8 or so chairs where you can buy food from the adjacent restaurant. One suggestion is to offer selections of cheese and crackers platters to go with that wine. We ordered one that had to be custom made, but it worked well. \\nWe didn't eat in the hotel restaurants. The restaurant off the lobby was very pricey for breakfast (+$20 per entree). When you can get a decent breakfast within a block or two of the hotel for under $10, what can I say?\\nAs a hotel designer and someone who is very picky about hotels, I will definitely stay there again and I highly recommend it.   \n",
              "4   I have stayed at each of the US Andaz properties, and this one is the best of them all. MUCH better than the West Hollywood property where Brand standards are slowly fading. This is the shining star here in the States.\\nMy room (suite) on the 12th floor was fantastic as usual. Perfectly maintained, very comfortable, great bathrooms (best in NYC???). The bathroom is huge, with large shower 'room' and multiple shower heads. Double lavatories flank one wall. Huge....\\nTHe bed is always perfect. Televisions in both rooms were perfect for my limited time spend in the suite. Nice desk for work area and in room dining. \\nEvery room has a fridge with complimentary soft drinks, snacks, water, sparkling water, milk and juices. Nice touch. Suite has full size refrigerator with icemaker, and also features a microwave, sink and dishwasher drawer....all nicely concealed behind beautiful cabinetry. Really great for a longer stay...\\nI do have 2 complaints. First, the elevators. The waits were sometimes ridiculous. 3 elevators serve the main tower with a rather limited number of rooms. THis is a newer hotel, but there is no service elevator. I was continually surprised after waiting for an elevator at how many stops we made for housekeeping to enter with carts, room service carts and trays, etc. How could Hyatt skip a service elevator on this new property? It really stinks at times.....its bad.\\nLastly, i have traveled with world and certainly know NYC pricing. Breakfast at the Andaz ranks above almost anything i have ever paid. Apparently, i had a $190.00 breakfast for two the first morning, and $175.00 the second. Eggs for each, coffee, berries. Wow. Of course, i really don't know...as there is no bill. They just deliver it, and leave. Prices are listed in the in-suite menu, but no itemized billing is given. I am 'gifted' with a $75.00 credit for my breakfast as a Diamond member, and i assumed that had not been applied when my bill reflected a 'non itemized' charge for $110 plus for the first night, and slightly less for the second. I was wrong, it had been applied (no way for me to see this). WOW. It certainly isn't worth it.\\nI know i sound like one of those guys who complains about pricing, but clearly doesn't know what things cost. Wrong. This one really surprised me, and i have traveled the world for more than 20 years staying in some of the finest hotels in the world. Andaz is great, but it doesn't rank with many that i have had the pleasure of staying with.\\nI just had breakfast this morning for 2 at the Four Seasons NYC. It was half the cost....almost. :)\\nStay away from room service in my opinion....   \n",
              "21                                                                                                                                                                                                                                                                                                                                                                                                                                                                                                                                                                                                                                                                                                                                                                                                                                                                                                                                                                                                                                                                                                                                                                                                                                                                                                                                                                                                                                                                                                                                                                                                                                                                                                                                                                                                                                                                                                                            This was our first stay at the Andaz. Lovely little hotel with great views of the library. VERY spacious with a HUGE bathroom! The complimentary drinks and snacks were a plus. Very quiet. My only complaint was there was no one to help us with bags or getting a cab. We had quite a bit of luggage and no one was around to open the door at the entrance (which consists of 2 black doors that are also not marked. We wandered around a bit before realizing this WAS the main entrance)!! We needed to get a cab to the train station and were told that none were available and that we should try and walk to Madison Ave to get one! No easy feat with lots of luggage and it was quite the walk. Clearly they should have the means to summon a cab. Hopefully this will be addressed before our next visit!   \n",
              "22                                                                                                                                                                                                                                                                                                                                                                                                                                                                                                                                                                                                                                                                                                                                                                                                  I was lucky enough to use my Hyatt two free nights to stay at this hotel in early December. Went with my adult daughter and we stayed in a corner room with two twin beds on the ninth floor. It's tough to find good hotels with two beds in a room in NYC so this was a bonus. The room was very quiet. I could not hear anyone from other rooms, the hallway or any street noise. The room has a sleek modern design and was spacious for NYC standards. I loved the bathroom. Being able to get a cold bottle of water at all times was great and snacks in the rooms was a nice touch.\\nI also loved the overall vibe of the hotel; small, hip, clean, and friendly. Great artwork. Not warm and cozy though. The seating in the \"lobby\" is not particularly comfortable or inviting. The staff was young and not as experienced as one would find at a five-star hotel but this is not a five-star hotel. They did the best they could to help with restaurant reservations, shopping information and other general information. Easy walk from here to Grand Central Station to hop the subway and cabs easy to find. Loved being across from The New York Pubic Library and Bryant Park. Lovely pop-up stores and ice skating in Bryant Park for the holidays. Beats the craziness of Rockefeller Center in my book. \\nThere are a few problems that I believe can be corrected easily. One is the lack of proper lighting in the room, the architect and designers clearly were not thinking of women when they designed the rooms. It is very dark and would be really difficult if you were trying to get ready for a special event. Also there is no drawer space and the closet is minuscule. Not sure how to correct that issue. The other problem is that the beds, at least the twins we slept in, were not very comfortable. Very firm which is fine if you like it that way. All in all though, my memories are of a great stay.   \n",
              "\n",
              "    overall  value  service  cleanliness  offering_id  \n",
              "2       4.0    4.0      4.0          5.0      1762573  \n",
              "3       4.0    5.0      5.0          5.0      1762573  \n",
              "4       4.0    3.0      4.0          5.0      1762573  \n",
              "21      4.0    4.0      3.0          5.0      1762573  \n",
              "22      4.0    4.0      5.0          4.0      1762573  "
            ]
          },
          "execution_count": 138,
          "metadata": {},
          "output_type": "execute_result"
        }
      ],
      "source": [
        "lax.head()"
      ]
    },
    {
      "cell_type": "raw",
      "id": "e537f180-badd-4290-90fa-d587b49a3447",
      "metadata": {
        "id": "e537f180-badd-4290-90fa-d587b49a3447"
      },
      "source": [
        "## Construct a document-term matrix\n",
        "\n",
        "See the [Sklearn user manual](https://scikit-learn.org/stable/modules/feature_extraction.html#text-feature-extraction) for functions for constructing dtm's. The most useful for this lab are [`CountVectorizer`](https://scikit-learn.org/stable/modules/generated/sklearn.feature_extraction.text.CountVectorizer.html)  and [`TfidfVectorizer`](https://scikit-learn.org/stable/modules/generated/sklearn.feature_extraction.text.TfidfVectorizer.html).  Both have lots of options you can try adjusting, e.g.,:\n",
        "\n",
        "- min_df: ignore words that occur in fewer than `min_df` documents (either count or percentage)\n",
        "- max_df: ignore words that occur in more than `max_df` documents (either count or percentage)\n",
        "- stop_words: if set to `\"english\"`, removes common English function words\n",
        "- analyzer, tokenizer, preprocessor, lowercase, strip_accents: controls sklearn's built-in tokenizer. If you want to use your own tokenizer (like the multi-word one we made last week), set `analyzer=identity` and give the vectorizer pre-tokenized texts.\n",
        "\n",
        "`TfidfVectorizer` adds a few additional options:\n",
        "\n",
        "- norm: set to `l2` (the default) to normalize doc vectors to unit length or `None` for no normalization\n",
        "- use_idf: include idf term\n",
        "- smooth_idf: add one to document frequencies\n",
        "- sublinear_tf: replace tf term with 1+log(tf)\n",
        "\n",
        "And see docs for many other options!"
      ]
    },
    {
      "cell_type": "code",
      "execution_count": null,
      "id": "99c0af26-764e-4b29-8d1a-eae9598d0dd7",
      "metadata": {
        "id": "99c0af26-764e-4b29-8d1a-eae9598d0dd7"
      },
      "outputs": [],
      "source": [
        "from sklearn.feature_extraction.text import TfidfVectorizer"
      ]
    },
    {
      "cell_type": "code",
      "execution_count": null,
      "id": "1b3f54ef-6dfc-4f19-8fa3-81e2a7c66f2b",
      "metadata": {
        "id": "1b3f54ef-6dfc-4f19-8fa3-81e2a7c66f2b"
      },
      "outputs": [],
      "source": [
        "#tf is a vectorizer\n",
        "#for normalized vector use tfid\n",
        "tf = TfidfVectorizer(min_df=2, max_df=0.8, use_idf=False)\n",
        "dtm = tf.fit_transform(lax[\"text\"])"
      ]
    },
    {
      "cell_type": "code",
      "execution_count": null,
      "id": "97a7fa7f-280e-4f44-b096-7afc85766006",
      "metadata": {
        "id": "97a7fa7f-280e-4f44-b096-7afc85766006",
        "outputId": "8c75dbf7-4ca7-4959-860b-4f2a53691096"
      },
      "outputs": [
        {
          "data": {
            "text/plain": [
              "<636x3377 sparse matrix of type '<class 'numpy.float64'>'\n",
              "\twith 63845 stored elements in Compressed Sparse Row format>"
            ]
          },
          "execution_count": 141,
          "metadata": {},
          "output_type": "execute_result"
        }
      ],
      "source": [
        "#document term matrix 45584 non zero elements\n",
        "dtm"
      ]
    },
    {
      "cell_type": "markdown",
      "id": "1ec91ca8-0ca5-41a9-85c4-d7308c9c1179",
      "metadata": {
        "id": "1ec91ca8-0ca5-41a9-85c4-d7308c9c1179"
      },
      "source": [
        "## Apply dimensionality reduction\n",
        "\n",
        "The original formulation of Latent Semantic Indexing used SVD for dimensionality reduction. The sklearn function [`TruncatedSVD`](https://scikit-learn.org/stable/modules/generated/sklearn.decomposition.TruncatedSVD.html)  is an efficient implentation of SVD for large sparse matrices (such as dtm's). The argument `n_components` sets the number of dimensions (i.e., columns) in the reduced matrix.\n",
        "\n",
        "You can experiment with other dimensionality reduction techniques, as described in the manual sections on [Matrix factorization](https://scikit-learn.org/stable/modules/decomposition.html#lsa) and [Manifold](https://scikit-learn.org/stable/modules/manifold.html#t-sne). Or, you can skip this step and use your dtm directly as input to the clusterer\n",
        "\n"
      ]
    },
    {
      "cell_type": "code",
      "execution_count": null,
      "id": "a0026e95-0553-4c3e-a608-0ec62dd5ca96",
      "metadata": {
        "id": "a0026e95-0553-4c3e-a608-0ec62dd5ca96"
      },
      "outputs": [],
      "source": [
        "#truncatedsvd for large matrices\n",
        "from sklearn.decomposition import TruncatedSVD"
      ]
    },
    {
      "cell_type": "code",
      "execution_count": null,
      "id": "79965fb4-d17e-460d-8b39-8867d03a3cb2",
      "metadata": {
        "id": "79965fb4-d17e-460d-8b39-8867d03a3cb2"
      },
      "outputs": [],
      "source": [
        "#for restesting change random_state\n",
        "lsi = TruncatedSVD(n_components=25, random_state=760)\n",
        "dtm_lsi = lsi.fit_transform(dtm)"
      ]
    },
    {
      "cell_type": "code",
      "execution_count": null,
      "id": "65bf372a-dd0d-4f9e-8a4d-405ab933fb9e",
      "metadata": {
        "id": "65bf372a-dd0d-4f9e-8a4d-405ab933fb9e",
        "outputId": "b091c0b2-0217-4941-a364-7639ddbc8abd"
      },
      "outputs": [
        {
          "data": {
            "text/plain": [
              "(636, 25)"
            ]
          },
          "execution_count": 144,
          "metadata": {},
          "output_type": "execute_result"
        }
      ],
      "source": [
        "dtm_lsi.shape"
      ]
    },
    {
      "cell_type": "code",
      "execution_count": null,
      "id": "fef67ac3-2546-4418-8300-95b979003524",
      "metadata": {
        "id": "fef67ac3-2546-4418-8300-95b979003524"
      },
      "outputs": [],
      "source": [
        "# Used PCA for dimensionality reduction\n",
        "\n",
        "from sklearn.decomposition import PCA\n",
        "\n",
        "#set number of components\n",
        "n_components = 25\n",
        "pca_model = PCA(n_components=n_components, random_state=760 )\n",
        "pca_model.fit(dtm.toarray())\n",
        "pca_dtm = pca_model.transform(dtm.toarray())\n",
        "\n",
        "\n",
        "\n",
        "\n",
        "\n",
        "\n",
        "\n"
      ]
    },
    {
      "cell_type": "code",
      "execution_count": null,
      "id": "0e8dae53-3a68-4c22-be5f-c7b940bc03c1",
      "metadata": {
        "id": "0e8dae53-3a68-4c22-be5f-c7b940bc03c1",
        "outputId": "8f7f9047-d3f2-4c3a-a327-98680afac36f"
      },
      "outputs": [
        {
          "data": {
            "text/plain": [
              "(636, 25)"
            ]
          },
          "execution_count": 146,
          "metadata": {},
          "output_type": "execute_result"
        }
      ],
      "source": [
        "pca_dtm.shape"
      ]
    },
    {
      "cell_type": "code",
      "execution_count": null,
      "id": "562a7173-58f9-4d6c-828e-e01c3707b1ab",
      "metadata": {
        "id": "562a7173-58f9-4d6c-828e-e01c3707b1ab"
      },
      "outputs": [],
      "source": [
        "# Used NMF for dimensionality reduction\n",
        "# non negative matrix factorization method for dimensionality reduction\n",
        "from sklearn.decomposition import NMF\n",
        "\n"
      ]
    },
    {
      "cell_type": "code",
      "execution_count": null,
      "id": "13973dc8-7414-40d5-9c64-b94a8981102c",
      "metadata": {
        "id": "13973dc8-7414-40d5-9c64-b94a8981102c"
      },
      "outputs": [],
      "source": [
        "#set number of components (topics)\n",
        "n_components = 25\n",
        "nmf_model = NMF(n_components=n_components, random_state=760)\n",
        "nmf_model.fit(dtm)\n",
        "nmf_dtm = nmf_model.transform(dtm)\n",
        "\n"
      ]
    },
    {
      "cell_type": "code",
      "execution_count": null,
      "id": "6021425d-9cf7-4db3-b35e-86a37944566a",
      "metadata": {
        "id": "6021425d-9cf7-4db3-b35e-86a37944566a",
        "outputId": "bf56e2e9-8f44-48b8-a534-226dcd21a38b"
      },
      "outputs": [
        {
          "data": {
            "text/plain": [
              "(636, 25)"
            ]
          },
          "execution_count": 149,
          "metadata": {},
          "output_type": "execute_result"
        }
      ],
      "source": [
        "nmf_dtm.shape"
      ]
    },
    {
      "cell_type": "markdown",
      "id": "d9f54073-dadc-4759-8841-7e7ca860cd23",
      "metadata": {
        "id": "d9f54073-dadc-4759-8841-7e7ca860cd23"
      },
      "source": [
        "## Perform cluster analysis\n",
        "\n",
        "Sklearn has implementations of most current clusterining algoroths. See the [clustering chapter](https://scikit-learn.org/stable/modules/clustering.html#clustering) for more discussion. \n",
        "\n",
        "The [k-means](https://scikit-learn.org/stable/modules/generated/sklearn.cluster.KMeans.html) algorithm is a particular simple one. It requires one argument: `n_clusters` sets the number of clusters that k-means will find. K-means is a non-deterministic algorithm, meaning each time you run it you may get a different answer. If you want your results to be reproducible, set the `random_state` argument.\n",
        "\n",
        "\n"
      ]
    },
    {
      "cell_type": "code",
      "execution_count": null,
      "id": "41d4ba0b-896a-4659-a4ee-b382bbe91c5d",
      "metadata": {
        "id": "41d4ba0b-896a-4659-a4ee-b382bbe91c5d"
      },
      "outputs": [],
      "source": [
        "from sklearn.cluster import KMeans"
      ]
    },
    {
      "cell_type": "code",
      "execution_count": null,
      "id": "cf8c798f-75e3-4d67-9ae9-613ace62b018",
      "metadata": {
        "id": "cf8c798f-75e3-4d67-9ae9-613ace62b018"
      },
      "outputs": [],
      "source": [
        "kmeans = KMeans(n_clusters=15, random_state=858, n_init='auto')\n",
        "cluster = kmeans.fit_predict(dtm_lsi)"
      ]
    },
    {
      "cell_type": "code",
      "execution_count": null,
      "id": "e65678f8-7b95-46bc-ac28-a581530ca89e",
      "metadata": {
        "id": "e65678f8-7b95-46bc-ac28-a581530ca89e"
      },
      "outputs": [],
      "source": [
        "#hierarchical clustering \n",
        "#from sklearn.cluster import AgglomerativeClustering\n",
        "\n",
        "# perform clustering\n",
        "#agg_model = AgglomerativeClustering(n_clusters=15)\n",
        "#agg_cluster = agg_model.fit_predict(dtm.toarray())\n",
        "\n",
        "# print cluster labels\n",
        "#print(agg_cluster)"
      ]
    },
    {
      "cell_type": "markdown",
      "id": "0e5720fd-c47f-4c4b-b216-0bee70bfc921",
      "metadata": {
        "id": "0e5720fd-c47f-4c4b-b216-0bee70bfc921"
      },
      "source": [
        "## Interpret results\n",
        "\n",
        "Now the hard part: what does all this mean? There are two ways of evaluating a clustering solution, quantitatively and qualitatively."
      ]
    },
    {
      "cell_type": "code",
      "execution_count": null,
      "id": "7379433a-9525-4380-9fcf-7ee74798255c",
      "metadata": {
        "id": "7379433a-9525-4380-9fcf-7ee74798255c"
      },
      "outputs": [],
      "source": [
        "from sklearn import metrics"
      ]
    },
    {
      "cell_type": "markdown",
      "id": "9cb5be1b-5df5-4756-bd25-d448acd91ecb",
      "metadata": {
        "id": "9cb5be1b-5df5-4756-bd25-d448acd91ecb"
      },
      "source": [
        "A simple quantitative metric: how many documents are in each cluster?"
      ]
    },
    {
      "cell_type": "code",
      "execution_count": null,
      "id": "70eac9b9-971c-4853-9c69-13375365ae77",
      "metadata": {
        "id": "70eac9b9-971c-4853-9c69-13375365ae77",
        "outputId": "9d411c6f-eee9-4776-fc7c-02a051a942f0"
      },
      "outputs": [
        {
          "data": {
            "text/plain": [
              "[(7, 57),\n",
              " (14, 54),\n",
              " (6, 54),\n",
              " (4, 53),\n",
              " (1, 50),\n",
              " (3, 47),\n",
              " (8, 45),\n",
              " (12, 41),\n",
              " (0, 39),\n",
              " (9, 38),\n",
              " (10, 37),\n",
              " (2, 36),\n",
              " (11, 32),\n",
              " (5, 29),\n",
              " (13, 24)]"
            ]
          },
          "execution_count": 154,
          "metadata": {},
          "output_type": "execute_result"
        }
      ],
      "source": [
        "nltk.FreqDist(cluster).most_common()"
      ]
    },
    {
      "cell_type": "markdown",
      "id": "671746dd-8d7c-4ba1-b22a-7f133d95902d",
      "metadata": {
        "id": "671746dd-8d7c-4ba1-b22a-7f133d95902d"
      },
      "source": [
        "More complex metrics take into account how diffuse the clusters are and how well separated they are. Three potentially useful metrics are:\n",
        "\n",
        "- [Calinski Harabasz_score](https://scikit-learn.org/stable/modules/generated/sklearn.metrics.calinski_harabasz_score.html#sklearn.metrics.calinski_harabasz_score) [higher = better]\n",
        "- [Davies Bouldin score](https://scikit-learn.org/stable/modules/generated/sklearn.metrics.davies_bouldin_score.html#sklearn.metrics.davies_bouldin_score) [lower = better]\n",
        "- [Silhouette_score](https://scikit-learn.org/stable/modules/generated/sklearn.metrics.silhouette_score.html#sklearn.metrics.silhouette_score) [higher = better]\n",
        "\n",
        "These are mostly useful for comparing different clusterings of the same data. For example, we could use these to find a good value for *k*, the number of clusters\n",
        "\n",
        "\n",
        "\n",
        "\n"
      ]
    },
    {
      "cell_type": "code",
      "execution_count": null,
      "id": "78829619-8785-45c4-af4a-d5aaa6039d35",
      "metadata": {
        "id": "78829619-8785-45c4-af4a-d5aaa6039d35",
        "outputId": "b960596b-5bdb-4cd3-e8ab-79ff2275e07e"
      },
      "outputs": [
        {
          "name": "stdout",
          "output_type": "stream",
          "text": [
            " 2   74.360     2.886     0.101  \n",
            " 3   56.869     2.966     0.072  \n",
            " 4   49.961     2.910     0.076  \n",
            " 5   44.907     2.704     0.069  \n",
            " 6   39.063     2.818     0.056  \n",
            " 7   34.831     2.968     0.055  \n",
            " 8   31.270     3.080     0.047  \n",
            " 9   30.159     2.857     0.052  \n",
            "10   27.124     2.975     0.045  \n",
            "11   25.400     2.941     0.045  \n",
            "12   23.794     2.996     0.044  \n",
            "13   23.408     2.851     0.047  \n",
            "14   22.195     2.848     0.045  \n",
            "15   20.234     2.953     0.041  \n",
            "16   19.798     2.860     0.042  \n",
            "17   19.261     2.846     0.044  \n",
            "18   18.420     2.796     0.043  \n",
            "19   17.870     2.744     0.042  \n"
          ]
        }
      ],
      "source": [
        "for k in range(2, 20):\n",
        "    _kmeans = KMeans(n_clusters=k, random_state=858, n_init=\"auto\")\n",
        "    _cluster = _kmeans.fit_predict(dtm_lsi)\n",
        "    print(\n",
        "        f\"{k:2}  \"\n",
        "        f\"{metrics.calinski_harabasz_score(dtm_lsi, _cluster):7.3f}   \"\n",
        "        f\"{metrics.davies_bouldin_score(dtm_lsi, _cluster):7.3f}   \"\n",
        "        f\"{metrics.silhouette_score(dtm_lsi, _cluster):7.3f}  \"\n",
        "    )"
      ]
    },
    {
      "cell_type": "markdown",
      "id": "d446d980-44ca-496e-bb90-8644f4250ef2",
      "metadata": {
        "id": "d446d980-44ca-496e-bb90-8644f4250ef2"
      },
      "source": [
        "Qualitative evaluation means reading the data and trying to figure it out. We could look at all of the reviews in some of the smaller clusters:"
      ]
    },
    {
      "cell_type": "code",
      "execution_count": null,
      "id": "3d91e4a1-255d-4c1e-aa02-b6d1827aef4e",
      "metadata": {
        "tags": [],
        "id": "3d91e4a1-255d-4c1e-aa02-b6d1827aef4e",
        "outputId": "87a4c729-6758-40e2-faa5-6927c2f9a0c0"
      },
      "outputs": [
        {
          "data": {
            "text/plain": [
              "4       I have stayed at each of the US Andaz properties, and this one is the best of them all. MUCH better than the West Hollywood property where Brand standards are slowly fading. This is the shining star here in the States.\\nMy room (suite) on the 12th floor was fantastic as usual. Perfectly maintained, very comfortable, great bathrooms (best in NYC???). The bathroom is huge, with large shower 'room' and multiple shower heads. Double lavatories flank one wall. Huge....\\nTHe bed is always perfect. Televisions in both rooms were perfect for my limited time spend in the suite. Nice desk for work area and in room dining. \\nEvery room has a fridge with complimentary soft drinks, snacks, water, sparkling water, milk and juices. Nice touch. Suite has full size refrigerator with icemaker, and also features a microwave, sink and dishwasher drawer....all nicely concealed behind beautiful cabinetry. Really great for a longer stay...\\nI do have 2 complaints. First, the elevators. The waits were sometimes ridiculous. 3 elevators serve the main tower with a rather limited number of rooms. THis is a newer hotel, but there is no service elevator. I was continually surprised after waiting for an elevator at how many stops we made for housekeeping to enter with carts, room service carts and trays, etc. How could Hyatt skip a service elevator on this new property? It really stinks at times.....its bad.\\nLastly, i have traveled with world and certainly know NYC pricing. Breakfast at the Andaz ranks above almost anything i have ever paid. Apparently, i had a $190.00 breakfast for two the first morning, and $175.00 the second. Eggs for each, coffee, berries. Wow. Of course, i really don't know...as there is no bill. They just deliver it, and leave. Prices are listed in the in-suite menu, but no itemized billing is given. I am 'gifted' with a $75.00 credit for my breakfast as a Diamond member, and i assumed that had not been applied when my bill reflected a 'non itemized' charge for $110 plus for the first night, and slightly less for the second. I was wrong, it had been applied (no way for me to see this). WOW. It certainly isn't worth it.\\nI know i sound like one of those guys who complains about pricing, but clearly doesn't know what things cost. Wrong. This one really surprised me, and i have traveled the world for more than 20 years staying in some of the finest hotels in the world. Andaz is great, but it doesn't rank with many that i have had the pleasure of staying with.\\nI just had breakfast this morning for 2 at the Four Seasons NYC. It was half the cost....almost. :)\\nStay away from room service in my opinion....\n",
              "452                                                                                                                                                                                                                                                                                                                                                                                                                                                                                                                                                                                                                                                                                                                                                                                                                                                                                                                                                                                                                                                                                                                                                                                                                                                                                                                                                                                                                                                                                                               Great looking hotel with friendly staff and good location. Highlights include the well-designed bathrooms and showers, the automated window shades and the free snacks and non-alcoholic minibar items. Friendly but low key, not 'in your face' service -- and I mean that in a good way. Also, Andaz has free in-room wi-fi, which is a must. I will definitely choose this place again, and in fact have a current reservation for later this year. \\nJust a few minor suggestions to get it from really good to perfect:\\n--the baggage holding area is out in the open in a corner of the library/lounge area. This is unsightly and also lacks proper security for peoples' belongings. \\n--the food at the restaurant is just OK. One dinner I had there was particularly substandard. However, in the hotel's defense, they offered to comp the meal without any unpleasantness whatsoever, which really mitigated the whole situation in my mind (although I didn't eat in the restaurant again during the trip).\\n--gym is sort of lacking ... there seems to be a lot of wasted space on the 2nd floor where they could put a better gym and spa, which would be more consistent with the price point and style of the hotel.\n",
              "923                                                                                                                                                                                                                                                                                                                                                                                                                                                                                                                                                                                                                                                                                                                                                                                                                                                                                                                                                                                                                                                                                                                                                                                                                                                                                                                                                                                                                                                                                                                                                                                                                                                                                                                                                                                                                                                                                                                                                                                                                                                                                                                                                                                                                                                                                                                                                                                                                      I stayed here for a weekend and I have to say this is an incredible property. Excellent location at the heart of Manhattan, with chic rooms and decor, and almost an entirely free mini bar (excluding alcohol). Every hotel I stay at is now compared to the Andaz on 5th. I will spring the extra monies next time I visit NYC.\n",
              "1088                                                                                                                                                                                                                                                                                                                                                                                                                                                                                                                                                                                                                                                                                                                                                                                                                                                                                                                                                                                                                                                                                                                                                                                                                                                                                                                                                                                                                                                                                                                                                                                                                                                                                                                                                                                                                                                                                                                                                                                                                                                                                                                                                                                                                                                                                                                                                                                                                                                                                                          If you are looking for location, service, design and nice rooms, this is the place. I try to visit as often as possible and always please with the staff and the rooms. Andaz 5th Ave is certainly one of my favorite hotel.\\nA must in NYC!\n",
              "1600                                                                                                                                                                                                                                                                                                                                                                                                                                                                                                                                                                                                                                                                                                                                                                                                                                                                                                                                                                                                                                                                                                                                                                                                                                                                                                                                                                                                                                                                                                                                                                                                                                                                                                                                              I am a real fan of the Andaz brand and concept. My favorite is the Andaz on Wall Street, but this hotel is very nice as well, although the rooms are lot smaller than they are in the other Manhattan property.\\nThe bathroom is a real highlight of all of the Andaz hotels. In this property, it might be bigger than the bedroom. The shower in particular is wonderful. \\nThe check in and out is great. It is probably inspired by the Apple store experience. Very personal and the hotel personnel uses iPads to talk to you rather than use a desk. The process is quick and you are on you way to your room in minutes.\\nThe breakfast was also great although a bit pricey. I had a plan with free breakfast which means a max of $75. I asked for a bowl of berries and I got two pints of great fruity. Very wonderful\\nSo my first choice remains the Andaz on Wal Street, but if you have business in mid-town or want to be a tourist for a day, the location of this property is suberb.\n",
              "Name: text, dtype: object"
            ]
          },
          "execution_count": 156,
          "metadata": {},
          "output_type": "execute_result"
        }
      ],
      "source": [
        "lax[cluster == 5][\"text\"].head()"
      ]
    },
    {
      "cell_type": "markdown",
      "id": "101efb93-c3bf-499d-9cc5-757bf12d6382",
      "metadata": {
        "id": "101efb93-c3bf-499d-9cc5-757bf12d6382"
      },
      "source": [
        "Or, since we're using *k* means, we could sort them in order of proximity to the cluster centroid."
      ]
    },
    {
      "cell_type": "code",
      "execution_count": null,
      "id": "0126b656-062b-4313-a50b-d8f62935f5ab",
      "metadata": {
        "tags": [],
        "id": "0126b656-062b-4313-a50b-d8f62935f5ab",
        "outputId": "1bf948e7-b107-489b-e96b-e920c1915dad"
      },
      "outputs": [
        {
          "data": {
            "text/plain": [
              "452                                                                                                                                     Great looking hotel with friendly staff and good location. Highlights include the well-designed bathrooms and showers, the automated window shades and the free snacks and non-alcoholic minibar items. Friendly but low key, not 'in your face' service -- and I mean that in a good way. Also, Andaz has free in-room wi-fi, which is a must. I will definitely choose this place again, and in fact have a current reservation for later this year. \\nJust a few minor suggestions to get it from really good to perfect:\\n--the baggage holding area is out in the open in a corner of the library/lounge area. This is unsightly and also lacks proper security for peoples' belongings. \\n--the food at the restaurant is just OK. One dinner I had there was particularly substandard. However, in the hotel's defense, they offered to comp the meal without any unpleasantness whatsoever, which really mitigated the whole situation in my mind (although I didn't eat in the restaurant again during the trip).\\n--gym is sort of lacking ... there seems to be a lot of wasted space on the 2nd floor where they could put a better gym and spa, which would be more consistent with the price point and style of the hotel.\n",
              "5168    I have now stayed here on 3 occasions and have had a really great time on each visit! My last trip in August of 2011 was a highlight ! I stayed in a SPLASH SUITE and HIGHLY RECOMMEND it ..comfortable and impressive. The bathroom is excellent with a great rain shower and good ameneties .. I'd love to know however of how many actually use the foot bowl/bath ... lol The bigelow ameneties are good thought the packaging not always the easiest! There is a contemporary air about the place. Cool yet not Kool, familiar yet never overly so or vapid. The Shop restaurant down stairs is truly delicious! breakfast is a la cart and has enough options. Dinner is really good with simple organic fare perfectly prepared. The Andaz is much further uptown than I have ever stayed prior to its discovery.. I am happy to have found a Home from Home in The City! ( Only points of improvement needed ... The leather on those big desk chairs was a better idea than reality .. it sags and might be replaced in all rooms I have ever used... The lighting can be a bit complicated to operate. An A+++ all around also for an excellent staff. I forgot stuff in My room which they took care of perfectly and exactly. After care was fantastic!! ( this review of Andaz 5th ave. is in direct contrast to my review of its Los Angeles counterpart).\n",
              "2071                                                                                                                                                                                                                                                                                                                                                                 As a frequent traveler (and Hyatt GP Diamond member), I get the chance to experience a variety of aspirational properties. \\nHaving visited Andaz 5th a number of times, I can say that this is now my favorite property in the Hyatt system, as it offers a compelling blend of superior location (oh, the views), attentive professional service from the entire staff, spacious and comfortable rooms/suites, and (as a plus to GP Diamond members) a peerless breakfast policy, \\nInterestingly, these qualities come at a price point that is surprisingly favorable compared to similar \"design\"-oriented properties uptown. (For those that complain about Manhattan prices, keep in mind that Manhattan will always draw prosperous visitors from throughout the globe. The lady with suitors always has the upper hand...)\\nFor any serious traveler to Manhattan, Andaz 5th is worth a visit. Reach out to Connie and her sterling staff when planning your trip, and they will take care of you.\n",
              "8572                                                                                                                                                                                                                                                                                                                                                                                                                                                                                                                                                                                                                                                                                                                                      I have stayed in at least twenty upscale hotels in NYC over the last few years and this is probably the best of them. Tasteful decor, perfectly maintained, unusually spacious feel for NYC and without the gap between nice lobby and not so nice rooms found in most NYC hotels. Very nice function rooms, good coffee shop for a quick and perfect coffee/muffin in the morning, complete with movie scene views. Complemented by the free minibar and snacks, which may not have much of a monetary value, but are a nice touch adding to the homey feel. Staff is personable and truly helpful. Really nothing to complain about.\n",
              "5771                                                                                                                                                                                                                                                                                                                                                               New York City is a vibrant and exciting city, at the same time people are frustrated about the very limited nice choices NYC has on offer when it comes to hotels. Andaz is Hyatt's fresh take on putting the customer back into the center of attention. With free WiFi and a free in-room minibar this hotel is a great choice for people looking for convenience without paying through the roof. Three nights in the hotel's Splash Suite are the best choice for people that wanna pamper themselves and the free-standing bathtub is the highlight of this Suite. The ambience is more like an apartment, I like the residential feel. Rainfall shower, high ceilings, lots of natural light and Bigelow amenities make for a different 'hotel' experience. Staff and service are fabulous and for breakfast they serve Grumby Coffee - what a difference! This hotel is younger and hipper than its peers, at the same time luxurious and accommodating. Loved my stay here and will be back for sure!\n",
              "Name: text, dtype: object"
            ]
          },
          "execution_count": 157,
          "metadata": {},
          "output_type": "execute_result"
        }
      ],
      "source": [
        "#centriod \n",
        "C = 5\n",
        "distances = metrics.pairwise.euclidean_distances(\n",
        "    kmeans.cluster_centers_[C, np.newaxis, :], dtm_lsi[cluster == C, :]\n",
        ")\n",
        "lax[cluster == C].iloc[np.argsort(distances)[0]][\"text\"].head(5)"
      ]
    },
    {
      "cell_type": "markdown",
      "id": "12959d7a-c2bb-445b-ac03-f32e63a57e4d",
      "metadata": {
        "id": "12959d7a-c2bb-445b-ac03-f32e63a57e4d"
      },
      "source": [
        "## Term clustering\n",
        "\n",
        "Document clustering is not usually very helpful, unless the documents are very short and/or naturally fall into a small number of distinct classes. Term clustering, on the other hand, does sometimes give interesting results. \n",
        "\n",
        "To cluster terms, all we need to do is transpose the document-term matrix to form the term-document matrix (tdm). After that, the rest of the process is the same, except that instead of relating documents by the terms they share, we're relating terms by the documents they co-occur in.\n",
        "\n"
      ]
    },
    {
      "cell_type": "code",
      "execution_count": null,
      "id": "1eec8ea3-3e03-4872-a01e-c32f4d3de565",
      "metadata": {
        "id": "1eec8ea3-3e03-4872-a01e-c32f4d3de565"
      },
      "outputs": [],
      "source": [
        "tf = TfidfVectorizer(min_df=2, max_df=0.5, use_idf=True)\n",
        "tdm = tf.fit_transform(lax[\"text\"]).T\n",
        "\n",
        "lsi = TruncatedSVD(n_components=5, random_state=858)\n",
        "tdm_lsi = lsi.fit_transform(tdm)\n",
        "\n",
        "kmeans = KMeans(15, random_state=858, n_init=\"auto\")\n",
        "cluster = kmeans.fit_predict(tdm_lsi)"
      ]
    },
    {
      "cell_type": "code",
      "execution_count": null,
      "id": "3a2fca17-efd4-400b-9a3b-3f8715f97b78",
      "metadata": {
        "id": "3a2fca17-efd4-400b-9a3b-3f8715f97b78",
        "outputId": "27530162-9779-44e6-fa90-00a555baad6b"
      },
      "outputs": [
        {
          "data": {
            "text/plain": [
              "[(6, 2117),\n",
              " (0, 621),\n",
              " (8, 198),\n",
              " (4, 99),\n",
              " (12, 99),\n",
              " (13, 60),\n",
              " (14, 33),\n",
              " (1, 32),\n",
              " (9, 23),\n",
              " (11, 22),\n",
              " (10, 21),\n",
              " (5, 12),\n",
              " (2, 9),\n",
              " (3, 5),\n",
              " (7, 2)]"
            ]
          },
          "execution_count": 159,
          "metadata": {},
          "output_type": "execute_result"
        }
      ],
      "source": [
        "nltk.FreqDist(cluster).most_common()"
      ]
    },
    {
      "cell_type": "code",
      "execution_count": null,
      "id": "2fead011-024e-4529-b76e-04ff66b3034d",
      "metadata": {
        "id": "2fead011-024e-4529-b76e-04ff66b3034d"
      },
      "outputs": [],
      "source": [
        "vocab = tf.get_feature_names_out()"
      ]
    },
    {
      "cell_type": "code",
      "execution_count": null,
      "id": "7a6faa5d-401e-4f80-9a3f-2d5ffe55bd09",
      "metadata": {
        "id": "7a6faa5d-401e-4f80-9a3f-2d5ffe55bd09",
        "outputId": "f94c7165-d57f-4e26-8ea9-205d820a8bfb"
      },
      "outputs": [
        {
          "data": {
            "text/plain": [
              "array(['alcoholic', 'bar', 'complimentary', 'drinks', 'free', 'lobby',\n",
              "       'mini', 'nice', 'non', 'shower', 'snacks', 'wine'], dtype=object)"
            ]
          },
          "execution_count": 161,
          "metadata": {},
          "output_type": "execute_result"
        }
      ],
      "source": [
        "vocab[cluster == 5]"
      ]
    },
    {
      "cell_type": "code",
      "execution_count": null,
      "id": "a87272ab-da10-4128-8b16-12d0fc105980",
      "metadata": {
        "id": "a87272ab-da10-4128-8b16-12d0fc105980",
        "outputId": "326dd840-2b52-4b23-9134-556fa5e486b7"
      },
      "outputs": [
        {
          "data": {
            "text/plain": [
              "array(['complimentary', 'wine', 'drinks', 'snacks', 'mini', 'non',\n",
              "       'lobby', 'alcoholic', 'bar', 'shower', 'nice', 'free'],\n",
              "      dtype=object)"
            ]
          },
          "execution_count": 163,
          "metadata": {},
          "output_type": "execute_result"
        }
      ],
      "source": [
        "C = 5\n",
        "distances = metrics.pairwise.euclidean_distances(\n",
        "    kmeans.cluster_centers_[C, np.newaxis, :], tdm_lsi[cluster == C, :]\n",
        ")\n",
        "vocab[cluster == C][np.argsort(distances)[0]]"
      ]
    },
    {
      "cell_type": "markdown",
      "id": "4e25715c-fca3-4581-b705-58b53bbfc2fa",
      "metadata": {
        "id": "4e25715c-fca3-4581-b705-58b53bbfc2fa"
      },
      "source": [
        "## Results\n",
        "\n",
        "Once you're done experimenting with document and term clustering, write up a paragraph on your results? What methods did you try? What worked and what didn't? Did you manage to find any useful information about hotels from this?"
      ]
    },
    {
      "cell_type": "markdown",
      "id": "f319404b-f941-4e25-b56d-fc194b8c1ef5",
      "metadata": {
        "id": "f319404b-f941-4e25-b56d-fc194b8c1ef5"
      },
      "source": [
        "The above code performs cluster analysis on hotel reviews to group similar documents and terms together.In the first step, a document term matrix (DTM) was constructed using the TfidVectorizer which creates a matrix where the values represents the frequency of a term in a document. Later,dimension reduction was performed using three techniques: TruncatedSVD, PCA(Principal component analysis) and NMF(Non-negative matrix factorization) and they all reduce the dimensionality of the document-term matrix to 25 dimensions. Now, Cluster Analysis was performed using K means algorithm to group the reviews into 15 clusters. The most common clusters were labeled 7,14,6,4,1 respectively.To interpret the results, the most frequent terms in each cluster were examined.The results are interpreted using both qualitative and quantitative methods.Here I have taken cluster 5 which displays the as an example of this qualitatitive evaluation.The results show the text of four reviews that praise the Andaz hotel in Manhattan for its location, design, service, and amenities, including a complimentary mini-bar and well-designed bathrooms with large showers. Some minor complaints include long wait times for elevators, an unsightly baggage holding area, and mediocre restaurant food. Overall, the reviews indicate a positive guest experience and a desire to return to the hotel. The following code is sorting the reviews for a particular cluster (cluster 5) in order of their proximity to the centroid of that cluster.  The resulting output shows the top 5 reviews that are closest to the centroid of cluster 5, with the corresponding review text. These reviews generally speak positively about the hotel's location, service, and amenities.\n",
        "\n",
        "In term clustering, the most common clusters are identified and the terms belonging to a particular cluster (cluster 5) are displayed.The results show that the terms in cluster 5 are related to complimentary alcoholic drinks, snacks, and mini bar amenities that are provided in a hotel's lobby. The top terms representative of this cluster are \"complimentary\", \"wine\", \"drinks\", \"snacks\", \"mini\", and \"lobby\""
      ]
    }
  ],
  "metadata": {
    "kernelspec": {
      "display_name": "Python 3 (ipykernel)",
      "language": "python",
      "name": "python3"
    },
    "language_info": {
      "codemirror_mode": {
        "name": "ipython",
        "version": 3
      },
      "file_extension": ".py",
      "mimetype": "text/x-python",
      "name": "python",
      "nbconvert_exporter": "python",
      "pygments_lexer": "ipython3",
      "version": "3.10.8"
    },
    "colab": {
      "provenance": []
    }
  },
  "nbformat": 4,
  "nbformat_minor": 5
}